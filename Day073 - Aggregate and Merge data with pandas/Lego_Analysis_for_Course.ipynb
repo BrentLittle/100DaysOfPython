{
  "nbformat": 4,
  "nbformat_minor": 2,
  "metadata": {
    "kernelspec": {
      "name": "python3",
      "display_name": "Python 3.8.7 64-bit"
    },
    "language_info": {
      "codemirror_mode": {
        "name": "ipython",
        "version": 3
      },
      "file_extension": ".py",
      "mimetype": "text/x-python",
      "name": "python",
      "nbconvert_exporter": "python",
      "pygments_lexer": "ipython3",
      "version": "3.8.7"
    },
    "colab": {
      "name": "Lego Analysis for Course (start).ipynb",
      "provenance": []
    },
    "interpreter": {
      "hash": "0d7944f1888d65f5965a0f83664546a5eb737a19f1d30a41383683ae88994718"
    }
  },
  "cells": [
    {
      "cell_type": "markdown",
      "source": [
        "# Introduction\r\n",
        "\r\n",
        "Today we'll dive deep into a dataset all about LEGO. From the dataset we can ask whole bunch of interesting questions about the history of the LEGO company, their product offering, and which LEGO set ultimately rules them all:\r\n",
        "\r\n",
        "<ul type=\"square\">\r\n",
        "<li>What is the most enormous LEGO set ever created and how many parts did it have?</li>\r\n",
        "\r\n",
        "<li>How did the LEGO company start out? In which year were the first LEGO sets released and how many sets did the company sell when it first launched?</li>\r\n",
        "\r\n",
        "<li>Which LEGO theme has the most sets? Is it one of LEGO's own themes like Ninjago or a theme they licensed liked Harry Potter or Marvel Superheroes?</li>\r\n",
        "\r\n",
        "<li>When did the LEGO company really expand its product offering? Can we spot a change in the company strategy based on how many themes and sets did it released year-on-year?</li>\r\n",
        "\r\n",
        "<li>Did LEGO sets grow in size and complexity over time? Do older LEGO \r\n",
        "sets tend to have more or fewer parts than newer sets?</li>\r\n",
        "</ul>\r\n",
        "\r\n",
        "**Data Source**\r\n",
        "\r\n",
        "[Rebrickable](https://rebrickable.com/downloads/) has compiled data on all the LEGO pieces in existence. I recommend you use download the .csv files provided in this lesson. \r\n",
        "\r\n",
        "<img src=\"assets/bricks.jpg\">"
      ],
      "metadata": {
        "dc": {
          "key": "1d0b086e6c"
        },
        "run_control": {
          "frozen": true
        },
        "tags": [
          "context"
        ],
        "id": "s9JLDE8NIquP",
        "colab_type": "text"
      }
    },
    {
      "cell_type": "markdown",
      "source": [
        "# Import Statements"
      ],
      "metadata": {
        "id": "V0u2lGJuIquQ",
        "colab_type": "text"
      }
    },
    {
      "cell_type": "code",
      "execution_count": 251,
      "source": [
        "import pandas as pd\r\n",
        "import matplotlib.pyplot as plt\r\n",
        "\r\n",
        "\r\n",
        "# any output will be limited to 2 decimal places if of the type float\r\n",
        "pd.options.display.float_format = '{:,.2f}'.format "
      ],
      "outputs": [],
      "metadata": {
        "id": "z5Wk7rs-IquQ",
        "colab_type": "code",
        "colab": {}
      }
    },
    {
      "cell_type": "markdown",
      "source": [
        "# Data Exploration"
      ],
      "metadata": {
        "id": "R5NQpJ_KIquT",
        "colab_type": "text"
      }
    },
    {
      "cell_type": "markdown",
      "source": [
        "**Challenge**: How many different colours does the LEGO company produce? Read the colors.csv file in the data folder and find the total number of unique colours. Try using the [.nunique() method](https://pandas.pydata.org/pandas-docs/stable/reference/api/pandas.DataFrame.nunique.html?highlight=nunique#pandas.DataFrame.nunique) to accomplish this."
      ],
      "metadata": {
        "dc": {
          "key": "044b2cef41"
        },
        "run_control": {
          "frozen": true
        },
        "tags": [
          "context"
        ],
        "id": "ffaG-UFYIquT",
        "colab_type": "text"
      }
    },
    {
      "cell_type": "code",
      "execution_count": 252,
      "source": [
        "colors = pd.read_csv('data/colors.csv')\r\n",
        "colors.head()"
      ],
      "outputs": [
        {
          "output_type": "execute_result",
          "data": {
            "text/plain": [
              "   id            name     rgb is_trans\n",
              "0  -1         Unknown  0033B2        f\n",
              "1   0           Black  05131D        f\n",
              "2   1            Blue  0055BF        f\n",
              "3   2           Green  237841        f\n",
              "4   3  Dark Turquoise  008F9B        f"
            ],
            "text/html": [
              "<div>\n",
              "<style scoped>\n",
              "    .dataframe tbody tr th:only-of-type {\n",
              "        vertical-align: middle;\n",
              "    }\n",
              "\n",
              "    .dataframe tbody tr th {\n",
              "        vertical-align: top;\n",
              "    }\n",
              "\n",
              "    .dataframe thead th {\n",
              "        text-align: right;\n",
              "    }\n",
              "</style>\n",
              "<table border=\"1\" class=\"dataframe\">\n",
              "  <thead>\n",
              "    <tr style=\"text-align: right;\">\n",
              "      <th></th>\n",
              "      <th>id</th>\n",
              "      <th>name</th>\n",
              "      <th>rgb</th>\n",
              "      <th>is_trans</th>\n",
              "    </tr>\n",
              "  </thead>\n",
              "  <tbody>\n",
              "    <tr>\n",
              "      <th>0</th>\n",
              "      <td>-1</td>\n",
              "      <td>Unknown</td>\n",
              "      <td>0033B2</td>\n",
              "      <td>f</td>\n",
              "    </tr>\n",
              "    <tr>\n",
              "      <th>1</th>\n",
              "      <td>0</td>\n",
              "      <td>Black</td>\n",
              "      <td>05131D</td>\n",
              "      <td>f</td>\n",
              "    </tr>\n",
              "    <tr>\n",
              "      <th>2</th>\n",
              "      <td>1</td>\n",
              "      <td>Blue</td>\n",
              "      <td>0055BF</td>\n",
              "      <td>f</td>\n",
              "    </tr>\n",
              "    <tr>\n",
              "      <th>3</th>\n",
              "      <td>2</td>\n",
              "      <td>Green</td>\n",
              "      <td>237841</td>\n",
              "      <td>f</td>\n",
              "    </tr>\n",
              "    <tr>\n",
              "      <th>4</th>\n",
              "      <td>3</td>\n",
              "      <td>Dark Turquoise</td>\n",
              "      <td>008F9B</td>\n",
              "      <td>f</td>\n",
              "    </tr>\n",
              "  </tbody>\n",
              "</table>\n",
              "</div>"
            ]
          },
          "metadata": {},
          "execution_count": 252
        }
      ],
      "metadata": {
        "id": "yd4G9pK7IquU",
        "colab_type": "code",
        "colab": {}
      }
    },
    {
      "cell_type": "code",
      "execution_count": 253,
      "source": [
        "print(f\"The number of colours is: {colors['name'].nunique()}\")"
      ],
      "outputs": [
        {
          "output_type": "stream",
          "name": "stdout",
          "text": [
            "The number of colours is: 135\n"
          ]
        }
      ],
      "metadata": {
        "dc": {
          "key": "044b2cef41"
        },
        "tags": [
          "sample_code"
        ],
        "id": "QmbAXax7IquW",
        "colab_type": "code",
        "colab": {}
      }
    },
    {
      "cell_type": "markdown",
      "source": [
        "**Challenge**: Find the number of transparent colours where <code>is_trans == 't'</code> versus the number of opaque colours where <code>is_trans == 'f'</code>. See if you can accomplish this in two different ways."
      ],
      "metadata": {
        "dc": {
          "key": "a5723ae5c2"
        },
        "run_control": {
          "frozen": true
        },
        "tags": [
          "context"
        ],
        "id": "PItRbqgcIqua",
        "colab_type": "text"
      }
    },
    {
      "cell_type": "code",
      "execution_count": 254,
      "source": [
        "colors.groupby('is_trans').count() "
      ],
      "outputs": [
        {
          "output_type": "execute_result",
          "data": {
            "text/plain": [
              "           id  name  rgb\n",
              "is_trans                \n",
              "f         107   107  107\n",
              "t          28    28   28"
            ],
            "text/html": [
              "<div>\n",
              "<style scoped>\n",
              "    .dataframe tbody tr th:only-of-type {\n",
              "        vertical-align: middle;\n",
              "    }\n",
              "\n",
              "    .dataframe tbody tr th {\n",
              "        vertical-align: top;\n",
              "    }\n",
              "\n",
              "    .dataframe thead th {\n",
              "        text-align: right;\n",
              "    }\n",
              "</style>\n",
              "<table border=\"1\" class=\"dataframe\">\n",
              "  <thead>\n",
              "    <tr style=\"text-align: right;\">\n",
              "      <th></th>\n",
              "      <th>id</th>\n",
              "      <th>name</th>\n",
              "      <th>rgb</th>\n",
              "    </tr>\n",
              "    <tr>\n",
              "      <th>is_trans</th>\n",
              "      <th></th>\n",
              "      <th></th>\n",
              "      <th></th>\n",
              "    </tr>\n",
              "  </thead>\n",
              "  <tbody>\n",
              "    <tr>\n",
              "      <th>f</th>\n",
              "      <td>107</td>\n",
              "      <td>107</td>\n",
              "      <td>107</td>\n",
              "    </tr>\n",
              "    <tr>\n",
              "      <th>t</th>\n",
              "      <td>28</td>\n",
              "      <td>28</td>\n",
              "      <td>28</td>\n",
              "    </tr>\n",
              "  </tbody>\n",
              "</table>\n",
              "</div>"
            ]
          },
          "metadata": {},
          "execution_count": 254
        }
      ],
      "metadata": {}
    },
    {
      "cell_type": "code",
      "execution_count": 255,
      "source": [
        "print(colors.is_trans.value_counts())\r\n",
        "\r\n",
        "numTransColors = colors.is_trans.value_counts()[\"t\"]\r\n",
        "print(f\"The number of transparent colours is: {numTransColors}\")"
      ],
      "outputs": [
        {
          "output_type": "stream",
          "name": "stdout",
          "text": [
            "f    107\n",
            "t     28\n",
            "Name: is_trans, dtype: int64\n",
            "The number of transparent colours is: 28\n"
          ]
        }
      ],
      "metadata": {
        "id": "1UZrfq82Iqub",
        "colab_type": "code",
        "colab": {}
      }
    },
    {
      "cell_type": "markdown",
      "source": [
        "The <code>sets.csv</code> data contains a list of sets over the years and the number of parts that each of these sets contained.\n",
        "\n",
        "**Challenge**: Read the sets.csv data and take a look at the first and last couple of rows. "
      ],
      "metadata": {
        "colab_type": "text",
        "id": "jJTAROe5unkx"
      }
    },
    {
      "cell_type": "code",
      "execution_count": 256,
      "source": [
        "sets = pd.read_csv('data/sets.csv')\r\n",
        "\r\n",
        "sets.head()"
      ],
      "outputs": [
        {
          "output_type": "execute_result",
          "data": {
            "text/plain": [
              "  set_num                        name  year  theme_id  num_parts\n",
              "0   001-1                       Gears  1965         1         43\n",
              "1  0011-2           Town Mini-Figures  1978        84         12\n",
              "2  0011-3  Castle 2 for 1 Bonus Offer  1987       199          0\n",
              "3  0012-1          Space Mini-Figures  1979       143         12\n",
              "4  0013-1          Space Mini-Figures  1979       143         12"
            ],
            "text/html": [
              "<div>\n",
              "<style scoped>\n",
              "    .dataframe tbody tr th:only-of-type {\n",
              "        vertical-align: middle;\n",
              "    }\n",
              "\n",
              "    .dataframe tbody tr th {\n",
              "        vertical-align: top;\n",
              "    }\n",
              "\n",
              "    .dataframe thead th {\n",
              "        text-align: right;\n",
              "    }\n",
              "</style>\n",
              "<table border=\"1\" class=\"dataframe\">\n",
              "  <thead>\n",
              "    <tr style=\"text-align: right;\">\n",
              "      <th></th>\n",
              "      <th>set_num</th>\n",
              "      <th>name</th>\n",
              "      <th>year</th>\n",
              "      <th>theme_id</th>\n",
              "      <th>num_parts</th>\n",
              "    </tr>\n",
              "  </thead>\n",
              "  <tbody>\n",
              "    <tr>\n",
              "      <th>0</th>\n",
              "      <td>001-1</td>\n",
              "      <td>Gears</td>\n",
              "      <td>1965</td>\n",
              "      <td>1</td>\n",
              "      <td>43</td>\n",
              "    </tr>\n",
              "    <tr>\n",
              "      <th>1</th>\n",
              "      <td>0011-2</td>\n",
              "      <td>Town Mini-Figures</td>\n",
              "      <td>1978</td>\n",
              "      <td>84</td>\n",
              "      <td>12</td>\n",
              "    </tr>\n",
              "    <tr>\n",
              "      <th>2</th>\n",
              "      <td>0011-3</td>\n",
              "      <td>Castle 2 for 1 Bonus Offer</td>\n",
              "      <td>1987</td>\n",
              "      <td>199</td>\n",
              "      <td>0</td>\n",
              "    </tr>\n",
              "    <tr>\n",
              "      <th>3</th>\n",
              "      <td>0012-1</td>\n",
              "      <td>Space Mini-Figures</td>\n",
              "      <td>1979</td>\n",
              "      <td>143</td>\n",
              "      <td>12</td>\n",
              "    </tr>\n",
              "    <tr>\n",
              "      <th>4</th>\n",
              "      <td>0013-1</td>\n",
              "      <td>Space Mini-Figures</td>\n",
              "      <td>1979</td>\n",
              "      <td>143</td>\n",
              "      <td>12</td>\n",
              "    </tr>\n",
              "  </tbody>\n",
              "</table>\n",
              "</div>"
            ]
          },
          "metadata": {},
          "execution_count": 256
        }
      ],
      "metadata": {
        "id": "vGMOv-NRIquh",
        "colab_type": "code",
        "colab": {}
      }
    },
    {
      "cell_type": "code",
      "execution_count": 257,
      "source": [
        "sets.tail()"
      ],
      "outputs": [
        {
          "output_type": "execute_result",
          "data": {
            "text/plain": [
              "           set_num                                 name  year  theme_id  \\\n",
              "15705      wwgp1-1  Wild West Limited Edition Gift Pack  1996       476   \n",
              "15706   XMASTREE-1                       Christmas Tree  2019       410   \n",
              "15707      XWING-1                  Mini X-Wing Fighter  2019       158   \n",
              "15708      XWING-2                    X-Wing Trench Run  2019       158   \n",
              "15709  YODACHRON-1      Yoda Chronicles Promotional Set  2013       158   \n",
              "\n",
              "       num_parts  \n",
              "15705          0  \n",
              "15706         26  \n",
              "15707         60  \n",
              "15708         52  \n",
              "15709        413  "
            ],
            "text/html": [
              "<div>\n",
              "<style scoped>\n",
              "    .dataframe tbody tr th:only-of-type {\n",
              "        vertical-align: middle;\n",
              "    }\n",
              "\n",
              "    .dataframe tbody tr th {\n",
              "        vertical-align: top;\n",
              "    }\n",
              "\n",
              "    .dataframe thead th {\n",
              "        text-align: right;\n",
              "    }\n",
              "</style>\n",
              "<table border=\"1\" class=\"dataframe\">\n",
              "  <thead>\n",
              "    <tr style=\"text-align: right;\">\n",
              "      <th></th>\n",
              "      <th>set_num</th>\n",
              "      <th>name</th>\n",
              "      <th>year</th>\n",
              "      <th>theme_id</th>\n",
              "      <th>num_parts</th>\n",
              "    </tr>\n",
              "  </thead>\n",
              "  <tbody>\n",
              "    <tr>\n",
              "      <th>15705</th>\n",
              "      <td>wwgp1-1</td>\n",
              "      <td>Wild West Limited Edition Gift Pack</td>\n",
              "      <td>1996</td>\n",
              "      <td>476</td>\n",
              "      <td>0</td>\n",
              "    </tr>\n",
              "    <tr>\n",
              "      <th>15706</th>\n",
              "      <td>XMASTREE-1</td>\n",
              "      <td>Christmas Tree</td>\n",
              "      <td>2019</td>\n",
              "      <td>410</td>\n",
              "      <td>26</td>\n",
              "    </tr>\n",
              "    <tr>\n",
              "      <th>15707</th>\n",
              "      <td>XWING-1</td>\n",
              "      <td>Mini X-Wing Fighter</td>\n",
              "      <td>2019</td>\n",
              "      <td>158</td>\n",
              "      <td>60</td>\n",
              "    </tr>\n",
              "    <tr>\n",
              "      <th>15708</th>\n",
              "      <td>XWING-2</td>\n",
              "      <td>X-Wing Trench Run</td>\n",
              "      <td>2019</td>\n",
              "      <td>158</td>\n",
              "      <td>52</td>\n",
              "    </tr>\n",
              "    <tr>\n",
              "      <th>15709</th>\n",
              "      <td>YODACHRON-1</td>\n",
              "      <td>Yoda Chronicles Promotional Set</td>\n",
              "      <td>2013</td>\n",
              "      <td>158</td>\n",
              "      <td>413</td>\n",
              "    </tr>\n",
              "  </tbody>\n",
              "</table>\n",
              "</div>"
            ]
          },
          "metadata": {},
          "execution_count": 257
        }
      ],
      "metadata": {}
    },
    {
      "cell_type": "markdown",
      "source": [
        "**Challenge**: In which year were the first LEGO sets released and what were these sets called?"
      ],
      "metadata": {
        "id": "ez-UXSMUIqum",
        "colab_type": "text"
      }
    },
    {
      "cell_type": "code",
      "execution_count": 258,
      "source": [
        "sets.sort_values('year').head()"
      ],
      "outputs": [
        {
          "output_type": "execute_result",
          "data": {
            "text/plain": [
              "      set_num                               name  year  theme_id  num_parts\n",
              "9521  700.1-1         Extra-Large Gift Set (ABB)  1949       365        142\n",
              "9534  700.2-1               Large Gift Set (ABB)  1949       365        178\n",
              "9539  700.3-1              Medium Gift Set (ABB)  1949       365        142\n",
              "9544  700.A-1              Small Brick Set (ABB)  1949       371         24\n",
              "9545  700.B-1  Small Doors and Windows Set (ABB)  1949       371         12"
            ],
            "text/html": [
              "<div>\n",
              "<style scoped>\n",
              "    .dataframe tbody tr th:only-of-type {\n",
              "        vertical-align: middle;\n",
              "    }\n",
              "\n",
              "    .dataframe tbody tr th {\n",
              "        vertical-align: top;\n",
              "    }\n",
              "\n",
              "    .dataframe thead th {\n",
              "        text-align: right;\n",
              "    }\n",
              "</style>\n",
              "<table border=\"1\" class=\"dataframe\">\n",
              "  <thead>\n",
              "    <tr style=\"text-align: right;\">\n",
              "      <th></th>\n",
              "      <th>set_num</th>\n",
              "      <th>name</th>\n",
              "      <th>year</th>\n",
              "      <th>theme_id</th>\n",
              "      <th>num_parts</th>\n",
              "    </tr>\n",
              "  </thead>\n",
              "  <tbody>\n",
              "    <tr>\n",
              "      <th>9521</th>\n",
              "      <td>700.1-1</td>\n",
              "      <td>Extra-Large Gift Set (ABB)</td>\n",
              "      <td>1949</td>\n",
              "      <td>365</td>\n",
              "      <td>142</td>\n",
              "    </tr>\n",
              "    <tr>\n",
              "      <th>9534</th>\n",
              "      <td>700.2-1</td>\n",
              "      <td>Large Gift Set (ABB)</td>\n",
              "      <td>1949</td>\n",
              "      <td>365</td>\n",
              "      <td>178</td>\n",
              "    </tr>\n",
              "    <tr>\n",
              "      <th>9539</th>\n",
              "      <td>700.3-1</td>\n",
              "      <td>Medium Gift Set (ABB)</td>\n",
              "      <td>1949</td>\n",
              "      <td>365</td>\n",
              "      <td>142</td>\n",
              "    </tr>\n",
              "    <tr>\n",
              "      <th>9544</th>\n",
              "      <td>700.A-1</td>\n",
              "      <td>Small Brick Set (ABB)</td>\n",
              "      <td>1949</td>\n",
              "      <td>371</td>\n",
              "      <td>24</td>\n",
              "    </tr>\n",
              "    <tr>\n",
              "      <th>9545</th>\n",
              "      <td>700.B-1</td>\n",
              "      <td>Small Doors and Windows Set (ABB)</td>\n",
              "      <td>1949</td>\n",
              "      <td>371</td>\n",
              "      <td>12</td>\n",
              "    </tr>\n",
              "  </tbody>\n",
              "</table>\n",
              "</div>"
            ]
          },
          "metadata": {},
          "execution_count": 258
        }
      ],
      "metadata": {
        "id": "s2aL6qrGIqum",
        "colab_type": "code",
        "colab": {}
      }
    },
    {
      "cell_type": "markdown",
      "source": [
        "**Challenge**: How many different sets did LEGO sell in their first year? How many types of LEGO products were on offer in the year the company started?"
      ],
      "metadata": {
        "id": "JJoK3M8TBAVU",
        "colab_type": "text"
      }
    },
    {
      "cell_type": "code",
      "execution_count": 259,
      "source": [
        "sets[sets['year'] == 1949]"
      ],
      "outputs": [
        {
          "output_type": "execute_result",
          "data": {
            "text/plain": [
              "      set_num                               name  year  theme_id  num_parts\n",
              "9521  700.1-1         Extra-Large Gift Set (ABB)  1949       365        142\n",
              "9534  700.2-1               Large Gift Set (ABB)  1949       365        178\n",
              "9539  700.3-1              Medium Gift Set (ABB)  1949       365        142\n",
              "9544  700.A-1              Small Brick Set (ABB)  1949       371         24\n",
              "9545  700.B-1  Small Doors and Windows Set (ABB)  1949       371         12"
            ],
            "text/html": [
              "<div>\n",
              "<style scoped>\n",
              "    .dataframe tbody tr th:only-of-type {\n",
              "        vertical-align: middle;\n",
              "    }\n",
              "\n",
              "    .dataframe tbody tr th {\n",
              "        vertical-align: top;\n",
              "    }\n",
              "\n",
              "    .dataframe thead th {\n",
              "        text-align: right;\n",
              "    }\n",
              "</style>\n",
              "<table border=\"1\" class=\"dataframe\">\n",
              "  <thead>\n",
              "    <tr style=\"text-align: right;\">\n",
              "      <th></th>\n",
              "      <th>set_num</th>\n",
              "      <th>name</th>\n",
              "      <th>year</th>\n",
              "      <th>theme_id</th>\n",
              "      <th>num_parts</th>\n",
              "    </tr>\n",
              "  </thead>\n",
              "  <tbody>\n",
              "    <tr>\n",
              "      <th>9521</th>\n",
              "      <td>700.1-1</td>\n",
              "      <td>Extra-Large Gift Set (ABB)</td>\n",
              "      <td>1949</td>\n",
              "      <td>365</td>\n",
              "      <td>142</td>\n",
              "    </tr>\n",
              "    <tr>\n",
              "      <th>9534</th>\n",
              "      <td>700.2-1</td>\n",
              "      <td>Large Gift Set (ABB)</td>\n",
              "      <td>1949</td>\n",
              "      <td>365</td>\n",
              "      <td>178</td>\n",
              "    </tr>\n",
              "    <tr>\n",
              "      <th>9539</th>\n",
              "      <td>700.3-1</td>\n",
              "      <td>Medium Gift Set (ABB)</td>\n",
              "      <td>1949</td>\n",
              "      <td>365</td>\n",
              "      <td>142</td>\n",
              "    </tr>\n",
              "    <tr>\n",
              "      <th>9544</th>\n",
              "      <td>700.A-1</td>\n",
              "      <td>Small Brick Set (ABB)</td>\n",
              "      <td>1949</td>\n",
              "      <td>371</td>\n",
              "      <td>24</td>\n",
              "    </tr>\n",
              "    <tr>\n",
              "      <th>9545</th>\n",
              "      <td>700.B-1</td>\n",
              "      <td>Small Doors and Windows Set (ABB)</td>\n",
              "      <td>1949</td>\n",
              "      <td>371</td>\n",
              "      <td>12</td>\n",
              "    </tr>\n",
              "  </tbody>\n",
              "</table>\n",
              "</div>"
            ]
          },
          "metadata": {},
          "execution_count": 259
        }
      ],
      "metadata": {
        "id": "h-Tf1w7IBBg9",
        "colab_type": "code",
        "colab": {}
      }
    },
    {
      "cell_type": "markdown",
      "source": [
        "**Challenge**: Find the top 5 LEGO sets with the most number of parts. "
      ],
      "metadata": {
        "id": "RJMMYQYqIquo",
        "colab_type": "text"
      }
    },
    {
      "cell_type": "code",
      "execution_count": 292,
      "source": [
        "sets.sort_values('num_parts', ascending=False)[:5]"
      ],
      "outputs": [
        {
          "output_type": "execute_result",
          "data": {
            "text/plain": [
              "         set_num                                name  year  theme_id  \\\n",
              "15004   BIGBOX-1       The Ultimate Battle for Chima  2015       571   \n",
              "11183    75192-1               UCS Millennium Falcon  2017       171   \n",
              "10551    71043-1                     Hogwarts Castle  2018       246   \n",
              "295      10256-1                           Taj Mahal  2017       673   \n",
              "221      10189-1                           Taj Mahal  2008       673   \n",
              "11471    75978-1                        Diagon Alley  2020       246   \n",
              "15612     SWMP-1  Star Wars / M&M Mosaic - Promo Set  2005       158   \n",
              "1689   2000409-1              Window Exploration Bag  2010       507   \n",
              "212      10179-1             Millennium Falcon - UCS  2007       171   \n",
              "9805     70620-1                        NINJAGO City  2017       616   \n",
              "11253    75252-1             Imperial Star Destroyer  2019       171   \n",
              "11368    75827-1              Firehouse Headquarters  2016       607   \n",
              "4470     40179-1        Personalised Mosaic Portrait  2016       277   \n",
              "248      10214-1                        Tower Bridge  2010       673   \n",
              "292      10253-1                             Big Ben  2016       673   \n",
              "301      10261-1                      Roller Coaster  2018       673   \n",
              "5513     42100-1           Liebherr R 9800 Excavator  2019         7   \n",
              "10548    71040-1                       Disney Castle  2016       608   \n",
              "5496     42082-1                 Rough Terrain Crane  2018         5   \n",
              "11145    75159-1                          Death Star  2016       171   \n",
              "\n",
              "       num_parts  \n",
              "15004       9987  \n",
              "11183       7541  \n",
              "10551       6020  \n",
              "295         5923  \n",
              "221         5922  \n",
              "11471       5547  \n",
              "15612       5462  \n",
              "1689        5200  \n",
              "212         5195  \n",
              "9805        4873  \n",
              "11253       4784  \n",
              "11368       4642  \n",
              "4470        4502  \n",
              "248         4295  \n",
              "292         4167  \n",
              "301         4124  \n",
              "5513        4108  \n",
              "10548       4081  \n",
              "5496        4079  \n",
              "11145       4024  "
            ],
            "text/html": [
              "<div>\n",
              "<style scoped>\n",
              "    .dataframe tbody tr th:only-of-type {\n",
              "        vertical-align: middle;\n",
              "    }\n",
              "\n",
              "    .dataframe tbody tr th {\n",
              "        vertical-align: top;\n",
              "    }\n",
              "\n",
              "    .dataframe thead th {\n",
              "        text-align: right;\n",
              "    }\n",
              "</style>\n",
              "<table border=\"1\" class=\"dataframe\">\n",
              "  <thead>\n",
              "    <tr style=\"text-align: right;\">\n",
              "      <th></th>\n",
              "      <th>set_num</th>\n",
              "      <th>name</th>\n",
              "      <th>year</th>\n",
              "      <th>theme_id</th>\n",
              "      <th>num_parts</th>\n",
              "    </tr>\n",
              "  </thead>\n",
              "  <tbody>\n",
              "    <tr>\n",
              "      <th>15004</th>\n",
              "      <td>BIGBOX-1</td>\n",
              "      <td>The Ultimate Battle for Chima</td>\n",
              "      <td>2015</td>\n",
              "      <td>571</td>\n",
              "      <td>9987</td>\n",
              "    </tr>\n",
              "    <tr>\n",
              "      <th>11183</th>\n",
              "      <td>75192-1</td>\n",
              "      <td>UCS Millennium Falcon</td>\n",
              "      <td>2017</td>\n",
              "      <td>171</td>\n",
              "      <td>7541</td>\n",
              "    </tr>\n",
              "    <tr>\n",
              "      <th>10551</th>\n",
              "      <td>71043-1</td>\n",
              "      <td>Hogwarts Castle</td>\n",
              "      <td>2018</td>\n",
              "      <td>246</td>\n",
              "      <td>6020</td>\n",
              "    </tr>\n",
              "    <tr>\n",
              "      <th>295</th>\n",
              "      <td>10256-1</td>\n",
              "      <td>Taj Mahal</td>\n",
              "      <td>2017</td>\n",
              "      <td>673</td>\n",
              "      <td>5923</td>\n",
              "    </tr>\n",
              "    <tr>\n",
              "      <th>221</th>\n",
              "      <td>10189-1</td>\n",
              "      <td>Taj Mahal</td>\n",
              "      <td>2008</td>\n",
              "      <td>673</td>\n",
              "      <td>5922</td>\n",
              "    </tr>\n",
              "    <tr>\n",
              "      <th>11471</th>\n",
              "      <td>75978-1</td>\n",
              "      <td>Diagon Alley</td>\n",
              "      <td>2020</td>\n",
              "      <td>246</td>\n",
              "      <td>5547</td>\n",
              "    </tr>\n",
              "    <tr>\n",
              "      <th>15612</th>\n",
              "      <td>SWMP-1</td>\n",
              "      <td>Star Wars / M&amp;M Mosaic - Promo Set</td>\n",
              "      <td>2005</td>\n",
              "      <td>158</td>\n",
              "      <td>5462</td>\n",
              "    </tr>\n",
              "    <tr>\n",
              "      <th>1689</th>\n",
              "      <td>2000409-1</td>\n",
              "      <td>Window Exploration Bag</td>\n",
              "      <td>2010</td>\n",
              "      <td>507</td>\n",
              "      <td>5200</td>\n",
              "    </tr>\n",
              "    <tr>\n",
              "      <th>212</th>\n",
              "      <td>10179-1</td>\n",
              "      <td>Millennium Falcon - UCS</td>\n",
              "      <td>2007</td>\n",
              "      <td>171</td>\n",
              "      <td>5195</td>\n",
              "    </tr>\n",
              "    <tr>\n",
              "      <th>9805</th>\n",
              "      <td>70620-1</td>\n",
              "      <td>NINJAGO City</td>\n",
              "      <td>2017</td>\n",
              "      <td>616</td>\n",
              "      <td>4873</td>\n",
              "    </tr>\n",
              "    <tr>\n",
              "      <th>11253</th>\n",
              "      <td>75252-1</td>\n",
              "      <td>Imperial Star Destroyer</td>\n",
              "      <td>2019</td>\n",
              "      <td>171</td>\n",
              "      <td>4784</td>\n",
              "    </tr>\n",
              "    <tr>\n",
              "      <th>11368</th>\n",
              "      <td>75827-1</td>\n",
              "      <td>Firehouse Headquarters</td>\n",
              "      <td>2016</td>\n",
              "      <td>607</td>\n",
              "      <td>4642</td>\n",
              "    </tr>\n",
              "    <tr>\n",
              "      <th>4470</th>\n",
              "      <td>40179-1</td>\n",
              "      <td>Personalised Mosaic Portrait</td>\n",
              "      <td>2016</td>\n",
              "      <td>277</td>\n",
              "      <td>4502</td>\n",
              "    </tr>\n",
              "    <tr>\n",
              "      <th>248</th>\n",
              "      <td>10214-1</td>\n",
              "      <td>Tower Bridge</td>\n",
              "      <td>2010</td>\n",
              "      <td>673</td>\n",
              "      <td>4295</td>\n",
              "    </tr>\n",
              "    <tr>\n",
              "      <th>292</th>\n",
              "      <td>10253-1</td>\n",
              "      <td>Big Ben</td>\n",
              "      <td>2016</td>\n",
              "      <td>673</td>\n",
              "      <td>4167</td>\n",
              "    </tr>\n",
              "    <tr>\n",
              "      <th>301</th>\n",
              "      <td>10261-1</td>\n",
              "      <td>Roller Coaster</td>\n",
              "      <td>2018</td>\n",
              "      <td>673</td>\n",
              "      <td>4124</td>\n",
              "    </tr>\n",
              "    <tr>\n",
              "      <th>5513</th>\n",
              "      <td>42100-1</td>\n",
              "      <td>Liebherr R 9800 Excavator</td>\n",
              "      <td>2019</td>\n",
              "      <td>7</td>\n",
              "      <td>4108</td>\n",
              "    </tr>\n",
              "    <tr>\n",
              "      <th>10548</th>\n",
              "      <td>71040-1</td>\n",
              "      <td>Disney Castle</td>\n",
              "      <td>2016</td>\n",
              "      <td>608</td>\n",
              "      <td>4081</td>\n",
              "    </tr>\n",
              "    <tr>\n",
              "      <th>5496</th>\n",
              "      <td>42082-1</td>\n",
              "      <td>Rough Terrain Crane</td>\n",
              "      <td>2018</td>\n",
              "      <td>5</td>\n",
              "      <td>4079</td>\n",
              "    </tr>\n",
              "    <tr>\n",
              "      <th>11145</th>\n",
              "      <td>75159-1</td>\n",
              "      <td>Death Star</td>\n",
              "      <td>2016</td>\n",
              "      <td>171</td>\n",
              "      <td>4024</td>\n",
              "    </tr>\n",
              "  </tbody>\n",
              "</table>\n",
              "</div>"
            ]
          },
          "metadata": {},
          "execution_count": 292
        }
      ],
      "metadata": {
        "id": "toJvjRuQIqup",
        "colab_type": "code",
        "colab": {}
      }
    },
    {
      "cell_type": "markdown",
      "source": [
        "**Challenge**: Use <code>.groupby()</code> and <code>.count()</code> to show the number of LEGO sets released year-on-year. How do the number of sets released in 1955 compare to the number of sets released in 2019? "
      ],
      "metadata": {
        "id": "uSyhOzAHIqur",
        "colab_type": "text"
      }
    },
    {
      "cell_type": "code",
      "execution_count": 293,
      "source": [
        "sets.groupby('year').count()"
      ],
      "outputs": [
        {
          "output_type": "execute_result",
          "data": {
            "text/plain": [
              "      set_num  name  theme_id  num_parts\n",
              "year                                    \n",
              "1949        5     5         5          5\n",
              "1950        6     6         6          6\n",
              "1953        4     4         4          4\n",
              "1954       14    14        14         14\n",
              "1955       28    28        28         28\n",
              "...       ...   ...       ...        ...\n",
              "2017      786   786       786        786\n",
              "2018      816   816       816        816\n",
              "2019      840   840       840        840\n",
              "2020      674   674       674        674\n",
              "2021        3     3         3          3\n",
              "\n",
              "[71 rows x 4 columns]"
            ],
            "text/html": [
              "<div>\n",
              "<style scoped>\n",
              "    .dataframe tbody tr th:only-of-type {\n",
              "        vertical-align: middle;\n",
              "    }\n",
              "\n",
              "    .dataframe tbody tr th {\n",
              "        vertical-align: top;\n",
              "    }\n",
              "\n",
              "    .dataframe thead th {\n",
              "        text-align: right;\n",
              "    }\n",
              "</style>\n",
              "<table border=\"1\" class=\"dataframe\">\n",
              "  <thead>\n",
              "    <tr style=\"text-align: right;\">\n",
              "      <th></th>\n",
              "      <th>set_num</th>\n",
              "      <th>name</th>\n",
              "      <th>theme_id</th>\n",
              "      <th>num_parts</th>\n",
              "    </tr>\n",
              "    <tr>\n",
              "      <th>year</th>\n",
              "      <th></th>\n",
              "      <th></th>\n",
              "      <th></th>\n",
              "      <th></th>\n",
              "    </tr>\n",
              "  </thead>\n",
              "  <tbody>\n",
              "    <tr>\n",
              "      <th>1949</th>\n",
              "      <td>5</td>\n",
              "      <td>5</td>\n",
              "      <td>5</td>\n",
              "      <td>5</td>\n",
              "    </tr>\n",
              "    <tr>\n",
              "      <th>1950</th>\n",
              "      <td>6</td>\n",
              "      <td>6</td>\n",
              "      <td>6</td>\n",
              "      <td>6</td>\n",
              "    </tr>\n",
              "    <tr>\n",
              "      <th>1953</th>\n",
              "      <td>4</td>\n",
              "      <td>4</td>\n",
              "      <td>4</td>\n",
              "      <td>4</td>\n",
              "    </tr>\n",
              "    <tr>\n",
              "      <th>1954</th>\n",
              "      <td>14</td>\n",
              "      <td>14</td>\n",
              "      <td>14</td>\n",
              "      <td>14</td>\n",
              "    </tr>\n",
              "    <tr>\n",
              "      <th>1955</th>\n",
              "      <td>28</td>\n",
              "      <td>28</td>\n",
              "      <td>28</td>\n",
              "      <td>28</td>\n",
              "    </tr>\n",
              "    <tr>\n",
              "      <th>...</th>\n",
              "      <td>...</td>\n",
              "      <td>...</td>\n",
              "      <td>...</td>\n",
              "      <td>...</td>\n",
              "    </tr>\n",
              "    <tr>\n",
              "      <th>2017</th>\n",
              "      <td>786</td>\n",
              "      <td>786</td>\n",
              "      <td>786</td>\n",
              "      <td>786</td>\n",
              "    </tr>\n",
              "    <tr>\n",
              "      <th>2018</th>\n",
              "      <td>816</td>\n",
              "      <td>816</td>\n",
              "      <td>816</td>\n",
              "      <td>816</td>\n",
              "    </tr>\n",
              "    <tr>\n",
              "      <th>2019</th>\n",
              "      <td>840</td>\n",
              "      <td>840</td>\n",
              "      <td>840</td>\n",
              "      <td>840</td>\n",
              "    </tr>\n",
              "    <tr>\n",
              "      <th>2020</th>\n",
              "      <td>674</td>\n",
              "      <td>674</td>\n",
              "      <td>674</td>\n",
              "      <td>674</td>\n",
              "    </tr>\n",
              "    <tr>\n",
              "      <th>2021</th>\n",
              "      <td>3</td>\n",
              "      <td>3</td>\n",
              "      <td>3</td>\n",
              "      <td>3</td>\n",
              "    </tr>\n",
              "  </tbody>\n",
              "</table>\n",
              "<p>71 rows × 4 columns</p>\n",
              "</div>"
            ]
          },
          "metadata": {},
          "execution_count": 293
        }
      ],
      "metadata": {
        "scrolled": true,
        "id": "qjdrktZAIqus",
        "colab_type": "code",
        "colab": {}
      }
    },
    {
      "cell_type": "markdown",
      "source": [
        "**Challenge**: Show the number of LEGO releases on a line chart using Matplotlib. <br>\n",
        "<br>\n",
        "Note that the .csv file is from late 2020, so to plot the full calendar years, you will have to exclude some data from your chart. Can you use the slicing techniques covered in Day 21 to avoid plotting the last two years? The same syntax will work on Pandas DataFrames. "
      ],
      "metadata": {
        "id": "xJrmIOULIquv",
        "colab_type": "text"
      }
    },
    {
      "cell_type": "code",
      "execution_count": 294,
      "source": [
        "setsByYear = sets.groupby('year').count()\r\n",
        "\r\n",
        "plt.plot(setsByYear.index[:-1], setsByYear[\"set_num\"][:-1])"
      ],
      "outputs": [
        {
          "output_type": "execute_result",
          "data": {
            "text/plain": [
              "[<matplotlib.lines.Line2D at 0x1f8a7007550>]"
            ]
          },
          "metadata": {},
          "execution_count": 294
        },
        {
          "output_type": "display_data",
          "data": {
            "text/plain": [
              "<Figure size 432x288 with 1 Axes>"
            ],
            "image/png": "[encoded data removed]"
          },
          "metadata": {
            "needs_background": "light"
          }
        }
      ],
      "metadata": {
        "id": "_ZqAN-5MIquz",
        "colab_type": "code",
        "colab": {}
      }
    },
    {
      "cell_type": "markdown",
      "source": [
        "### Aggregate Data with the Python .agg() Function\n",
        "\n",
        "Let's work out the number of different themes shipped by year. This means we have to count the number of unique theme_ids per calendar year."
      ],
      "metadata": {
        "id": "xrDeNYYXIqu1",
        "colab_type": "text"
      }
    },
    {
      "cell_type": "code",
      "execution_count": 295,
      "source": [
        "themesByYear = sets.groupby('year').agg({\"theme_id\": pd.Series.nunique})\r\n",
        "\r\n",
        "themesByYear.rename(columns = {\"theme_id\":\"nr_themes\"}, inplace=True)\r\n",
        "themesByYear.head()"
      ],
      "outputs": [
        {
          "output_type": "execute_result",
          "data": {
            "text/plain": [
              "      nr_themes\n",
              "year           \n",
              "1949          2\n",
              "1950          1\n",
              "1953          2\n",
              "1954          2\n",
              "1955          4"
            ],
            "text/html": [
              "<div>\n",
              "<style scoped>\n",
              "    .dataframe tbody tr th:only-of-type {\n",
              "        vertical-align: middle;\n",
              "    }\n",
              "\n",
              "    .dataframe tbody tr th {\n",
              "        vertical-align: top;\n",
              "    }\n",
              "\n",
              "    .dataframe thead th {\n",
              "        text-align: right;\n",
              "    }\n",
              "</style>\n",
              "<table border=\"1\" class=\"dataframe\">\n",
              "  <thead>\n",
              "    <tr style=\"text-align: right;\">\n",
              "      <th></th>\n",
              "      <th>nr_themes</th>\n",
              "    </tr>\n",
              "    <tr>\n",
              "      <th>year</th>\n",
              "      <th></th>\n",
              "    </tr>\n",
              "  </thead>\n",
              "  <tbody>\n",
              "    <tr>\n",
              "      <th>1949</th>\n",
              "      <td>2</td>\n",
              "    </tr>\n",
              "    <tr>\n",
              "      <th>1950</th>\n",
              "      <td>1</td>\n",
              "    </tr>\n",
              "    <tr>\n",
              "      <th>1953</th>\n",
              "      <td>2</td>\n",
              "    </tr>\n",
              "    <tr>\n",
              "      <th>1954</th>\n",
              "      <td>2</td>\n",
              "    </tr>\n",
              "    <tr>\n",
              "      <th>1955</th>\n",
              "      <td>4</td>\n",
              "    </tr>\n",
              "  </tbody>\n",
              "</table>\n",
              "</div>"
            ]
          },
          "metadata": {},
          "execution_count": 295
        }
      ],
      "metadata": {
        "id": "BqF1o997Iqu3",
        "colab_type": "code",
        "colab": {}
      }
    },
    {
      "cell_type": "markdown",
      "source": [
        "**Challenge**: Plot the number of themes released by year on a line chart. Only include the full calendar years (i.e., exclude 2020 and 2021). "
      ],
      "metadata": {
        "id": "immCqqw1Iqu5",
        "colab_type": "text"
      }
    },
    {
      "cell_type": "code",
      "execution_count": 296,
      "source": [
        "plt.plot(themesByYear.index[:-1], themesByYear[\"nr_themes\"][:-1])"
      ],
      "outputs": [
        {
          "output_type": "execute_result",
          "data": {
            "text/plain": [
              "[<matplotlib.lines.Line2D at 0x1f8a7064b80>]"
            ]
          },
          "metadata": {},
          "execution_count": 296
        },
        {
          "output_type": "display_data",
          "data": {
            "text/plain": [
              "<Figure size 432x288 with 1 Axes>"
            ],
            "image/png": "[encoded data removed]"
          },
          "metadata": {
            "needs_background": "light"
          }
        }
      ],
      "metadata": {
        "id": "r2pamQEkIqu5",
        "colab_type": "code",
        "colab": {}
      }
    },
    {
      "cell_type": "markdown",
      "source": [
        "### Line Charts with Two Seperate Axes"
      ],
      "metadata": {
        "id": "uBbt9-lJIqu7",
        "colab_type": "text"
      }
    },
    {
      "cell_type": "code",
      "execution_count": 297,
      "source": [
        "ax1 = plt.gca()\r\n",
        "ax2 = ax1.twinx()\r\n",
        "\r\n",
        "ax1.plot(setsByYear.index[:-1], setsByYear[\"set_num\"][:-1], color='red')\r\n",
        "ax2.plot(themesByYear.index[:-1], themesByYear[\"nr_themes\"][:-1], color='green')\r\n",
        "\r\n",
        "ax1.set_xlabel('Year')\r\n",
        "ax1.set_ylabel(\"# of sets\", color='red')\r\n",
        "ax2.set_ylabel(\"# of themes\", color='green')"
      ],
      "outputs": [
        {
          "output_type": "execute_result",
          "data": {
            "text/plain": [
              "Text(0, 0.5, '# of themes')"
            ]
          },
          "metadata": {},
          "execution_count": 297
        },
        {
          "output_type": "display_data",
          "data": {
            "text/plain": [
              "<Figure size 432x288 with 2 Axes>"
            ],
            "image/png": "[encoded data removed]"
          },
          "metadata": {
            "needs_background": "light"
          }
        }
      ],
      "metadata": {
        "id": "j7lQ_amFIqu7",
        "colab_type": "code",
        "colab": {}
      }
    },
    {
      "cell_type": "markdown",
      "source": [
        "**Challenge**: Use the <code>.groupby()</code> and <code>.agg()</code> function together to figure out the average number of parts per set. How many parts did the average LEGO set released in 1954 compared to say, 2017?"
      ],
      "metadata": {
        "id": "7BHYaUf-Iqu9",
        "colab_type": "text"
      }
    },
    {
      "cell_type": "code",
      "execution_count": 298,
      "source": [
        "partsPerSet = sets.groupby('year').agg({'num_parts': pd.Series.mean})\r\n",
        "\r\n",
        "print(partsPerSet.head())\r\n",
        "\r\n",
        "print(partsPerSet.tail())"
      ],
      "outputs": [
        {
          "output_type": "stream",
          "name": "stdout",
          "text": [
            "      num_parts\n",
            "year           \n",
            "1949      99.60\n",
            "1950       1.00\n",
            "1953      13.50\n",
            "1954      12.36\n",
            "1955      36.61\n",
            "      num_parts\n",
            "year           \n",
            "2017     221.84\n",
            "2018     213.62\n",
            "2019     207.51\n",
            "2020     259.73\n",
            "2021       0.00\n"
          ]
        }
      ],
      "metadata": {
        "id": "fjbb3tZcIqu_",
        "colab_type": "code",
        "colab": {}
      }
    },
    {
      "cell_type": "markdown",
      "source": [
        "### Scatter Plots in Matplotlib"
      ],
      "metadata": {
        "id": "bAeTe2XqIqvB",
        "colab_type": "text"
      }
    },
    {
      "cell_type": "markdown",
      "source": [
        "**Challenge**: Has the size and complexity of LEGO sets increased over time based on the number of parts? Plot the average number of parts over time using a Matplotlib scatter plot. See if you can use the [scatter plot documentation](https://matplotlib.org/3.1.0/api/_as_gen/matplotlib.pyplot.scatter.html) before I show you the solution. Do you spot a trend in the chart? "
      ],
      "metadata": {
        "id": "SAViZ_TYIqvB",
        "colab_type": "text"
      }
    },
    {
      "cell_type": "code",
      "execution_count": 299,
      "source": [
        "plt.scatter(partsPerSet.index[:-1], partsPerSet.num_parts[:-1])"
      ],
      "outputs": [
        {
          "output_type": "execute_result",
          "data": {
            "text/plain": [
              "<matplotlib.collections.PathCollection at 0x1f8a718e490>"
            ]
          },
          "metadata": {},
          "execution_count": 299
        },
        {
          "output_type": "display_data",
          "data": {
            "text/plain": [
              "<Figure size 432x288 with 1 Axes>"
            ],
            "image/png": "[encoded data removed]"
          },
          "metadata": {
            "needs_background": "light"
          }
        }
      ],
      "metadata": {
        "id": "EQNZ0D7JIqvB",
        "colab_type": "code",
        "colab": {}
      }
    },
    {
      "cell_type": "markdown",
      "source": [
        "### Number of Sets per LEGO Theme"
      ],
      "metadata": {
        "id": "xK226Ip-IqvE",
        "colab_type": "text"
      }
    },
    {
      "cell_type": "markdown",
      "source": [
        "LEGO has licensed many hit franchises from Harry Potter to Marvel Super Heros to many others. But which theme has the largest number of individual sets? "
      ],
      "metadata": {
        "id": "VKHa1FePIqvE",
        "colab_type": "text"
      }
    },
    {
      "cell_type": "code",
      "execution_count": 300,
      "source": [
        "setThemeCount = sets.theme_id.value_counts()\r\n",
        "setThemeCount.head()"
      ],
      "outputs": [
        {
          "output_type": "execute_result",
          "data": {
            "text/plain": [
              "158    753\n",
              "501    656\n",
              "494    398\n",
              "435    356\n",
              "503    329\n",
              "Name: theme_id, dtype: int64"
            ]
          },
          "metadata": {},
          "execution_count": 300
        }
      ],
      "metadata": {
        "id": "hOBcNrC9IqvE",
        "colab_type": "code",
        "colab": {}
      }
    },
    {
      "cell_type": "markdown",
      "source": [
        "### Database Schemas, Foreign Keys and Merging DataFrames\n",
        "\n",
        "The themes.csv file has the actual theme names. The sets .csv has <code>theme_ids</code> which link to the <code>id</code> column in the themes.csv. "
      ],
      "metadata": {
        "id": "J_0iuerKIqvG",
        "colab_type": "text"
      }
    },
    {
      "cell_type": "markdown",
      "source": [
        "**Challenge**: Explore the themes.csv. How is it structured? Search for the name 'Star Wars'. How many <code>id</code>s correspond to this name in the themes.csv? Now use these <code>id</code>s and find the corresponding the sets in the sets.csv (Hint: you'll need to look for matches in the <code>theme_id</code> column)"
      ],
      "metadata": {
        "id": "cp1tMW6oIqvH",
        "colab_type": "text"
      }
    },
    {
      "cell_type": "code",
      "execution_count": 301,
      "source": [
        "themes = pd.read_csv('data/themes.csv')\r\n",
        "themes.head()"
      ],
      "outputs": [
        {
          "output_type": "execute_result",
          "data": {
            "text/plain": [
              "   id            name  parent_id\n",
              "0   1         Technic        NaN\n",
              "1   2  Arctic Technic       1.00\n",
              "2   3     Competition       1.00\n",
              "3   4  Expert Builder       1.00\n",
              "4   5           Model       1.00"
            ],
            "text/html": [
              "<div>\n",
              "<style scoped>\n",
              "    .dataframe tbody tr th:only-of-type {\n",
              "        vertical-align: middle;\n",
              "    }\n",
              "\n",
              "    .dataframe tbody tr th {\n",
              "        vertical-align: top;\n",
              "    }\n",
              "\n",
              "    .dataframe thead th {\n",
              "        text-align: right;\n",
              "    }\n",
              "</style>\n",
              "<table border=\"1\" class=\"dataframe\">\n",
              "  <thead>\n",
              "    <tr style=\"text-align: right;\">\n",
              "      <th></th>\n",
              "      <th>id</th>\n",
              "      <th>name</th>\n",
              "      <th>parent_id</th>\n",
              "    </tr>\n",
              "  </thead>\n",
              "  <tbody>\n",
              "    <tr>\n",
              "      <th>0</th>\n",
              "      <td>1</td>\n",
              "      <td>Technic</td>\n",
              "      <td>NaN</td>\n",
              "    </tr>\n",
              "    <tr>\n",
              "      <th>1</th>\n",
              "      <td>2</td>\n",
              "      <td>Arctic Technic</td>\n",
              "      <td>1.00</td>\n",
              "    </tr>\n",
              "    <tr>\n",
              "      <th>2</th>\n",
              "      <td>3</td>\n",
              "      <td>Competition</td>\n",
              "      <td>1.00</td>\n",
              "    </tr>\n",
              "    <tr>\n",
              "      <th>3</th>\n",
              "      <td>4</td>\n",
              "      <td>Expert Builder</td>\n",
              "      <td>1.00</td>\n",
              "    </tr>\n",
              "    <tr>\n",
              "      <th>4</th>\n",
              "      <td>5</td>\n",
              "      <td>Model</td>\n",
              "      <td>1.00</td>\n",
              "    </tr>\n",
              "  </tbody>\n",
              "</table>\n",
              "</div>"
            ]
          },
          "metadata": {},
          "execution_count": 301
        }
      ],
      "metadata": {
        "id": "3uN3wN5sIqvH",
        "colab_type": "code",
        "colab": {}
      }
    },
    {
      "cell_type": "code",
      "execution_count": 302,
      "source": [
        "themes[themes.name=='Star Wars']"
      ],
      "outputs": [
        {
          "output_type": "execute_result",
          "data": {
            "text/plain": [
              "      id       name  parent_id\n",
              "17    18  Star Wars       1.00\n",
              "150  158  Star Wars        NaN\n",
              "174  209  Star Wars     207.00\n",
              "211  261  Star Wars     258.00"
            ],
            "text/html": [
              "<div>\n",
              "<style scoped>\n",
              "    .dataframe tbody tr th:only-of-type {\n",
              "        vertical-align: middle;\n",
              "    }\n",
              "\n",
              "    .dataframe tbody tr th {\n",
              "        vertical-align: top;\n",
              "    }\n",
              "\n",
              "    .dataframe thead th {\n",
              "        text-align: right;\n",
              "    }\n",
              "</style>\n",
              "<table border=\"1\" class=\"dataframe\">\n",
              "  <thead>\n",
              "    <tr style=\"text-align: right;\">\n",
              "      <th></th>\n",
              "      <th>id</th>\n",
              "      <th>name</th>\n",
              "      <th>parent_id</th>\n",
              "    </tr>\n",
              "  </thead>\n",
              "  <tbody>\n",
              "    <tr>\n",
              "      <th>17</th>\n",
              "      <td>18</td>\n",
              "      <td>Star Wars</td>\n",
              "      <td>1.00</td>\n",
              "    </tr>\n",
              "    <tr>\n",
              "      <th>150</th>\n",
              "      <td>158</td>\n",
              "      <td>Star Wars</td>\n",
              "      <td>NaN</td>\n",
              "    </tr>\n",
              "    <tr>\n",
              "      <th>174</th>\n",
              "      <td>209</td>\n",
              "      <td>Star Wars</td>\n",
              "      <td>207.00</td>\n",
              "    </tr>\n",
              "    <tr>\n",
              "      <th>211</th>\n",
              "      <td>261</td>\n",
              "      <td>Star Wars</td>\n",
              "      <td>258.00</td>\n",
              "    </tr>\n",
              "  </tbody>\n",
              "</table>\n",
              "</div>"
            ]
          },
          "metadata": {},
          "execution_count": 302
        }
      ],
      "metadata": {
        "id": "xAO2XlQGIqvJ",
        "colab_type": "code",
        "colab": {}
      }
    },
    {
      "cell_type": "code",
      "execution_count": 303,
      "source": [
        "sets[sets.theme_id==18]"
      ],
      "outputs": [
        {
          "output_type": "execute_result",
          "data": {
            "text/plain": [
              "       set_num                                name  year  theme_id  num_parts\n",
              "8786   65081-1  R2-D2 / C-3PO Droid Collectors Set  2002        18          1\n",
              "12051   8000-1                           Pit Droid  2000        18        223\n",
              "12058   8001-1                        Battle Droid  2000        18        336\n",
              "12066   8002-1                     Destroyer Droid  2000        18        567\n",
              "12071   8007-1                               C-3PO  2001        18        339\n",
              "12072   8008-1                        Stormtrooper  2001        18        360\n",
              "12073   8009-1                               R2-D2  2002        18        239\n",
              "12074   8010-1                         Darth Vader  2002        18        388\n",
              "12081   8011-1                          Jango Fett  2002        18        425\n",
              "12083   8012-1                  Super Battle Droid  2002        18        378\n",
              "15273  K8008-1      Darth Vader / Stormtrooper Kit  2002        18          0"
            ],
            "text/html": [
              "<div>\n",
              "<style scoped>\n",
              "    .dataframe tbody tr th:only-of-type {\n",
              "        vertical-align: middle;\n",
              "    }\n",
              "\n",
              "    .dataframe tbody tr th {\n",
              "        vertical-align: top;\n",
              "    }\n",
              "\n",
              "    .dataframe thead th {\n",
              "        text-align: right;\n",
              "    }\n",
              "</style>\n",
              "<table border=\"1\" class=\"dataframe\">\n",
              "  <thead>\n",
              "    <tr style=\"text-align: right;\">\n",
              "      <th></th>\n",
              "      <th>set_num</th>\n",
              "      <th>name</th>\n",
              "      <th>year</th>\n",
              "      <th>theme_id</th>\n",
              "      <th>num_parts</th>\n",
              "    </tr>\n",
              "  </thead>\n",
              "  <tbody>\n",
              "    <tr>\n",
              "      <th>8786</th>\n",
              "      <td>65081-1</td>\n",
              "      <td>R2-D2 / C-3PO Droid Collectors Set</td>\n",
              "      <td>2002</td>\n",
              "      <td>18</td>\n",
              "      <td>1</td>\n",
              "    </tr>\n",
              "    <tr>\n",
              "      <th>12051</th>\n",
              "      <td>8000-1</td>\n",
              "      <td>Pit Droid</td>\n",
              "      <td>2000</td>\n",
              "      <td>18</td>\n",
              "      <td>223</td>\n",
              "    </tr>\n",
              "    <tr>\n",
              "      <th>12058</th>\n",
              "      <td>8001-1</td>\n",
              "      <td>Battle Droid</td>\n",
              "      <td>2000</td>\n",
              "      <td>18</td>\n",
              "      <td>336</td>\n",
              "    </tr>\n",
              "    <tr>\n",
              "      <th>12066</th>\n",
              "      <td>8002-1</td>\n",
              "      <td>Destroyer Droid</td>\n",
              "      <td>2000</td>\n",
              "      <td>18</td>\n",
              "      <td>567</td>\n",
              "    </tr>\n",
              "    <tr>\n",
              "      <th>12071</th>\n",
              "      <td>8007-1</td>\n",
              "      <td>C-3PO</td>\n",
              "      <td>2001</td>\n",
              "      <td>18</td>\n",
              "      <td>339</td>\n",
              "    </tr>\n",
              "    <tr>\n",
              "      <th>12072</th>\n",
              "      <td>8008-1</td>\n",
              "      <td>Stormtrooper</td>\n",
              "      <td>2001</td>\n",
              "      <td>18</td>\n",
              "      <td>360</td>\n",
              "    </tr>\n",
              "    <tr>\n",
              "      <th>12073</th>\n",
              "      <td>8009-1</td>\n",
              "      <td>R2-D2</td>\n",
              "      <td>2002</td>\n",
              "      <td>18</td>\n",
              "      <td>239</td>\n",
              "    </tr>\n",
              "    <tr>\n",
              "      <th>12074</th>\n",
              "      <td>8010-1</td>\n",
              "      <td>Darth Vader</td>\n",
              "      <td>2002</td>\n",
              "      <td>18</td>\n",
              "      <td>388</td>\n",
              "    </tr>\n",
              "    <tr>\n",
              "      <th>12081</th>\n",
              "      <td>8011-1</td>\n",
              "      <td>Jango Fett</td>\n",
              "      <td>2002</td>\n",
              "      <td>18</td>\n",
              "      <td>425</td>\n",
              "    </tr>\n",
              "    <tr>\n",
              "      <th>12083</th>\n",
              "      <td>8012-1</td>\n",
              "      <td>Super Battle Droid</td>\n",
              "      <td>2002</td>\n",
              "      <td>18</td>\n",
              "      <td>378</td>\n",
              "    </tr>\n",
              "    <tr>\n",
              "      <th>15273</th>\n",
              "      <td>K8008-1</td>\n",
              "      <td>Darth Vader / Stormtrooper Kit</td>\n",
              "      <td>2002</td>\n",
              "      <td>18</td>\n",
              "      <td>0</td>\n",
              "    </tr>\n",
              "  </tbody>\n",
              "</table>\n",
              "</div>"
            ]
          },
          "metadata": {},
          "execution_count": 303
        }
      ],
      "metadata": {
        "id": "xYEDlY-_IqvL",
        "colab_type": "code",
        "colab": {}
      }
    },
    {
      "cell_type": "code",
      "execution_count": 304,
      "source": [
        "sets[sets.theme_id==209]"
      ],
      "outputs": [
        {
          "output_type": "execute_result",
          "data": {
            "text/plain": [
              "       set_num                            name  year  theme_id  num_parts\n",
              "11013  75023-1  Star Wars Advent Calendar 2013  2013       209        254\n",
              "11046  75056-1  Star Wars Advent Calendar 2014  2014       209        273\n",
              "11080  75097-1  Star Wars Advent Calendar 2015  2015       209        291\n",
              "11131  75146-1  Star Wars Advent Calendar 2016  2016       209        282\n",
              "11173  75184-1  Star Wars Advent Calendar 2017  2017       209        309\n",
              "11206  75213-1  Star Wars Advent Calendar 2018  2018       209        307\n",
              "11245  75245-1  Star Wars Advent Calendar 2019  2019       209        280\n",
              "11281  75279-1  Star Wars Advent Calendar 2020  2020       209        312\n",
              "12019   7958-1  Star Wars Advent Calendar 2011  2011       209        267\n",
              "14352   9509-1  Star Wars Advent Calendar 2012  2012       209        235"
            ],
            "text/html": [
              "<div>\n",
              "<style scoped>\n",
              "    .dataframe tbody tr th:only-of-type {\n",
              "        vertical-align: middle;\n",
              "    }\n",
              "\n",
              "    .dataframe tbody tr th {\n",
              "        vertical-align: top;\n",
              "    }\n",
              "\n",
              "    .dataframe thead th {\n",
              "        text-align: right;\n",
              "    }\n",
              "</style>\n",
              "<table border=\"1\" class=\"dataframe\">\n",
              "  <thead>\n",
              "    <tr style=\"text-align: right;\">\n",
              "      <th></th>\n",
              "      <th>set_num</th>\n",
              "      <th>name</th>\n",
              "      <th>year</th>\n",
              "      <th>theme_id</th>\n",
              "      <th>num_parts</th>\n",
              "    </tr>\n",
              "  </thead>\n",
              "  <tbody>\n",
              "    <tr>\n",
              "      <th>11013</th>\n",
              "      <td>75023-1</td>\n",
              "      <td>Star Wars Advent Calendar 2013</td>\n",
              "      <td>2013</td>\n",
              "      <td>209</td>\n",
              "      <td>254</td>\n",
              "    </tr>\n",
              "    <tr>\n",
              "      <th>11046</th>\n",
              "      <td>75056-1</td>\n",
              "      <td>Star Wars Advent Calendar 2014</td>\n",
              "      <td>2014</td>\n",
              "      <td>209</td>\n",
              "      <td>273</td>\n",
              "    </tr>\n",
              "    <tr>\n",
              "      <th>11080</th>\n",
              "      <td>75097-1</td>\n",
              "      <td>Star Wars Advent Calendar 2015</td>\n",
              "      <td>2015</td>\n",
              "      <td>209</td>\n",
              "      <td>291</td>\n",
              "    </tr>\n",
              "    <tr>\n",
              "      <th>11131</th>\n",
              "      <td>75146-1</td>\n",
              "      <td>Star Wars Advent Calendar 2016</td>\n",
              "      <td>2016</td>\n",
              "      <td>209</td>\n",
              "      <td>282</td>\n",
              "    </tr>\n",
              "    <tr>\n",
              "      <th>11173</th>\n",
              "      <td>75184-1</td>\n",
              "      <td>Star Wars Advent Calendar 2017</td>\n",
              "      <td>2017</td>\n",
              "      <td>209</td>\n",
              "      <td>309</td>\n",
              "    </tr>\n",
              "    <tr>\n",
              "      <th>11206</th>\n",
              "      <td>75213-1</td>\n",
              "      <td>Star Wars Advent Calendar 2018</td>\n",
              "      <td>2018</td>\n",
              "      <td>209</td>\n",
              "      <td>307</td>\n",
              "    </tr>\n",
              "    <tr>\n",
              "      <th>11245</th>\n",
              "      <td>75245-1</td>\n",
              "      <td>Star Wars Advent Calendar 2019</td>\n",
              "      <td>2019</td>\n",
              "      <td>209</td>\n",
              "      <td>280</td>\n",
              "    </tr>\n",
              "    <tr>\n",
              "      <th>11281</th>\n",
              "      <td>75279-1</td>\n",
              "      <td>Star Wars Advent Calendar 2020</td>\n",
              "      <td>2020</td>\n",
              "      <td>209</td>\n",
              "      <td>312</td>\n",
              "    </tr>\n",
              "    <tr>\n",
              "      <th>12019</th>\n",
              "      <td>7958-1</td>\n",
              "      <td>Star Wars Advent Calendar 2011</td>\n",
              "      <td>2011</td>\n",
              "      <td>209</td>\n",
              "      <td>267</td>\n",
              "    </tr>\n",
              "    <tr>\n",
              "      <th>14352</th>\n",
              "      <td>9509-1</td>\n",
              "      <td>Star Wars Advent Calendar 2012</td>\n",
              "      <td>2012</td>\n",
              "      <td>209</td>\n",
              "      <td>235</td>\n",
              "    </tr>\n",
              "  </tbody>\n",
              "</table>\n",
              "</div>"
            ]
          },
          "metadata": {},
          "execution_count": 304
        }
      ],
      "metadata": {
        "scrolled": true,
        "id": "qBhckawNIqvN",
        "colab_type": "code",
        "colab": {}
      }
    },
    {
      "cell_type": "markdown",
      "source": [
        "### Merging (i.e., Combining) DataFrames based on a Key\n"
      ],
      "metadata": {
        "id": "SmTCXWKKIqvQ",
        "colab_type": "text"
      }
    },
    {
      "cell_type": "code",
      "execution_count": 305,
      "source": [
        "setThemeCount = pd.DataFrame({\"id\":setThemeCount.index, \"set_count\":setThemeCount.values})"
      ],
      "outputs": [],
      "metadata": {
        "id": "esKQULhcIqvR",
        "colab_type": "code",
        "colab": {}
      }
    },
    {
      "cell_type": "code",
      "execution_count": 306,
      "source": [
        "mergedDF = pd.merge(setThemeCount, themes, on=\"id\")\r\n",
        "mergedDF.head()"
      ],
      "outputs": [
        {
          "output_type": "execute_result",
          "data": {
            "text/plain": [
              "    id  set_count       name  parent_id\n",
              "0  158        753  Star Wars        NaN\n",
              "1  501        656       Gear        NaN\n",
              "2  494        398    Friends        NaN\n",
              "3  435        356    Ninjago        NaN\n",
              "4  503        329  Key Chain     501.00"
            ],
            "text/html": [
              "<div>\n",
              "<style scoped>\n",
              "    .dataframe tbody tr th:only-of-type {\n",
              "        vertical-align: middle;\n",
              "    }\n",
              "\n",
              "    .dataframe tbody tr th {\n",
              "        vertical-align: top;\n",
              "    }\n",
              "\n",
              "    .dataframe thead th {\n",
              "        text-align: right;\n",
              "    }\n",
              "</style>\n",
              "<table border=\"1\" class=\"dataframe\">\n",
              "  <thead>\n",
              "    <tr style=\"text-align: right;\">\n",
              "      <th></th>\n",
              "      <th>id</th>\n",
              "      <th>set_count</th>\n",
              "      <th>name</th>\n",
              "      <th>parent_id</th>\n",
              "    </tr>\n",
              "  </thead>\n",
              "  <tbody>\n",
              "    <tr>\n",
              "      <th>0</th>\n",
              "      <td>158</td>\n",
              "      <td>753</td>\n",
              "      <td>Star Wars</td>\n",
              "      <td>NaN</td>\n",
              "    </tr>\n",
              "    <tr>\n",
              "      <th>1</th>\n",
              "      <td>501</td>\n",
              "      <td>656</td>\n",
              "      <td>Gear</td>\n",
              "      <td>NaN</td>\n",
              "    </tr>\n",
              "    <tr>\n",
              "      <th>2</th>\n",
              "      <td>494</td>\n",
              "      <td>398</td>\n",
              "      <td>Friends</td>\n",
              "      <td>NaN</td>\n",
              "    </tr>\n",
              "    <tr>\n",
              "      <th>3</th>\n",
              "      <td>435</td>\n",
              "      <td>356</td>\n",
              "      <td>Ninjago</td>\n",
              "      <td>NaN</td>\n",
              "    </tr>\n",
              "    <tr>\n",
              "      <th>4</th>\n",
              "      <td>503</td>\n",
              "      <td>329</td>\n",
              "      <td>Key Chain</td>\n",
              "      <td>501.00</td>\n",
              "    </tr>\n",
              "  </tbody>\n",
              "</table>\n",
              "</div>"
            ]
          },
          "metadata": {},
          "execution_count": 306
        }
      ],
      "metadata": {
        "id": "i0LobgIvIqvT",
        "colab_type": "code",
        "colab": {}
      }
    },
    {
      "cell_type": "code",
      "execution_count": 307,
      "source": [
        "plt.figure(figsize=(14,8))\r\n",
        "plt.xticks(fontsize=14, rotation=45)\r\n",
        "plt.yticks(fontsize=14)\r\n",
        "plt.ylabel('Nr of Sets', fontsize=14)\r\n",
        "plt.xlabel('Theme Name', fontsize=14)\r\n",
        " \r\n",
        "plt.bar(mergedDF.name[:10], mergedDF.set_count[:10])"
      ],
      "outputs": [
        {
          "output_type": "execute_result",
          "data": {
            "text/plain": [
              "<BarContainer object of 10 artists>"
            ]
          },
          "metadata": {},
          "execution_count": 307
        },
        {
          "output_type": "display_data",
          "data": {
            "text/plain": [
              "<Figure size 1008x576 with 1 Axes>"
            ],
            "image/png": "[encoded data removed]"
          },
          "metadata": {
            "needs_background": "light"
          }
        }
      ],
      "metadata": {
        "id": "I7UMP7VXIqvU",
        "colab_type": "code",
        "colab": {}
      }
    }
  ]
}
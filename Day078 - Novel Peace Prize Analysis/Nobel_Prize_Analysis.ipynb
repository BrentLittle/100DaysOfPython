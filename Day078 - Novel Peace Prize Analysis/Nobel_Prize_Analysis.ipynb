{
  "nbformat": 4,
  "nbformat_minor": 2,
  "metadata": {
    "kernelspec": {
      "name": "python3",
      "display_name": "Python 3.8.7 64-bit"
    },
    "language_info": {
      "codemirror_mode": {
        "name": "ipython",
        "version": 3
      },
      "file_extension": ".py",
      "mimetype": "text/x-python",
      "name": "python",
      "nbconvert_exporter": "python",
      "pygments_lexer": "ipython3",
      "version": "3.8.7"
    },
    "colab": {
      "name": "Nobel Prize Analysis (start).ipynb",
      "provenance": []
    },
    "interpreter": {
      "hash": "0d7944f1888d65f5965a0f83664546a5eb737a19f1d30a41383683ae88994718"
    }
  },
  "cells": [
    {
      "cell_type": "markdown",
      "source": [
        "### Import Statements"
      ],
      "metadata": {
        "id": "QPnGYVYyo7LK"
      }
    },
    {
      "cell_type": "code",
      "execution_count": 167,
      "source": [
        "import pandas as pd\r\n",
        "import numpy as np\r\n",
        "import plotly.express as px\r\n",
        "import seaborn as sns\r\n",
        "import matplotlib.pyplot as plt"
      ],
      "outputs": [],
      "metadata": {
        "id": "dCIwm0dLo7LL"
      }
    },
    {
      "cell_type": "markdown",
      "source": [
        "### Notebook Presentation"
      ],
      "metadata": {
        "id": "FcJY6qfNo7LN"
      }
    },
    {
      "cell_type": "code",
      "execution_count": 168,
      "source": [
        "pd.options.display.float_format = '{:,.2f}'.format"
      ],
      "outputs": [],
      "metadata": {
        "id": "RjzC6BoMo7LO"
      }
    },
    {
      "cell_type": "markdown",
      "source": [
        "### Read the Data"
      ],
      "metadata": {
        "id": "eoQ5Af4wo7LQ"
      }
    },
    {
      "cell_type": "code",
      "execution_count": 169,
      "source": [
        "df_data = pd.read_csv('nobel_prize_data.csv')"
      ],
      "outputs": [],
      "metadata": {
        "id": "EbVGyi7Eo7LQ"
      }
    },
    {
      "cell_type": "markdown",
      "source": [
        "# Data Exploration & Cleaning\n",
        "\n",
        "**Challenge**: Preliminary data exploration. \n",
        "* What is the shape of `df_data`? How many rows and columns?\n",
        "* What are the column names?\n",
        "* In which year was the Nobel prize first awarded?\n",
        "* Which year is the latest year included in the dataset?"
      ],
      "metadata": {
        "id": "rYlGEluAo7LS"
      }
    },
    {
      "cell_type": "code",
      "execution_count": 170,
      "source": [
        "print(df_data.shape)"
      ],
      "outputs": [
        {
          "output_type": "stream",
          "name": "stdout",
          "text": [
            "(962, 16)\n"
          ]
        }
      ],
      "metadata": {
        "id": "4U-OQVRbFOu6"
      }
    },
    {
      "cell_type": "code",
      "execution_count": 171,
      "source": [
        "df_data.head()"
      ],
      "outputs": [
        {
          "output_type": "execute_result",
          "data": {
            "text/plain": [
              "   year    category                                           prize  \\\n",
              "0  1901   Chemistry               The Nobel Prize in Chemistry 1901   \n",
              "1  1901  Literature              The Nobel Prize in Literature 1901   \n",
              "2  1901    Medicine  The Nobel Prize in Physiology or Medicine 1901   \n",
              "3  1901       Peace                      The Nobel Peace Prize 1901   \n",
              "4  1901       Peace                      The Nobel Peace Prize 1901   \n",
              "\n",
              "                                          motivation prize_share  \\\n",
              "0  \"in recognition of the extraordinary services ...         1/1   \n",
              "1  \"in special recognition of his poetic composit...         1/1   \n",
              "2  \"for his work on serum therapy, especially its...         1/1   \n",
              "3                                                NaN         1/2   \n",
              "4                                                NaN         1/2   \n",
              "\n",
              "  laureate_type                     full_name  birth_date         birth_city  \\\n",
              "0    Individual  Jacobus Henricus van 't Hoff  1852-08-30          Rotterdam   \n",
              "1    Individual               Sully Prudhomme  1839-03-16              Paris   \n",
              "2    Individual        Emil Adolf von Behring  1854-03-15  Hansdorf (Lawice)   \n",
              "3    Individual                Frédéric Passy  1822-05-20              Paris   \n",
              "4    Individual             Jean Henry Dunant  1828-05-08             Geneva   \n",
              "\n",
              "      birth_country birth_country_current   sex   organization_name  \\\n",
              "0       Netherlands           Netherlands  Male   Berlin University   \n",
              "1            France                France  Male                 NaN   \n",
              "2  Prussia (Poland)                Poland  Male  Marburg University   \n",
              "3            France                France  Male                 NaN   \n",
              "4       Switzerland           Switzerland  Male                 NaN   \n",
              "\n",
              "  organization_city organization_country  ISO  \n",
              "0            Berlin              Germany  NLD  \n",
              "1               NaN                  NaN  FRA  \n",
              "2           Marburg              Germany  POL  \n",
              "3               NaN                  NaN  FRA  \n",
              "4               NaN                  NaN  CHE  "
            ],
            "text/html": [
              "<div>\n",
              "<style scoped>\n",
              "    .dataframe tbody tr th:only-of-type {\n",
              "        vertical-align: middle;\n",
              "    }\n",
              "\n",
              "    .dataframe tbody tr th {\n",
              "        vertical-align: top;\n",
              "    }\n",
              "\n",
              "    .dataframe thead th {\n",
              "        text-align: right;\n",
              "    }\n",
              "</style>\n",
              "<table border=\"1\" class=\"dataframe\">\n",
              "  <thead>\n",
              "    <tr style=\"text-align: right;\">\n",
              "      <th></th>\n",
              "      <th>year</th>\n",
              "      <th>category</th>\n",
              "      <th>prize</th>\n",
              "      <th>motivation</th>\n",
              "      <th>prize_share</th>\n",
              "      <th>laureate_type</th>\n",
              "      <th>full_name</th>\n",
              "      <th>birth_date</th>\n",
              "      <th>birth_city</th>\n",
              "      <th>birth_country</th>\n",
              "      <th>birth_country_current</th>\n",
              "      <th>sex</th>\n",
              "      <th>organization_name</th>\n",
              "      <th>organization_city</th>\n",
              "      <th>organization_country</th>\n",
              "      <th>ISO</th>\n",
              "    </tr>\n",
              "  </thead>\n",
              "  <tbody>\n",
              "    <tr>\n",
              "      <th>0</th>\n",
              "      <td>1901</td>\n",
              "      <td>Chemistry</td>\n",
              "      <td>The Nobel Prize in Chemistry 1901</td>\n",
              "      <td>\"in recognition of the extraordinary services ...</td>\n",
              "      <td>1/1</td>\n",
              "      <td>Individual</td>\n",
              "      <td>Jacobus Henricus van 't Hoff</td>\n",
              "      <td>1852-08-30</td>\n",
              "      <td>Rotterdam</td>\n",
              "      <td>Netherlands</td>\n",
              "      <td>Netherlands</td>\n",
              "      <td>Male</td>\n",
              "      <td>Berlin University</td>\n",
              "      <td>Berlin</td>\n",
              "      <td>Germany</td>\n",
              "      <td>NLD</td>\n",
              "    </tr>\n",
              "    <tr>\n",
              "      <th>1</th>\n",
              "      <td>1901</td>\n",
              "      <td>Literature</td>\n",
              "      <td>The Nobel Prize in Literature 1901</td>\n",
              "      <td>\"in special recognition of his poetic composit...</td>\n",
              "      <td>1/1</td>\n",
              "      <td>Individual</td>\n",
              "      <td>Sully Prudhomme</td>\n",
              "      <td>1839-03-16</td>\n",
              "      <td>Paris</td>\n",
              "      <td>France</td>\n",
              "      <td>France</td>\n",
              "      <td>Male</td>\n",
              "      <td>NaN</td>\n",
              "      <td>NaN</td>\n",
              "      <td>NaN</td>\n",
              "      <td>FRA</td>\n",
              "    </tr>\n",
              "    <tr>\n",
              "      <th>2</th>\n",
              "      <td>1901</td>\n",
              "      <td>Medicine</td>\n",
              "      <td>The Nobel Prize in Physiology or Medicine 1901</td>\n",
              "      <td>\"for his work on serum therapy, especially its...</td>\n",
              "      <td>1/1</td>\n",
              "      <td>Individual</td>\n",
              "      <td>Emil Adolf von Behring</td>\n",
              "      <td>1854-03-15</td>\n",
              "      <td>Hansdorf (Lawice)</td>\n",
              "      <td>Prussia (Poland)</td>\n",
              "      <td>Poland</td>\n",
              "      <td>Male</td>\n",
              "      <td>Marburg University</td>\n",
              "      <td>Marburg</td>\n",
              "      <td>Germany</td>\n",
              "      <td>POL</td>\n",
              "    </tr>\n",
              "    <tr>\n",
              "      <th>3</th>\n",
              "      <td>1901</td>\n",
              "      <td>Peace</td>\n",
              "      <td>The Nobel Peace Prize 1901</td>\n",
              "      <td>NaN</td>\n",
              "      <td>1/2</td>\n",
              "      <td>Individual</td>\n",
              "      <td>Frédéric Passy</td>\n",
              "      <td>1822-05-20</td>\n",
              "      <td>Paris</td>\n",
              "      <td>France</td>\n",
              "      <td>France</td>\n",
              "      <td>Male</td>\n",
              "      <td>NaN</td>\n",
              "      <td>NaN</td>\n",
              "      <td>NaN</td>\n",
              "      <td>FRA</td>\n",
              "    </tr>\n",
              "    <tr>\n",
              "      <th>4</th>\n",
              "      <td>1901</td>\n",
              "      <td>Peace</td>\n",
              "      <td>The Nobel Peace Prize 1901</td>\n",
              "      <td>NaN</td>\n",
              "      <td>1/2</td>\n",
              "      <td>Individual</td>\n",
              "      <td>Jean Henry Dunant</td>\n",
              "      <td>1828-05-08</td>\n",
              "      <td>Geneva</td>\n",
              "      <td>Switzerland</td>\n",
              "      <td>Switzerland</td>\n",
              "      <td>Male</td>\n",
              "      <td>NaN</td>\n",
              "      <td>NaN</td>\n",
              "      <td>NaN</td>\n",
              "      <td>CHE</td>\n",
              "    </tr>\n",
              "  </tbody>\n",
              "</table>\n",
              "</div>"
            ]
          },
          "metadata": {},
          "execution_count": 171
        }
      ],
      "metadata": {}
    },
    {
      "cell_type": "code",
      "execution_count": 172,
      "source": [
        "df_data.tail()"
      ],
      "outputs": [
        {
          "output_type": "execute_result",
          "data": {
            "text/plain": [
              "     year  category                                           prize  \\\n",
              "957  2020  Medicine  The Nobel Prize in Physiology or Medicine 2020   \n",
              "958  2020     Peace                      The Nobel Peace Prize 2020   \n",
              "959  2020   Physics                 The Nobel Prize in Physics 2020   \n",
              "960  2020   Physics                 The Nobel Prize in Physics 2020   \n",
              "961  2020   Physics                 The Nobel Prize in Physics 2020   \n",
              "\n",
              "                                            motivation prize_share  \\\n",
              "957           “for the discovery of Hepatitis C virus”         1/3   \n",
              "958  “for its efforts to combat hunger, for its con...         1/1   \n",
              "959  “for the discovery of a supermassive compact o...         1/4   \n",
              "960  “for the discovery of a supermassive compact o...         1/4   \n",
              "961  “for the discovery that black hole formation i...         1/2   \n",
              "\n",
              "    laureate_type                   full_name  birth_date  \\\n",
              "957    Individual            Michael Houghton  1949-07-02   \n",
              "958  Organization  World Food Programme (WFP)         NaN   \n",
              "959    Individual                 Andrea Ghez  1965-06-16   \n",
              "960    Individual             Reinhard Genzel  1952-03-24   \n",
              "961    Individual               Roger Penrose  1931-08-08   \n",
              "\n",
              "                   birth_city             birth_country  \\\n",
              "957                       NaN            United Kingdom   \n",
              "958                       NaN                       NaN   \n",
              "959              New York, NY  United States of America   \n",
              "960  Bad Homburg vor der Höhe                   Germany   \n",
              "961                Colchester            United Kingdom   \n",
              "\n",
              "        birth_country_current     sex         organization_name  \\\n",
              "957            United Kingdom    Male     University of Alberta   \n",
              "958                       NaN     NaN                       NaN   \n",
              "959  United States of America  Female  University of California   \n",
              "960                   Germany    Male  University of California   \n",
              "961            United Kingdom    Male      University of Oxford   \n",
              "\n",
              "    organization_city      organization_country  ISO  \n",
              "957          Edmonton                    Canada  GBR  \n",
              "958               NaN                       NaN  NaN  \n",
              "959      Berkeley, CA  United States of America  USA  \n",
              "960   Los Angeles, CA  United States of America  DEU  \n",
              "961            Oxford            United Kingdom  GBR  "
            ],
            "text/html": [
              "<div>\n",
              "<style scoped>\n",
              "    .dataframe tbody tr th:only-of-type {\n",
              "        vertical-align: middle;\n",
              "    }\n",
              "\n",
              "    .dataframe tbody tr th {\n",
              "        vertical-align: top;\n",
              "    }\n",
              "\n",
              "    .dataframe thead th {\n",
              "        text-align: right;\n",
              "    }\n",
              "</style>\n",
              "<table border=\"1\" class=\"dataframe\">\n",
              "  <thead>\n",
              "    <tr style=\"text-align: right;\">\n",
              "      <th></th>\n",
              "      <th>year</th>\n",
              "      <th>category</th>\n",
              "      <th>prize</th>\n",
              "      <th>motivation</th>\n",
              "      <th>prize_share</th>\n",
              "      <th>laureate_type</th>\n",
              "      <th>full_name</th>\n",
              "      <th>birth_date</th>\n",
              "      <th>birth_city</th>\n",
              "      <th>birth_country</th>\n",
              "      <th>birth_country_current</th>\n",
              "      <th>sex</th>\n",
              "      <th>organization_name</th>\n",
              "      <th>organization_city</th>\n",
              "      <th>organization_country</th>\n",
              "      <th>ISO</th>\n",
              "    </tr>\n",
              "  </thead>\n",
              "  <tbody>\n",
              "    <tr>\n",
              "      <th>957</th>\n",
              "      <td>2020</td>\n",
              "      <td>Medicine</td>\n",
              "      <td>The Nobel Prize in Physiology or Medicine 2020</td>\n",
              "      <td>“for the discovery of Hepatitis C virus”</td>\n",
              "      <td>1/3</td>\n",
              "      <td>Individual</td>\n",
              "      <td>Michael Houghton</td>\n",
              "      <td>1949-07-02</td>\n",
              "      <td>NaN</td>\n",
              "      <td>United Kingdom</td>\n",
              "      <td>United Kingdom</td>\n",
              "      <td>Male</td>\n",
              "      <td>University of Alberta</td>\n",
              "      <td>Edmonton</td>\n",
              "      <td>Canada</td>\n",
              "      <td>GBR</td>\n",
              "    </tr>\n",
              "    <tr>\n",
              "      <th>958</th>\n",
              "      <td>2020</td>\n",
              "      <td>Peace</td>\n",
              "      <td>The Nobel Peace Prize 2020</td>\n",
              "      <td>“for its efforts to combat hunger, for its con...</td>\n",
              "      <td>1/1</td>\n",
              "      <td>Organization</td>\n",
              "      <td>World Food Programme (WFP)</td>\n",
              "      <td>NaN</td>\n",
              "      <td>NaN</td>\n",
              "      <td>NaN</td>\n",
              "      <td>NaN</td>\n",
              "      <td>NaN</td>\n",
              "      <td>NaN</td>\n",
              "      <td>NaN</td>\n",
              "      <td>NaN</td>\n",
              "      <td>NaN</td>\n",
              "    </tr>\n",
              "    <tr>\n",
              "      <th>959</th>\n",
              "      <td>2020</td>\n",
              "      <td>Physics</td>\n",
              "      <td>The Nobel Prize in Physics 2020</td>\n",
              "      <td>“for the discovery of a supermassive compact o...</td>\n",
              "      <td>1/4</td>\n",
              "      <td>Individual</td>\n",
              "      <td>Andrea Ghez</td>\n",
              "      <td>1965-06-16</td>\n",
              "      <td>New York, NY</td>\n",
              "      <td>United States of America</td>\n",
              "      <td>United States of America</td>\n",
              "      <td>Female</td>\n",
              "      <td>University of California</td>\n",
              "      <td>Berkeley, CA</td>\n",
              "      <td>United States of America</td>\n",
              "      <td>USA</td>\n",
              "    </tr>\n",
              "    <tr>\n",
              "      <th>960</th>\n",
              "      <td>2020</td>\n",
              "      <td>Physics</td>\n",
              "      <td>The Nobel Prize in Physics 2020</td>\n",
              "      <td>“for the discovery of a supermassive compact o...</td>\n",
              "      <td>1/4</td>\n",
              "      <td>Individual</td>\n",
              "      <td>Reinhard Genzel</td>\n",
              "      <td>1952-03-24</td>\n",
              "      <td>Bad Homburg vor der Höhe</td>\n",
              "      <td>Germany</td>\n",
              "      <td>Germany</td>\n",
              "      <td>Male</td>\n",
              "      <td>University of California</td>\n",
              "      <td>Los Angeles, CA</td>\n",
              "      <td>United States of America</td>\n",
              "      <td>DEU</td>\n",
              "    </tr>\n",
              "    <tr>\n",
              "      <th>961</th>\n",
              "      <td>2020</td>\n",
              "      <td>Physics</td>\n",
              "      <td>The Nobel Prize in Physics 2020</td>\n",
              "      <td>“for the discovery that black hole formation i...</td>\n",
              "      <td>1/2</td>\n",
              "      <td>Individual</td>\n",
              "      <td>Roger Penrose</td>\n",
              "      <td>1931-08-08</td>\n",
              "      <td>Colchester</td>\n",
              "      <td>United Kingdom</td>\n",
              "      <td>United Kingdom</td>\n",
              "      <td>Male</td>\n",
              "      <td>University of Oxford</td>\n",
              "      <td>Oxford</td>\n",
              "      <td>United Kingdom</td>\n",
              "      <td>GBR</td>\n",
              "    </tr>\n",
              "  </tbody>\n",
              "</table>\n",
              "</div>"
            ]
          },
          "metadata": {},
          "execution_count": 172
        }
      ],
      "metadata": {
        "id": "Iy6cDcXAFOsV"
      }
    },
    {
      "cell_type": "markdown",
      "source": [
        "**Challange**: \n",
        "* Are there any duplicate values in the dataset?\n",
        "* Are there NaN values in the dataset?\n",
        "* Which columns tend to have NaN values?\n",
        "* How many NaN values are there per column? \n",
        "* Why do these columns have NaN values?  "
      ],
      "metadata": {
        "id": "SjA1sZPPMH_Y"
      }
    },
    {
      "cell_type": "markdown",
      "source": [
        "### Check for Duplicates"
      ],
      "metadata": {
        "id": "q1EuEZV7o7Lb"
      }
    },
    {
      "cell_type": "code",
      "execution_count": 173,
      "source": [
        "print(f'Any duplicates? {df_data.duplicated().values.any()}')"
      ],
      "outputs": [
        {
          "output_type": "stream",
          "name": "stdout",
          "text": [
            "Any duplicates? False\n"
          ]
        }
      ],
      "metadata": {
        "id": "v976ftCaFRFN"
      }
    },
    {
      "cell_type": "markdown",
      "source": [
        "### Check for NaN Values"
      ],
      "metadata": {
        "id": "w69xDtpzo7Ld"
      }
    },
    {
      "cell_type": "code",
      "execution_count": 174,
      "source": [
        "print(f'Any NaN values among the data? {df_data.isna().values.any()}')"
      ],
      "outputs": [
        {
          "output_type": "stream",
          "name": "stdout",
          "text": [
            "Any NaN values among the data? True\n"
          ]
        }
      ],
      "metadata": {
        "id": "HgbI5sQNFStg"
      }
    },
    {
      "cell_type": "code",
      "execution_count": 175,
      "source": [
        "df_data.isna().sum()"
      ],
      "outputs": [
        {
          "output_type": "execute_result",
          "data": {
            "text/plain": [
              "year                       0\n",
              "category                   0\n",
              "prize                      0\n",
              "motivation                88\n",
              "prize_share                0\n",
              "laureate_type              0\n",
              "full_name                  0\n",
              "birth_date                28\n",
              "birth_city                31\n",
              "birth_country             28\n",
              "birth_country_current     28\n",
              "sex                       28\n",
              "organization_name        255\n",
              "organization_city        255\n",
              "organization_country     254\n",
              "ISO                       28\n",
              "dtype: int64"
            ]
          },
          "metadata": {},
          "execution_count": 175
        }
      ],
      "metadata": {
        "id": "O2zgruevFSyV"
      }
    },
    {
      "cell_type": "code",
      "execution_count": 176,
      "source": [
        "col_subset = ['year', 'category', 'laureate_type', 'birth_date', 'full_name', 'organization_name']\r\n",
        "df_data.loc[df_data.birth_date.isna()][col_subset]\r\n"
      ],
      "outputs": [
        {
          "output_type": "execute_result",
          "data": {
            "text/plain": [
              "     year category laureate_type birth_date  \\\n",
              "24   1904    Peace  Organization        NaN   \n",
              "60   1910    Peace  Organization        NaN   \n",
              "89   1917    Peace  Organization        NaN   \n",
              "200  1938    Peace  Organization        NaN   \n",
              "215  1944    Peace  Organization        NaN   \n",
              "237  1947    Peace  Organization        NaN   \n",
              "238  1947    Peace  Organization        NaN   \n",
              "283  1954    Peace  Organization        NaN   \n",
              "348  1963    Peace  Organization        NaN   \n",
              "349  1963    Peace  Organization        NaN   \n",
              "366  1965    Peace  Organization        NaN   \n",
              "399  1969    Peace  Organization        NaN   \n",
              "479  1977    Peace  Organization        NaN   \n",
              "523  1981    Peace  Organization        NaN   \n",
              "558  1985    Peace  Organization        NaN   \n",
              "588  1988    Peace  Organization        NaN   \n",
              "659  1995    Peace  Organization        NaN   \n",
              "682  1997    Peace  Organization        NaN   \n",
              "703  1999    Peace  Organization        NaN   \n",
              "730  2001    Peace  Organization        NaN   \n",
              "778  2005    Peace  Organization        NaN   \n",
              "788  2006    Peace  Organization        NaN   \n",
              "801  2007    Peace  Organization        NaN   \n",
              "860  2012    Peace  Organization        NaN   \n",
              "873  2013    Peace  Organization        NaN   \n",
              "897  2015    Peace  Organization        NaN   \n",
              "919  2017    Peace  Organization        NaN   \n",
              "958  2020    Peace  Organization        NaN   \n",
              "\n",
              "                                             full_name organization_name  \n",
              "24   Institut de droit international (Institute of ...               NaN  \n",
              "60   Bureau international permanent de la Paix (Per...               NaN  \n",
              "89   Comité international de la Croix Rouge (Intern...               NaN  \n",
              "200  Office international Nansen pour les Réfugiés ...               NaN  \n",
              "215  Comité international de la Croix Rouge (Intern...               NaN  \n",
              "237   American Friends Service Committee (The Quakers)               NaN  \n",
              "238              Friends Service Council (The Quakers)               NaN  \n",
              "283  Office of the United Nations High Commissioner...               NaN  \n",
              "348  Comité international de la Croix Rouge (Intern...               NaN  \n",
              "349  Ligue des Sociétés de la Croix-Rouge (League o...               NaN  \n",
              "366            United Nations Children's Fund (UNICEF)               NaN  \n",
              "399         International Labour Organization (I.L.O.)               NaN  \n",
              "479                              Amnesty International               NaN  \n",
              "523  Office of the United Nations High Commissioner...               NaN  \n",
              "558  International Physicians for the Prevention of...               NaN  \n",
              "588                 United Nations Peacekeeping Forces               NaN  \n",
              "659   Pugwash Conferences on Science and World Affairs               NaN  \n",
              "682     International Campaign to Ban Landmines (ICBL)               NaN  \n",
              "703                           Médecins Sans Frontières               NaN  \n",
              "730                              United Nations (U.N.)               NaN  \n",
              "778          International Atomic Energy Agency (IAEA)               NaN  \n",
              "788                                       Grameen Bank               NaN  \n",
              "801   Intergovernmental Panel on Climate Change (IPCC)               NaN  \n",
              "860                                European Union (EU)               NaN  \n",
              "873  Organisation for the Prohibition of Chemical W...               NaN  \n",
              "897                          National Dialogue Quartet               NaN  \n",
              "919  International Campaign to Abolish Nuclear Weap...               NaN  \n",
              "958                         World Food Programme (WFP)               NaN  "
            ],
            "text/html": [
              "<div>\n",
              "<style scoped>\n",
              "    .dataframe tbody tr th:only-of-type {\n",
              "        vertical-align: middle;\n",
              "    }\n",
              "\n",
              "    .dataframe tbody tr th {\n",
              "        vertical-align: top;\n",
              "    }\n",
              "\n",
              "    .dataframe thead th {\n",
              "        text-align: right;\n",
              "    }\n",
              "</style>\n",
              "<table border=\"1\" class=\"dataframe\">\n",
              "  <thead>\n",
              "    <tr style=\"text-align: right;\">\n",
              "      <th></th>\n",
              "      <th>year</th>\n",
              "      <th>category</th>\n",
              "      <th>laureate_type</th>\n",
              "      <th>birth_date</th>\n",
              "      <th>full_name</th>\n",
              "      <th>organization_name</th>\n",
              "    </tr>\n",
              "  </thead>\n",
              "  <tbody>\n",
              "    <tr>\n",
              "      <th>24</th>\n",
              "      <td>1904</td>\n",
              "      <td>Peace</td>\n",
              "      <td>Organization</td>\n",
              "      <td>NaN</td>\n",
              "      <td>Institut de droit international (Institute of ...</td>\n",
              "      <td>NaN</td>\n",
              "    </tr>\n",
              "    <tr>\n",
              "      <th>60</th>\n",
              "      <td>1910</td>\n",
              "      <td>Peace</td>\n",
              "      <td>Organization</td>\n",
              "      <td>NaN</td>\n",
              "      <td>Bureau international permanent de la Paix (Per...</td>\n",
              "      <td>NaN</td>\n",
              "    </tr>\n",
              "    <tr>\n",
              "      <th>89</th>\n",
              "      <td>1917</td>\n",
              "      <td>Peace</td>\n",
              "      <td>Organization</td>\n",
              "      <td>NaN</td>\n",
              "      <td>Comité international de la Croix Rouge (Intern...</td>\n",
              "      <td>NaN</td>\n",
              "    </tr>\n",
              "    <tr>\n",
              "      <th>200</th>\n",
              "      <td>1938</td>\n",
              "      <td>Peace</td>\n",
              "      <td>Organization</td>\n",
              "      <td>NaN</td>\n",
              "      <td>Office international Nansen pour les Réfugiés ...</td>\n",
              "      <td>NaN</td>\n",
              "    </tr>\n",
              "    <tr>\n",
              "      <th>215</th>\n",
              "      <td>1944</td>\n",
              "      <td>Peace</td>\n",
              "      <td>Organization</td>\n",
              "      <td>NaN</td>\n",
              "      <td>Comité international de la Croix Rouge (Intern...</td>\n",
              "      <td>NaN</td>\n",
              "    </tr>\n",
              "    <tr>\n",
              "      <th>237</th>\n",
              "      <td>1947</td>\n",
              "      <td>Peace</td>\n",
              "      <td>Organization</td>\n",
              "      <td>NaN</td>\n",
              "      <td>American Friends Service Committee (The Quakers)</td>\n",
              "      <td>NaN</td>\n",
              "    </tr>\n",
              "    <tr>\n",
              "      <th>238</th>\n",
              "      <td>1947</td>\n",
              "      <td>Peace</td>\n",
              "      <td>Organization</td>\n",
              "      <td>NaN</td>\n",
              "      <td>Friends Service Council (The Quakers)</td>\n",
              "      <td>NaN</td>\n",
              "    </tr>\n",
              "    <tr>\n",
              "      <th>283</th>\n",
              "      <td>1954</td>\n",
              "      <td>Peace</td>\n",
              "      <td>Organization</td>\n",
              "      <td>NaN</td>\n",
              "      <td>Office of the United Nations High Commissioner...</td>\n",
              "      <td>NaN</td>\n",
              "    </tr>\n",
              "    <tr>\n",
              "      <th>348</th>\n",
              "      <td>1963</td>\n",
              "      <td>Peace</td>\n",
              "      <td>Organization</td>\n",
              "      <td>NaN</td>\n",
              "      <td>Comité international de la Croix Rouge (Intern...</td>\n",
              "      <td>NaN</td>\n",
              "    </tr>\n",
              "    <tr>\n",
              "      <th>349</th>\n",
              "      <td>1963</td>\n",
              "      <td>Peace</td>\n",
              "      <td>Organization</td>\n",
              "      <td>NaN</td>\n",
              "      <td>Ligue des Sociétés de la Croix-Rouge (League o...</td>\n",
              "      <td>NaN</td>\n",
              "    </tr>\n",
              "    <tr>\n",
              "      <th>366</th>\n",
              "      <td>1965</td>\n",
              "      <td>Peace</td>\n",
              "      <td>Organization</td>\n",
              "      <td>NaN</td>\n",
              "      <td>United Nations Children's Fund (UNICEF)</td>\n",
              "      <td>NaN</td>\n",
              "    </tr>\n",
              "    <tr>\n",
              "      <th>399</th>\n",
              "      <td>1969</td>\n",
              "      <td>Peace</td>\n",
              "      <td>Organization</td>\n",
              "      <td>NaN</td>\n",
              "      <td>International Labour Organization (I.L.O.)</td>\n",
              "      <td>NaN</td>\n",
              "    </tr>\n",
              "    <tr>\n",
              "      <th>479</th>\n",
              "      <td>1977</td>\n",
              "      <td>Peace</td>\n",
              "      <td>Organization</td>\n",
              "      <td>NaN</td>\n",
              "      <td>Amnesty International</td>\n",
              "      <td>NaN</td>\n",
              "    </tr>\n",
              "    <tr>\n",
              "      <th>523</th>\n",
              "      <td>1981</td>\n",
              "      <td>Peace</td>\n",
              "      <td>Organization</td>\n",
              "      <td>NaN</td>\n",
              "      <td>Office of the United Nations High Commissioner...</td>\n",
              "      <td>NaN</td>\n",
              "    </tr>\n",
              "    <tr>\n",
              "      <th>558</th>\n",
              "      <td>1985</td>\n",
              "      <td>Peace</td>\n",
              "      <td>Organization</td>\n",
              "      <td>NaN</td>\n",
              "      <td>International Physicians for the Prevention of...</td>\n",
              "      <td>NaN</td>\n",
              "    </tr>\n",
              "    <tr>\n",
              "      <th>588</th>\n",
              "      <td>1988</td>\n",
              "      <td>Peace</td>\n",
              "      <td>Organization</td>\n",
              "      <td>NaN</td>\n",
              "      <td>United Nations Peacekeeping Forces</td>\n",
              "      <td>NaN</td>\n",
              "    </tr>\n",
              "    <tr>\n",
              "      <th>659</th>\n",
              "      <td>1995</td>\n",
              "      <td>Peace</td>\n",
              "      <td>Organization</td>\n",
              "      <td>NaN</td>\n",
              "      <td>Pugwash Conferences on Science and World Affairs</td>\n",
              "      <td>NaN</td>\n",
              "    </tr>\n",
              "    <tr>\n",
              "      <th>682</th>\n",
              "      <td>1997</td>\n",
              "      <td>Peace</td>\n",
              "      <td>Organization</td>\n",
              "      <td>NaN</td>\n",
              "      <td>International Campaign to Ban Landmines (ICBL)</td>\n",
              "      <td>NaN</td>\n",
              "    </tr>\n",
              "    <tr>\n",
              "      <th>703</th>\n",
              "      <td>1999</td>\n",
              "      <td>Peace</td>\n",
              "      <td>Organization</td>\n",
              "      <td>NaN</td>\n",
              "      <td>Médecins Sans Frontières</td>\n",
              "      <td>NaN</td>\n",
              "    </tr>\n",
              "    <tr>\n",
              "      <th>730</th>\n",
              "      <td>2001</td>\n",
              "      <td>Peace</td>\n",
              "      <td>Organization</td>\n",
              "      <td>NaN</td>\n",
              "      <td>United Nations (U.N.)</td>\n",
              "      <td>NaN</td>\n",
              "    </tr>\n",
              "    <tr>\n",
              "      <th>778</th>\n",
              "      <td>2005</td>\n",
              "      <td>Peace</td>\n",
              "      <td>Organization</td>\n",
              "      <td>NaN</td>\n",
              "      <td>International Atomic Energy Agency (IAEA)</td>\n",
              "      <td>NaN</td>\n",
              "    </tr>\n",
              "    <tr>\n",
              "      <th>788</th>\n",
              "      <td>2006</td>\n",
              "      <td>Peace</td>\n",
              "      <td>Organization</td>\n",
              "      <td>NaN</td>\n",
              "      <td>Grameen Bank</td>\n",
              "      <td>NaN</td>\n",
              "    </tr>\n",
              "    <tr>\n",
              "      <th>801</th>\n",
              "      <td>2007</td>\n",
              "      <td>Peace</td>\n",
              "      <td>Organization</td>\n",
              "      <td>NaN</td>\n",
              "      <td>Intergovernmental Panel on Climate Change (IPCC)</td>\n",
              "      <td>NaN</td>\n",
              "    </tr>\n",
              "    <tr>\n",
              "      <th>860</th>\n",
              "      <td>2012</td>\n",
              "      <td>Peace</td>\n",
              "      <td>Organization</td>\n",
              "      <td>NaN</td>\n",
              "      <td>European Union (EU)</td>\n",
              "      <td>NaN</td>\n",
              "    </tr>\n",
              "    <tr>\n",
              "      <th>873</th>\n",
              "      <td>2013</td>\n",
              "      <td>Peace</td>\n",
              "      <td>Organization</td>\n",
              "      <td>NaN</td>\n",
              "      <td>Organisation for the Prohibition of Chemical W...</td>\n",
              "      <td>NaN</td>\n",
              "    </tr>\n",
              "    <tr>\n",
              "      <th>897</th>\n",
              "      <td>2015</td>\n",
              "      <td>Peace</td>\n",
              "      <td>Organization</td>\n",
              "      <td>NaN</td>\n",
              "      <td>National Dialogue Quartet</td>\n",
              "      <td>NaN</td>\n",
              "    </tr>\n",
              "    <tr>\n",
              "      <th>919</th>\n",
              "      <td>2017</td>\n",
              "      <td>Peace</td>\n",
              "      <td>Organization</td>\n",
              "      <td>NaN</td>\n",
              "      <td>International Campaign to Abolish Nuclear Weap...</td>\n",
              "      <td>NaN</td>\n",
              "    </tr>\n",
              "    <tr>\n",
              "      <th>958</th>\n",
              "      <td>2020</td>\n",
              "      <td>Peace</td>\n",
              "      <td>Organization</td>\n",
              "      <td>NaN</td>\n",
              "      <td>World Food Programme (WFP)</td>\n",
              "      <td>NaN</td>\n",
              "    </tr>\n",
              "  </tbody>\n",
              "</table>\n",
              "</div>"
            ]
          },
          "metadata": {},
          "execution_count": 176
        }
      ],
      "metadata": {
        "id": "aTU9T9xnFTQY"
      }
    },
    {
      "cell_type": "markdown",
      "source": [
        "### Type Conversions\n",
        "\n",
        "**Challenge**: \n",
        "* Convert the `birth_date` column to Pandas `Datetime` objects\n",
        "* Add a Column called `share_pct` which has the laureates' share as a percentage in the form of a floating-point number."
      ],
      "metadata": {
        "id": "ZyG18tKXo7Lj"
      }
    },
    {
      "cell_type": "markdown",
      "source": [
        "#### Convert Birth Date to Datetime"
      ],
      "metadata": {
        "id": "tTTFo-CXo7Lk"
      }
    },
    {
      "cell_type": "code",
      "execution_count": 177,
      "source": [
        "df_data.birth_date = pd.to_datetime(df_data.birth_date)"
      ],
      "outputs": [],
      "metadata": {
        "id": "Jas4fWv4Fa4_"
      }
    },
    {
      "cell_type": "markdown",
      "source": [
        "#### Add a Column with the Prize Share as a Percentage"
      ],
      "metadata": {
        "id": "i456Gr0io7Lm"
      }
    },
    {
      "cell_type": "code",
      "execution_count": 178,
      "source": [
        "separated_values = df_data.prize_share.str.split('/', expand=True)\r\n",
        "\r\n",
        "numerator = pd.to_numeric(separated_values[0])\r\n",
        "denomenator = pd.to_numeric(separated_values[1])\r\n",
        "\r\n",
        "df_data['share_pct'] = numerator / denomenator"
      ],
      "outputs": [],
      "metadata": {
        "id": "4BNug19-FdHP"
      }
    },
    {
      "cell_type": "markdown",
      "source": [
        "# Plotly Donut Chart: Percentage of Male vs. Female Laureates"
      ],
      "metadata": {
        "id": "-x571TLao7Lq"
      }
    },
    {
      "cell_type": "markdown",
      "source": [
        "**Challenge**: Create a [donut chart using plotly](https://plotly.com/python/pie-charts/) which shows how many prizes went to men compared to how many prizes went to women. What percentage of all the prizes went to women?"
      ],
      "metadata": {
        "id": "Q5jBv1lUo7Lq"
      }
    },
    {
      "cell_type": "code",
      "execution_count": 179,
      "source": [
        "biology = df_data.sex.value_counts()\r\n",
        "fig = px.pie(labels=biology.index, \r\n",
        "             values=biology.values,\r\n",
        "             title=\"Percentage of Male vs. Female Winners\",\r\n",
        "             names=biology.index,\r\n",
        "             hole=0.4,)\r\n",
        " \r\n",
        "fig.update_traces(textposition='inside', textfont_size=15, textinfo='percent')\r\n",
        " \r\n",
        "fig.show()"
      ],
      "outputs": [
        {
          "output_type": "display_data",
          "data": {
            "application/vnd.plotly.v1+json": {
              "config": {
                "plotlyServerURL": "https://plot.ly"
              },
              "data": [
                {
                  "domain": {
                    "x": [
                      0,
                      1
                    ],
                    "y": [
                      0,
                      1
                    ]
                  },
                  "hole": 0.4,
                  "hovertemplate": "label=%{label}<br>value=%{value}<extra></extra>",
                  "labels": [
                    "Male",
                    "Female"
                  ],
                  "legendgroup": "",
                  "name": "",
                  "showlegend": true,
                  "textfont": {
                    "size": 15
                  },
                  "textinfo": "percent",
                  "textposition": "inside",
                  "type": "pie",
                  "values": [
                    876,
                    58
                  ]
                }
              ],
              "layout": {
                "legend": {
                  "tracegroupgap": 0
                },
                "template": {
                  "data": {
                    "bar": [
                      {
                        "error_x": {
                          "color": "#2a3f5f"
                        },
                        "error_y": {
                          "color": "#2a3f5f"
                        },
                        "marker": {
                          "line": {
                            "color": "#E5ECF6",
                            "width": 0.5
                          },
                          "pattern": {
                            "fillmode": "overlay",
                            "size": 10,
                            "solidity": 0.2
                          }
                        },
                        "type": "bar"
                      }
                    ],
                    "barpolar": [
                      {
                        "marker": {
                          "line": {
                            "color": "#E5ECF6",
                            "width": 0.5
                          },
                          "pattern": {
                            "fillmode": "overlay",
                            "size": 10,
                            "solidity": 0.2
                          }
                        },
                        "type": "barpolar"
                      }
                    ],
                    "carpet": [
                      {
                        "aaxis": {
                          "endlinecolor": "#2a3f5f",
                          "gridcolor": "white",
                          "linecolor": "white",
                          "minorgridcolor": "white",
                          "startlinecolor": "#2a3f5f"
                        },
                        "baxis": {
                          "endlinecolor": "#2a3f5f",
                          "gridcolor": "white",
                          "linecolor": "white",
                          "minorgridcolor": "white",
                          "startlinecolor": "#2a3f5f"
                        },
                        "type": "carpet"
                      }
                    ],
                    "choropleth": [
                      {
                        "colorbar": {
                          "outlinewidth": 0,
                          "ticks": ""
                        },
                        "type": "choropleth"
                      }
                    ],
                    "contour": [
                      {
                        "colorbar": {
                          "outlinewidth": 0,
                          "ticks": ""
                        },
                        "colorscale": [
                          [
                            0,
                            "#0d0887"
                          ],
                          [
                            0.1111111111111111,
                            "#46039f"
                          ],
                          [
                            0.2222222222222222,
                            "#7201a8"
                          ],
                          [
                            0.3333333333333333,
                            "#9c179e"
                          ],
                          [
                            0.4444444444444444,
                            "#bd3786"
                          ],
                          [
                            0.5555555555555556,
                            "#d8576b"
                          ],
                          [
                            0.6666666666666666,
                            "#ed7953"
                          ],
                          [
                            0.7777777777777778,
                            "#fb9f3a"
                          ],
                          [
                            0.8888888888888888,
                            "#fdca26"
                          ],
                          [
                            1,
                            "#f0f921"
                          ]
                        ],
                        "type": "contour"
                      }
                    ],
                    "contourcarpet": [
                      {
                        "colorbar": {
                          "outlinewidth": 0,
                          "ticks": ""
                        },
                        "type": "contourcarpet"
                      }
                    ],
                    "heatmap": [
                      {
                        "colorbar": {
                          "outlinewidth": 0,
                          "ticks": ""
                        },
                        "colorscale": [
                          [
                            0,
                            "#0d0887"
                          ],
                          [
                            0.1111111111111111,
                            "#46039f"
                          ],
                          [
                            0.2222222222222222,
                            "#7201a8"
                          ],
                          [
                            0.3333333333333333,
                            "#9c179e"
                          ],
                          [
                            0.4444444444444444,
                            "#bd3786"
                          ],
                          [
                            0.5555555555555556,
                            "#d8576b"
                          ],
                          [
                            0.6666666666666666,
                            "#ed7953"
                          ],
                          [
                            0.7777777777777778,
                            "#fb9f3a"
                          ],
                          [
                            0.8888888888888888,
                            "#fdca26"
                          ],
                          [
                            1,
                            "#f0f921"
                          ]
                        ],
                        "type": "heatmap"
                      }
                    ],
                    "heatmapgl": [
                      {
                        "colorbar": {
                          "outlinewidth": 0,
                          "ticks": ""
                        },
                        "colorscale": [
                          [
                            0,
                            "#0d0887"
                          ],
                          [
                            0.1111111111111111,
                            "#46039f"
                          ],
                          [
                            0.2222222222222222,
                            "#7201a8"
                          ],
                          [
                            0.3333333333333333,
                            "#9c179e"
                          ],
                          [
                            0.4444444444444444,
                            "#bd3786"
                          ],
                          [
                            0.5555555555555556,
                            "#d8576b"
                          ],
                          [
                            0.6666666666666666,
                            "#ed7953"
                          ],
                          [
                            0.7777777777777778,
                            "#fb9f3a"
                          ],
                          [
                            0.8888888888888888,
                            "#fdca26"
                          ],
                          [
                            1,
                            "#f0f921"
                          ]
                        ],
                        "type": "heatmapgl"
                      }
                    ],
                    "histogram": [
                      {
                        "marker": {
                          "pattern": {
                            "fillmode": "overlay",
                            "size": 10,
                            "solidity": 0.2
                          }
                        },
                        "type": "histogram"
                      }
                    ],
                    "histogram2d": [
                      {
                        "colorbar": {
                          "outlinewidth": 0,
                          "ticks": ""
                        },
                        "colorscale": [
                          [
                            0,
                            "#0d0887"
                          ],
                          [
                            0.1111111111111111,
                            "#46039f"
                          ],
                          [
                            0.2222222222222222,
                            "#7201a8"
                          ],
                          [
                            0.3333333333333333,
                            "#9c179e"
                          ],
                          [
                            0.4444444444444444,
                            "#bd3786"
                          ],
                          [
                            0.5555555555555556,
                            "#d8576b"
                          ],
                          [
                            0.6666666666666666,
                            "#ed7953"
                          ],
                          [
                            0.7777777777777778,
                            "#fb9f3a"
                          ],
                          [
                            0.8888888888888888,
                            "#fdca26"
                          ],
                          [
                            1,
                            "#f0f921"
                          ]
                        ],
                        "type": "histogram2d"
                      }
                    ],
                    "histogram2dcontour": [
                      {
                        "colorbar": {
                          "outlinewidth": 0,
                          "ticks": ""
                        },
                        "colorscale": [
                          [
                            0,
                            "#0d0887"
                          ],
                          [
                            0.1111111111111111,
                            "#46039f"
                          ],
                          [
                            0.2222222222222222,
                            "#7201a8"
                          ],
                          [
                            0.3333333333333333,
                            "#9c179e"
                          ],
                          [
                            0.4444444444444444,
                            "#bd3786"
                          ],
                          [
                            0.5555555555555556,
                            "#d8576b"
                          ],
                          [
                            0.6666666666666666,
                            "#ed7953"
                          ],
                          [
                            0.7777777777777778,
                            "#fb9f3a"
                          ],
                          [
                            0.8888888888888888,
                            "#fdca26"
                          ],
                          [
                            1,
                            "#f0f921"
                          ]
                        ],
                        "type": "histogram2dcontour"
                      }
                    ],
                    "mesh3d": [
                      {
                        "colorbar": {
                          "outlinewidth": 0,
                          "ticks": ""
                        },
                        "type": "mesh3d"
                      }
                    ],
                    "parcoords": [
                      {
                        "line": {
                          "colorbar": {
                            "outlinewidth": 0,
                            "ticks": ""
                          }
                        },
                        "type": "parcoords"
                      }
                    ],
                    "pie": [
                      {
                        "automargin": true,
                        "type": "pie"
                      }
                    ],
                    "scatter": [
                      {
                        "marker": {
                          "colorbar": {
                            "outlinewidth": 0,
                            "ticks": ""
                          }
                        },
                        "type": "scatter"
                      }
                    ],
                    "scatter3d": [
                      {
                        "line": {
                          "colorbar": {
                            "outlinewidth": 0,
                            "ticks": ""
                          }
                        },
                        "marker": {
                          "colorbar": {
                            "outlinewidth": 0,
                            "ticks": ""
                          }
                        },
                        "type": "scatter3d"
                      }
                    ],
                    "scattercarpet": [
                      {
                        "marker": {
                          "colorbar": {
                            "outlinewidth": 0,
                            "ticks": ""
                          }
                        },
                        "type": "scattercarpet"
                      }
                    ],
                    "scattergeo": [
                      {
                        "marker": {
                          "colorbar": {
                            "outlinewidth": 0,
                            "ticks": ""
                          }
                        },
                        "type": "scattergeo"
                      }
                    ],
                    "scattergl": [
                      {
                        "marker": {
                          "colorbar": {
                            "outlinewidth": 0,
                            "ticks": ""
                          }
                        },
                        "type": "scattergl"
                      }
                    ],
                    "scattermapbox": [
                      {
                        "marker": {
                          "colorbar": {
                            "outlinewidth": 0,
                            "ticks": ""
                          }
                        },
                        "type": "scattermapbox"
                      }
                    ],
                    "scatterpolar": [
                      {
                        "marker": {
                          "colorbar": {
                            "outlinewidth": 0,
                            "ticks": ""
                          }
                        },
                        "type": "scatterpolar"
                      }
                    ],
                    "scatterpolargl": [
                      {
                        "marker": {
                          "colorbar": {
                            "outlinewidth": 0,
                            "ticks": ""
                          }
                        },
                        "type": "scatterpolargl"
                      }
                    ],
                    "scatterternary": [
                      {
                        "marker": {
                          "colorbar": {
                            "outlinewidth": 0,
                            "ticks": ""
                          }
                        },
                        "type": "scatterternary"
                      }
                    ],
                    "surface": [
                      {
                        "colorbar": {
                          "outlinewidth": 0,
                          "ticks": ""
                        },
                        "colorscale": [
                          [
                            0,
                            "#0d0887"
                          ],
                          [
                            0.1111111111111111,
                            "#46039f"
                          ],
                          [
                            0.2222222222222222,
                            "#7201a8"
                          ],
                          [
                            0.3333333333333333,
                            "#9c179e"
                          ],
                          [
                            0.4444444444444444,
                            "#bd3786"
                          ],
                          [
                            0.5555555555555556,
                            "#d8576b"
                          ],
                          [
                            0.6666666666666666,
                            "#ed7953"
                          ],
                          [
                            0.7777777777777778,
                            "#fb9f3a"
                          ],
                          [
                            0.8888888888888888,
                            "#fdca26"
                          ],
                          [
                            1,
                            "#f0f921"
                          ]
                        ],
                        "type": "surface"
                      }
                    ],
                    "table": [
                      {
                        "cells": {
                          "fill": {
                            "color": "#EBF0F8"
                          },
                          "line": {
                            "color": "white"
                          }
                        },
                        "header": {
                          "fill": {
                            "color": "#C8D4E3"
                          },
                          "line": {
                            "color": "white"
                          }
                        },
                        "type": "table"
                      }
                    ]
                  },
                  "layout": {
                    "annotationdefaults": {
                      "arrowcolor": "#2a3f5f",
                      "arrowhead": 0,
                      "arrowwidth": 1
                    },
                    "autotypenumbers": "strict",
                    "coloraxis": {
                      "colorbar": {
                        "outlinewidth": 0,
                        "ticks": ""
                      }
                    },
                    "colorscale": {
                      "diverging": [
                        [
                          0,
                          "#8e0152"
                        ],
                        [
                          0.1,
                          "#c51b7d"
                        ],
                        [
                          0.2,
                          "#de77ae"
                        ],
                        [
                          0.3,
                          "#f1b6da"
                        ],
                        [
                          0.4,
                          "#fde0ef"
                        ],
                        [
                          0.5,
                          "#f7f7f7"
                        ],
                        [
                          0.6,
                          "#e6f5d0"
                        ],
                        [
                          0.7,
                          "#b8e186"
                        ],
                        [
                          0.8,
                          "#7fbc41"
                        ],
                        [
                          0.9,
                          "#4d9221"
                        ],
                        [
                          1,
                          "#276419"
                        ]
                      ],
                      "sequential": [
                        [
                          0,
                          "#0d0887"
                        ],
                        [
                          0.1111111111111111,
                          "#46039f"
                        ],
                        [
                          0.2222222222222222,
                          "#7201a8"
                        ],
                        [
                          0.3333333333333333,
                          "#9c179e"
                        ],
                        [
                          0.4444444444444444,
                          "#bd3786"
                        ],
                        [
                          0.5555555555555556,
                          "#d8576b"
                        ],
                        [
                          0.6666666666666666,
                          "#ed7953"
                        ],
                        [
                          0.7777777777777778,
                          "#fb9f3a"
                        ],
                        [
                          0.8888888888888888,
                          "#fdca26"
                        ],
                        [
                          1,
                          "#f0f921"
                        ]
                      ],
                      "sequentialminus": [
                        [
                          0,
                          "#0d0887"
                        ],
                        [
                          0.1111111111111111,
                          "#46039f"
                        ],
                        [
                          0.2222222222222222,
                          "#7201a8"
                        ],
                        [
                          0.3333333333333333,
                          "#9c179e"
                        ],
                        [
                          0.4444444444444444,
                          "#bd3786"
                        ],
                        [
                          0.5555555555555556,
                          "#d8576b"
                        ],
                        [
                          0.6666666666666666,
                          "#ed7953"
                        ],
                        [
                          0.7777777777777778,
                          "#fb9f3a"
                        ],
                        [
                          0.8888888888888888,
                          "#fdca26"
                        ],
                        [
                          1,
                          "#f0f921"
                        ]
                      ]
                    },
                    "colorway": [
                      "#636efa",
                      "#EF553B",
                      "#00cc96",
                      "#ab63fa",
                      "#FFA15A",
                      "#19d3f3",
                      "#FF6692",
                      "#B6E880",
                      "#FF97FF",
                      "#FECB52"
                    ],
                    "font": {
                      "color": "#2a3f5f"
                    },
                    "geo": {
                      "bgcolor": "white",
                      "lakecolor": "white",
                      "landcolor": "#E5ECF6",
                      "showlakes": true,
                      "showland": true,
                      "subunitcolor": "white"
                    },
                    "hoverlabel": {
                      "align": "left"
                    },
                    "hovermode": "closest",
                    "mapbox": {
                      "style": "light"
                    },
                    "paper_bgcolor": "white",
                    "plot_bgcolor": "#E5ECF6",
                    "polar": {
                      "angularaxis": {
                        "gridcolor": "white",
                        "linecolor": "white",
                        "ticks": ""
                      },
                      "bgcolor": "#E5ECF6",
                      "radialaxis": {
                        "gridcolor": "white",
                        "linecolor": "white",
                        "ticks": ""
                      }
                    },
                    "scene": {
                      "xaxis": {
                        "backgroundcolor": "#E5ECF6",
                        "gridcolor": "white",
                        "gridwidth": 2,
                        "linecolor": "white",
                        "showbackground": true,
                        "ticks": "",
                        "zerolinecolor": "white"
                      },
                      "yaxis": {
                        "backgroundcolor": "#E5ECF6",
                        "gridcolor": "white",
                        "gridwidth": 2,
                        "linecolor": "white",
                        "showbackground": true,
                        "ticks": "",
                        "zerolinecolor": "white"
                      },
                      "zaxis": {
                        "backgroundcolor": "#E5ECF6",
                        "gridcolor": "white",
                        "gridwidth": 2,
                        "linecolor": "white",
                        "showbackground": true,
                        "ticks": "",
                        "zerolinecolor": "white"
                      }
                    },
                    "shapedefaults": {
                      "line": {
                        "color": "#2a3f5f"
                      }
                    },
                    "ternary": {
                      "aaxis": {
                        "gridcolor": "white",
                        "linecolor": "white",
                        "ticks": ""
                      },
                      "baxis": {
                        "gridcolor": "white",
                        "linecolor": "white",
                        "ticks": ""
                      },
                      "bgcolor": "#E5ECF6",
                      "caxis": {
                        "gridcolor": "white",
                        "linecolor": "white",
                        "ticks": ""
                      }
                    },
                    "title": {
                      "x": 0.05
                    },
                    "xaxis": {
                      "automargin": true,
                      "gridcolor": "white",
                      "linecolor": "white",
                      "ticks": "",
                      "title": {
                        "standoff": 15
                      },
                      "zerolinecolor": "white",
                      "zerolinewidth": 2
                    },
                    "yaxis": {
                      "automargin": true,
                      "gridcolor": "white",
                      "linecolor": "white",
                      "ticks": "",
                      "title": {
                        "standoff": 15
                      },
                      "zerolinecolor": "white",
                      "zerolinewidth": 2
                    }
                  }
                },
                "title": {
                  "text": "Percentage of Male vs. Female Winners"
                }
              }
            }
          },
          "metadata": {}
        }
      ],
      "metadata": {
        "id": "wxTmkQd-Ff3Q"
      }
    },
    {
      "cell_type": "markdown",
      "source": [
        "# Who were the first 3 Women to Win the Nobel Prize?\n",
        "\n",
        "**Challenge**: \n",
        "* What are the names of the first 3 female Nobel laureates? \n",
        "* What did the win the prize for? \n",
        "* What do you see in their `birth_country`? Were they part of an organisation?"
      ],
      "metadata": {
        "dc": {
          "key": "38"
        },
        "run_control": {
          "frozen": true
        },
        "tags": [
          "context"
        ],
        "id": "dmdB0tCko7Lu"
      }
    },
    {
      "cell_type": "code",
      "execution_count": 180,
      "source": [
        "df_data[df_data.sex == 'Female'].sort_values('year', ascending=True)[:3]"
      ],
      "outputs": [
        {
          "output_type": "execute_result",
          "data": {
            "text/plain": [
              "    year    category                               prize  \\\n",
              "18  1903     Physics     The Nobel Prize in Physics 1903   \n",
              "29  1905       Peace          The Nobel Peace Prize 1905   \n",
              "51  1909  Literature  The Nobel Prize in Literature 1909   \n",
              "\n",
              "                                           motivation prize_share  \\\n",
              "18  \"in recognition of the extraordinary services ...         1/4   \n",
              "29                                                NaN         1/1   \n",
              "51  \"in appreciation of the lofty idealism, vivid ...         1/1   \n",
              "\n",
              "   laureate_type                                          full_name  \\\n",
              "18    Individual                        Marie Curie, née Sklodowska   \n",
              "29    Individual  Baroness Bertha Sophie Felicita von Suttner, n...   \n",
              "51    Individual                      Selma Ottilia Lovisa Lagerlöf   \n",
              "\n",
              "   birth_date birth_city                     birth_country  \\\n",
              "18 1867-11-07     Warsaw           Russian Empire (Poland)   \n",
              "29 1843-06-09     Prague  Austrian Empire (Czech Republic)   \n",
              "51 1858-11-20   Mårbacka                            Sweden   \n",
              "\n",
              "   birth_country_current     sex organization_name organization_city  \\\n",
              "18                Poland  Female               NaN               NaN   \n",
              "29        Czech Republic  Female               NaN               NaN   \n",
              "51                Sweden  Female               NaN               NaN   \n",
              "\n",
              "   organization_country  ISO  share_pct  \n",
              "18                  NaN  POL       0.25  \n",
              "29                  NaN  CZE       1.00  \n",
              "51                  NaN  SWE       1.00  "
            ],
            "text/html": [
              "<div>\n",
              "<style scoped>\n",
              "    .dataframe tbody tr th:only-of-type {\n",
              "        vertical-align: middle;\n",
              "    }\n",
              "\n",
              "    .dataframe tbody tr th {\n",
              "        vertical-align: top;\n",
              "    }\n",
              "\n",
              "    .dataframe thead th {\n",
              "        text-align: right;\n",
              "    }\n",
              "</style>\n",
              "<table border=\"1\" class=\"dataframe\">\n",
              "  <thead>\n",
              "    <tr style=\"text-align: right;\">\n",
              "      <th></th>\n",
              "      <th>year</th>\n",
              "      <th>category</th>\n",
              "      <th>prize</th>\n",
              "      <th>motivation</th>\n",
              "      <th>prize_share</th>\n",
              "      <th>laureate_type</th>\n",
              "      <th>full_name</th>\n",
              "      <th>birth_date</th>\n",
              "      <th>birth_city</th>\n",
              "      <th>birth_country</th>\n",
              "      <th>birth_country_current</th>\n",
              "      <th>sex</th>\n",
              "      <th>organization_name</th>\n",
              "      <th>organization_city</th>\n",
              "      <th>organization_country</th>\n",
              "      <th>ISO</th>\n",
              "      <th>share_pct</th>\n",
              "    </tr>\n",
              "  </thead>\n",
              "  <tbody>\n",
              "    <tr>\n",
              "      <th>18</th>\n",
              "      <td>1903</td>\n",
              "      <td>Physics</td>\n",
              "      <td>The Nobel Prize in Physics 1903</td>\n",
              "      <td>\"in recognition of the extraordinary services ...</td>\n",
              "      <td>1/4</td>\n",
              "      <td>Individual</td>\n",
              "      <td>Marie Curie, née Sklodowska</td>\n",
              "      <td>1867-11-07</td>\n",
              "      <td>Warsaw</td>\n",
              "      <td>Russian Empire (Poland)</td>\n",
              "      <td>Poland</td>\n",
              "      <td>Female</td>\n",
              "      <td>NaN</td>\n",
              "      <td>NaN</td>\n",
              "      <td>NaN</td>\n",
              "      <td>POL</td>\n",
              "      <td>0.25</td>\n",
              "    </tr>\n",
              "    <tr>\n",
              "      <th>29</th>\n",
              "      <td>1905</td>\n",
              "      <td>Peace</td>\n",
              "      <td>The Nobel Peace Prize 1905</td>\n",
              "      <td>NaN</td>\n",
              "      <td>1/1</td>\n",
              "      <td>Individual</td>\n",
              "      <td>Baroness Bertha Sophie Felicita von Suttner, n...</td>\n",
              "      <td>1843-06-09</td>\n",
              "      <td>Prague</td>\n",
              "      <td>Austrian Empire (Czech Republic)</td>\n",
              "      <td>Czech Republic</td>\n",
              "      <td>Female</td>\n",
              "      <td>NaN</td>\n",
              "      <td>NaN</td>\n",
              "      <td>NaN</td>\n",
              "      <td>CZE</td>\n",
              "      <td>1.00</td>\n",
              "    </tr>\n",
              "    <tr>\n",
              "      <th>51</th>\n",
              "      <td>1909</td>\n",
              "      <td>Literature</td>\n",
              "      <td>The Nobel Prize in Literature 1909</td>\n",
              "      <td>\"in appreciation of the lofty idealism, vivid ...</td>\n",
              "      <td>1/1</td>\n",
              "      <td>Individual</td>\n",
              "      <td>Selma Ottilia Lovisa Lagerlöf</td>\n",
              "      <td>1858-11-20</td>\n",
              "      <td>Mårbacka</td>\n",
              "      <td>Sweden</td>\n",
              "      <td>Sweden</td>\n",
              "      <td>Female</td>\n",
              "      <td>NaN</td>\n",
              "      <td>NaN</td>\n",
              "      <td>NaN</td>\n",
              "      <td>SWE</td>\n",
              "      <td>1.00</td>\n",
              "    </tr>\n",
              "  </tbody>\n",
              "</table>\n",
              "</div>"
            ]
          },
          "metadata": {},
          "execution_count": 180
        }
      ],
      "metadata": {
        "id": "nk5h-XFcFiJp"
      }
    },
    {
      "cell_type": "code",
      "execution_count": 181,
      "source": [
        "df_data[df_data.sex == 'Female'].sort_values('year', ascending=True)[:3][\"full_name\"]"
      ],
      "outputs": [
        {
          "output_type": "execute_result",
          "data": {
            "text/plain": [
              "18                          Marie Curie, née Sklodowska\n",
              "29    Baroness Bertha Sophie Felicita von Suttner, n...\n",
              "51                        Selma Ottilia Lovisa Lagerlöf\n",
              "Name: full_name, dtype: object"
            ]
          },
          "metadata": {},
          "execution_count": 181
        }
      ],
      "metadata": {
        "id": "fqBSGeNcFiBM"
      }
    },
    {
      "cell_type": "markdown",
      "source": [
        "# Find the Repeat Winners\n",
        "\n",
        "**Challenge**: Did some people get a Nobel Prize more than once? If so, who were they? "
      ],
      "metadata": {
        "id": "dPVD_f1oo7Lw"
      }
    },
    {
      "cell_type": "code",
      "execution_count": 182,
      "source": [
        "is_winner = df_data.duplicated(subset=[\"full_name\"], keep=False)\r\n",
        "\r\n",
        "multiple_winners = df_data[is_winner]\r\n",
        "\r\n",
        "print(multiple_winners.full_name.nunique())"
      ],
      "outputs": [
        {
          "output_type": "stream",
          "name": "stdout",
          "text": [
            "6\n"
          ]
        }
      ],
      "metadata": {
        "id": "Qqf8_dWUFjpz"
      }
    },
    {
      "cell_type": "markdown",
      "source": [
        "# Number of Prizes per Category\n",
        "\n",
        "**Challenge**: \n",
        "* In how many categories are prizes awarded? \n",
        "* Create a plotly bar chart with the number of prizes awarded by category. \n",
        "* Use the color scale called `Aggrnyl` to colour the chart, but don't show a color axis.\n",
        "* Which category has the most number of prizes awarded? \n",
        "* Which category has the fewest number of prizes awarded? "
      ],
      "metadata": {
        "dc": {
          "key": "45"
        },
        "tags": [
          "sample_code"
        ],
        "id": "x5NtE05go7L1"
      }
    },
    {
      "cell_type": "code",
      "execution_count": 183,
      "source": [
        "df_data.category.nunique()"
      ],
      "outputs": [
        {
          "output_type": "execute_result",
          "data": {
            "text/plain": [
              "6"
            ]
          },
          "metadata": {},
          "execution_count": 183
        }
      ],
      "metadata": {
        "id": "EjwqH7bxFm10"
      }
    },
    {
      "cell_type": "code",
      "execution_count": 184,
      "source": [
        "prizes_per_category = df_data.category.value_counts()\r\n",
        "v_bar = px.bar(\r\n",
        "        x = prizes_per_category.index,\r\n",
        "        y = prizes_per_category.values,\r\n",
        "        color = prizes_per_category.values,\r\n",
        "        color_continuous_scale='Aggrnyl',\r\n",
        "        title='Number of Prizes Awarded per Category')\r\n",
        " \r\n",
        "v_bar.update_layout(xaxis_title='Nobel Prize Category', \r\n",
        "                    coloraxis_showscale=False,\r\n",
        "                    yaxis_title='Number of Prizes')\r\n"
      ],
      "outputs": [
        {
          "output_type": "display_data",
          "data": {
            "application/vnd.plotly.v1+json": {
              "config": {
                "plotlyServerURL": "https://plot.ly"
              },
              "data": [
                {
                  "alignmentgroup": "True",
                  "hovertemplate": "x=%{x}<br>y=%{y}<br>color=%{marker.color}<extra></extra>",
                  "legendgroup": "",
                  "marker": {
                    "color": [
                      222,
                      216,
                      186,
                      135,
                      117,
                      86
                    ],
                    "coloraxis": "coloraxis",
                    "pattern": {
                      "shape": ""
                    }
                  },
                  "name": "",
                  "offsetgroup": "",
                  "orientation": "v",
                  "showlegend": false,
                  "textposition": "auto",
                  "type": "bar",
                  "x": [
                    "Medicine",
                    "Physics",
                    "Chemistry",
                    "Peace",
                    "Literature",
                    "Economics"
                  ],
                  "xaxis": "x",
                  "y": [
                    222,
                    216,
                    186,
                    135,
                    117,
                    86
                  ],
                  "yaxis": "y"
                }
              ],
              "layout": {
                "barmode": "relative",
                "coloraxis": {
                  "colorbar": {
                    "title": {
                      "text": "color"
                    }
                  },
                  "colorscale": [
                    [
                      0,
                      "rgb(36, 86, 104)"
                    ],
                    [
                      0.16666666666666666,
                      "rgb(15, 114, 121)"
                    ],
                    [
                      0.3333333333333333,
                      "rgb(13, 143, 129)"
                    ],
                    [
                      0.5,
                      "rgb(57, 171, 126)"
                    ],
                    [
                      0.6666666666666666,
                      "rgb(110, 197, 116)"
                    ],
                    [
                      0.8333333333333334,
                      "rgb(169, 220, 103)"
                    ],
                    [
                      1,
                      "rgb(237, 239, 93)"
                    ]
                  ],
                  "showscale": false
                },
                "legend": {
                  "tracegroupgap": 0
                },
                "template": {
                  "data": {
                    "bar": [
                      {
                        "error_x": {
                          "color": "#2a3f5f"
                        },
                        "error_y": {
                          "color": "#2a3f5f"
                        },
                        "marker": {
                          "line": {
                            "color": "#E5ECF6",
                            "width": 0.5
                          },
                          "pattern": {
                            "fillmode": "overlay",
                            "size": 10,
                            "solidity": 0.2
                          }
                        },
                        "type": "bar"
                      }
                    ],
                    "barpolar": [
                      {
                        "marker": {
                          "line": {
                            "color": "#E5ECF6",
                            "width": 0.5
                          },
                          "pattern": {
                            "fillmode": "overlay",
                            "size": 10,
                            "solidity": 0.2
                          }
                        },
                        "type": "barpolar"
                      }
                    ],
                    "carpet": [
                      {
                        "aaxis": {
                          "endlinecolor": "#2a3f5f",
                          "gridcolor": "white",
                          "linecolor": "white",
                          "minorgridcolor": "white",
                          "startlinecolor": "#2a3f5f"
                        },
                        "baxis": {
                          "endlinecolor": "#2a3f5f",
                          "gridcolor": "white",
                          "linecolor": "white",
                          "minorgridcolor": "white",
                          "startlinecolor": "#2a3f5f"
                        },
                        "type": "carpet"
                      }
                    ],
                    "choropleth": [
                      {
                        "colorbar": {
                          "outlinewidth": 0,
                          "ticks": ""
                        },
                        "type": "choropleth"
                      }
                    ],
                    "contour": [
                      {
                        "colorbar": {
                          "outlinewidth": 0,
                          "ticks": ""
                        },
                        "colorscale": [
                          [
                            0,
                            "#0d0887"
                          ],
                          [
                            0.1111111111111111,
                            "#46039f"
                          ],
                          [
                            0.2222222222222222,
                            "#7201a8"
                          ],
                          [
                            0.3333333333333333,
                            "#9c179e"
                          ],
                          [
                            0.4444444444444444,
                            "#bd3786"
                          ],
                          [
                            0.5555555555555556,
                            "#d8576b"
                          ],
                          [
                            0.6666666666666666,
                            "#ed7953"
                          ],
                          [
                            0.7777777777777778,
                            "#fb9f3a"
                          ],
                          [
                            0.8888888888888888,
                            "#fdca26"
                          ],
                          [
                            1,
                            "#f0f921"
                          ]
                        ],
                        "type": "contour"
                      }
                    ],
                    "contourcarpet": [
                      {
                        "colorbar": {
                          "outlinewidth": 0,
                          "ticks": ""
                        },
                        "type": "contourcarpet"
                      }
                    ],
                    "heatmap": [
                      {
                        "colorbar": {
                          "outlinewidth": 0,
                          "ticks": ""
                        },
                        "colorscale": [
                          [
                            0,
                            "#0d0887"
                          ],
                          [
                            0.1111111111111111,
                            "#46039f"
                          ],
                          [
                            0.2222222222222222,
                            "#7201a8"
                          ],
                          [
                            0.3333333333333333,
                            "#9c179e"
                          ],
                          [
                            0.4444444444444444,
                            "#bd3786"
                          ],
                          [
                            0.5555555555555556,
                            "#d8576b"
                          ],
                          [
                            0.6666666666666666,
                            "#ed7953"
                          ],
                          [
                            0.7777777777777778,
                            "#fb9f3a"
                          ],
                          [
                            0.8888888888888888,
                            "#fdca26"
                          ],
                          [
                            1,
                            "#f0f921"
                          ]
                        ],
                        "type": "heatmap"
                      }
                    ],
                    "heatmapgl": [
                      {
                        "colorbar": {
                          "outlinewidth": 0,
                          "ticks": ""
                        },
                        "colorscale": [
                          [
                            0,
                            "#0d0887"
                          ],
                          [
                            0.1111111111111111,
                            "#46039f"
                          ],
                          [
                            0.2222222222222222,
                            "#7201a8"
                          ],
                          [
                            0.3333333333333333,
                            "#9c179e"
                          ],
                          [
                            0.4444444444444444,
                            "#bd3786"
                          ],
                          [
                            0.5555555555555556,
                            "#d8576b"
                          ],
                          [
                            0.6666666666666666,
                            "#ed7953"
                          ],
                          [
                            0.7777777777777778,
                            "#fb9f3a"
                          ],
                          [
                            0.8888888888888888,
                            "#fdca26"
                          ],
                          [
                            1,
                            "#f0f921"
                          ]
                        ],
                        "type": "heatmapgl"
                      }
                    ],
                    "histogram": [
                      {
                        "marker": {
                          "pattern": {
                            "fillmode": "overlay",
                            "size": 10,
                            "solidity": 0.2
                          }
                        },
                        "type": "histogram"
                      }
                    ],
                    "histogram2d": [
                      {
                        "colorbar": {
                          "outlinewidth": 0,
                          "ticks": ""
                        },
                        "colorscale": [
                          [
                            0,
                            "#0d0887"
                          ],
                          [
                            0.1111111111111111,
                            "#46039f"
                          ],
                          [
                            0.2222222222222222,
                            "#7201a8"
                          ],
                          [
                            0.3333333333333333,
                            "#9c179e"
                          ],
                          [
                            0.4444444444444444,
                            "#bd3786"
                          ],
                          [
                            0.5555555555555556,
                            "#d8576b"
                          ],
                          [
                            0.6666666666666666,
                            "#ed7953"
                          ],
                          [
                            0.7777777777777778,
                            "#fb9f3a"
                          ],
                          [
                            0.8888888888888888,
                            "#fdca26"
                          ],
                          [
                            1,
                            "#f0f921"
                          ]
                        ],
                        "type": "histogram2d"
                      }
                    ],
                    "histogram2dcontour": [
                      {
                        "colorbar": {
                          "outlinewidth": 0,
                          "ticks": ""
                        },
                        "colorscale": [
                          [
                            0,
                            "#0d0887"
                          ],
                          [
                            0.1111111111111111,
                            "#46039f"
                          ],
                          [
                            0.2222222222222222,
                            "#7201a8"
                          ],
                          [
                            0.3333333333333333,
                            "#9c179e"
                          ],
                          [
                            0.4444444444444444,
                            "#bd3786"
                          ],
                          [
                            0.5555555555555556,
                            "#d8576b"
                          ],
                          [
                            0.6666666666666666,
                            "#ed7953"
                          ],
                          [
                            0.7777777777777778,
                            "#fb9f3a"
                          ],
                          [
                            0.8888888888888888,
                            "#fdca26"
                          ],
                          [
                            1,
                            "#f0f921"
                          ]
                        ],
                        "type": "histogram2dcontour"
                      }
                    ],
                    "mesh3d": [
                      {
                        "colorbar": {
                          "outlinewidth": 0,
                          "ticks": ""
                        },
                        "type": "mesh3d"
                      }
                    ],
                    "parcoords": [
                      {
                        "line": {
                          "colorbar": {
                            "outlinewidth": 0,
                            "ticks": ""
                          }
                        },
                        "type": "parcoords"
                      }
                    ],
                    "pie": [
                      {
                        "automargin": true,
                        "type": "pie"
                      }
                    ],
                    "scatter": [
                      {
                        "marker": {
                          "colorbar": {
                            "outlinewidth": 0,
                            "ticks": ""
                          }
                        },
                        "type": "scatter"
                      }
                    ],
                    "scatter3d": [
                      {
                        "line": {
                          "colorbar": {
                            "outlinewidth": 0,
                            "ticks": ""
                          }
                        },
                        "marker": {
                          "colorbar": {
                            "outlinewidth": 0,
                            "ticks": ""
                          }
                        },
                        "type": "scatter3d"
                      }
                    ],
                    "scattercarpet": [
                      {
                        "marker": {
                          "colorbar": {
                            "outlinewidth": 0,
                            "ticks": ""
                          }
                        },
                        "type": "scattercarpet"
                      }
                    ],
                    "scattergeo": [
                      {
                        "marker": {
                          "colorbar": {
                            "outlinewidth": 0,
                            "ticks": ""
                          }
                        },
                        "type": "scattergeo"
                      }
                    ],
                    "scattergl": [
                      {
                        "marker": {
                          "colorbar": {
                            "outlinewidth": 0,
                            "ticks": ""
                          }
                        },
                        "type": "scattergl"
                      }
                    ],
                    "scattermapbox": [
                      {
                        "marker": {
                          "colorbar": {
                            "outlinewidth": 0,
                            "ticks": ""
                          }
                        },
                        "type": "scattermapbox"
                      }
                    ],
                    "scatterpolar": [
                      {
                        "marker": {
                          "colorbar": {
                            "outlinewidth": 0,
                            "ticks": ""
                          }
                        },
                        "type": "scatterpolar"
                      }
                    ],
                    "scatterpolargl": [
                      {
                        "marker": {
                          "colorbar": {
                            "outlinewidth": 0,
                            "ticks": ""
                          }
                        },
                        "type": "scatterpolargl"
                      }
                    ],
                    "scatterternary": [
                      {
                        "marker": {
                          "colorbar": {
                            "outlinewidth": 0,
                            "ticks": ""
                          }
                        },
                        "type": "scatterternary"
                      }
                    ],
                    "surface": [
                      {
                        "colorbar": {
                          "outlinewidth": 0,
                          "ticks": ""
                        },
                        "colorscale": [
                          [
                            0,
                            "#0d0887"
                          ],
                          [
                            0.1111111111111111,
                            "#46039f"
                          ],
                          [
                            0.2222222222222222,
                            "#7201a8"
                          ],
                          [
                            0.3333333333333333,
                            "#9c179e"
                          ],
                          [
                            0.4444444444444444,
                            "#bd3786"
                          ],
                          [
                            0.5555555555555556,
                            "#d8576b"
                          ],
                          [
                            0.6666666666666666,
                            "#ed7953"
                          ],
                          [
                            0.7777777777777778,
                            "#fb9f3a"
                          ],
                          [
                            0.8888888888888888,
                            "#fdca26"
                          ],
                          [
                            1,
                            "#f0f921"
                          ]
                        ],
                        "type": "surface"
                      }
                    ],
                    "table": [
                      {
                        "cells": {
                          "fill": {
                            "color": "#EBF0F8"
                          },
                          "line": {
                            "color": "white"
                          }
                        },
                        "header": {
                          "fill": {
                            "color": "#C8D4E3"
                          },
                          "line": {
                            "color": "white"
                          }
                        },
                        "type": "table"
                      }
                    ]
                  },
                  "layout": {
                    "annotationdefaults": {
                      "arrowcolor": "#2a3f5f",
                      "arrowhead": 0,
                      "arrowwidth": 1
                    },
                    "autotypenumbers": "strict",
                    "coloraxis": {
                      "colorbar": {
                        "outlinewidth": 0,
                        "ticks": ""
                      }
                    },
                    "colorscale": {
                      "diverging": [
                        [
                          0,
                          "#8e0152"
                        ],
                        [
                          0.1,
                          "#c51b7d"
                        ],
                        [
                          0.2,
                          "#de77ae"
                        ],
                        [
                          0.3,
                          "#f1b6da"
                        ],
                        [
                          0.4,
                          "#fde0ef"
                        ],
                        [
                          0.5,
                          "#f7f7f7"
                        ],
                        [
                          0.6,
                          "#e6f5d0"
                        ],
                        [
                          0.7,
                          "#b8e186"
                        ],
                        [
                          0.8,
                          "#7fbc41"
                        ],
                        [
                          0.9,
                          "#4d9221"
                        ],
                        [
                          1,
                          "#276419"
                        ]
                      ],
                      "sequential": [
                        [
                          0,
                          "#0d0887"
                        ],
                        [
                          0.1111111111111111,
                          "#46039f"
                        ],
                        [
                          0.2222222222222222,
                          "#7201a8"
                        ],
                        [
                          0.3333333333333333,
                          "#9c179e"
                        ],
                        [
                          0.4444444444444444,
                          "#bd3786"
                        ],
                        [
                          0.5555555555555556,
                          "#d8576b"
                        ],
                        [
                          0.6666666666666666,
                          "#ed7953"
                        ],
                        [
                          0.7777777777777778,
                          "#fb9f3a"
                        ],
                        [
                          0.8888888888888888,
                          "#fdca26"
                        ],
                        [
                          1,
                          "#f0f921"
                        ]
                      ],
                      "sequentialminus": [
                        [
                          0,
                          "#0d0887"
                        ],
                        [
                          0.1111111111111111,
                          "#46039f"
                        ],
                        [
                          0.2222222222222222,
                          "#7201a8"
                        ],
                        [
                          0.3333333333333333,
                          "#9c179e"
                        ],
                        [
                          0.4444444444444444,
                          "#bd3786"
                        ],
                        [
                          0.5555555555555556,
                          "#d8576b"
                        ],
                        [
                          0.6666666666666666,
                          "#ed7953"
                        ],
                        [
                          0.7777777777777778,
                          "#fb9f3a"
                        ],
                        [
                          0.8888888888888888,
                          "#fdca26"
                        ],
                        [
                          1,
                          "#f0f921"
                        ]
                      ]
                    },
                    "colorway": [
                      "#636efa",
                      "#EF553B",
                      "#00cc96",
                      "#ab63fa",
                      "#FFA15A",
                      "#19d3f3",
                      "#FF6692",
                      "#B6E880",
                      "#FF97FF",
                      "#FECB52"
                    ],
                    "font": {
                      "color": "#2a3f5f"
                    },
                    "geo": {
                      "bgcolor": "white",
                      "lakecolor": "white",
                      "landcolor": "#E5ECF6",
                      "showlakes": true,
                      "showland": true,
                      "subunitcolor": "white"
                    },
                    "hoverlabel": {
                      "align": "left"
                    },
                    "hovermode": "closest",
                    "mapbox": {
                      "style": "light"
                    },
                    "paper_bgcolor": "white",
                    "plot_bgcolor": "#E5ECF6",
                    "polar": {
                      "angularaxis": {
                        "gridcolor": "white",
                        "linecolor": "white",
                        "ticks": ""
                      },
                      "bgcolor": "#E5ECF6",
                      "radialaxis": {
                        "gridcolor": "white",
                        "linecolor": "white",
                        "ticks": ""
                      }
                    },
                    "scene": {
                      "xaxis": {
                        "backgroundcolor": "#E5ECF6",
                        "gridcolor": "white",
                        "gridwidth": 2,
                        "linecolor": "white",
                        "showbackground": true,
                        "ticks": "",
                        "zerolinecolor": "white"
                      },
                      "yaxis": {
                        "backgroundcolor": "#E5ECF6",
                        "gridcolor": "white",
                        "gridwidth": 2,
                        "linecolor": "white",
                        "showbackground": true,
                        "ticks": "",
                        "zerolinecolor": "white"
                      },
                      "zaxis": {
                        "backgroundcolor": "#E5ECF6",
                        "gridcolor": "white",
                        "gridwidth": 2,
                        "linecolor": "white",
                        "showbackground": true,
                        "ticks": "",
                        "zerolinecolor": "white"
                      }
                    },
                    "shapedefaults": {
                      "line": {
                        "color": "#2a3f5f"
                      }
                    },
                    "ternary": {
                      "aaxis": {
                        "gridcolor": "white",
                        "linecolor": "white",
                        "ticks": ""
                      },
                      "baxis": {
                        "gridcolor": "white",
                        "linecolor": "white",
                        "ticks": ""
                      },
                      "bgcolor": "#E5ECF6",
                      "caxis": {
                        "gridcolor": "white",
                        "linecolor": "white",
                        "ticks": ""
                      }
                    },
                    "title": {
                      "x": 0.05
                    },
                    "xaxis": {
                      "automargin": true,
                      "gridcolor": "white",
                      "linecolor": "white",
                      "ticks": "",
                      "title": {
                        "standoff": 15
                      },
                      "zerolinecolor": "white",
                      "zerolinewidth": 2
                    },
                    "yaxis": {
                      "automargin": true,
                      "gridcolor": "white",
                      "linecolor": "white",
                      "ticks": "",
                      "title": {
                        "standoff": 15
                      },
                      "zerolinecolor": "white",
                      "zerolinewidth": 2
                    }
                  }
                },
                "title": {
                  "text": "Number of Prizes Awarded per Category"
                },
                "xaxis": {
                  "anchor": "y",
                  "domain": [
                    0,
                    1
                  ],
                  "title": {
                    "text": "Nobel Prize Category"
                  }
                },
                "yaxis": {
                  "anchor": "x",
                  "domain": [
                    0,
                    1
                  ],
                  "title": {
                    "text": "Number of Prizes"
                  }
                }
              }
            }
          },
          "metadata": {}
        }
      ],
      "metadata": {
        "id": "BhweS8X1FmuL"
      }
    },
    {
      "cell_type": "markdown",
      "source": [
        "**Challenge**: \n",
        "* When was the first prize in the field of Economics awarded?\n",
        "* Who did the prize go to?"
      ],
      "metadata": {
        "id": "nlISAxfXo7L5"
      }
    },
    {
      "cell_type": "code",
      "execution_count": 185,
      "source": [
        "df_data[df_data.category == 'Economics'].sort_values('year', ascending=False)"
      ],
      "outputs": [
        {
          "output_type": "execute_result",
          "data": {
            "text/plain": [
              "     year   category                                              prize  \\\n",
              "953  2020  Economics  The Sveriges Riksbank Prize in Economic Scienc...   \n",
              "952  2020  Economics  The Sveriges Riksbank Prize in Economic Scienc...   \n",
              "941  2019  Economics  The Sveriges Riksbank Prize in Economic Scienc...   \n",
              "940  2019  Economics  The Sveriges Riksbank Prize in Economic Scienc...   \n",
              "939  2019  Economics  The Sveriges Riksbank Prize in Economic Scienc...   \n",
              "..    ...        ...                                                ...   \n",
              "420  1972  Economics  The Sveriges Riksbank Prize in Economic Scienc...   \n",
              "411  1971  Economics  The Sveriges Riksbank Prize in Economic Scienc...   \n",
              "402  1970  Economics  The Sveriges Riksbank Prize in Economic Scienc...   \n",
              "394  1969  Economics  The Sveriges Riksbank Prize in Economic Scienc...   \n",
              "393  1969  Economics  The Sveriges Riksbank Prize in Economic Scienc...   \n",
              "\n",
              "                                            motivation prize_share  \\\n",
              "953  “for improvements to auction theory and invent...         1/2   \n",
              "952  “for improvements to auction theory and invent...         1/2   \n",
              "941  “for their experimental approach to alleviatin...         1/3   \n",
              "940  “for their experimental approach to alleviatin...         1/3   \n",
              "939  “for their experimental approach to alleviatin...         1/3   \n",
              "..                                                 ...         ...   \n",
              "420  \"for their pioneering contributions to general...         1/2   \n",
              "411  \"for his empirically founded interpretation of...         1/1   \n",
              "402  \"for the scientific work through which he has ...         1/1   \n",
              "394  \"for having developed and applied dynamic mode...         1/2   \n",
              "393  \"for having developed and applied dynamic mode...         1/2   \n",
              "\n",
              "    laureate_type          full_name birth_date    birth_city  \\\n",
              "953    Individual   Robert B. Wilson 1937-05-16    Geneva, NE   \n",
              "952    Individual    Paul R. Milgrom 1948-04-20   Detroit, MI   \n",
              "941    Individual     Michael Kremer 1964-11-12  New York, NY   \n",
              "940    Individual       Esther Duflo 1972-10-25         Paris   \n",
              "939    Individual   Abhijit Banerjee 1961-02-21        Mumbai   \n",
              "..            ...                ...        ...           ...   \n",
              "420    Individual   Kenneth J. Arrow 1921-08-23  New York, NY   \n",
              "411    Individual      Simon Kuznets 1901-04-30         Pinsk   \n",
              "402    Individual  Paul A. Samuelson 1915-05-15      Gary, IN   \n",
              "394    Individual      Ragnar Frisch 1895-03-03          Oslo   \n",
              "393    Individual      Jan Tinbergen 1903-04-12     the Hague   \n",
              "\n",
              "                birth_country     birth_country_current     sex  \\\n",
              "953  United States of America  United States of America    Male   \n",
              "952  United States of America  United States of America    Male   \n",
              "941  United States of America  United States of America    Male   \n",
              "940                    France                    France  Female   \n",
              "939                     India                     India    Male   \n",
              "..                        ...                       ...     ...   \n",
              "420  United States of America  United States of America    Male   \n",
              "411  Russian Empire (Belarus)                   Belarus    Male   \n",
              "402  United States of America  United States of America    Male   \n",
              "394                    Norway                    Norway    Male   \n",
              "393               Netherlands               Netherlands    Male   \n",
              "\n",
              "                               organization_name organization_city  \\\n",
              "953                          Stanford University      Stanford, CA   \n",
              "952                          Stanford University      Stanford, CA   \n",
              "941                           Harvard University     Cambridge, MA   \n",
              "940  Massachusetts Institute of Technology (MIT)     Cambridge, MA   \n",
              "939  Massachusetts Institute of Technology (MIT)     Cambridge, MA   \n",
              "..                                           ...               ...   \n",
              "420                           Harvard University     Cambridge, MA   \n",
              "411                           Harvard University     Cambridge, MA   \n",
              "402  Massachusetts Institute of Technology (MIT)     Cambridge, MA   \n",
              "394                           University of Oslo              Oslo   \n",
              "393          The Netherlands School of Economics         Rotterdam   \n",
              "\n",
              "         organization_country  ISO  share_pct  \n",
              "953  United States of America  USA       0.50  \n",
              "952  United States of America  USA       0.50  \n",
              "941  United States of America  USA       0.33  \n",
              "940  United States of America  FRA       0.33  \n",
              "939  United States of America  IND       0.33  \n",
              "..                        ...  ...        ...  \n",
              "420  United States of America  USA       0.50  \n",
              "411  United States of America  BLR       1.00  \n",
              "402  United States of America  USA       1.00  \n",
              "394                    Norway  NOR       0.50  \n",
              "393               Netherlands  NLD       0.50  \n",
              "\n",
              "[86 rows x 17 columns]"
            ],
            "text/html": [
              "<div>\n",
              "<style scoped>\n",
              "    .dataframe tbody tr th:only-of-type {\n",
              "        vertical-align: middle;\n",
              "    }\n",
              "\n",
              "    .dataframe tbody tr th {\n",
              "        vertical-align: top;\n",
              "    }\n",
              "\n",
              "    .dataframe thead th {\n",
              "        text-align: right;\n",
              "    }\n",
              "</style>\n",
              "<table border=\"1\" class=\"dataframe\">\n",
              "  <thead>\n",
              "    <tr style=\"text-align: right;\">\n",
              "      <th></th>\n",
              "      <th>year</th>\n",
              "      <th>category</th>\n",
              "      <th>prize</th>\n",
              "      <th>motivation</th>\n",
              "      <th>prize_share</th>\n",
              "      <th>laureate_type</th>\n",
              "      <th>full_name</th>\n",
              "      <th>birth_date</th>\n",
              "      <th>birth_city</th>\n",
              "      <th>birth_country</th>\n",
              "      <th>birth_country_current</th>\n",
              "      <th>sex</th>\n",
              "      <th>organization_name</th>\n",
              "      <th>organization_city</th>\n",
              "      <th>organization_country</th>\n",
              "      <th>ISO</th>\n",
              "      <th>share_pct</th>\n",
              "    </tr>\n",
              "  </thead>\n",
              "  <tbody>\n",
              "    <tr>\n",
              "      <th>953</th>\n",
              "      <td>2020</td>\n",
              "      <td>Economics</td>\n",
              "      <td>The Sveriges Riksbank Prize in Economic Scienc...</td>\n",
              "      <td>“for improvements to auction theory and invent...</td>\n",
              "      <td>1/2</td>\n",
              "      <td>Individual</td>\n",
              "      <td>Robert B. Wilson</td>\n",
              "      <td>1937-05-16</td>\n",
              "      <td>Geneva, NE</td>\n",
              "      <td>United States of America</td>\n",
              "      <td>United States of America</td>\n",
              "      <td>Male</td>\n",
              "      <td>Stanford University</td>\n",
              "      <td>Stanford, CA</td>\n",
              "      <td>United States of America</td>\n",
              "      <td>USA</td>\n",
              "      <td>0.50</td>\n",
              "    </tr>\n",
              "    <tr>\n",
              "      <th>952</th>\n",
              "      <td>2020</td>\n",
              "      <td>Economics</td>\n",
              "      <td>The Sveriges Riksbank Prize in Economic Scienc...</td>\n",
              "      <td>“for improvements to auction theory and invent...</td>\n",
              "      <td>1/2</td>\n",
              "      <td>Individual</td>\n",
              "      <td>Paul R. Milgrom</td>\n",
              "      <td>1948-04-20</td>\n",
              "      <td>Detroit, MI</td>\n",
              "      <td>United States of America</td>\n",
              "      <td>United States of America</td>\n",
              "      <td>Male</td>\n",
              "      <td>Stanford University</td>\n",
              "      <td>Stanford, CA</td>\n",
              "      <td>United States of America</td>\n",
              "      <td>USA</td>\n",
              "      <td>0.50</td>\n",
              "    </tr>\n",
              "    <tr>\n",
              "      <th>941</th>\n",
              "      <td>2019</td>\n",
              "      <td>Economics</td>\n",
              "      <td>The Sveriges Riksbank Prize in Economic Scienc...</td>\n",
              "      <td>“for their experimental approach to alleviatin...</td>\n",
              "      <td>1/3</td>\n",
              "      <td>Individual</td>\n",
              "      <td>Michael Kremer</td>\n",
              "      <td>1964-11-12</td>\n",
              "      <td>New York, NY</td>\n",
              "      <td>United States of America</td>\n",
              "      <td>United States of America</td>\n",
              "      <td>Male</td>\n",
              "      <td>Harvard University</td>\n",
              "      <td>Cambridge, MA</td>\n",
              "      <td>United States of America</td>\n",
              "      <td>USA</td>\n",
              "      <td>0.33</td>\n",
              "    </tr>\n",
              "    <tr>\n",
              "      <th>940</th>\n",
              "      <td>2019</td>\n",
              "      <td>Economics</td>\n",
              "      <td>The Sveriges Riksbank Prize in Economic Scienc...</td>\n",
              "      <td>“for their experimental approach to alleviatin...</td>\n",
              "      <td>1/3</td>\n",
              "      <td>Individual</td>\n",
              "      <td>Esther Duflo</td>\n",
              "      <td>1972-10-25</td>\n",
              "      <td>Paris</td>\n",
              "      <td>France</td>\n",
              "      <td>France</td>\n",
              "      <td>Female</td>\n",
              "      <td>Massachusetts Institute of Technology (MIT)</td>\n",
              "      <td>Cambridge, MA</td>\n",
              "      <td>United States of America</td>\n",
              "      <td>FRA</td>\n",
              "      <td>0.33</td>\n",
              "    </tr>\n",
              "    <tr>\n",
              "      <th>939</th>\n",
              "      <td>2019</td>\n",
              "      <td>Economics</td>\n",
              "      <td>The Sveriges Riksbank Prize in Economic Scienc...</td>\n",
              "      <td>“for their experimental approach to alleviatin...</td>\n",
              "      <td>1/3</td>\n",
              "      <td>Individual</td>\n",
              "      <td>Abhijit Banerjee</td>\n",
              "      <td>1961-02-21</td>\n",
              "      <td>Mumbai</td>\n",
              "      <td>India</td>\n",
              "      <td>India</td>\n",
              "      <td>Male</td>\n",
              "      <td>Massachusetts Institute of Technology (MIT)</td>\n",
              "      <td>Cambridge, MA</td>\n",
              "      <td>United States of America</td>\n",
              "      <td>IND</td>\n",
              "      <td>0.33</td>\n",
              "    </tr>\n",
              "    <tr>\n",
              "      <th>...</th>\n",
              "      <td>...</td>\n",
              "      <td>...</td>\n",
              "      <td>...</td>\n",
              "      <td>...</td>\n",
              "      <td>...</td>\n",
              "      <td>...</td>\n",
              "      <td>...</td>\n",
              "      <td>...</td>\n",
              "      <td>...</td>\n",
              "      <td>...</td>\n",
              "      <td>...</td>\n",
              "      <td>...</td>\n",
              "      <td>...</td>\n",
              "      <td>...</td>\n",
              "      <td>...</td>\n",
              "      <td>...</td>\n",
              "      <td>...</td>\n",
              "    </tr>\n",
              "    <tr>\n",
              "      <th>420</th>\n",
              "      <td>1972</td>\n",
              "      <td>Economics</td>\n",
              "      <td>The Sveriges Riksbank Prize in Economic Scienc...</td>\n",
              "      <td>\"for their pioneering contributions to general...</td>\n",
              "      <td>1/2</td>\n",
              "      <td>Individual</td>\n",
              "      <td>Kenneth J. Arrow</td>\n",
              "      <td>1921-08-23</td>\n",
              "      <td>New York, NY</td>\n",
              "      <td>United States of America</td>\n",
              "      <td>United States of America</td>\n",
              "      <td>Male</td>\n",
              "      <td>Harvard University</td>\n",
              "      <td>Cambridge, MA</td>\n",
              "      <td>United States of America</td>\n",
              "      <td>USA</td>\n",
              "      <td>0.50</td>\n",
              "    </tr>\n",
              "    <tr>\n",
              "      <th>411</th>\n",
              "      <td>1971</td>\n",
              "      <td>Economics</td>\n",
              "      <td>The Sveriges Riksbank Prize in Economic Scienc...</td>\n",
              "      <td>\"for his empirically founded interpretation of...</td>\n",
              "      <td>1/1</td>\n",
              "      <td>Individual</td>\n",
              "      <td>Simon Kuznets</td>\n",
              "      <td>1901-04-30</td>\n",
              "      <td>Pinsk</td>\n",
              "      <td>Russian Empire (Belarus)</td>\n",
              "      <td>Belarus</td>\n",
              "      <td>Male</td>\n",
              "      <td>Harvard University</td>\n",
              "      <td>Cambridge, MA</td>\n",
              "      <td>United States of America</td>\n",
              "      <td>BLR</td>\n",
              "      <td>1.00</td>\n",
              "    </tr>\n",
              "    <tr>\n",
              "      <th>402</th>\n",
              "      <td>1970</td>\n",
              "      <td>Economics</td>\n",
              "      <td>The Sveriges Riksbank Prize in Economic Scienc...</td>\n",
              "      <td>\"for the scientific work through which he has ...</td>\n",
              "      <td>1/1</td>\n",
              "      <td>Individual</td>\n",
              "      <td>Paul A. Samuelson</td>\n",
              "      <td>1915-05-15</td>\n",
              "      <td>Gary, IN</td>\n",
              "      <td>United States of America</td>\n",
              "      <td>United States of America</td>\n",
              "      <td>Male</td>\n",
              "      <td>Massachusetts Institute of Technology (MIT)</td>\n",
              "      <td>Cambridge, MA</td>\n",
              "      <td>United States of America</td>\n",
              "      <td>USA</td>\n",
              "      <td>1.00</td>\n",
              "    </tr>\n",
              "    <tr>\n",
              "      <th>394</th>\n",
              "      <td>1969</td>\n",
              "      <td>Economics</td>\n",
              "      <td>The Sveriges Riksbank Prize in Economic Scienc...</td>\n",
              "      <td>\"for having developed and applied dynamic mode...</td>\n",
              "      <td>1/2</td>\n",
              "      <td>Individual</td>\n",
              "      <td>Ragnar Frisch</td>\n",
              "      <td>1895-03-03</td>\n",
              "      <td>Oslo</td>\n",
              "      <td>Norway</td>\n",
              "      <td>Norway</td>\n",
              "      <td>Male</td>\n",
              "      <td>University of Oslo</td>\n",
              "      <td>Oslo</td>\n",
              "      <td>Norway</td>\n",
              "      <td>NOR</td>\n",
              "      <td>0.50</td>\n",
              "    </tr>\n",
              "    <tr>\n",
              "      <th>393</th>\n",
              "      <td>1969</td>\n",
              "      <td>Economics</td>\n",
              "      <td>The Sveriges Riksbank Prize in Economic Scienc...</td>\n",
              "      <td>\"for having developed and applied dynamic mode...</td>\n",
              "      <td>1/2</td>\n",
              "      <td>Individual</td>\n",
              "      <td>Jan Tinbergen</td>\n",
              "      <td>1903-04-12</td>\n",
              "      <td>the Hague</td>\n",
              "      <td>Netherlands</td>\n",
              "      <td>Netherlands</td>\n",
              "      <td>Male</td>\n",
              "      <td>The Netherlands School of Economics</td>\n",
              "      <td>Rotterdam</td>\n",
              "      <td>Netherlands</td>\n",
              "      <td>NLD</td>\n",
              "      <td>0.50</td>\n",
              "    </tr>\n",
              "  </tbody>\n",
              "</table>\n",
              "<p>86 rows × 17 columns</p>\n",
              "</div>"
            ]
          },
          "metadata": {},
          "execution_count": 185
        }
      ],
      "metadata": {
        "id": "ndzQ8lz6FpSG"
      }
    },
    {
      "cell_type": "markdown",
      "source": [
        "# Male and Female Winners by Category\r\n",
        "\r\n",
        "**Challenge**: Create a [plotly bar chart](https://plotly.com/python/bar-charts/) that shows the split between men and women by category. \r\n",
        "* Hover over the bar chart. How many prizes went to women in Literature compared to Physics?"
      ],
      "metadata": {
        "dc": {
          "key": "31"
        },
        "run_control": {
          "frozen": true
        },
        "tags": [
          "context"
        ],
        "id": "COqMa0fIo7L7"
      }
    },
    {
      "cell_type": "code",
      "execution_count": 186,
      "source": [
        "cat_men_women = df_data.groupby(['category', 'sex'], as_index=False).agg({'prize': pd.Series.count})\r\n",
        "cat_men_women.sort_values('prize', ascending=False, inplace=True)"
      ],
      "outputs": [],
      "metadata": {
        "id": "5rm03TQmFrlk"
      }
    },
    {
      "cell_type": "code",
      "execution_count": 187,
      "source": [
        "v_bar_split = px.bar(x = cat_men_women.category,\r\n",
        "                     y = cat_men_women.prize,\r\n",
        "                     color = cat_men_women.sex,\r\n",
        "                     title='Number of Prizes Awarded per Category split by Men and Women')\r\n",
        " \r\n",
        "v_bar_split.update_layout(xaxis_title='Nobel Prize Category', \r\n",
        "                          yaxis_title='Number of Prizes')"
      ],
      "outputs": [
        {
          "output_type": "display_data",
          "data": {
            "application/vnd.plotly.v1+json": {
              "config": {
                "plotlyServerURL": "https://plot.ly"
              },
              "data": [
                {
                  "alignmentgroup": "True",
                  "hovertemplate": "color=Male<br>x=%{x}<br>y=%{y}<extra></extra>",
                  "legendgroup": "Male",
                  "marker": {
                    "color": "#636efa",
                    "pattern": {
                      "shape": ""
                    }
                  },
                  "name": "Male",
                  "offsetgroup": "Male",
                  "orientation": "v",
                  "showlegend": true,
                  "textposition": "auto",
                  "type": "bar",
                  "x": [
                    "Physics",
                    "Medicine",
                    "Chemistry",
                    "Literature",
                    "Peace",
                    "Economics"
                  ],
                  "xaxis": "x",
                  "y": [
                    212,
                    210,
                    179,
                    101,
                    90,
                    84
                  ],
                  "yaxis": "y"
                },
                {
                  "alignmentgroup": "True",
                  "hovertemplate": "color=Female<br>x=%{x}<br>y=%{y}<extra></extra>",
                  "legendgroup": "Female",
                  "marker": {
                    "color": "#EF553B",
                    "pattern": {
                      "shape": ""
                    }
                  },
                  "name": "Female",
                  "offsetgroup": "Female",
                  "orientation": "v",
                  "showlegend": true,
                  "textposition": "auto",
                  "type": "bar",
                  "x": [
                    "Peace",
                    "Literature",
                    "Medicine",
                    "Chemistry",
                    "Physics",
                    "Economics"
                  ],
                  "xaxis": "x",
                  "y": [
                    17,
                    16,
                    12,
                    7,
                    4,
                    2
                  ],
                  "yaxis": "y"
                }
              ],
              "layout": {
                "barmode": "relative",
                "legend": {
                  "title": {
                    "text": "color"
                  },
                  "tracegroupgap": 0
                },
                "template": {
                  "data": {
                    "bar": [
                      {
                        "error_x": {
                          "color": "#2a3f5f"
                        },
                        "error_y": {
                          "color": "#2a3f5f"
                        },
                        "marker": {
                          "line": {
                            "color": "#E5ECF6",
                            "width": 0.5
                          },
                          "pattern": {
                            "fillmode": "overlay",
                            "size": 10,
                            "solidity": 0.2
                          }
                        },
                        "type": "bar"
                      }
                    ],
                    "barpolar": [
                      {
                        "marker": {
                          "line": {
                            "color": "#E5ECF6",
                            "width": 0.5
                          },
                          "pattern": {
                            "fillmode": "overlay",
                            "size": 10,
                            "solidity": 0.2
                          }
                        },
                        "type": "barpolar"
                      }
                    ],
                    "carpet": [
                      {
                        "aaxis": {
                          "endlinecolor": "#2a3f5f",
                          "gridcolor": "white",
                          "linecolor": "white",
                          "minorgridcolor": "white",
                          "startlinecolor": "#2a3f5f"
                        },
                        "baxis": {
                          "endlinecolor": "#2a3f5f",
                          "gridcolor": "white",
                          "linecolor": "white",
                          "minorgridcolor": "white",
                          "startlinecolor": "#2a3f5f"
                        },
                        "type": "carpet"
                      }
                    ],
                    "choropleth": [
                      {
                        "colorbar": {
                          "outlinewidth": 0,
                          "ticks": ""
                        },
                        "type": "choropleth"
                      }
                    ],
                    "contour": [
                      {
                        "colorbar": {
                          "outlinewidth": 0,
                          "ticks": ""
                        },
                        "colorscale": [
                          [
                            0,
                            "#0d0887"
                          ],
                          [
                            0.1111111111111111,
                            "#46039f"
                          ],
                          [
                            0.2222222222222222,
                            "#7201a8"
                          ],
                          [
                            0.3333333333333333,
                            "#9c179e"
                          ],
                          [
                            0.4444444444444444,
                            "#bd3786"
                          ],
                          [
                            0.5555555555555556,
                            "#d8576b"
                          ],
                          [
                            0.6666666666666666,
                            "#ed7953"
                          ],
                          [
                            0.7777777777777778,
                            "#fb9f3a"
                          ],
                          [
                            0.8888888888888888,
                            "#fdca26"
                          ],
                          [
                            1,
                            "#f0f921"
                          ]
                        ],
                        "type": "contour"
                      }
                    ],
                    "contourcarpet": [
                      {
                        "colorbar": {
                          "outlinewidth": 0,
                          "ticks": ""
                        },
                        "type": "contourcarpet"
                      }
                    ],
                    "heatmap": [
                      {
                        "colorbar": {
                          "outlinewidth": 0,
                          "ticks": ""
                        },
                        "colorscale": [
                          [
                            0,
                            "#0d0887"
                          ],
                          [
                            0.1111111111111111,
                            "#46039f"
                          ],
                          [
                            0.2222222222222222,
                            "#7201a8"
                          ],
                          [
                            0.3333333333333333,
                            "#9c179e"
                          ],
                          [
                            0.4444444444444444,
                            "#bd3786"
                          ],
                          [
                            0.5555555555555556,
                            "#d8576b"
                          ],
                          [
                            0.6666666666666666,
                            "#ed7953"
                          ],
                          [
                            0.7777777777777778,
                            "#fb9f3a"
                          ],
                          [
                            0.8888888888888888,
                            "#fdca26"
                          ],
                          [
                            1,
                            "#f0f921"
                          ]
                        ],
                        "type": "heatmap"
                      }
                    ],
                    "heatmapgl": [
                      {
                        "colorbar": {
                          "outlinewidth": 0,
                          "ticks": ""
                        },
                        "colorscale": [
                          [
                            0,
                            "#0d0887"
                          ],
                          [
                            0.1111111111111111,
                            "#46039f"
                          ],
                          [
                            0.2222222222222222,
                            "#7201a8"
                          ],
                          [
                            0.3333333333333333,
                            "#9c179e"
                          ],
                          [
                            0.4444444444444444,
                            "#bd3786"
                          ],
                          [
                            0.5555555555555556,
                            "#d8576b"
                          ],
                          [
                            0.6666666666666666,
                            "#ed7953"
                          ],
                          [
                            0.7777777777777778,
                            "#fb9f3a"
                          ],
                          [
                            0.8888888888888888,
                            "#fdca26"
                          ],
                          [
                            1,
                            "#f0f921"
                          ]
                        ],
                        "type": "heatmapgl"
                      }
                    ],
                    "histogram": [
                      {
                        "marker": {
                          "pattern": {
                            "fillmode": "overlay",
                            "size": 10,
                            "solidity": 0.2
                          }
                        },
                        "type": "histogram"
                      }
                    ],
                    "histogram2d": [
                      {
                        "colorbar": {
                          "outlinewidth": 0,
                          "ticks": ""
                        },
                        "colorscale": [
                          [
                            0,
                            "#0d0887"
                          ],
                          [
                            0.1111111111111111,
                            "#46039f"
                          ],
                          [
                            0.2222222222222222,
                            "#7201a8"
                          ],
                          [
                            0.3333333333333333,
                            "#9c179e"
                          ],
                          [
                            0.4444444444444444,
                            "#bd3786"
                          ],
                          [
                            0.5555555555555556,
                            "#d8576b"
                          ],
                          [
                            0.6666666666666666,
                            "#ed7953"
                          ],
                          [
                            0.7777777777777778,
                            "#fb9f3a"
                          ],
                          [
                            0.8888888888888888,
                            "#fdca26"
                          ],
                          [
                            1,
                            "#f0f921"
                          ]
                        ],
                        "type": "histogram2d"
                      }
                    ],
                    "histogram2dcontour": [
                      {
                        "colorbar": {
                          "outlinewidth": 0,
                          "ticks": ""
                        },
                        "colorscale": [
                          [
                            0,
                            "#0d0887"
                          ],
                          [
                            0.1111111111111111,
                            "#46039f"
                          ],
                          [
                            0.2222222222222222,
                            "#7201a8"
                          ],
                          [
                            0.3333333333333333,
                            "#9c179e"
                          ],
                          [
                            0.4444444444444444,
                            "#bd3786"
                          ],
                          [
                            0.5555555555555556,
                            "#d8576b"
                          ],
                          [
                            0.6666666666666666,
                            "#ed7953"
                          ],
                          [
                            0.7777777777777778,
                            "#fb9f3a"
                          ],
                          [
                            0.8888888888888888,
                            "#fdca26"
                          ],
                          [
                            1,
                            "#f0f921"
                          ]
                        ],
                        "type": "histogram2dcontour"
                      }
                    ],
                    "mesh3d": [
                      {
                        "colorbar": {
                          "outlinewidth": 0,
                          "ticks": ""
                        },
                        "type": "mesh3d"
                      }
                    ],
                    "parcoords": [
                      {
                        "line": {
                          "colorbar": {
                            "outlinewidth": 0,
                            "ticks": ""
                          }
                        },
                        "type": "parcoords"
                      }
                    ],
                    "pie": [
                      {
                        "automargin": true,
                        "type": "pie"
                      }
                    ],
                    "scatter": [
                      {
                        "marker": {
                          "colorbar": {
                            "outlinewidth": 0,
                            "ticks": ""
                          }
                        },
                        "type": "scatter"
                      }
                    ],
                    "scatter3d": [
                      {
                        "line": {
                          "colorbar": {
                            "outlinewidth": 0,
                            "ticks": ""
                          }
                        },
                        "marker": {
                          "colorbar": {
                            "outlinewidth": 0,
                            "ticks": ""
                          }
                        },
                        "type": "scatter3d"
                      }
                    ],
                    "scattercarpet": [
                      {
                        "marker": {
                          "colorbar": {
                            "outlinewidth": 0,
                            "ticks": ""
                          }
                        },
                        "type": "scattercarpet"
                      }
                    ],
                    "scattergeo": [
                      {
                        "marker": {
                          "colorbar": {
                            "outlinewidth": 0,
                            "ticks": ""
                          }
                        },
                        "type": "scattergeo"
                      }
                    ],
                    "scattergl": [
                      {
                        "marker": {
                          "colorbar": {
                            "outlinewidth": 0,
                            "ticks": ""
                          }
                        },
                        "type": "scattergl"
                      }
                    ],
                    "scattermapbox": [
                      {
                        "marker": {
                          "colorbar": {
                            "outlinewidth": 0,
                            "ticks": ""
                          }
                        },
                        "type": "scattermapbox"
                      }
                    ],
                    "scatterpolar": [
                      {
                        "marker": {
                          "colorbar": {
                            "outlinewidth": 0,
                            "ticks": ""
                          }
                        },
                        "type": "scatterpolar"
                      }
                    ],
                    "scatterpolargl": [
                      {
                        "marker": {
                          "colorbar": {
                            "outlinewidth": 0,
                            "ticks": ""
                          }
                        },
                        "type": "scatterpolargl"
                      }
                    ],
                    "scatterternary": [
                      {
                        "marker": {
                          "colorbar": {
                            "outlinewidth": 0,
                            "ticks": ""
                          }
                        },
                        "type": "scatterternary"
                      }
                    ],
                    "surface": [
                      {
                        "colorbar": {
                          "outlinewidth": 0,
                          "ticks": ""
                        },
                        "colorscale": [
                          [
                            0,
                            "#0d0887"
                          ],
                          [
                            0.1111111111111111,
                            "#46039f"
                          ],
                          [
                            0.2222222222222222,
                            "#7201a8"
                          ],
                          [
                            0.3333333333333333,
                            "#9c179e"
                          ],
                          [
                            0.4444444444444444,
                            "#bd3786"
                          ],
                          [
                            0.5555555555555556,
                            "#d8576b"
                          ],
                          [
                            0.6666666666666666,
                            "#ed7953"
                          ],
                          [
                            0.7777777777777778,
                            "#fb9f3a"
                          ],
                          [
                            0.8888888888888888,
                            "#fdca26"
                          ],
                          [
                            1,
                            "#f0f921"
                          ]
                        ],
                        "type": "surface"
                      }
                    ],
                    "table": [
                      {
                        "cells": {
                          "fill": {
                            "color": "#EBF0F8"
                          },
                          "line": {
                            "color": "white"
                          }
                        },
                        "header": {
                          "fill": {
                            "color": "#C8D4E3"
                          },
                          "line": {
                            "color": "white"
                          }
                        },
                        "type": "table"
                      }
                    ]
                  },
                  "layout": {
                    "annotationdefaults": {
                      "arrowcolor": "#2a3f5f",
                      "arrowhead": 0,
                      "arrowwidth": 1
                    },
                    "autotypenumbers": "strict",
                    "coloraxis": {
                      "colorbar": {
                        "outlinewidth": 0,
                        "ticks": ""
                      }
                    },
                    "colorscale": {
                      "diverging": [
                        [
                          0,
                          "#8e0152"
                        ],
                        [
                          0.1,
                          "#c51b7d"
                        ],
                        [
                          0.2,
                          "#de77ae"
                        ],
                        [
                          0.3,
                          "#f1b6da"
                        ],
                        [
                          0.4,
                          "#fde0ef"
                        ],
                        [
                          0.5,
                          "#f7f7f7"
                        ],
                        [
                          0.6,
                          "#e6f5d0"
                        ],
                        [
                          0.7,
                          "#b8e186"
                        ],
                        [
                          0.8,
                          "#7fbc41"
                        ],
                        [
                          0.9,
                          "#4d9221"
                        ],
                        [
                          1,
                          "#276419"
                        ]
                      ],
                      "sequential": [
                        [
                          0,
                          "#0d0887"
                        ],
                        [
                          0.1111111111111111,
                          "#46039f"
                        ],
                        [
                          0.2222222222222222,
                          "#7201a8"
                        ],
                        [
                          0.3333333333333333,
                          "#9c179e"
                        ],
                        [
                          0.4444444444444444,
                          "#bd3786"
                        ],
                        [
                          0.5555555555555556,
                          "#d8576b"
                        ],
                        [
                          0.6666666666666666,
                          "#ed7953"
                        ],
                        [
                          0.7777777777777778,
                          "#fb9f3a"
                        ],
                        [
                          0.8888888888888888,
                          "#fdca26"
                        ],
                        [
                          1,
                          "#f0f921"
                        ]
                      ],
                      "sequentialminus": [
                        [
                          0,
                          "#0d0887"
                        ],
                        [
                          0.1111111111111111,
                          "#46039f"
                        ],
                        [
                          0.2222222222222222,
                          "#7201a8"
                        ],
                        [
                          0.3333333333333333,
                          "#9c179e"
                        ],
                        [
                          0.4444444444444444,
                          "#bd3786"
                        ],
                        [
                          0.5555555555555556,
                          "#d8576b"
                        ],
                        [
                          0.6666666666666666,
                          "#ed7953"
                        ],
                        [
                          0.7777777777777778,
                          "#fb9f3a"
                        ],
                        [
                          0.8888888888888888,
                          "#fdca26"
                        ],
                        [
                          1,
                          "#f0f921"
                        ]
                      ]
                    },
                    "colorway": [
                      "#636efa",
                      "#EF553B",
                      "#00cc96",
                      "#ab63fa",
                      "#FFA15A",
                      "#19d3f3",
                      "#FF6692",
                      "#B6E880",
                      "#FF97FF",
                      "#FECB52"
                    ],
                    "font": {
                      "color": "#2a3f5f"
                    },
                    "geo": {
                      "bgcolor": "white",
                      "lakecolor": "white",
                      "landcolor": "#E5ECF6",
                      "showlakes": true,
                      "showland": true,
                      "subunitcolor": "white"
                    },
                    "hoverlabel": {
                      "align": "left"
                    },
                    "hovermode": "closest",
                    "mapbox": {
                      "style": "light"
                    },
                    "paper_bgcolor": "white",
                    "plot_bgcolor": "#E5ECF6",
                    "polar": {
                      "angularaxis": {
                        "gridcolor": "white",
                        "linecolor": "white",
                        "ticks": ""
                      },
                      "bgcolor": "#E5ECF6",
                      "radialaxis": {
                        "gridcolor": "white",
                        "linecolor": "white",
                        "ticks": ""
                      }
                    },
                    "scene": {
                      "xaxis": {
                        "backgroundcolor": "#E5ECF6",
                        "gridcolor": "white",
                        "gridwidth": 2,
                        "linecolor": "white",
                        "showbackground": true,
                        "ticks": "",
                        "zerolinecolor": "white"
                      },
                      "yaxis": {
                        "backgroundcolor": "#E5ECF6",
                        "gridcolor": "white",
                        "gridwidth": 2,
                        "linecolor": "white",
                        "showbackground": true,
                        "ticks": "",
                        "zerolinecolor": "white"
                      },
                      "zaxis": {
                        "backgroundcolor": "#E5ECF6",
                        "gridcolor": "white",
                        "gridwidth": 2,
                        "linecolor": "white",
                        "showbackground": true,
                        "ticks": "",
                        "zerolinecolor": "white"
                      }
                    },
                    "shapedefaults": {
                      "line": {
                        "color": "#2a3f5f"
                      }
                    },
                    "ternary": {
                      "aaxis": {
                        "gridcolor": "white",
                        "linecolor": "white",
                        "ticks": ""
                      },
                      "baxis": {
                        "gridcolor": "white",
                        "linecolor": "white",
                        "ticks": ""
                      },
                      "bgcolor": "#E5ECF6",
                      "caxis": {
                        "gridcolor": "white",
                        "linecolor": "white",
                        "ticks": ""
                      }
                    },
                    "title": {
                      "x": 0.05
                    },
                    "xaxis": {
                      "automargin": true,
                      "gridcolor": "white",
                      "linecolor": "white",
                      "ticks": "",
                      "title": {
                        "standoff": 15
                      },
                      "zerolinecolor": "white",
                      "zerolinewidth": 2
                    },
                    "yaxis": {
                      "automargin": true,
                      "gridcolor": "white",
                      "linecolor": "white",
                      "ticks": "",
                      "title": {
                        "standoff": 15
                      },
                      "zerolinecolor": "white",
                      "zerolinewidth": 2
                    }
                  }
                },
                "title": {
                  "text": "Number of Prizes Awarded per Category split by Men and Women"
                },
                "xaxis": {
                  "anchor": "y",
                  "domain": [
                    0,
                    1
                  ],
                  "title": {
                    "text": "Nobel Prize Category"
                  }
                },
                "yaxis": {
                  "anchor": "x",
                  "domain": [
                    0,
                    1
                  ],
                  "title": {
                    "text": "Number of Prizes"
                  }
                }
              }
            }
          },
          "metadata": {}
        }
      ],
      "metadata": {
        "id": "XTrMUbBmFroT"
      }
    },
    {
      "cell_type": "markdown",
      "source": [
        "# Number of Prizes Awarded Over Time\n",
        "\n",
        "**Challenge**: Are more prizes awarded recently than when the prize was first created? Show the trend in awards visually. \n",
        "* Count the number of prizes awarded every year. \n",
        "* Create a 5 year rolling average of the number of prizes (Hint: see previous lessons analysing Google Trends).\n",
        "* Using Matplotlib superimpose the rolling average on a scatter plot.\n",
        "* Show a tick mark on the x-axis for every 5 years from 1900 to 2020. (Hint: you'll need to use NumPy). \n",
        "\n",
        "<img src=https://i.imgur.com/4jqYuWC.png width=650>\n",
        "\n",
        "* Use the [named colours](https://matplotlib.org/3.1.0/gallery/color/named_colors.html) to draw the data points in `dogerblue` while the rolling average is coloured in `crimson`. \n",
        "\n",
        "<img src=https://i.imgur.com/u3RlcJn.png width=350>\n",
        "\n",
        "* Looking at the chart, did the first and second world wars have an impact on the number of prizes being given out? \n",
        "* What could be the reason for the trend in the chart?\n"
      ],
      "metadata": {
        "id": "CpHaV-ZDo7MD"
      }
    },
    {
      "cell_type": "code",
      "execution_count": 188,
      "source": [
        "prize_per_year = df_data.groupby(by='year').count().prize "
      ],
      "outputs": [],
      "metadata": {
        "id": "gD316Xp5Ftsj"
      }
    },
    {
      "cell_type": "code",
      "execution_count": 189,
      "source": [
        "moving_average = prize_per_year.rolling(window=5).mean()"
      ],
      "outputs": [],
      "metadata": {
        "id": "Jjm3G7VHFtx1"
      }
    },
    {
      "cell_type": "code",
      "execution_count": 190,
      "source": [
        "plt.scatter(x=prize_per_year.index, \r\n",
        "           y=prize_per_year.values, \r\n",
        "           c='dodgerblue',\r\n",
        "           alpha=0.7,\r\n",
        "           s=100,)\r\n",
        "\r\n",
        "plt.plot(prize_per_year.index, \r\n",
        "        moving_average.values, \r\n",
        "        c='crimson', \r\n",
        "        linewidth=3,)"
      ],
      "outputs": [
        {
          "output_type": "execute_result",
          "data": {
            "text/plain": [
              "[<matplotlib.lines.Line2D at 0x157483d1e50>]"
            ]
          },
          "metadata": {},
          "execution_count": 190
        },
        {
          "output_type": "display_data",
          "data": {
            "text/plain": [
              "<Figure size 432x288 with 1 Axes>"
            ],
            "image/svg+xml": "<?xml version=\"1.0\" encoding=\"utf-8\" standalone=\"no\"?>\r\n<!DOCTYPE svg PUBLIC \"-//W3C//DTD SVG 1.1//EN\"\r\n  \"http://www.w3.org/Graphics/SVG/1.1/DTD/svg11.dtd\">\r\n<svg height=\"248.518125pt\" version=\"1.1\" viewBox=\"0 0 368.925 248.518125\" width=\"368.925pt\" xmlns=\"http://www.w3.org/2000/svg\" xmlns:xlink=\"http://www.w3.org/1999/xlink\">\r\n <metadata>\r\n  <rdf:RDF xmlns:cc=\"http://creativecommons.org/ns#\" xmlns:dc=\"http://purl.org/dc/elements/1.1/\" xmlns:rdf=\"http://www.w3.org/1999/02/22-rdf-syntax-ns#\">\r\n   <cc:Work>\r\n    <dc:type rdf:resource=\"http://purl.org/dc/dcmitype/StillImage\"/>\r\n    <dc:date>2021-08-08T12:16:54.052397</dc:date>\r\n    <dc:format>image/svg+xml</dc:format>\r\n    <dc:creator>\r\n     <cc:Agent>\r\n      <dc:title>Matplotlib v3.4.2, https://matplotlib.org/</dc:title>\r\n     </cc:Agent>\r\n    </dc:creator>\r\n   </cc:Work>\r\n  </rdf:RDF>\r\n </metadata>\r\n <defs>\r\n  <style type=\"text/css\">*{stroke-linecap:butt;stroke-linejoin:round;}</style>\r\n </defs>\r\n <g id=\"figure_1\">\r\n  <g id=\"patch_1\">\r\n   <path d=\"M -0 248.518125 \r\nL 368.925 248.518125 \r\nL 368.925 0 \r\nL -0 0 \r\nz\r\n\" style=\"fill:none;\"/>\r\n  </g>\r\n  <g id=\"axes_1\">\r\n   <g id=\"patch_2\">\r\n    <path d=\"M 26.925 224.64 \r\nL 361.725 224.64 \r\nL 361.725 7.2 \r\nL 26.925 7.2 \r\nz\r\n\" style=\"fill:#ffffff;\"/>\r\n   </g>\r\n   <g id=\"PathCollection_1\">\r\n    <defs>\r\n     <path d=\"M 0 5 \r\nC 1.326016 5 2.597899 4.473168 3.535534 3.535534 \r\nC 4.473168 2.597899 5 1.326016 5 0 \r\nC 5 -1.326016 4.473168 -2.597899 3.535534 -3.535534 \r\nC 2.597899 -4.473168 1.326016 -5 0 -5 \r\nC -1.326016 -5 -2.597899 -4.473168 -3.535534 -3.535534 \r\nC -4.473168 -2.597899 -5 -1.326016 -5 0 \r\nC -5 1.326016 -4.473168 2.597899 -3.535534 3.535534 \r\nC -2.597899 4.473168 -1.326016 5 0 5 \r\nz\r\n\" id=\"m0f44b81479\" style=\"stroke:#1e90ff;stroke-opacity:0.7;\"/>\r\n    </defs>\r\n    <g clip-path=\"url(#p7678da7fd4)\">\r\n     <use style=\"fill:#1e90ff;fill-opacity:0.7;stroke:#1e90ff;stroke-opacity:0.7;\" x=\"42.143182\" xlink:href=\"#m0f44b81479\" y=\"144.158961\"/>\r\n     <use style=\"fill:#1e90ff;fill-opacity:0.7;stroke:#1e90ff;stroke-opacity:0.7;\" x=\"44.700859\" xlink:href=\"#m0f44b81479\" y=\"130.039481\"/>\r\n     <use style=\"fill:#1e90ff;fill-opacity:0.7;stroke:#1e90ff;stroke-opacity:0.7;\" x=\"47.258537\" xlink:href=\"#m0f44b81479\" y=\"130.039481\"/>\r\n     <use style=\"fill:#1e90ff;fill-opacity:0.7;stroke:#1e90ff;stroke-opacity:0.7;\" x=\"49.816215\" xlink:href=\"#m0f44b81479\" y=\"144.158961\"/>\r\n     <use style=\"fill:#1e90ff;fill-opacity:0.7;stroke:#1e90ff;stroke-opacity:0.7;\" x=\"52.373892\" xlink:href=\"#m0f44b81479\" y=\"158.278442\"/>\r\n     <use style=\"fill:#1e90ff;fill-opacity:0.7;stroke:#1e90ff;stroke-opacity:0.7;\" x=\"54.93157\" xlink:href=\"#m0f44b81479\" y=\"144.158961\"/>\r\n     <use style=\"fill:#1e90ff;fill-opacity:0.7;stroke:#1e90ff;stroke-opacity:0.7;\" x=\"57.489248\" xlink:href=\"#m0f44b81479\" y=\"144.158961\"/>\r\n     <use style=\"fill:#1e90ff;fill-opacity:0.7;stroke:#1e90ff;stroke-opacity:0.7;\" x=\"60.046925\" xlink:href=\"#m0f44b81479\" y=\"130.039481\"/>\r\n     <use style=\"fill:#1e90ff;fill-opacity:0.7;stroke:#1e90ff;stroke-opacity:0.7;\" x=\"62.604603\" xlink:href=\"#m0f44b81479\" y=\"130.039481\"/>\r\n     <use style=\"fill:#1e90ff;fill-opacity:0.7;stroke:#1e90ff;stroke-opacity:0.7;\" x=\"65.16228\" xlink:href=\"#m0f44b81479\" y=\"158.278442\"/>\r\n     <use style=\"fill:#1e90ff;fill-opacity:0.7;stroke:#1e90ff;stroke-opacity:0.7;\" x=\"67.719958\" xlink:href=\"#m0f44b81479\" y=\"144.158961\"/>\r\n     <use style=\"fill:#1e90ff;fill-opacity:0.7;stroke:#1e90ff;stroke-opacity:0.7;\" x=\"70.277636\" xlink:href=\"#m0f44b81479\" y=\"144.158961\"/>\r\n     <use style=\"fill:#1e90ff;fill-opacity:0.7;stroke:#1e90ff;stroke-opacity:0.7;\" x=\"72.835313\" xlink:href=\"#m0f44b81479\" y=\"158.278442\"/>\r\n     <use style=\"fill:#1e90ff;fill-opacity:0.7;stroke:#1e90ff;stroke-opacity:0.7;\" x=\"75.392991\" xlink:href=\"#m0f44b81479\" y=\"186.517403\"/>\r\n     <use style=\"fill:#1e90ff;fill-opacity:0.7;stroke:#1e90ff;stroke-opacity:0.7;\" x=\"77.950668\" xlink:href=\"#m0f44b81479\" y=\"172.397922\"/>\r\n     <use style=\"fill:#1e90ff;fill-opacity:0.7;stroke:#1e90ff;stroke-opacity:0.7;\" x=\"80.508346\" xlink:href=\"#m0f44b81479\" y=\"214.756364\"/>\r\n     <use style=\"fill:#1e90ff;fill-opacity:0.7;stroke:#1e90ff;stroke-opacity:0.7;\" x=\"83.066024\" xlink:href=\"#m0f44b81479\" y=\"172.397922\"/>\r\n     <use style=\"fill:#1e90ff;fill-opacity:0.7;stroke:#1e90ff;stroke-opacity:0.7;\" x=\"85.623701\" xlink:href=\"#m0f44b81479\" y=\"200.636883\"/>\r\n     <use style=\"fill:#1e90ff;fill-opacity:0.7;stroke:#1e90ff;stroke-opacity:0.7;\" x=\"88.181379\" xlink:href=\"#m0f44b81479\" y=\"172.397922\"/>\r\n     <use style=\"fill:#1e90ff;fill-opacity:0.7;stroke:#1e90ff;stroke-opacity:0.7;\" x=\"90.739057\" xlink:href=\"#m0f44b81479\" y=\"158.278442\"/>\r\n     <use style=\"fill:#1e90ff;fill-opacity:0.7;stroke:#1e90ff;stroke-opacity:0.7;\" x=\"93.296734\" xlink:href=\"#m0f44b81479\" y=\"158.278442\"/>\r\n     <use style=\"fill:#1e90ff;fill-opacity:0.7;stroke:#1e90ff;stroke-opacity:0.7;\" x=\"95.854412\" xlink:href=\"#m0f44b81479\" y=\"144.158961\"/>\r\n     <use style=\"fill:#1e90ff;fill-opacity:0.7;stroke:#1e90ff;stroke-opacity:0.7;\" x=\"98.412089\" xlink:href=\"#m0f44b81479\" y=\"158.278442\"/>\r\n     <use style=\"fill:#1e90ff;fill-opacity:0.7;stroke:#1e90ff;stroke-opacity:0.7;\" x=\"100.969767\" xlink:href=\"#m0f44b81479\" y=\"186.517403\"/>\r\n     <use style=\"fill:#1e90ff;fill-opacity:0.7;stroke:#1e90ff;stroke-opacity:0.7;\" x=\"103.527445\" xlink:href=\"#m0f44b81479\" y=\"144.158961\"/>\r\n     <use style=\"fill:#1e90ff;fill-opacity:0.7;stroke:#1e90ff;stroke-opacity:0.7;\" x=\"106.085122\" xlink:href=\"#m0f44b81479\" y=\"144.158961\"/>\r\n     <use style=\"fill:#1e90ff;fill-opacity:0.7;stroke:#1e90ff;stroke-opacity:0.7;\" x=\"108.6428\" xlink:href=\"#m0f44b81479\" y=\"130.039481\"/>\r\n     <use style=\"fill:#1e90ff;fill-opacity:0.7;stroke:#1e90ff;stroke-opacity:0.7;\" x=\"111.200477\" xlink:href=\"#m0f44b81479\" y=\"172.397922\"/>\r\n     <use style=\"fill:#1e90ff;fill-opacity:0.7;stroke:#1e90ff;stroke-opacity:0.7;\" x=\"113.758155\" xlink:href=\"#m0f44b81479\" y=\"130.039481\"/>\r\n     <use style=\"fill:#1e90ff;fill-opacity:0.7;stroke:#1e90ff;stroke-opacity:0.7;\" x=\"116.315833\" xlink:href=\"#m0f44b81479\" y=\"158.278442\"/>\r\n     <use style=\"fill:#1e90ff;fill-opacity:0.7;stroke:#1e90ff;stroke-opacity:0.7;\" x=\"118.87351\" xlink:href=\"#m0f44b81479\" y=\"144.158961\"/>\r\n     <use style=\"fill:#1e90ff;fill-opacity:0.7;stroke:#1e90ff;stroke-opacity:0.7;\" x=\"121.431188\" xlink:href=\"#m0f44b81479\" y=\"158.278442\"/>\r\n     <use style=\"fill:#1e90ff;fill-opacity:0.7;stroke:#1e90ff;stroke-opacity:0.7;\" x=\"123.988866\" xlink:href=\"#m0f44b81479\" y=\"158.278442\"/>\r\n     <use style=\"fill:#1e90ff;fill-opacity:0.7;stroke:#1e90ff;stroke-opacity:0.7;\" x=\"126.546543\" xlink:href=\"#m0f44b81479\" y=\"144.158961\"/>\r\n     <use style=\"fill:#1e90ff;fill-opacity:0.7;stroke:#1e90ff;stroke-opacity:0.7;\" x=\"129.104221\" xlink:href=\"#m0f44b81479\" y=\"158.278442\"/>\r\n     <use style=\"fill:#1e90ff;fill-opacity:0.7;stroke:#1e90ff;stroke-opacity:0.7;\" x=\"131.661898\" xlink:href=\"#m0f44b81479\" y=\"130.039481\"/>\r\n     <use style=\"fill:#1e90ff;fill-opacity:0.7;stroke:#1e90ff;stroke-opacity:0.7;\" x=\"134.219576\" xlink:href=\"#m0f44b81479\" y=\"130.039481\"/>\r\n     <use style=\"fill:#1e90ff;fill-opacity:0.7;stroke:#1e90ff;stroke-opacity:0.7;\" x=\"136.777254\" xlink:href=\"#m0f44b81479\" y=\"158.278442\"/>\r\n     <use style=\"fill:#1e90ff;fill-opacity:0.7;stroke:#1e90ff;stroke-opacity:0.7;\" x=\"139.334931\" xlink:href=\"#m0f44b81479\" y=\"158.278442\"/>\r\n     <use style=\"fill:#1e90ff;fill-opacity:0.7;stroke:#1e90ff;stroke-opacity:0.7;\" x=\"149.565642\" xlink:href=\"#m0f44b81479\" y=\"172.397922\"/>\r\n     <use style=\"fill:#1e90ff;fill-opacity:0.7;stroke:#1e90ff;stroke-opacity:0.7;\" x=\"152.123319\" xlink:href=\"#m0f44b81479\" y=\"144.158961\"/>\r\n     <use style=\"fill:#1e90ff;fill-opacity:0.7;stroke:#1e90ff;stroke-opacity:0.7;\" x=\"154.680997\" xlink:href=\"#m0f44b81479\" y=\"130.039481\"/>\r\n     <use style=\"fill:#1e90ff;fill-opacity:0.7;stroke:#1e90ff;stroke-opacity:0.7;\" x=\"157.238675\" xlink:href=\"#m0f44b81479\" y=\"115.92\"/>\r\n     <use style=\"fill:#1e90ff;fill-opacity:0.7;stroke:#1e90ff;stroke-opacity:0.7;\" x=\"159.796352\" xlink:href=\"#m0f44b81479\" y=\"115.92\"/>\r\n     <use style=\"fill:#1e90ff;fill-opacity:0.7;stroke:#1e90ff;stroke-opacity:0.7;\" x=\"162.35403\" xlink:href=\"#m0f44b81479\" y=\"172.397922\"/>\r\n     <use style=\"fill:#1e90ff;fill-opacity:0.7;stroke:#1e90ff;stroke-opacity:0.7;\" x=\"164.911707\" xlink:href=\"#m0f44b81479\" y=\"144.158961\"/>\r\n     <use style=\"fill:#1e90ff;fill-opacity:0.7;stroke:#1e90ff;stroke-opacity:0.7;\" x=\"167.469385\" xlink:href=\"#m0f44b81479\" y=\"115.92\"/>\r\n     <use style=\"fill:#1e90ff;fill-opacity:0.7;stroke:#1e90ff;stroke-opacity:0.7;\" x=\"170.027063\" xlink:href=\"#m0f44b81479\" y=\"130.039481\"/>\r\n     <use style=\"fill:#1e90ff;fill-opacity:0.7;stroke:#1e90ff;stroke-opacity:0.7;\" x=\"172.58474\" xlink:href=\"#m0f44b81479\" y=\"130.039481\"/>\r\n     <use style=\"fill:#1e90ff;fill-opacity:0.7;stroke:#1e90ff;stroke-opacity:0.7;\" x=\"175.142418\" xlink:href=\"#m0f44b81479\" y=\"144.158961\"/>\r\n     <use style=\"fill:#1e90ff;fill-opacity:0.7;stroke:#1e90ff;stroke-opacity:0.7;\" x=\"177.700095\" xlink:href=\"#m0f44b81479\" y=\"115.92\"/>\r\n     <use style=\"fill:#1e90ff;fill-opacity:0.7;stroke:#1e90ff;stroke-opacity:0.7;\" x=\"180.257773\" xlink:href=\"#m0f44b81479\" y=\"158.278442\"/>\r\n     <use style=\"fill:#1e90ff;fill-opacity:0.7;stroke:#1e90ff;stroke-opacity:0.7;\" x=\"182.815451\" xlink:href=\"#m0f44b81479\" y=\"101.800519\"/>\r\n     <use style=\"fill:#1e90ff;fill-opacity:0.7;stroke:#1e90ff;stroke-opacity:0.7;\" x=\"185.373128\" xlink:href=\"#m0f44b81479\" y=\"144.158961\"/>\r\n     <use style=\"fill:#1e90ff;fill-opacity:0.7;stroke:#1e90ff;stroke-opacity:0.7;\" x=\"187.930806\" xlink:href=\"#m0f44b81479\" y=\"101.800519\"/>\r\n     <use style=\"fill:#1e90ff;fill-opacity:0.7;stroke:#1e90ff;stroke-opacity:0.7;\" x=\"190.488484\" xlink:href=\"#m0f44b81479\" y=\"130.039481\"/>\r\n     <use style=\"fill:#1e90ff;fill-opacity:0.7;stroke:#1e90ff;stroke-opacity:0.7;\" x=\"193.046161\" xlink:href=\"#m0f44b81479\" y=\"144.158961\"/>\r\n     <use style=\"fill:#1e90ff;fill-opacity:0.7;stroke:#1e90ff;stroke-opacity:0.7;\" x=\"195.603839\" xlink:href=\"#m0f44b81479\" y=\"144.158961\"/>\r\n     <use style=\"fill:#1e90ff;fill-opacity:0.7;stroke:#1e90ff;stroke-opacity:0.7;\" x=\"198.161516\" xlink:href=\"#m0f44b81479\" y=\"115.92\"/>\r\n     <use style=\"fill:#1e90ff;fill-opacity:0.7;stroke:#1e90ff;stroke-opacity:0.7;\" x=\"200.719194\" xlink:href=\"#m0f44b81479\" y=\"73.561558\"/>\r\n     <use style=\"fill:#1e90ff;fill-opacity:0.7;stroke:#1e90ff;stroke-opacity:0.7;\" x=\"203.276872\" xlink:href=\"#m0f44b81479\" y=\"115.92\"/>\r\n     <use style=\"fill:#1e90ff;fill-opacity:0.7;stroke:#1e90ff;stroke-opacity:0.7;\" x=\"205.834549\" xlink:href=\"#m0f44b81479\" y=\"101.800519\"/>\r\n     <use style=\"fill:#1e90ff;fill-opacity:0.7;stroke:#1e90ff;stroke-opacity:0.7;\" x=\"208.392227\" xlink:href=\"#m0f44b81479\" y=\"144.158961\"/>\r\n     <use style=\"fill:#1e90ff;fill-opacity:0.7;stroke:#1e90ff;stroke-opacity:0.7;\" x=\"210.949905\" xlink:href=\"#m0f44b81479\" y=\"115.92\"/>\r\n     <use style=\"fill:#1e90ff;fill-opacity:0.7;stroke:#1e90ff;stroke-opacity:0.7;\" x=\"213.507582\" xlink:href=\"#m0f44b81479\" y=\"130.039481\"/>\r\n     <use style=\"fill:#1e90ff;fill-opacity:0.7;stroke:#1e90ff;stroke-opacity:0.7;\" x=\"216.06526\" xlink:href=\"#m0f44b81479\" y=\"87.681039\"/>\r\n     <use style=\"fill:#1e90ff;fill-opacity:0.7;stroke:#1e90ff;stroke-opacity:0.7;\" x=\"218.622937\" xlink:href=\"#m0f44b81479\" y=\"101.800519\"/>\r\n     <use style=\"fill:#1e90ff;fill-opacity:0.7;stroke:#1e90ff;stroke-opacity:0.7;\" x=\"221.180615\" xlink:href=\"#m0f44b81479\" y=\"144.158961\"/>\r\n     <use style=\"fill:#1e90ff;fill-opacity:0.7;stroke:#1e90ff;stroke-opacity:0.7;\" x=\"223.738293\" xlink:href=\"#m0f44b81479\" y=\"73.561558\"/>\r\n     <use style=\"fill:#1e90ff;fill-opacity:0.7;stroke:#1e90ff;stroke-opacity:0.7;\" x=\"226.29597\" xlink:href=\"#m0f44b81479\" y=\"59.442078\"/>\r\n     <use style=\"fill:#1e90ff;fill-opacity:0.7;stroke:#1e90ff;stroke-opacity:0.7;\" x=\"228.853648\" xlink:href=\"#m0f44b81479\" y=\"59.442078\"/>\r\n     <use style=\"fill:#1e90ff;fill-opacity:0.7;stroke:#1e90ff;stroke-opacity:0.7;\" x=\"231.411325\" xlink:href=\"#m0f44b81479\" y=\"59.442078\"/>\r\n     <use style=\"fill:#1e90ff;fill-opacity:0.7;stroke:#1e90ff;stroke-opacity:0.7;\" x=\"233.969003\" xlink:href=\"#m0f44b81479\" y=\"101.800519\"/>\r\n     <use style=\"fill:#1e90ff;fill-opacity:0.7;stroke:#1e90ff;stroke-opacity:0.7;\" x=\"236.526681\" xlink:href=\"#m0f44b81479\" y=\"73.561558\"/>\r\n     <use style=\"fill:#1e90ff;fill-opacity:0.7;stroke:#1e90ff;stroke-opacity:0.7;\" x=\"239.084358\" xlink:href=\"#m0f44b81479\" y=\"73.561558\"/>\r\n     <use style=\"fill:#1e90ff;fill-opacity:0.7;stroke:#1e90ff;stroke-opacity:0.7;\" x=\"241.642036\" xlink:href=\"#m0f44b81479\" y=\"73.561558\"/>\r\n     <use style=\"fill:#1e90ff;fill-opacity:0.7;stroke:#1e90ff;stroke-opacity:0.7;\" x=\"244.199714\" xlink:href=\"#m0f44b81479\" y=\"73.561558\"/>\r\n     <use style=\"fill:#1e90ff;fill-opacity:0.7;stroke:#1e90ff;stroke-opacity:0.7;\" x=\"246.757391\" xlink:href=\"#m0f44b81479\" y=\"73.561558\"/>\r\n     <use style=\"fill:#1e90ff;fill-opacity:0.7;stroke:#1e90ff;stroke-opacity:0.7;\" x=\"249.315069\" xlink:href=\"#m0f44b81479\" y=\"101.800519\"/>\r\n     <use style=\"fill:#1e90ff;fill-opacity:0.7;stroke:#1e90ff;stroke-opacity:0.7;\" x=\"251.872746\" xlink:href=\"#m0f44b81479\" y=\"130.039481\"/>\r\n     <use style=\"fill:#1e90ff;fill-opacity:0.7;stroke:#1e90ff;stroke-opacity:0.7;\" x=\"254.430424\" xlink:href=\"#m0f44b81479\" y=\"101.800519\"/>\r\n     <use style=\"fill:#1e90ff;fill-opacity:0.7;stroke:#1e90ff;stroke-opacity:0.7;\" x=\"256.988102\" xlink:href=\"#m0f44b81479\" y=\"115.92\"/>\r\n     <use style=\"fill:#1e90ff;fill-opacity:0.7;stroke:#1e90ff;stroke-opacity:0.7;\" x=\"259.545779\" xlink:href=\"#m0f44b81479\" y=\"73.561558\"/>\r\n     <use style=\"fill:#1e90ff;fill-opacity:0.7;stroke:#1e90ff;stroke-opacity:0.7;\" x=\"262.103457\" xlink:href=\"#m0f44b81479\" y=\"101.800519\"/>\r\n     <use style=\"fill:#1e90ff;fill-opacity:0.7;stroke:#1e90ff;stroke-opacity:0.7;\" x=\"264.661134\" xlink:href=\"#m0f44b81479\" y=\"59.442078\"/>\r\n     <use style=\"fill:#1e90ff;fill-opacity:0.7;stroke:#1e90ff;stroke-opacity:0.7;\" x=\"267.218812\" xlink:href=\"#m0f44b81479\" y=\"87.681039\"/>\r\n     <use style=\"fill:#1e90ff;fill-opacity:0.7;stroke:#1e90ff;stroke-opacity:0.7;\" x=\"269.77649\" xlink:href=\"#m0f44b81479\" y=\"73.561558\"/>\r\n     <use style=\"fill:#1e90ff;fill-opacity:0.7;stroke:#1e90ff;stroke-opacity:0.7;\" x=\"272.334167\" xlink:href=\"#m0f44b81479\" y=\"130.039481\"/>\r\n     <use style=\"fill:#1e90ff;fill-opacity:0.7;stroke:#1e90ff;stroke-opacity:0.7;\" x=\"274.891845\" xlink:href=\"#m0f44b81479\" y=\"130.039481\"/>\r\n     <use style=\"fill:#1e90ff;fill-opacity:0.7;stroke:#1e90ff;stroke-opacity:0.7;\" x=\"277.449523\" xlink:href=\"#m0f44b81479\" y=\"73.561558\"/>\r\n     <use style=\"fill:#1e90ff;fill-opacity:0.7;stroke:#1e90ff;stroke-opacity:0.7;\" x=\"280.0072\" xlink:href=\"#m0f44b81479\" y=\"59.442078\"/>\r\n     <use style=\"fill:#1e90ff;fill-opacity:0.7;stroke:#1e90ff;stroke-opacity:0.7;\" x=\"282.564878\" xlink:href=\"#m0f44b81479\" y=\"59.442078\"/>\r\n     <use style=\"fill:#1e90ff;fill-opacity:0.7;stroke:#1e90ff;stroke-opacity:0.7;\" x=\"285.122555\" xlink:href=\"#m0f44b81479\" y=\"45.322597\"/>\r\n     <use style=\"fill:#1e90ff;fill-opacity:0.7;stroke:#1e90ff;stroke-opacity:0.7;\" x=\"287.680233\" xlink:href=\"#m0f44b81479\" y=\"59.442078\"/>\r\n     <use style=\"fill:#1e90ff;fill-opacity:0.7;stroke:#1e90ff;stroke-opacity:0.7;\" x=\"290.237911\" xlink:href=\"#m0f44b81479\" y=\"59.442078\"/>\r\n     <use style=\"fill:#1e90ff;fill-opacity:0.7;stroke:#1e90ff;stroke-opacity:0.7;\" x=\"292.795588\" xlink:href=\"#m0f44b81479\" y=\"130.039481\"/>\r\n     <use style=\"fill:#1e90ff;fill-opacity:0.7;stroke:#1e90ff;stroke-opacity:0.7;\" x=\"295.353266\" xlink:href=\"#m0f44b81479\" y=\"45.322597\"/>\r\n     <use style=\"fill:#1e90ff;fill-opacity:0.7;stroke:#1e90ff;stroke-opacity:0.7;\" x=\"297.910943\" xlink:href=\"#m0f44b81479\" y=\"17.083636\"/>\r\n     <use style=\"fill:#1e90ff;fill-opacity:0.7;stroke:#1e90ff;stroke-opacity:0.7;\" x=\"300.468621\" xlink:href=\"#m0f44b81479\" y=\"45.322597\"/>\r\n     <use style=\"fill:#1e90ff;fill-opacity:0.7;stroke:#1e90ff;stroke-opacity:0.7;\" x=\"303.026299\" xlink:href=\"#m0f44b81479\" y=\"73.561558\"/>\r\n     <use style=\"fill:#1e90ff;fill-opacity:0.7;stroke:#1e90ff;stroke-opacity:0.7;\" x=\"305.583976\" xlink:href=\"#m0f44b81479\" y=\"59.442078\"/>\r\n     <use style=\"fill:#1e90ff;fill-opacity:0.7;stroke:#1e90ff;stroke-opacity:0.7;\" x=\"308.141654\" xlink:href=\"#m0f44b81479\" y=\"45.322597\"/>\r\n     <use style=\"fill:#1e90ff;fill-opacity:0.7;stroke:#1e90ff;stroke-opacity:0.7;\" x=\"310.699332\" xlink:href=\"#m0f44b81479\" y=\"101.800519\"/>\r\n     <use style=\"fill:#1e90ff;fill-opacity:0.7;stroke:#1e90ff;stroke-opacity:0.7;\" x=\"313.257009\" xlink:href=\"#m0f44b81479\" y=\"59.442078\"/>\r\n     <use style=\"fill:#1e90ff;fill-opacity:0.7;stroke:#1e90ff;stroke-opacity:0.7;\" x=\"315.814687\" xlink:href=\"#m0f44b81479\" y=\"59.442078\"/>\r\n     <use style=\"fill:#1e90ff;fill-opacity:0.7;stroke:#1e90ff;stroke-opacity:0.7;\" x=\"318.372364\" xlink:href=\"#m0f44b81479\" y=\"45.322597\"/>\r\n     <use style=\"fill:#1e90ff;fill-opacity:0.7;stroke:#1e90ff;stroke-opacity:0.7;\" x=\"320.930042\" xlink:href=\"#m0f44b81479\" y=\"73.561558\"/>\r\n     <use style=\"fill:#1e90ff;fill-opacity:0.7;stroke:#1e90ff;stroke-opacity:0.7;\" x=\"323.48772\" xlink:href=\"#m0f44b81479\" y=\"45.322597\"/>\r\n     <use style=\"fill:#1e90ff;fill-opacity:0.7;stroke:#1e90ff;stroke-opacity:0.7;\" x=\"326.045397\" xlink:href=\"#m0f44b81479\" y=\"87.681039\"/>\r\n     <use style=\"fill:#1e90ff;fill-opacity:0.7;stroke:#1e90ff;stroke-opacity:0.7;\" x=\"328.603075\" xlink:href=\"#m0f44b81479\" y=\"45.322597\"/>\r\n     <use style=\"fill:#1e90ff;fill-opacity:0.7;stroke:#1e90ff;stroke-opacity:0.7;\" x=\"331.160752\" xlink:href=\"#m0f44b81479\" y=\"45.322597\"/>\r\n     <use style=\"fill:#1e90ff;fill-opacity:0.7;stroke:#1e90ff;stroke-opacity:0.7;\" x=\"333.71843\" xlink:href=\"#m0f44b81479\" y=\"73.561558\"/>\r\n     <use style=\"fill:#1e90ff;fill-opacity:0.7;stroke:#1e90ff;stroke-opacity:0.7;\" x=\"336.276108\" xlink:href=\"#m0f44b81479\" y=\"73.561558\"/>\r\n     <use style=\"fill:#1e90ff;fill-opacity:0.7;stroke:#1e90ff;stroke-opacity:0.7;\" x=\"338.833785\" xlink:href=\"#m0f44b81479\" y=\"59.442078\"/>\r\n     <use style=\"fill:#1e90ff;fill-opacity:0.7;stroke:#1e90ff;stroke-opacity:0.7;\" x=\"341.391463\" xlink:href=\"#m0f44b81479\" y=\"45.322597\"/>\r\n     <use style=\"fill:#1e90ff;fill-opacity:0.7;stroke:#1e90ff;stroke-opacity:0.7;\" x=\"343.949141\" xlink:href=\"#m0f44b81479\" y=\"31.203117\"/>\r\n     <use style=\"fill:#1e90ff;fill-opacity:0.7;stroke:#1e90ff;stroke-opacity:0.7;\" x=\"346.506818\" xlink:href=\"#m0f44b81479\" y=\"59.442078\"/>\r\n    </g>\r\n   </g>\r\n   <g id=\"matplotlib.axis_1\">\r\n    <g id=\"xtick_1\">\r\n     <g id=\"line2d_1\">\r\n      <defs>\r\n       <path d=\"M 0 0 \r\nL 0 3.5 \r\n\" id=\"m9ff8ab3ceb\" style=\"stroke:#000000;stroke-width:0.8;\"/>\r\n      </defs>\r\n      <g>\r\n       <use style=\"stroke:#000000;stroke-width:0.8;\" x=\"39.585504\" xlink:href=\"#m9ff8ab3ceb\" y=\"224.64\"/>\r\n      </g>\r\n     </g>\r\n     <g id=\"text_1\">\r\n      <!-- 1900 -->\r\n      <g transform=\"translate(26.860504 239.238437)scale(0.1 -0.1)\">\r\n       <defs>\r\n        <path d=\"M 794 531 \r\nL 1825 531 \r\nL 1825 4091 \r\nL 703 3866 \r\nL 703 4441 \r\nL 1819 4666 \r\nL 2450 4666 \r\nL 2450 531 \r\nL 3481 531 \r\nL 3481 0 \r\nL 794 0 \r\nL 794 531 \r\nz\r\n\" id=\"DejaVuSans-31\" transform=\"scale(0.015625)\"/>\r\n        <path d=\"M 703 97 \r\nL 703 672 \r\nQ 941 559 1184 500 \r\nQ 1428 441 1663 441 \r\nQ 2288 441 2617 861 \r\nQ 2947 1281 2994 2138 \r\nQ 2813 1869 2534 1725 \r\nQ 2256 1581 1919 1581 \r\nQ 1219 1581 811 2004 \r\nQ 403 2428 403 3163 \r\nQ 403 3881 828 4315 \r\nQ 1253 4750 1959 4750 \r\nQ 2769 4750 3195 4129 \r\nQ 3622 3509 3622 2328 \r\nQ 3622 1225 3098 567 \r\nQ 2575 -91 1691 -91 \r\nQ 1453 -91 1209 -44 \r\nQ 966 3 703 97 \r\nz\r\nM 1959 2075 \r\nQ 2384 2075 2632 2365 \r\nQ 2881 2656 2881 3163 \r\nQ 2881 3666 2632 3958 \r\nQ 2384 4250 1959 4250 \r\nQ 1534 4250 1286 3958 \r\nQ 1038 3666 1038 3163 \r\nQ 1038 2656 1286 2365 \r\nQ 1534 2075 1959 2075 \r\nz\r\n\" id=\"DejaVuSans-39\" transform=\"scale(0.015625)\"/>\r\n        <path d=\"M 2034 4250 \r\nQ 1547 4250 1301 3770 \r\nQ 1056 3291 1056 2328 \r\nQ 1056 1369 1301 889 \r\nQ 1547 409 2034 409 \r\nQ 2525 409 2770 889 \r\nQ 3016 1369 3016 2328 \r\nQ 3016 3291 2770 3770 \r\nQ 2525 4250 2034 4250 \r\nz\r\nM 2034 4750 \r\nQ 2819 4750 3233 4129 \r\nQ 3647 3509 3647 2328 \r\nQ 3647 1150 3233 529 \r\nQ 2819 -91 2034 -91 \r\nQ 1250 -91 836 529 \r\nQ 422 1150 422 2328 \r\nQ 422 3509 836 4129 \r\nQ 1250 4750 2034 4750 \r\nz\r\n\" id=\"DejaVuSans-30\" transform=\"scale(0.015625)\"/>\r\n       </defs>\r\n       <use xlink:href=\"#DejaVuSans-31\"/>\r\n       <use x=\"63.623047\" xlink:href=\"#DejaVuSans-39\"/>\r\n       <use x=\"127.246094\" xlink:href=\"#DejaVuSans-30\"/>\r\n       <use x=\"190.869141\" xlink:href=\"#DejaVuSans-30\"/>\r\n      </g>\r\n     </g>\r\n    </g>\r\n    <g id=\"xtick_2\">\r\n     <g id=\"line2d_2\">\r\n      <g>\r\n       <use style=\"stroke:#000000;stroke-width:0.8;\" x=\"90.739057\" xlink:href=\"#m9ff8ab3ceb\" y=\"224.64\"/>\r\n      </g>\r\n     </g>\r\n     <g id=\"text_2\">\r\n      <!-- 1920 -->\r\n      <g transform=\"translate(78.014057 239.238437)scale(0.1 -0.1)\">\r\n       <defs>\r\n        <path d=\"M 1228 531 \r\nL 3431 531 \r\nL 3431 0 \r\nL 469 0 \r\nL 469 531 \r\nQ 828 903 1448 1529 \r\nQ 2069 2156 2228 2338 \r\nQ 2531 2678 2651 2914 \r\nQ 2772 3150 2772 3378 \r\nQ 2772 3750 2511 3984 \r\nQ 2250 4219 1831 4219 \r\nQ 1534 4219 1204 4116 \r\nQ 875 4013 500 3803 \r\nL 500 4441 \r\nQ 881 4594 1212 4672 \r\nQ 1544 4750 1819 4750 \r\nQ 2544 4750 2975 4387 \r\nQ 3406 4025 3406 3419 \r\nQ 3406 3131 3298 2873 \r\nQ 3191 2616 2906 2266 \r\nQ 2828 2175 2409 1742 \r\nQ 1991 1309 1228 531 \r\nz\r\n\" id=\"DejaVuSans-32\" transform=\"scale(0.015625)\"/>\r\n       </defs>\r\n       <use xlink:href=\"#DejaVuSans-31\"/>\r\n       <use x=\"63.623047\" xlink:href=\"#DejaVuSans-39\"/>\r\n       <use x=\"127.246094\" xlink:href=\"#DejaVuSans-32\"/>\r\n       <use x=\"190.869141\" xlink:href=\"#DejaVuSans-30\"/>\r\n      </g>\r\n     </g>\r\n    </g>\r\n    <g id=\"xtick_3\">\r\n     <g id=\"line2d_3\">\r\n      <g>\r\n       <use style=\"stroke:#000000;stroke-width:0.8;\" x=\"141.892609\" xlink:href=\"#m9ff8ab3ceb\" y=\"224.64\"/>\r\n      </g>\r\n     </g>\r\n     <g id=\"text_3\">\r\n      <!-- 1940 -->\r\n      <g transform=\"translate(129.167609 239.238437)scale(0.1 -0.1)\">\r\n       <defs>\r\n        <path d=\"M 2419 4116 \r\nL 825 1625 \r\nL 2419 1625 \r\nL 2419 4116 \r\nz\r\nM 2253 4666 \r\nL 3047 4666 \r\nL 3047 1625 \r\nL 3713 1625 \r\nL 3713 1100 \r\nL 3047 1100 \r\nL 3047 0 \r\nL 2419 0 \r\nL 2419 1100 \r\nL 313 1100 \r\nL 313 1709 \r\nL 2253 4666 \r\nz\r\n\" id=\"DejaVuSans-34\" transform=\"scale(0.015625)\"/>\r\n       </defs>\r\n       <use xlink:href=\"#DejaVuSans-31\"/>\r\n       <use x=\"63.623047\" xlink:href=\"#DejaVuSans-39\"/>\r\n       <use x=\"127.246094\" xlink:href=\"#DejaVuSans-34\"/>\r\n       <use x=\"190.869141\" xlink:href=\"#DejaVuSans-30\"/>\r\n      </g>\r\n     </g>\r\n    </g>\r\n    <g id=\"xtick_4\">\r\n     <g id=\"line2d_4\">\r\n      <g>\r\n       <use style=\"stroke:#000000;stroke-width:0.8;\" x=\"193.046161\" xlink:href=\"#m9ff8ab3ceb\" y=\"224.64\"/>\r\n      </g>\r\n     </g>\r\n     <g id=\"text_4\">\r\n      <!-- 1960 -->\r\n      <g transform=\"translate(180.321161 239.238437)scale(0.1 -0.1)\">\r\n       <defs>\r\n        <path d=\"M 2113 2584 \r\nQ 1688 2584 1439 2293 \r\nQ 1191 2003 1191 1497 \r\nQ 1191 994 1439 701 \r\nQ 1688 409 2113 409 \r\nQ 2538 409 2786 701 \r\nQ 3034 994 3034 1497 \r\nQ 3034 2003 2786 2293 \r\nQ 2538 2584 2113 2584 \r\nz\r\nM 3366 4563 \r\nL 3366 3988 \r\nQ 3128 4100 2886 4159 \r\nQ 2644 4219 2406 4219 \r\nQ 1781 4219 1451 3797 \r\nQ 1122 3375 1075 2522 \r\nQ 1259 2794 1537 2939 \r\nQ 1816 3084 2150 3084 \r\nQ 2853 3084 3261 2657 \r\nQ 3669 2231 3669 1497 \r\nQ 3669 778 3244 343 \r\nQ 2819 -91 2113 -91 \r\nQ 1303 -91 875 529 \r\nQ 447 1150 447 2328 \r\nQ 447 3434 972 4092 \r\nQ 1497 4750 2381 4750 \r\nQ 2619 4750 2861 4703 \r\nQ 3103 4656 3366 4563 \r\nz\r\n\" id=\"DejaVuSans-36\" transform=\"scale(0.015625)\"/>\r\n       </defs>\r\n       <use xlink:href=\"#DejaVuSans-31\"/>\r\n       <use x=\"63.623047\" xlink:href=\"#DejaVuSans-39\"/>\r\n       <use x=\"127.246094\" xlink:href=\"#DejaVuSans-36\"/>\r\n       <use x=\"190.869141\" xlink:href=\"#DejaVuSans-30\"/>\r\n      </g>\r\n     </g>\r\n    </g>\r\n    <g id=\"xtick_5\">\r\n     <g id=\"line2d_5\">\r\n      <g>\r\n       <use style=\"stroke:#000000;stroke-width:0.8;\" x=\"244.199714\" xlink:href=\"#m9ff8ab3ceb\" y=\"224.64\"/>\r\n      </g>\r\n     </g>\r\n     <g id=\"text_5\">\r\n      <!-- 1980 -->\r\n      <g transform=\"translate(231.474714 239.238437)scale(0.1 -0.1)\">\r\n       <defs>\r\n        <path d=\"M 2034 2216 \r\nQ 1584 2216 1326 1975 \r\nQ 1069 1734 1069 1313 \r\nQ 1069 891 1326 650 \r\nQ 1584 409 2034 409 \r\nQ 2484 409 2743 651 \r\nQ 3003 894 3003 1313 \r\nQ 3003 1734 2745 1975 \r\nQ 2488 2216 2034 2216 \r\nz\r\nM 1403 2484 \r\nQ 997 2584 770 2862 \r\nQ 544 3141 544 3541 \r\nQ 544 4100 942 4425 \r\nQ 1341 4750 2034 4750 \r\nQ 2731 4750 3128 4425 \r\nQ 3525 4100 3525 3541 \r\nQ 3525 3141 3298 2862 \r\nQ 3072 2584 2669 2484 \r\nQ 3125 2378 3379 2068 \r\nQ 3634 1759 3634 1313 \r\nQ 3634 634 3220 271 \r\nQ 2806 -91 2034 -91 \r\nQ 1263 -91 848 271 \r\nQ 434 634 434 1313 \r\nQ 434 1759 690 2068 \r\nQ 947 2378 1403 2484 \r\nz\r\nM 1172 3481 \r\nQ 1172 3119 1398 2916 \r\nQ 1625 2713 2034 2713 \r\nQ 2441 2713 2670 2916 \r\nQ 2900 3119 2900 3481 \r\nQ 2900 3844 2670 4047 \r\nQ 2441 4250 2034 4250 \r\nQ 1625 4250 1398 4047 \r\nQ 1172 3844 1172 3481 \r\nz\r\n\" id=\"DejaVuSans-38\" transform=\"scale(0.015625)\"/>\r\n       </defs>\r\n       <use xlink:href=\"#DejaVuSans-31\"/>\r\n       <use x=\"63.623047\" xlink:href=\"#DejaVuSans-39\"/>\r\n       <use x=\"127.246094\" xlink:href=\"#DejaVuSans-38\"/>\r\n       <use x=\"190.869141\" xlink:href=\"#DejaVuSans-30\"/>\r\n      </g>\r\n     </g>\r\n    </g>\r\n    <g id=\"xtick_6\">\r\n     <g id=\"line2d_6\">\r\n      <g>\r\n       <use style=\"stroke:#000000;stroke-width:0.8;\" x=\"295.353266\" xlink:href=\"#m9ff8ab3ceb\" y=\"224.64\"/>\r\n      </g>\r\n     </g>\r\n     <g id=\"text_6\">\r\n      <!-- 2000 -->\r\n      <g transform=\"translate(282.628266 239.238437)scale(0.1 -0.1)\">\r\n       <use xlink:href=\"#DejaVuSans-32\"/>\r\n       <use x=\"63.623047\" xlink:href=\"#DejaVuSans-30\"/>\r\n       <use x=\"127.246094\" xlink:href=\"#DejaVuSans-30\"/>\r\n       <use x=\"190.869141\" xlink:href=\"#DejaVuSans-30\"/>\r\n      </g>\r\n     </g>\r\n    </g>\r\n    <g id=\"xtick_7\">\r\n     <g id=\"line2d_7\">\r\n      <g>\r\n       <use style=\"stroke:#000000;stroke-width:0.8;\" x=\"346.506818\" xlink:href=\"#m9ff8ab3ceb\" y=\"224.64\"/>\r\n      </g>\r\n     </g>\r\n     <g id=\"text_7\">\r\n      <!-- 2020 -->\r\n      <g transform=\"translate(333.781818 239.238437)scale(0.1 -0.1)\">\r\n       <use xlink:href=\"#DejaVuSans-32\"/>\r\n       <use x=\"63.623047\" xlink:href=\"#DejaVuSans-30\"/>\r\n       <use x=\"127.246094\" xlink:href=\"#DejaVuSans-32\"/>\r\n       <use x=\"190.869141\" xlink:href=\"#DejaVuSans-30\"/>\r\n      </g>\r\n     </g>\r\n    </g>\r\n   </g>\r\n   <g id=\"matplotlib.axis_2\">\r\n    <g id=\"ytick_1\">\r\n     <g id=\"line2d_8\">\r\n      <defs>\r\n       <path d=\"M 0 0 \r\nL -3.5 0 \r\n\" id=\"m5c270085e7\" style=\"stroke:#000000;stroke-width:0.8;\"/>\r\n      </defs>\r\n      <g>\r\n       <use style=\"stroke:#000000;stroke-width:0.8;\" x=\"26.925\" xlink:href=\"#m5c270085e7\" y=\"200.636883\"/>\r\n      </g>\r\n     </g>\r\n     <g id=\"text_8\">\r\n      <!-- 2 -->\r\n      <g transform=\"translate(13.5625 204.436102)scale(0.1 -0.1)\">\r\n       <use xlink:href=\"#DejaVuSans-32\"/>\r\n      </g>\r\n     </g>\r\n    </g>\r\n    <g id=\"ytick_2\">\r\n     <g id=\"line2d_9\">\r\n      <g>\r\n       <use style=\"stroke:#000000;stroke-width:0.8;\" x=\"26.925\" xlink:href=\"#m5c270085e7\" y=\"172.397922\"/>\r\n      </g>\r\n     </g>\r\n     <g id=\"text_9\">\r\n      <!-- 4 -->\r\n      <g transform=\"translate(13.5625 176.197141)scale(0.1 -0.1)\">\r\n       <use xlink:href=\"#DejaVuSans-34\"/>\r\n      </g>\r\n     </g>\r\n    </g>\r\n    <g id=\"ytick_3\">\r\n     <g id=\"line2d_10\">\r\n      <g>\r\n       <use style=\"stroke:#000000;stroke-width:0.8;\" x=\"26.925\" xlink:href=\"#m5c270085e7\" y=\"144.158961\"/>\r\n      </g>\r\n     </g>\r\n     <g id=\"text_10\">\r\n      <!-- 6 -->\r\n      <g transform=\"translate(13.5625 147.95818)scale(0.1 -0.1)\">\r\n       <use xlink:href=\"#DejaVuSans-36\"/>\r\n      </g>\r\n     </g>\r\n    </g>\r\n    <g id=\"ytick_4\">\r\n     <g id=\"line2d_11\">\r\n      <g>\r\n       <use style=\"stroke:#000000;stroke-width:0.8;\" x=\"26.925\" xlink:href=\"#m5c270085e7\" y=\"115.92\"/>\r\n      </g>\r\n     </g>\r\n     <g id=\"text_11\">\r\n      <!-- 8 -->\r\n      <g transform=\"translate(13.5625 119.719219)scale(0.1 -0.1)\">\r\n       <use xlink:href=\"#DejaVuSans-38\"/>\r\n      </g>\r\n     </g>\r\n    </g>\r\n    <g id=\"ytick_5\">\r\n     <g id=\"line2d_12\">\r\n      <g>\r\n       <use style=\"stroke:#000000;stroke-width:0.8;\" x=\"26.925\" xlink:href=\"#m5c270085e7\" y=\"87.681039\"/>\r\n      </g>\r\n     </g>\r\n     <g id=\"text_12\">\r\n      <!-- 10 -->\r\n      <g transform=\"translate(7.2 91.480258)scale(0.1 -0.1)\">\r\n       <use xlink:href=\"#DejaVuSans-31\"/>\r\n       <use x=\"63.623047\" xlink:href=\"#DejaVuSans-30\"/>\r\n      </g>\r\n     </g>\r\n    </g>\r\n    <g id=\"ytick_6\">\r\n     <g id=\"line2d_13\">\r\n      <g>\r\n       <use style=\"stroke:#000000;stroke-width:0.8;\" x=\"26.925\" xlink:href=\"#m5c270085e7\" y=\"59.442078\"/>\r\n      </g>\r\n     </g>\r\n     <g id=\"text_13\">\r\n      <!-- 12 -->\r\n      <g transform=\"translate(7.2 63.241297)scale(0.1 -0.1)\">\r\n       <use xlink:href=\"#DejaVuSans-31\"/>\r\n       <use x=\"63.623047\" xlink:href=\"#DejaVuSans-32\"/>\r\n      </g>\r\n     </g>\r\n    </g>\r\n    <g id=\"ytick_7\">\r\n     <g id=\"line2d_14\">\r\n      <g>\r\n       <use style=\"stroke:#000000;stroke-width:0.8;\" x=\"26.925\" xlink:href=\"#m5c270085e7\" y=\"31.203117\"/>\r\n      </g>\r\n     </g>\r\n     <g id=\"text_14\">\r\n      <!-- 14 -->\r\n      <g transform=\"translate(7.2 35.002336)scale(0.1 -0.1)\">\r\n       <use xlink:href=\"#DejaVuSans-31\"/>\r\n       <use x=\"63.623047\" xlink:href=\"#DejaVuSans-34\"/>\r\n      </g>\r\n     </g>\r\n    </g>\r\n   </g>\r\n   <g id=\"line2d_15\">\r\n    <path clip-path=\"url(#p7678da7fd4)\" d=\"M 52.373892 141.335065 \r\nL 54.93157 141.335065 \r\nL 57.489248 144.158961 \r\nL 60.046925 144.158961 \r\nL 62.604603 141.335065 \r\nL 65.16228 141.335065 \r\nL 67.719958 141.335065 \r\nL 70.277636 141.335065 \r\nL 72.835313 146.982857 \r\nL 75.392991 158.278442 \r\nL 77.950668 161.102338 \r\nL 80.508346 175.221818 \r\nL 83.066024 180.86961 \r\nL 85.623701 189.341299 \r\nL 88.181379 186.517403 \r\nL 90.739057 183.693506 \r\nL 93.296734 172.397922 \r\nL 95.854412 166.75013 \r\nL 98.412089 158.278442 \r\nL 100.969767 161.102338 \r\nL 103.527445 158.278442 \r\nL 106.085122 155.454545 \r\nL 108.6428 152.630649 \r\nL 111.200477 155.454545 \r\nL 113.758155 144.158961 \r\nL 116.315833 146.982857 \r\nL 118.87351 146.982857 \r\nL 121.431188 152.630649 \r\nL 123.988866 149.806753 \r\nL 126.546543 152.630649 \r\nL 129.104221 152.630649 \r\nL 131.661898 149.806753 \r\nL 134.219576 144.158961 \r\nL 136.777254 144.158961 \r\nL 139.334931 146.982857 \r\nL 149.565642 149.806753 \r\nL 152.123319 152.630649 \r\nL 154.680997 152.630649 \r\nL 157.238675 144.158961 \r\nL 159.796352 135.687273 \r\nL 162.35403 135.687273 \r\nL 164.911707 135.687273 \r\nL 167.469385 132.863377 \r\nL 170.027063 135.687273 \r\nL 172.58474 138.511169 \r\nL 175.142418 132.863377 \r\nL 177.700095 127.215584 \r\nL 180.257773 135.687273 \r\nL 182.815451 130.039481 \r\nL 185.373128 132.863377 \r\nL 187.930806 124.391688 \r\nL 190.488484 127.215584 \r\nL 193.046161 124.391688 \r\nL 195.603839 132.863377 \r\nL 198.161516 127.215584 \r\nL 200.719194 121.567792 \r\nL 203.276872 118.743896 \r\nL 205.834549 110.272208 \r\nL 208.392227 110.272208 \r\nL 210.949905 110.272208 \r\nL 213.507582 121.567792 \r\nL 216.06526 115.92 \r\nL 218.622937 115.92 \r\nL 221.180615 115.92 \r\nL 223.738293 107.448312 \r\nL 226.29597 93.328831 \r\nL 228.853648 87.681039 \r\nL 231.411325 79.209351 \r\nL 233.969003 70.737662 \r\nL 236.526681 70.737662 \r\nL 239.084358 73.561558 \r\nL 241.642036 76.385455 \r\nL 244.199714 79.209351 \r\nL 246.757391 73.561558 \r\nL 249.315069 79.209351 \r\nL 251.872746 90.504935 \r\nL 254.430424 96.152727 \r\nL 256.988102 104.624416 \r\nL 259.545779 104.624416 \r\nL 262.103457 104.624416 \r\nL 264.661134 90.504935 \r\nL 267.218812 87.681039 \r\nL 269.77649 79.209351 \r\nL 272.334167 90.504935 \r\nL 274.891845 96.152727 \r\nL 277.449523 98.976623 \r\nL 280.0072 93.328831 \r\nL 282.564878 90.504935 \r\nL 285.122555 73.561558 \r\nL 287.680233 59.442078 \r\nL 290.237911 56.618182 \r\nL 292.795588 70.737662 \r\nL 295.353266 67.913766 \r\nL 297.910943 62.265974 \r\nL 300.468621 59.442078 \r\nL 303.026299 62.265974 \r\nL 305.583976 48.146494 \r\nL 308.141654 48.146494 \r\nL 310.699332 65.08987 \r\nL 313.257009 67.913766 \r\nL 315.814687 65.08987 \r\nL 318.372364 62.265974 \r\nL 320.930042 67.913766 \r\nL 323.48772 56.618182 \r\nL 326.045397 62.265974 \r\nL 328.603075 59.442078 \r\nL 331.160752 59.442078 \r\nL 333.71843 59.442078 \r\nL 336.276108 65.08987 \r\nL 338.833785 59.442078 \r\nL 341.391463 59.442078 \r\nL 343.949141 56.618182 \r\nL 346.506818 53.794286 \r\n\" style=\"fill:none;stroke:#dc143c;stroke-linecap:square;stroke-width:3;\"/>\r\n   </g>\r\n   <g id=\"patch_3\">\r\n    <path d=\"M 26.925 224.64 \r\nL 26.925 7.2 \r\n\" style=\"fill:none;stroke:#000000;stroke-linecap:square;stroke-linejoin:miter;stroke-width:0.8;\"/>\r\n   </g>\r\n   <g id=\"patch_4\">\r\n    <path d=\"M 361.725 224.64 \r\nL 361.725 7.2 \r\n\" style=\"fill:none;stroke:#000000;stroke-linecap:square;stroke-linejoin:miter;stroke-width:0.8;\"/>\r\n   </g>\r\n   <g id=\"patch_5\">\r\n    <path d=\"M 26.925 224.64 \r\nL 361.725 224.64 \r\n\" style=\"fill:none;stroke:#000000;stroke-linecap:square;stroke-linejoin:miter;stroke-width:0.8;\"/>\r\n   </g>\r\n   <g id=\"patch_6\">\r\n    <path d=\"M 26.925 7.2 \r\nL 361.725 7.2 \r\n\" style=\"fill:none;stroke:#000000;stroke-linecap:square;stroke-linejoin:miter;stroke-width:0.8;\"/>\r\n   </g>\r\n  </g>\r\n </g>\r\n <defs>\r\n  <clipPath id=\"p7678da7fd4\">\r\n   <rect height=\"217.44\" width=\"334.8\" x=\"26.925\" y=\"7.2\"/>\r\n  </clipPath>\r\n </defs>\r\n</svg>\r\n",
            "image/png": "[encoded data removed]"
          },
          "metadata": {
            "needs_background": "light"
          }
        }
      ],
      "metadata": {
        "id": "NgVzgknLFtvP"
      }
    },
    {
      "cell_type": "markdown",
      "source": [
        "# Are More Prizes Shared Than Before?\n",
        "\n",
        "**Challenge**: Investigate if more prizes are shared than before. \n",
        "\n",
        "* Calculate the average prize share of the winners on a year by year basis.\n",
        "* Calculate the 5 year rolling average of the percentage share.\n",
        "* Copy-paste the cell from the chart you created above.\n",
        "* Modify the code to add a secondary axis to your Matplotlib chart.\n",
        "* Plot the rolling average of the prize share on this chart. \n",
        "* See if you can invert the secondary y-axis to make the relationship even more clear. "
      ],
      "metadata": {
        "id": "gZWAAkdJo7MJ"
      }
    },
    {
      "cell_type": "code",
      "execution_count": 191,
      "source": [
        "np.arange(1900, 2021, step=5)"
      ],
      "outputs": [
        {
          "output_type": "execute_result",
          "data": {
            "text/plain": [
              "array([1900, 1905, 1910, 1915, 1920, 1925, 1930, 1935, 1940, 1945, 1950,\n",
              "       1955, 1960, 1965, 1970, 1975, 1980, 1985, 1990, 1995, 2000, 2005,\n",
              "       2010, 2015, 2020])"
            ]
          },
          "metadata": {},
          "execution_count": 191
        }
      ],
      "metadata": {
        "id": "If8-ZFoOFwph"
      }
    },
    {
      "cell_type": "code",
      "execution_count": 192,
      "source": [
        "plt.figure(figsize=(16,8), dpi=200)\r\n",
        "plt.title('Number of Nobel Prizes Awarded per Year', fontsize=18)\r\n",
        "plt.yticks(fontsize=14)\r\n",
        "plt.xticks(ticks=np.arange(1900, 2021, step=5), \r\n",
        "           fontsize=14, \r\n",
        "           rotation=45)\r\n",
        " \r\n",
        "ax1 = plt.gca()\r\n",
        "ax2 = ax1.twinx() # create second y-axis\r\n",
        "ax1.set_xlim(1900, 2020)\r\n",
        " \r\n",
        "ax1.scatter(x=prize_per_year.index, \r\n",
        "           y=prize_per_year.values, \r\n",
        "           c='dodgerblue',\r\n",
        "           alpha=0.7,\r\n",
        "           s=100,)\r\n",
        " \r\n",
        "ax1.plot(prize_per_year.index, \r\n",
        "        moving_average.values, \r\n",
        "        c='crimson', \r\n",
        "        linewidth=3,)\r\n",
        "\r\n",
        "yearly_avg_share = df_data.groupby(by='year').agg({'share_pct': pd.Series.mean})\r\n",
        "share_moving_average = yearly_avg_share.rolling(window=5).mean()\r\n",
        "\r\n",
        "# Adding prize share plot on second axis\r\n",
        "ax2.plot(prize_per_year.index, \r\n",
        "        share_moving_average.values, \r\n",
        "        c='grey', \r\n",
        "        linewidth=3,)\r\n",
        " \r\n",
        "plt.show()"
      ],
      "outputs": [
        {
          "output_type": "display_data",
          "data": {
            "text/plain": [
              "<Figure size 3200x1600 with 2 Axes>"
            ],
            "image/svg+xml": "<?xml version=\"1.0\" encoding=\"utf-8\" standalone=\"no\"?>\r\n<!DOCTYPE svg PUBLIC \"-//W3C//DTD SVG 1.1//EN\"\r\n  \"http://www.w3.org/Graphics/SVG/1.1/DTD/svg11.dtd\">\r\n<svg height=\"510.732257pt\" version=\"1.1\" viewBox=\"0 0 954.918125 510.732257\" width=\"954.918125pt\" xmlns=\"http://www.w3.org/2000/svg\" xmlns:xlink=\"http://www.w3.org/1999/xlink\">\r\n <metadata>\r\n  <rdf:RDF xmlns:cc=\"http://creativecommons.org/ns#\" xmlns:dc=\"http://purl.org/dc/elements/1.1/\" xmlns:rdf=\"http://www.w3.org/1999/02/22-rdf-syntax-ns#\">\r\n   <cc:Work>\r\n    <dc:type rdf:resource=\"http://purl.org/dc/dcmitype/StillImage\"/>\r\n    <dc:date>2021-08-08T12:16:54.323505</dc:date>\r\n    <dc:format>image/svg+xml</dc:format>\r\n    <dc:creator>\r\n     <cc:Agent>\r\n      <dc:title>Matplotlib v3.4.2, https://matplotlib.org/</dc:title>\r\n     </cc:Agent>\r\n    </dc:creator>\r\n   </cc:Work>\r\n  </rdf:RDF>\r\n </metadata>\r\n <defs>\r\n  <style type=\"text/css\">*{stroke-linecap:butt;stroke-linejoin:round;}</style>\r\n </defs>\r\n <g id=\"figure_1\">\r\n  <g id=\"patch_1\">\r\n   <path d=\"M 0 510.732257 \r\nL 954.918125 510.732257 \r\nL 954.918125 0 \r\nL 0 0 \r\nz\r\n\" style=\"fill:none;\"/>\r\n  </g>\r\n  <g id=\"axes_1\">\r\n   <g id=\"patch_2\">\r\n    <path d=\"M 32.015 461.757187 \r\nL 924.815 461.757187 \r\nL 924.815 26.877187 \r\nL 32.015 26.877187 \r\nz\r\n\" style=\"fill:#ffffff;\"/>\r\n   </g>\r\n   <g id=\"PathCollection_1\">\r\n    <defs>\r\n     <path d=\"M 0 5 \r\nC 1.326016 5 2.597899 4.473168 3.535534 3.535534 \r\nC 4.473168 2.597899 5 1.326016 5 0 \r\nC 5 -1.326016 4.473168 -2.597899 3.535534 -3.535534 \r\nC 2.597899 -4.473168 1.326016 -5 0 -5 \r\nC -1.326016 -5 -2.597899 -4.473168 -3.535534 -3.535534 \r\nC -4.473168 -2.597899 -5 -1.326016 -5 0 \r\nC -5 1.326016 -4.473168 2.597899 -3.535534 3.535534 \r\nC -2.597899 4.473168 -1.326016 5 0 5 \r\nz\r\n\" id=\"m66508a159b\" style=\"stroke:#1e90ff;stroke-opacity:0.7;\"/>\r\n    </defs>\r\n    <g clip-path=\"url(#pc2b67356fd)\">\r\n     <use style=\"fill:#1e90ff;fill-opacity:0.7;stroke:#1e90ff;stroke-opacity:0.7;\" x=\"39.455\" xlink:href=\"#m66508a159b\" y=\"300.79511\"/>\r\n     <use style=\"fill:#1e90ff;fill-opacity:0.7;stroke:#1e90ff;stroke-opacity:0.7;\" x=\"46.895\" xlink:href=\"#m66508a159b\" y=\"272.556149\"/>\r\n     <use style=\"fill:#1e90ff;fill-opacity:0.7;stroke:#1e90ff;stroke-opacity:0.7;\" x=\"54.335\" xlink:href=\"#m66508a159b\" y=\"272.556149\"/>\r\n     <use style=\"fill:#1e90ff;fill-opacity:0.7;stroke:#1e90ff;stroke-opacity:0.7;\" x=\"61.775\" xlink:href=\"#m66508a159b\" y=\"300.79511\"/>\r\n     <use style=\"fill:#1e90ff;fill-opacity:0.7;stroke:#1e90ff;stroke-opacity:0.7;\" x=\"69.215\" xlink:href=\"#m66508a159b\" y=\"329.034071\"/>\r\n     <use style=\"fill:#1e90ff;fill-opacity:0.7;stroke:#1e90ff;stroke-opacity:0.7;\" x=\"76.655\" xlink:href=\"#m66508a159b\" y=\"300.79511\"/>\r\n     <use style=\"fill:#1e90ff;fill-opacity:0.7;stroke:#1e90ff;stroke-opacity:0.7;\" x=\"84.095\" xlink:href=\"#m66508a159b\" y=\"300.79511\"/>\r\n     <use style=\"fill:#1e90ff;fill-opacity:0.7;stroke:#1e90ff;stroke-opacity:0.7;\" x=\"91.535\" xlink:href=\"#m66508a159b\" y=\"272.556149\"/>\r\n     <use style=\"fill:#1e90ff;fill-opacity:0.7;stroke:#1e90ff;stroke-opacity:0.7;\" x=\"98.975\" xlink:href=\"#m66508a159b\" y=\"272.556149\"/>\r\n     <use style=\"fill:#1e90ff;fill-opacity:0.7;stroke:#1e90ff;stroke-opacity:0.7;\" x=\"106.415\" xlink:href=\"#m66508a159b\" y=\"329.034071\"/>\r\n     <use style=\"fill:#1e90ff;fill-opacity:0.7;stroke:#1e90ff;stroke-opacity:0.7;\" x=\"113.855\" xlink:href=\"#m66508a159b\" y=\"300.79511\"/>\r\n     <use style=\"fill:#1e90ff;fill-opacity:0.7;stroke:#1e90ff;stroke-opacity:0.7;\" x=\"121.295\" xlink:href=\"#m66508a159b\" y=\"300.79511\"/>\r\n     <use style=\"fill:#1e90ff;fill-opacity:0.7;stroke:#1e90ff;stroke-opacity:0.7;\" x=\"128.735\" xlink:href=\"#m66508a159b\" y=\"329.034071\"/>\r\n     <use style=\"fill:#1e90ff;fill-opacity:0.7;stroke:#1e90ff;stroke-opacity:0.7;\" x=\"136.175\" xlink:href=\"#m66508a159b\" y=\"385.511993\"/>\r\n     <use style=\"fill:#1e90ff;fill-opacity:0.7;stroke:#1e90ff;stroke-opacity:0.7;\" x=\"143.615\" xlink:href=\"#m66508a159b\" y=\"357.273032\"/>\r\n     <use style=\"fill:#1e90ff;fill-opacity:0.7;stroke:#1e90ff;stroke-opacity:0.7;\" x=\"151.055\" xlink:href=\"#m66508a159b\" y=\"441.989915\"/>\r\n     <use style=\"fill:#1e90ff;fill-opacity:0.7;stroke:#1e90ff;stroke-opacity:0.7;\" x=\"158.495\" xlink:href=\"#m66508a159b\" y=\"357.273032\"/>\r\n     <use style=\"fill:#1e90ff;fill-opacity:0.7;stroke:#1e90ff;stroke-opacity:0.7;\" x=\"165.935\" xlink:href=\"#m66508a159b\" y=\"413.750954\"/>\r\n     <use style=\"fill:#1e90ff;fill-opacity:0.7;stroke:#1e90ff;stroke-opacity:0.7;\" x=\"173.375\" xlink:href=\"#m66508a159b\" y=\"357.273032\"/>\r\n     <use style=\"fill:#1e90ff;fill-opacity:0.7;stroke:#1e90ff;stroke-opacity:0.7;\" x=\"180.815\" xlink:href=\"#m66508a159b\" y=\"329.034071\"/>\r\n     <use style=\"fill:#1e90ff;fill-opacity:0.7;stroke:#1e90ff;stroke-opacity:0.7;\" x=\"188.255\" xlink:href=\"#m66508a159b\" y=\"329.034071\"/>\r\n     <use style=\"fill:#1e90ff;fill-opacity:0.7;stroke:#1e90ff;stroke-opacity:0.7;\" x=\"195.695\" xlink:href=\"#m66508a159b\" y=\"300.79511\"/>\r\n     <use style=\"fill:#1e90ff;fill-opacity:0.7;stroke:#1e90ff;stroke-opacity:0.7;\" x=\"203.135\" xlink:href=\"#m66508a159b\" y=\"329.034071\"/>\r\n     <use style=\"fill:#1e90ff;fill-opacity:0.7;stroke:#1e90ff;stroke-opacity:0.7;\" x=\"210.575\" xlink:href=\"#m66508a159b\" y=\"385.511993\"/>\r\n     <use style=\"fill:#1e90ff;fill-opacity:0.7;stroke:#1e90ff;stroke-opacity:0.7;\" x=\"218.015\" xlink:href=\"#m66508a159b\" y=\"300.79511\"/>\r\n     <use style=\"fill:#1e90ff;fill-opacity:0.7;stroke:#1e90ff;stroke-opacity:0.7;\" x=\"225.455\" xlink:href=\"#m66508a159b\" y=\"300.79511\"/>\r\n     <use style=\"fill:#1e90ff;fill-opacity:0.7;stroke:#1e90ff;stroke-opacity:0.7;\" x=\"232.895\" xlink:href=\"#m66508a159b\" y=\"272.556149\"/>\r\n     <use style=\"fill:#1e90ff;fill-opacity:0.7;stroke:#1e90ff;stroke-opacity:0.7;\" x=\"240.335\" xlink:href=\"#m66508a159b\" y=\"357.273032\"/>\r\n     <use style=\"fill:#1e90ff;fill-opacity:0.7;stroke:#1e90ff;stroke-opacity:0.7;\" x=\"247.775\" xlink:href=\"#m66508a159b\" y=\"272.556149\"/>\r\n     <use style=\"fill:#1e90ff;fill-opacity:0.7;stroke:#1e90ff;stroke-opacity:0.7;\" x=\"255.215\" xlink:href=\"#m66508a159b\" y=\"329.034071\"/>\r\n     <use style=\"fill:#1e90ff;fill-opacity:0.7;stroke:#1e90ff;stroke-opacity:0.7;\" x=\"262.655\" xlink:href=\"#m66508a159b\" y=\"300.79511\"/>\r\n     <use style=\"fill:#1e90ff;fill-opacity:0.7;stroke:#1e90ff;stroke-opacity:0.7;\" x=\"270.095\" xlink:href=\"#m66508a159b\" y=\"329.034071\"/>\r\n     <use style=\"fill:#1e90ff;fill-opacity:0.7;stroke:#1e90ff;stroke-opacity:0.7;\" x=\"277.535\" xlink:href=\"#m66508a159b\" y=\"329.034071\"/>\r\n     <use style=\"fill:#1e90ff;fill-opacity:0.7;stroke:#1e90ff;stroke-opacity:0.7;\" x=\"284.975\" xlink:href=\"#m66508a159b\" y=\"300.79511\"/>\r\n     <use style=\"fill:#1e90ff;fill-opacity:0.7;stroke:#1e90ff;stroke-opacity:0.7;\" x=\"292.415\" xlink:href=\"#m66508a159b\" y=\"329.034071\"/>\r\n     <use style=\"fill:#1e90ff;fill-opacity:0.7;stroke:#1e90ff;stroke-opacity:0.7;\" x=\"299.855\" xlink:href=\"#m66508a159b\" y=\"272.556149\"/>\r\n     <use style=\"fill:#1e90ff;fill-opacity:0.7;stroke:#1e90ff;stroke-opacity:0.7;\" x=\"307.295\" xlink:href=\"#m66508a159b\" y=\"272.556149\"/>\r\n     <use style=\"fill:#1e90ff;fill-opacity:0.7;stroke:#1e90ff;stroke-opacity:0.7;\" x=\"314.735\" xlink:href=\"#m66508a159b\" y=\"329.034071\"/>\r\n     <use style=\"fill:#1e90ff;fill-opacity:0.7;stroke:#1e90ff;stroke-opacity:0.7;\" x=\"322.175\" xlink:href=\"#m66508a159b\" y=\"329.034071\"/>\r\n     <use style=\"fill:#1e90ff;fill-opacity:0.7;stroke:#1e90ff;stroke-opacity:0.7;\" x=\"351.935\" xlink:href=\"#m66508a159b\" y=\"357.273032\"/>\r\n     <use style=\"fill:#1e90ff;fill-opacity:0.7;stroke:#1e90ff;stroke-opacity:0.7;\" x=\"359.375\" xlink:href=\"#m66508a159b\" y=\"300.79511\"/>\r\n     <use style=\"fill:#1e90ff;fill-opacity:0.7;stroke:#1e90ff;stroke-opacity:0.7;\" x=\"366.815\" xlink:href=\"#m66508a159b\" y=\"272.556149\"/>\r\n     <use style=\"fill:#1e90ff;fill-opacity:0.7;stroke:#1e90ff;stroke-opacity:0.7;\" x=\"374.255\" xlink:href=\"#m66508a159b\" y=\"244.317187\"/>\r\n     <use style=\"fill:#1e90ff;fill-opacity:0.7;stroke:#1e90ff;stroke-opacity:0.7;\" x=\"381.695\" xlink:href=\"#m66508a159b\" y=\"244.317187\"/>\r\n     <use style=\"fill:#1e90ff;fill-opacity:0.7;stroke:#1e90ff;stroke-opacity:0.7;\" x=\"389.135\" xlink:href=\"#m66508a159b\" y=\"357.273032\"/>\r\n     <use style=\"fill:#1e90ff;fill-opacity:0.7;stroke:#1e90ff;stroke-opacity:0.7;\" x=\"396.575\" xlink:href=\"#m66508a159b\" y=\"300.79511\"/>\r\n     <use style=\"fill:#1e90ff;fill-opacity:0.7;stroke:#1e90ff;stroke-opacity:0.7;\" x=\"404.015\" xlink:href=\"#m66508a159b\" y=\"244.317187\"/>\r\n     <use style=\"fill:#1e90ff;fill-opacity:0.7;stroke:#1e90ff;stroke-opacity:0.7;\" x=\"411.455\" xlink:href=\"#m66508a159b\" y=\"272.556149\"/>\r\n     <use style=\"fill:#1e90ff;fill-opacity:0.7;stroke:#1e90ff;stroke-opacity:0.7;\" x=\"418.895\" xlink:href=\"#m66508a159b\" y=\"272.556149\"/>\r\n     <use style=\"fill:#1e90ff;fill-opacity:0.7;stroke:#1e90ff;stroke-opacity:0.7;\" x=\"426.335\" xlink:href=\"#m66508a159b\" y=\"300.79511\"/>\r\n     <use style=\"fill:#1e90ff;fill-opacity:0.7;stroke:#1e90ff;stroke-opacity:0.7;\" x=\"433.775\" xlink:href=\"#m66508a159b\" y=\"244.317187\"/>\r\n     <use style=\"fill:#1e90ff;fill-opacity:0.7;stroke:#1e90ff;stroke-opacity:0.7;\" x=\"441.215\" xlink:href=\"#m66508a159b\" y=\"329.034071\"/>\r\n     <use style=\"fill:#1e90ff;fill-opacity:0.7;stroke:#1e90ff;stroke-opacity:0.7;\" x=\"448.655\" xlink:href=\"#m66508a159b\" y=\"216.078226\"/>\r\n     <use style=\"fill:#1e90ff;fill-opacity:0.7;stroke:#1e90ff;stroke-opacity:0.7;\" x=\"456.095\" xlink:href=\"#m66508a159b\" y=\"300.79511\"/>\r\n     <use style=\"fill:#1e90ff;fill-opacity:0.7;stroke:#1e90ff;stroke-opacity:0.7;\" x=\"463.535\" xlink:href=\"#m66508a159b\" y=\"216.078226\"/>\r\n     <use style=\"fill:#1e90ff;fill-opacity:0.7;stroke:#1e90ff;stroke-opacity:0.7;\" x=\"470.975\" xlink:href=\"#m66508a159b\" y=\"272.556149\"/>\r\n     <use style=\"fill:#1e90ff;fill-opacity:0.7;stroke:#1e90ff;stroke-opacity:0.7;\" x=\"478.415\" xlink:href=\"#m66508a159b\" y=\"300.79511\"/>\r\n     <use style=\"fill:#1e90ff;fill-opacity:0.7;stroke:#1e90ff;stroke-opacity:0.7;\" x=\"485.855\" xlink:href=\"#m66508a159b\" y=\"300.79511\"/>\r\n     <use style=\"fill:#1e90ff;fill-opacity:0.7;stroke:#1e90ff;stroke-opacity:0.7;\" x=\"493.295\" xlink:href=\"#m66508a159b\" y=\"244.317187\"/>\r\n     <use style=\"fill:#1e90ff;fill-opacity:0.7;stroke:#1e90ff;stroke-opacity:0.7;\" x=\"500.735\" xlink:href=\"#m66508a159b\" y=\"159.600304\"/>\r\n     <use style=\"fill:#1e90ff;fill-opacity:0.7;stroke:#1e90ff;stroke-opacity:0.7;\" x=\"508.175\" xlink:href=\"#m66508a159b\" y=\"244.317187\"/>\r\n     <use style=\"fill:#1e90ff;fill-opacity:0.7;stroke:#1e90ff;stroke-opacity:0.7;\" x=\"515.615\" xlink:href=\"#m66508a159b\" y=\"216.078226\"/>\r\n     <use style=\"fill:#1e90ff;fill-opacity:0.7;stroke:#1e90ff;stroke-opacity:0.7;\" x=\"523.055\" xlink:href=\"#m66508a159b\" y=\"300.79511\"/>\r\n     <use style=\"fill:#1e90ff;fill-opacity:0.7;stroke:#1e90ff;stroke-opacity:0.7;\" x=\"530.495\" xlink:href=\"#m66508a159b\" y=\"244.317187\"/>\r\n     <use style=\"fill:#1e90ff;fill-opacity:0.7;stroke:#1e90ff;stroke-opacity:0.7;\" x=\"537.935\" xlink:href=\"#m66508a159b\" y=\"272.556149\"/>\r\n     <use style=\"fill:#1e90ff;fill-opacity:0.7;stroke:#1e90ff;stroke-opacity:0.7;\" x=\"545.375\" xlink:href=\"#m66508a159b\" y=\"187.839265\"/>\r\n     <use style=\"fill:#1e90ff;fill-opacity:0.7;stroke:#1e90ff;stroke-opacity:0.7;\" x=\"552.815\" xlink:href=\"#m66508a159b\" y=\"216.078226\"/>\r\n     <use style=\"fill:#1e90ff;fill-opacity:0.7;stroke:#1e90ff;stroke-opacity:0.7;\" x=\"560.255\" xlink:href=\"#m66508a159b\" y=\"300.79511\"/>\r\n     <use style=\"fill:#1e90ff;fill-opacity:0.7;stroke:#1e90ff;stroke-opacity:0.7;\" x=\"567.695\" xlink:href=\"#m66508a159b\" y=\"159.600304\"/>\r\n     <use style=\"fill:#1e90ff;fill-opacity:0.7;stroke:#1e90ff;stroke-opacity:0.7;\" x=\"575.135\" xlink:href=\"#m66508a159b\" y=\"131.361343\"/>\r\n     <use style=\"fill:#1e90ff;fill-opacity:0.7;stroke:#1e90ff;stroke-opacity:0.7;\" x=\"582.575\" xlink:href=\"#m66508a159b\" y=\"131.361343\"/>\r\n     <use style=\"fill:#1e90ff;fill-opacity:0.7;stroke:#1e90ff;stroke-opacity:0.7;\" x=\"590.015\" xlink:href=\"#m66508a159b\" y=\"131.361343\"/>\r\n     <use style=\"fill:#1e90ff;fill-opacity:0.7;stroke:#1e90ff;stroke-opacity:0.7;\" x=\"597.455\" xlink:href=\"#m66508a159b\" y=\"216.078226\"/>\r\n     <use style=\"fill:#1e90ff;fill-opacity:0.7;stroke:#1e90ff;stroke-opacity:0.7;\" x=\"604.895\" xlink:href=\"#m66508a159b\" y=\"159.600304\"/>\r\n     <use style=\"fill:#1e90ff;fill-opacity:0.7;stroke:#1e90ff;stroke-opacity:0.7;\" x=\"612.335\" xlink:href=\"#m66508a159b\" y=\"159.600304\"/>\r\n     <use style=\"fill:#1e90ff;fill-opacity:0.7;stroke:#1e90ff;stroke-opacity:0.7;\" x=\"619.775\" xlink:href=\"#m66508a159b\" y=\"159.600304\"/>\r\n     <use style=\"fill:#1e90ff;fill-opacity:0.7;stroke:#1e90ff;stroke-opacity:0.7;\" x=\"627.215\" xlink:href=\"#m66508a159b\" y=\"159.600304\"/>\r\n     <use style=\"fill:#1e90ff;fill-opacity:0.7;stroke:#1e90ff;stroke-opacity:0.7;\" x=\"634.655\" xlink:href=\"#m66508a159b\" y=\"159.600304\"/>\r\n     <use style=\"fill:#1e90ff;fill-opacity:0.7;stroke:#1e90ff;stroke-opacity:0.7;\" x=\"642.095\" xlink:href=\"#m66508a159b\" y=\"216.078226\"/>\r\n     <use style=\"fill:#1e90ff;fill-opacity:0.7;stroke:#1e90ff;stroke-opacity:0.7;\" x=\"649.535\" xlink:href=\"#m66508a159b\" y=\"272.556149\"/>\r\n     <use style=\"fill:#1e90ff;fill-opacity:0.7;stroke:#1e90ff;stroke-opacity:0.7;\" x=\"656.975\" xlink:href=\"#m66508a159b\" y=\"216.078226\"/>\r\n     <use style=\"fill:#1e90ff;fill-opacity:0.7;stroke:#1e90ff;stroke-opacity:0.7;\" x=\"664.415\" xlink:href=\"#m66508a159b\" y=\"244.317187\"/>\r\n     <use style=\"fill:#1e90ff;fill-opacity:0.7;stroke:#1e90ff;stroke-opacity:0.7;\" x=\"671.855\" xlink:href=\"#m66508a159b\" y=\"159.600304\"/>\r\n     <use style=\"fill:#1e90ff;fill-opacity:0.7;stroke:#1e90ff;stroke-opacity:0.7;\" x=\"679.295\" xlink:href=\"#m66508a159b\" y=\"216.078226\"/>\r\n     <use style=\"fill:#1e90ff;fill-opacity:0.7;stroke:#1e90ff;stroke-opacity:0.7;\" x=\"686.735\" xlink:href=\"#m66508a159b\" y=\"131.361343\"/>\r\n     <use style=\"fill:#1e90ff;fill-opacity:0.7;stroke:#1e90ff;stroke-opacity:0.7;\" x=\"694.175\" xlink:href=\"#m66508a159b\" y=\"187.839265\"/>\r\n     <use style=\"fill:#1e90ff;fill-opacity:0.7;stroke:#1e90ff;stroke-opacity:0.7;\" x=\"701.615\" xlink:href=\"#m66508a159b\" y=\"159.600304\"/>\r\n     <use style=\"fill:#1e90ff;fill-opacity:0.7;stroke:#1e90ff;stroke-opacity:0.7;\" x=\"709.055\" xlink:href=\"#m66508a159b\" y=\"272.556149\"/>\r\n     <use style=\"fill:#1e90ff;fill-opacity:0.7;stroke:#1e90ff;stroke-opacity:0.7;\" x=\"716.495\" xlink:href=\"#m66508a159b\" y=\"272.556149\"/>\r\n     <use style=\"fill:#1e90ff;fill-opacity:0.7;stroke:#1e90ff;stroke-opacity:0.7;\" x=\"723.935\" xlink:href=\"#m66508a159b\" y=\"159.600304\"/>\r\n     <use style=\"fill:#1e90ff;fill-opacity:0.7;stroke:#1e90ff;stroke-opacity:0.7;\" x=\"731.375\" xlink:href=\"#m66508a159b\" y=\"131.361343\"/>\r\n     <use style=\"fill:#1e90ff;fill-opacity:0.7;stroke:#1e90ff;stroke-opacity:0.7;\" x=\"738.815\" xlink:href=\"#m66508a159b\" y=\"131.361343\"/>\r\n     <use style=\"fill:#1e90ff;fill-opacity:0.7;stroke:#1e90ff;stroke-opacity:0.7;\" x=\"746.255\" xlink:href=\"#m66508a159b\" y=\"103.122382\"/>\r\n     <use style=\"fill:#1e90ff;fill-opacity:0.7;stroke:#1e90ff;stroke-opacity:0.7;\" x=\"753.695\" xlink:href=\"#m66508a159b\" y=\"131.361343\"/>\r\n     <use style=\"fill:#1e90ff;fill-opacity:0.7;stroke:#1e90ff;stroke-opacity:0.7;\" x=\"761.135\" xlink:href=\"#m66508a159b\" y=\"131.361343\"/>\r\n     <use style=\"fill:#1e90ff;fill-opacity:0.7;stroke:#1e90ff;stroke-opacity:0.7;\" x=\"768.575\" xlink:href=\"#m66508a159b\" y=\"272.556149\"/>\r\n     <use style=\"fill:#1e90ff;fill-opacity:0.7;stroke:#1e90ff;stroke-opacity:0.7;\" x=\"776.015\" xlink:href=\"#m66508a159b\" y=\"103.122382\"/>\r\n     <use style=\"fill:#1e90ff;fill-opacity:0.7;stroke:#1e90ff;stroke-opacity:0.7;\" x=\"783.455\" xlink:href=\"#m66508a159b\" y=\"46.64446\"/>\r\n     <use style=\"fill:#1e90ff;fill-opacity:0.7;stroke:#1e90ff;stroke-opacity:0.7;\" x=\"790.895\" xlink:href=\"#m66508a159b\" y=\"103.122382\"/>\r\n     <use style=\"fill:#1e90ff;fill-opacity:0.7;stroke:#1e90ff;stroke-opacity:0.7;\" x=\"798.335\" xlink:href=\"#m66508a159b\" y=\"159.600304\"/>\r\n     <use style=\"fill:#1e90ff;fill-opacity:0.7;stroke:#1e90ff;stroke-opacity:0.7;\" x=\"805.775\" xlink:href=\"#m66508a159b\" y=\"131.361343\"/>\r\n     <use style=\"fill:#1e90ff;fill-opacity:0.7;stroke:#1e90ff;stroke-opacity:0.7;\" x=\"813.215\" xlink:href=\"#m66508a159b\" y=\"103.122382\"/>\r\n     <use style=\"fill:#1e90ff;fill-opacity:0.7;stroke:#1e90ff;stroke-opacity:0.7;\" x=\"820.655\" xlink:href=\"#m66508a159b\" y=\"216.078226\"/>\r\n     <use style=\"fill:#1e90ff;fill-opacity:0.7;stroke:#1e90ff;stroke-opacity:0.7;\" x=\"828.095\" xlink:href=\"#m66508a159b\" y=\"131.361343\"/>\r\n     <use style=\"fill:#1e90ff;fill-opacity:0.7;stroke:#1e90ff;stroke-opacity:0.7;\" x=\"835.535\" xlink:href=\"#m66508a159b\" y=\"131.361343\"/>\r\n     <use style=\"fill:#1e90ff;fill-opacity:0.7;stroke:#1e90ff;stroke-opacity:0.7;\" x=\"842.975\" xlink:href=\"#m66508a159b\" y=\"103.122382\"/>\r\n     <use style=\"fill:#1e90ff;fill-opacity:0.7;stroke:#1e90ff;stroke-opacity:0.7;\" x=\"850.415\" xlink:href=\"#m66508a159b\" y=\"159.600304\"/>\r\n     <use style=\"fill:#1e90ff;fill-opacity:0.7;stroke:#1e90ff;stroke-opacity:0.7;\" x=\"857.855\" xlink:href=\"#m66508a159b\" y=\"103.122382\"/>\r\n     <use style=\"fill:#1e90ff;fill-opacity:0.7;stroke:#1e90ff;stroke-opacity:0.7;\" x=\"865.295\" xlink:href=\"#m66508a159b\" y=\"187.839265\"/>\r\n     <use style=\"fill:#1e90ff;fill-opacity:0.7;stroke:#1e90ff;stroke-opacity:0.7;\" x=\"872.735\" xlink:href=\"#m66508a159b\" y=\"103.122382\"/>\r\n     <use style=\"fill:#1e90ff;fill-opacity:0.7;stroke:#1e90ff;stroke-opacity:0.7;\" x=\"880.175\" xlink:href=\"#m66508a159b\" y=\"103.122382\"/>\r\n     <use style=\"fill:#1e90ff;fill-opacity:0.7;stroke:#1e90ff;stroke-opacity:0.7;\" x=\"887.615\" xlink:href=\"#m66508a159b\" y=\"159.600304\"/>\r\n     <use style=\"fill:#1e90ff;fill-opacity:0.7;stroke:#1e90ff;stroke-opacity:0.7;\" x=\"895.055\" xlink:href=\"#m66508a159b\" y=\"159.600304\"/>\r\n     <use style=\"fill:#1e90ff;fill-opacity:0.7;stroke:#1e90ff;stroke-opacity:0.7;\" x=\"902.495\" xlink:href=\"#m66508a159b\" y=\"131.361343\"/>\r\n     <use style=\"fill:#1e90ff;fill-opacity:0.7;stroke:#1e90ff;stroke-opacity:0.7;\" x=\"909.935\" xlink:href=\"#m66508a159b\" y=\"103.122382\"/>\r\n     <use style=\"fill:#1e90ff;fill-opacity:0.7;stroke:#1e90ff;stroke-opacity:0.7;\" x=\"917.375\" xlink:href=\"#m66508a159b\" y=\"74.883421\"/>\r\n     <use style=\"fill:#1e90ff;fill-opacity:0.7;stroke:#1e90ff;stroke-opacity:0.7;\" x=\"924.815\" xlink:href=\"#m66508a159b\" y=\"131.361343\"/>\r\n    </g>\r\n   </g>\r\n   <g id=\"matplotlib.axis_1\">\r\n    <g id=\"xtick_1\">\r\n     <g id=\"line2d_1\">\r\n      <defs>\r\n       <path d=\"M 0 0 \r\nL 0 3.5 \r\n\" id=\"m62c0a00813\" style=\"stroke:#000000;stroke-width:0.8;\"/>\r\n      </defs>\r\n      <g>\r\n       <use style=\"stroke:#000000;stroke-width:0.8;\" x=\"32.015\" xlink:href=\"#m62c0a00813\" y=\"461.757187\"/>\r\n      </g>\r\n     </g>\r\n     <g id=\"text_1\">\r\n      <!-- 1900 -->\r\n      <g transform=\"translate(22.149535 501.473471)rotate(-45)scale(0.14 -0.14)\">\r\n       <defs>\r\n        <path d=\"M 794 531 \r\nL 1825 531 \r\nL 1825 4091 \r\nL 703 3866 \r\nL 703 4441 \r\nL 1819 4666 \r\nL 2450 4666 \r\nL 2450 531 \r\nL 3481 531 \r\nL 3481 0 \r\nL 794 0 \r\nL 794 531 \r\nz\r\n\" id=\"DejaVuSans-31\" transform=\"scale(0.015625)\"/>\r\n        <path d=\"M 703 97 \r\nL 703 672 \r\nQ 941 559 1184 500 \r\nQ 1428 441 1663 441 \r\nQ 2288 441 2617 861 \r\nQ 2947 1281 2994 2138 \r\nQ 2813 1869 2534 1725 \r\nQ 2256 1581 1919 1581 \r\nQ 1219 1581 811 2004 \r\nQ 403 2428 403 3163 \r\nQ 403 3881 828 4315 \r\nQ 1253 4750 1959 4750 \r\nQ 2769 4750 3195 4129 \r\nQ 3622 3509 3622 2328 \r\nQ 3622 1225 3098 567 \r\nQ 2575 -91 1691 -91 \r\nQ 1453 -91 1209 -44 \r\nQ 966 3 703 97 \r\nz\r\nM 1959 2075 \r\nQ 2384 2075 2632 2365 \r\nQ 2881 2656 2881 3163 \r\nQ 2881 3666 2632 3958 \r\nQ 2384 4250 1959 4250 \r\nQ 1534 4250 1286 3958 \r\nQ 1038 3666 1038 3163 \r\nQ 1038 2656 1286 2365 \r\nQ 1534 2075 1959 2075 \r\nz\r\n\" id=\"DejaVuSans-39\" transform=\"scale(0.015625)\"/>\r\n        <path d=\"M 2034 4250 \r\nQ 1547 4250 1301 3770 \r\nQ 1056 3291 1056 2328 \r\nQ 1056 1369 1301 889 \r\nQ 1547 409 2034 409 \r\nQ 2525 409 2770 889 \r\nQ 3016 1369 3016 2328 \r\nQ 3016 3291 2770 3770 \r\nQ 2525 4250 2034 4250 \r\nz\r\nM 2034 4750 \r\nQ 2819 4750 3233 4129 \r\nQ 3647 3509 3647 2328 \r\nQ 3647 1150 3233 529 \r\nQ 2819 -91 2034 -91 \r\nQ 1250 -91 836 529 \r\nQ 422 1150 422 2328 \r\nQ 422 3509 836 4129 \r\nQ 1250 4750 2034 4750 \r\nz\r\n\" id=\"DejaVuSans-30\" transform=\"scale(0.015625)\"/>\r\n       </defs>\r\n       <use xlink:href=\"#DejaVuSans-31\"/>\r\n       <use x=\"63.623047\" xlink:href=\"#DejaVuSans-39\"/>\r\n       <use x=\"127.246094\" xlink:href=\"#DejaVuSans-30\"/>\r\n       <use x=\"190.869141\" xlink:href=\"#DejaVuSans-30\"/>\r\n      </g>\r\n     </g>\r\n    </g>\r\n    <g id=\"xtick_2\">\r\n     <g id=\"line2d_2\">\r\n      <g>\r\n       <use style=\"stroke:#000000;stroke-width:0.8;\" x=\"69.215\" xlink:href=\"#m62c0a00813\" y=\"461.757187\"/>\r\n      </g>\r\n     </g>\r\n     <g id=\"text_2\">\r\n      <!-- 1905 -->\r\n      <g transform=\"translate(59.349535 501.473471)rotate(-45)scale(0.14 -0.14)\">\r\n       <defs>\r\n        <path d=\"M 691 4666 \r\nL 3169 4666 \r\nL 3169 4134 \r\nL 1269 4134 \r\nL 1269 2991 \r\nQ 1406 3038 1543 3061 \r\nQ 1681 3084 1819 3084 \r\nQ 2600 3084 3056 2656 \r\nQ 3513 2228 3513 1497 \r\nQ 3513 744 3044 326 \r\nQ 2575 -91 1722 -91 \r\nQ 1428 -91 1123 -41 \r\nQ 819 9 494 109 \r\nL 494 744 \r\nQ 775 591 1075 516 \r\nQ 1375 441 1709 441 \r\nQ 2250 441 2565 725 \r\nQ 2881 1009 2881 1497 \r\nQ 2881 1984 2565 2268 \r\nQ 2250 2553 1709 2553 \r\nQ 1456 2553 1204 2497 \r\nQ 953 2441 691 2322 \r\nL 691 4666 \r\nz\r\n\" id=\"DejaVuSans-35\" transform=\"scale(0.015625)\"/>\r\n       </defs>\r\n       <use xlink:href=\"#DejaVuSans-31\"/>\r\n       <use x=\"63.623047\" xlink:href=\"#DejaVuSans-39\"/>\r\n       <use x=\"127.246094\" xlink:href=\"#DejaVuSans-30\"/>\r\n       <use x=\"190.869141\" xlink:href=\"#DejaVuSans-35\"/>\r\n      </g>\r\n     </g>\r\n    </g>\r\n    <g id=\"xtick_3\">\r\n     <g id=\"line2d_3\">\r\n      <g>\r\n       <use style=\"stroke:#000000;stroke-width:0.8;\" x=\"106.415\" xlink:href=\"#m62c0a00813\" y=\"461.757187\"/>\r\n      </g>\r\n     </g>\r\n     <g id=\"text_3\">\r\n      <!-- 1910 -->\r\n      <g transform=\"translate(96.549535 501.473471)rotate(-45)scale(0.14 -0.14)\">\r\n       <use xlink:href=\"#DejaVuSans-31\"/>\r\n       <use x=\"63.623047\" xlink:href=\"#DejaVuSans-39\"/>\r\n       <use x=\"127.246094\" xlink:href=\"#DejaVuSans-31\"/>\r\n       <use x=\"190.869141\" xlink:href=\"#DejaVuSans-30\"/>\r\n      </g>\r\n     </g>\r\n    </g>\r\n    <g id=\"xtick_4\">\r\n     <g id=\"line2d_4\">\r\n      <g>\r\n       <use style=\"stroke:#000000;stroke-width:0.8;\" x=\"143.615\" xlink:href=\"#m62c0a00813\" y=\"461.757187\"/>\r\n      </g>\r\n     </g>\r\n     <g id=\"text_4\">\r\n      <!-- 1915 -->\r\n      <g transform=\"translate(133.749535 501.473471)rotate(-45)scale(0.14 -0.14)\">\r\n       <use xlink:href=\"#DejaVuSans-31\"/>\r\n       <use x=\"63.623047\" xlink:href=\"#DejaVuSans-39\"/>\r\n       <use x=\"127.246094\" xlink:href=\"#DejaVuSans-31\"/>\r\n       <use x=\"190.869141\" xlink:href=\"#DejaVuSans-35\"/>\r\n      </g>\r\n     </g>\r\n    </g>\r\n    <g id=\"xtick_5\">\r\n     <g id=\"line2d_5\">\r\n      <g>\r\n       <use style=\"stroke:#000000;stroke-width:0.8;\" x=\"180.815\" xlink:href=\"#m62c0a00813\" y=\"461.757187\"/>\r\n      </g>\r\n     </g>\r\n     <g id=\"text_5\">\r\n      <!-- 1920 -->\r\n      <g transform=\"translate(170.949535 501.473471)rotate(-45)scale(0.14 -0.14)\">\r\n       <defs>\r\n        <path d=\"M 1228 531 \r\nL 3431 531 \r\nL 3431 0 \r\nL 469 0 \r\nL 469 531 \r\nQ 828 903 1448 1529 \r\nQ 2069 2156 2228 2338 \r\nQ 2531 2678 2651 2914 \r\nQ 2772 3150 2772 3378 \r\nQ 2772 3750 2511 3984 \r\nQ 2250 4219 1831 4219 \r\nQ 1534 4219 1204 4116 \r\nQ 875 4013 500 3803 \r\nL 500 4441 \r\nQ 881 4594 1212 4672 \r\nQ 1544 4750 1819 4750 \r\nQ 2544 4750 2975 4387 \r\nQ 3406 4025 3406 3419 \r\nQ 3406 3131 3298 2873 \r\nQ 3191 2616 2906 2266 \r\nQ 2828 2175 2409 1742 \r\nQ 1991 1309 1228 531 \r\nz\r\n\" id=\"DejaVuSans-32\" transform=\"scale(0.015625)\"/>\r\n       </defs>\r\n       <use xlink:href=\"#DejaVuSans-31\"/>\r\n       <use x=\"63.623047\" xlink:href=\"#DejaVuSans-39\"/>\r\n       <use x=\"127.246094\" xlink:href=\"#DejaVuSans-32\"/>\r\n       <use x=\"190.869141\" xlink:href=\"#DejaVuSans-30\"/>\r\n      </g>\r\n     </g>\r\n    </g>\r\n    <g id=\"xtick_6\">\r\n     <g id=\"line2d_6\">\r\n      <g>\r\n       <use style=\"stroke:#000000;stroke-width:0.8;\" x=\"218.015\" xlink:href=\"#m62c0a00813\" y=\"461.757187\"/>\r\n      </g>\r\n     </g>\r\n     <g id=\"text_6\">\r\n      <!-- 1925 -->\r\n      <g transform=\"translate(208.149535 501.473471)rotate(-45)scale(0.14 -0.14)\">\r\n       <use xlink:href=\"#DejaVuSans-31\"/>\r\n       <use x=\"63.623047\" xlink:href=\"#DejaVuSans-39\"/>\r\n       <use x=\"127.246094\" xlink:href=\"#DejaVuSans-32\"/>\r\n       <use x=\"190.869141\" xlink:href=\"#DejaVuSans-35\"/>\r\n      </g>\r\n     </g>\r\n    </g>\r\n    <g id=\"xtick_7\">\r\n     <g id=\"line2d_7\">\r\n      <g>\r\n       <use style=\"stroke:#000000;stroke-width:0.8;\" x=\"255.215\" xlink:href=\"#m62c0a00813\" y=\"461.757187\"/>\r\n      </g>\r\n     </g>\r\n     <g id=\"text_7\">\r\n      <!-- 1930 -->\r\n      <g transform=\"translate(245.349535 501.473471)rotate(-45)scale(0.14 -0.14)\">\r\n       <defs>\r\n        <path d=\"M 2597 2516 \r\nQ 3050 2419 3304 2112 \r\nQ 3559 1806 3559 1356 \r\nQ 3559 666 3084 287 \r\nQ 2609 -91 1734 -91 \r\nQ 1441 -91 1130 -33 \r\nQ 819 25 488 141 \r\nL 488 750 \r\nQ 750 597 1062 519 \r\nQ 1375 441 1716 441 \r\nQ 2309 441 2620 675 \r\nQ 2931 909 2931 1356 \r\nQ 2931 1769 2642 2001 \r\nQ 2353 2234 1838 2234 \r\nL 1294 2234 \r\nL 1294 2753 \r\nL 1863 2753 \r\nQ 2328 2753 2575 2939 \r\nQ 2822 3125 2822 3475 \r\nQ 2822 3834 2567 4026 \r\nQ 2313 4219 1838 4219 \r\nQ 1578 4219 1281 4162 \r\nQ 984 4106 628 3988 \r\nL 628 4550 \r\nQ 988 4650 1302 4700 \r\nQ 1616 4750 1894 4750 \r\nQ 2613 4750 3031 4423 \r\nQ 3450 4097 3450 3541 \r\nQ 3450 3153 3228 2886 \r\nQ 3006 2619 2597 2516 \r\nz\r\n\" id=\"DejaVuSans-33\" transform=\"scale(0.015625)\"/>\r\n       </defs>\r\n       <use xlink:href=\"#DejaVuSans-31\"/>\r\n       <use x=\"63.623047\" xlink:href=\"#DejaVuSans-39\"/>\r\n       <use x=\"127.246094\" xlink:href=\"#DejaVuSans-33\"/>\r\n       <use x=\"190.869141\" xlink:href=\"#DejaVuSans-30\"/>\r\n      </g>\r\n     </g>\r\n    </g>\r\n    <g id=\"xtick_8\">\r\n     <g id=\"line2d_8\">\r\n      <g>\r\n       <use style=\"stroke:#000000;stroke-width:0.8;\" x=\"292.415\" xlink:href=\"#m62c0a00813\" y=\"461.757187\"/>\r\n      </g>\r\n     </g>\r\n     <g id=\"text_8\">\r\n      <!-- 1935 -->\r\n      <g transform=\"translate(282.549535 501.473471)rotate(-45)scale(0.14 -0.14)\">\r\n       <use xlink:href=\"#DejaVuSans-31\"/>\r\n       <use x=\"63.623047\" xlink:href=\"#DejaVuSans-39\"/>\r\n       <use x=\"127.246094\" xlink:href=\"#DejaVuSans-33\"/>\r\n       <use x=\"190.869141\" xlink:href=\"#DejaVuSans-35\"/>\r\n      </g>\r\n     </g>\r\n    </g>\r\n    <g id=\"xtick_9\">\r\n     <g id=\"line2d_9\">\r\n      <g>\r\n       <use style=\"stroke:#000000;stroke-width:0.8;\" x=\"329.615\" xlink:href=\"#m62c0a00813\" y=\"461.757187\"/>\r\n      </g>\r\n     </g>\r\n     <g id=\"text_9\">\r\n      <!-- 1940 -->\r\n      <g transform=\"translate(319.749535 501.473471)rotate(-45)scale(0.14 -0.14)\">\r\n       <defs>\r\n        <path d=\"M 2419 4116 \r\nL 825 1625 \r\nL 2419 1625 \r\nL 2419 4116 \r\nz\r\nM 2253 4666 \r\nL 3047 4666 \r\nL 3047 1625 \r\nL 3713 1625 \r\nL 3713 1100 \r\nL 3047 1100 \r\nL 3047 0 \r\nL 2419 0 \r\nL 2419 1100 \r\nL 313 1100 \r\nL 313 1709 \r\nL 2253 4666 \r\nz\r\n\" id=\"DejaVuSans-34\" transform=\"scale(0.015625)\"/>\r\n       </defs>\r\n       <use xlink:href=\"#DejaVuSans-31\"/>\r\n       <use x=\"63.623047\" xlink:href=\"#DejaVuSans-39\"/>\r\n       <use x=\"127.246094\" xlink:href=\"#DejaVuSans-34\"/>\r\n       <use x=\"190.869141\" xlink:href=\"#DejaVuSans-30\"/>\r\n      </g>\r\n     </g>\r\n    </g>\r\n    <g id=\"xtick_10\">\r\n     <g id=\"line2d_10\">\r\n      <g>\r\n       <use style=\"stroke:#000000;stroke-width:0.8;\" x=\"366.815\" xlink:href=\"#m62c0a00813\" y=\"461.757187\"/>\r\n      </g>\r\n     </g>\r\n     <g id=\"text_10\">\r\n      <!-- 1945 -->\r\n      <g transform=\"translate(356.949535 501.473471)rotate(-45)scale(0.14 -0.14)\">\r\n       <use xlink:href=\"#DejaVuSans-31\"/>\r\n       <use x=\"63.623047\" xlink:href=\"#DejaVuSans-39\"/>\r\n       <use x=\"127.246094\" xlink:href=\"#DejaVuSans-34\"/>\r\n       <use x=\"190.869141\" xlink:href=\"#DejaVuSans-35\"/>\r\n      </g>\r\n     </g>\r\n    </g>\r\n    <g id=\"xtick_11\">\r\n     <g id=\"line2d_11\">\r\n      <g>\r\n       <use style=\"stroke:#000000;stroke-width:0.8;\" x=\"404.015\" xlink:href=\"#m62c0a00813\" y=\"461.757187\"/>\r\n      </g>\r\n     </g>\r\n     <g id=\"text_11\">\r\n      <!-- 1950 -->\r\n      <g transform=\"translate(394.149535 501.473471)rotate(-45)scale(0.14 -0.14)\">\r\n       <use xlink:href=\"#DejaVuSans-31\"/>\r\n       <use x=\"63.623047\" xlink:href=\"#DejaVuSans-39\"/>\r\n       <use x=\"127.246094\" xlink:href=\"#DejaVuSans-35\"/>\r\n       <use x=\"190.869141\" xlink:href=\"#DejaVuSans-30\"/>\r\n      </g>\r\n     </g>\r\n    </g>\r\n    <g id=\"xtick_12\">\r\n     <g id=\"line2d_12\">\r\n      <g>\r\n       <use style=\"stroke:#000000;stroke-width:0.8;\" x=\"441.215\" xlink:href=\"#m62c0a00813\" y=\"461.757187\"/>\r\n      </g>\r\n     </g>\r\n     <g id=\"text_12\">\r\n      <!-- 1955 -->\r\n      <g transform=\"translate(431.349535 501.473471)rotate(-45)scale(0.14 -0.14)\">\r\n       <use xlink:href=\"#DejaVuSans-31\"/>\r\n       <use x=\"63.623047\" xlink:href=\"#DejaVuSans-39\"/>\r\n       <use x=\"127.246094\" xlink:href=\"#DejaVuSans-35\"/>\r\n       <use x=\"190.869141\" xlink:href=\"#DejaVuSans-35\"/>\r\n      </g>\r\n     </g>\r\n    </g>\r\n    <g id=\"xtick_13\">\r\n     <g id=\"line2d_13\">\r\n      <g>\r\n       <use style=\"stroke:#000000;stroke-width:0.8;\" x=\"478.415\" xlink:href=\"#m62c0a00813\" y=\"461.757187\"/>\r\n      </g>\r\n     </g>\r\n     <g id=\"text_13\">\r\n      <!-- 1960 -->\r\n      <g transform=\"translate(468.549535 501.473471)rotate(-45)scale(0.14 -0.14)\">\r\n       <defs>\r\n        <path d=\"M 2113 2584 \r\nQ 1688 2584 1439 2293 \r\nQ 1191 2003 1191 1497 \r\nQ 1191 994 1439 701 \r\nQ 1688 409 2113 409 \r\nQ 2538 409 2786 701 \r\nQ 3034 994 3034 1497 \r\nQ 3034 2003 2786 2293 \r\nQ 2538 2584 2113 2584 \r\nz\r\nM 3366 4563 \r\nL 3366 3988 \r\nQ 3128 4100 2886 4159 \r\nQ 2644 4219 2406 4219 \r\nQ 1781 4219 1451 3797 \r\nQ 1122 3375 1075 2522 \r\nQ 1259 2794 1537 2939 \r\nQ 1816 3084 2150 3084 \r\nQ 2853 3084 3261 2657 \r\nQ 3669 2231 3669 1497 \r\nQ 3669 778 3244 343 \r\nQ 2819 -91 2113 -91 \r\nQ 1303 -91 875 529 \r\nQ 447 1150 447 2328 \r\nQ 447 3434 972 4092 \r\nQ 1497 4750 2381 4750 \r\nQ 2619 4750 2861 4703 \r\nQ 3103 4656 3366 4563 \r\nz\r\n\" id=\"DejaVuSans-36\" transform=\"scale(0.015625)\"/>\r\n       </defs>\r\n       <use xlink:href=\"#DejaVuSans-31\"/>\r\n       <use x=\"63.623047\" xlink:href=\"#DejaVuSans-39\"/>\r\n       <use x=\"127.246094\" xlink:href=\"#DejaVuSans-36\"/>\r\n       <use x=\"190.869141\" xlink:href=\"#DejaVuSans-30\"/>\r\n      </g>\r\n     </g>\r\n    </g>\r\n    <g id=\"xtick_14\">\r\n     <g id=\"line2d_14\">\r\n      <g>\r\n       <use style=\"stroke:#000000;stroke-width:0.8;\" x=\"515.615\" xlink:href=\"#m62c0a00813\" y=\"461.757187\"/>\r\n      </g>\r\n     </g>\r\n     <g id=\"text_14\">\r\n      <!-- 1965 -->\r\n      <g transform=\"translate(505.749535 501.473471)rotate(-45)scale(0.14 -0.14)\">\r\n       <use xlink:href=\"#DejaVuSans-31\"/>\r\n       <use x=\"63.623047\" xlink:href=\"#DejaVuSans-39\"/>\r\n       <use x=\"127.246094\" xlink:href=\"#DejaVuSans-36\"/>\r\n       <use x=\"190.869141\" xlink:href=\"#DejaVuSans-35\"/>\r\n      </g>\r\n     </g>\r\n    </g>\r\n    <g id=\"xtick_15\">\r\n     <g id=\"line2d_15\">\r\n      <g>\r\n       <use style=\"stroke:#000000;stroke-width:0.8;\" x=\"552.815\" xlink:href=\"#m62c0a00813\" y=\"461.757187\"/>\r\n      </g>\r\n     </g>\r\n     <g id=\"text_15\">\r\n      <!-- 1970 -->\r\n      <g transform=\"translate(542.949535 501.473471)rotate(-45)scale(0.14 -0.14)\">\r\n       <defs>\r\n        <path d=\"M 525 4666 \r\nL 3525 4666 \r\nL 3525 4397 \r\nL 1831 0 \r\nL 1172 0 \r\nL 2766 4134 \r\nL 525 4134 \r\nL 525 4666 \r\nz\r\n\" id=\"DejaVuSans-37\" transform=\"scale(0.015625)\"/>\r\n       </defs>\r\n       <use xlink:href=\"#DejaVuSans-31\"/>\r\n       <use x=\"63.623047\" xlink:href=\"#DejaVuSans-39\"/>\r\n       <use x=\"127.246094\" xlink:href=\"#DejaVuSans-37\"/>\r\n       <use x=\"190.869141\" xlink:href=\"#DejaVuSans-30\"/>\r\n      </g>\r\n     </g>\r\n    </g>\r\n    <g id=\"xtick_16\">\r\n     <g id=\"line2d_16\">\r\n      <g>\r\n       <use style=\"stroke:#000000;stroke-width:0.8;\" x=\"590.015\" xlink:href=\"#m62c0a00813\" y=\"461.757187\"/>\r\n      </g>\r\n     </g>\r\n     <g id=\"text_16\">\r\n      <!-- 1975 -->\r\n      <g transform=\"translate(580.149535 501.473471)rotate(-45)scale(0.14 -0.14)\">\r\n       <use xlink:href=\"#DejaVuSans-31\"/>\r\n       <use x=\"63.623047\" xlink:href=\"#DejaVuSans-39\"/>\r\n       <use x=\"127.246094\" xlink:href=\"#DejaVuSans-37\"/>\r\n       <use x=\"190.869141\" xlink:href=\"#DejaVuSans-35\"/>\r\n      </g>\r\n     </g>\r\n    </g>\r\n    <g id=\"xtick_17\">\r\n     <g id=\"line2d_17\">\r\n      <g>\r\n       <use style=\"stroke:#000000;stroke-width:0.8;\" x=\"627.215\" xlink:href=\"#m62c0a00813\" y=\"461.757187\"/>\r\n      </g>\r\n     </g>\r\n     <g id=\"text_17\">\r\n      <!-- 1980 -->\r\n      <g transform=\"translate(617.349535 501.473471)rotate(-45)scale(0.14 -0.14)\">\r\n       <defs>\r\n        <path d=\"M 2034 2216 \r\nQ 1584 2216 1326 1975 \r\nQ 1069 1734 1069 1313 \r\nQ 1069 891 1326 650 \r\nQ 1584 409 2034 409 \r\nQ 2484 409 2743 651 \r\nQ 3003 894 3003 1313 \r\nQ 3003 1734 2745 1975 \r\nQ 2488 2216 2034 2216 \r\nz\r\nM 1403 2484 \r\nQ 997 2584 770 2862 \r\nQ 544 3141 544 3541 \r\nQ 544 4100 942 4425 \r\nQ 1341 4750 2034 4750 \r\nQ 2731 4750 3128 4425 \r\nQ 3525 4100 3525 3541 \r\nQ 3525 3141 3298 2862 \r\nQ 3072 2584 2669 2484 \r\nQ 3125 2378 3379 2068 \r\nQ 3634 1759 3634 1313 \r\nQ 3634 634 3220 271 \r\nQ 2806 -91 2034 -91 \r\nQ 1263 -91 848 271 \r\nQ 434 634 434 1313 \r\nQ 434 1759 690 2068 \r\nQ 947 2378 1403 2484 \r\nz\r\nM 1172 3481 \r\nQ 1172 3119 1398 2916 \r\nQ 1625 2713 2034 2713 \r\nQ 2441 2713 2670 2916 \r\nQ 2900 3119 2900 3481 \r\nQ 2900 3844 2670 4047 \r\nQ 2441 4250 2034 4250 \r\nQ 1625 4250 1398 4047 \r\nQ 1172 3844 1172 3481 \r\nz\r\n\" id=\"DejaVuSans-38\" transform=\"scale(0.015625)\"/>\r\n       </defs>\r\n       <use xlink:href=\"#DejaVuSans-31\"/>\r\n       <use x=\"63.623047\" xlink:href=\"#DejaVuSans-39\"/>\r\n       <use x=\"127.246094\" xlink:href=\"#DejaVuSans-38\"/>\r\n       <use x=\"190.869141\" xlink:href=\"#DejaVuSans-30\"/>\r\n      </g>\r\n     </g>\r\n    </g>\r\n    <g id=\"xtick_18\">\r\n     <g id=\"line2d_18\">\r\n      <g>\r\n       <use style=\"stroke:#000000;stroke-width:0.8;\" x=\"664.415\" xlink:href=\"#m62c0a00813\" y=\"461.757187\"/>\r\n      </g>\r\n     </g>\r\n     <g id=\"text_18\">\r\n      <!-- 1985 -->\r\n      <g transform=\"translate(654.549535 501.473471)rotate(-45)scale(0.14 -0.14)\">\r\n       <use xlink:href=\"#DejaVuSans-31\"/>\r\n       <use x=\"63.623047\" xlink:href=\"#DejaVuSans-39\"/>\r\n       <use x=\"127.246094\" xlink:href=\"#DejaVuSans-38\"/>\r\n       <use x=\"190.869141\" xlink:href=\"#DejaVuSans-35\"/>\r\n      </g>\r\n     </g>\r\n    </g>\r\n    <g id=\"xtick_19\">\r\n     <g id=\"line2d_19\">\r\n      <g>\r\n       <use style=\"stroke:#000000;stroke-width:0.8;\" x=\"701.615\" xlink:href=\"#m62c0a00813\" y=\"461.757187\"/>\r\n      </g>\r\n     </g>\r\n     <g id=\"text_19\">\r\n      <!-- 1990 -->\r\n      <g transform=\"translate(691.749535 501.473471)rotate(-45)scale(0.14 -0.14)\">\r\n       <use xlink:href=\"#DejaVuSans-31\"/>\r\n       <use x=\"63.623047\" xlink:href=\"#DejaVuSans-39\"/>\r\n       <use x=\"127.246094\" xlink:href=\"#DejaVuSans-39\"/>\r\n       <use x=\"190.869141\" xlink:href=\"#DejaVuSans-30\"/>\r\n      </g>\r\n     </g>\r\n    </g>\r\n    <g id=\"xtick_20\">\r\n     <g id=\"line2d_20\">\r\n      <g>\r\n       <use style=\"stroke:#000000;stroke-width:0.8;\" x=\"738.815\" xlink:href=\"#m62c0a00813\" y=\"461.757187\"/>\r\n      </g>\r\n     </g>\r\n     <g id=\"text_20\">\r\n      <!-- 1995 -->\r\n      <g transform=\"translate(728.949535 501.473471)rotate(-45)scale(0.14 -0.14)\">\r\n       <use xlink:href=\"#DejaVuSans-31\"/>\r\n       <use x=\"63.623047\" xlink:href=\"#DejaVuSans-39\"/>\r\n       <use x=\"127.246094\" xlink:href=\"#DejaVuSans-39\"/>\r\n       <use x=\"190.869141\" xlink:href=\"#DejaVuSans-35\"/>\r\n      </g>\r\n     </g>\r\n    </g>\r\n    <g id=\"xtick_21\">\r\n     <g id=\"line2d_21\">\r\n      <g>\r\n       <use style=\"stroke:#000000;stroke-width:0.8;\" x=\"776.015\" xlink:href=\"#m62c0a00813\" y=\"461.757187\"/>\r\n      </g>\r\n     </g>\r\n     <g id=\"text_21\">\r\n      <!-- 2000 -->\r\n      <g transform=\"translate(766.149535 501.473471)rotate(-45)scale(0.14 -0.14)\">\r\n       <use xlink:href=\"#DejaVuSans-32\"/>\r\n       <use x=\"63.623047\" xlink:href=\"#DejaVuSans-30\"/>\r\n       <use x=\"127.246094\" xlink:href=\"#DejaVuSans-30\"/>\r\n       <use x=\"190.869141\" xlink:href=\"#DejaVuSans-30\"/>\r\n      </g>\r\n     </g>\r\n    </g>\r\n    <g id=\"xtick_22\">\r\n     <g id=\"line2d_22\">\r\n      <g>\r\n       <use style=\"stroke:#000000;stroke-width:0.8;\" x=\"813.215\" xlink:href=\"#m62c0a00813\" y=\"461.757187\"/>\r\n      </g>\r\n     </g>\r\n     <g id=\"text_22\">\r\n      <!-- 2005 -->\r\n      <g transform=\"translate(803.349535 501.473471)rotate(-45)scale(0.14 -0.14)\">\r\n       <use xlink:href=\"#DejaVuSans-32\"/>\r\n       <use x=\"63.623047\" xlink:href=\"#DejaVuSans-30\"/>\r\n       <use x=\"127.246094\" xlink:href=\"#DejaVuSans-30\"/>\r\n       <use x=\"190.869141\" xlink:href=\"#DejaVuSans-35\"/>\r\n      </g>\r\n     </g>\r\n    </g>\r\n    <g id=\"xtick_23\">\r\n     <g id=\"line2d_23\">\r\n      <g>\r\n       <use style=\"stroke:#000000;stroke-width:0.8;\" x=\"850.415\" xlink:href=\"#m62c0a00813\" y=\"461.757187\"/>\r\n      </g>\r\n     </g>\r\n     <g id=\"text_23\">\r\n      <!-- 2010 -->\r\n      <g transform=\"translate(840.549535 501.473471)rotate(-45)scale(0.14 -0.14)\">\r\n       <use xlink:href=\"#DejaVuSans-32\"/>\r\n       <use x=\"63.623047\" xlink:href=\"#DejaVuSans-30\"/>\r\n       <use x=\"127.246094\" xlink:href=\"#DejaVuSans-31\"/>\r\n       <use x=\"190.869141\" xlink:href=\"#DejaVuSans-30\"/>\r\n      </g>\r\n     </g>\r\n    </g>\r\n    <g id=\"xtick_24\">\r\n     <g id=\"line2d_24\">\r\n      <g>\r\n       <use style=\"stroke:#000000;stroke-width:0.8;\" x=\"887.615\" xlink:href=\"#m62c0a00813\" y=\"461.757187\"/>\r\n      </g>\r\n     </g>\r\n     <g id=\"text_24\">\r\n      <!-- 2015 -->\r\n      <g transform=\"translate(877.749535 501.473471)rotate(-45)scale(0.14 -0.14)\">\r\n       <use xlink:href=\"#DejaVuSans-32\"/>\r\n       <use x=\"63.623047\" xlink:href=\"#DejaVuSans-30\"/>\r\n       <use x=\"127.246094\" xlink:href=\"#DejaVuSans-31\"/>\r\n       <use x=\"190.869141\" xlink:href=\"#DejaVuSans-35\"/>\r\n      </g>\r\n     </g>\r\n    </g>\r\n    <g id=\"xtick_25\">\r\n     <g id=\"line2d_25\">\r\n      <g>\r\n       <use style=\"stroke:#000000;stroke-width:0.8;\" x=\"924.815\" xlink:href=\"#m62c0a00813\" y=\"461.757187\"/>\r\n      </g>\r\n     </g>\r\n     <g id=\"text_25\">\r\n      <!-- 2020 -->\r\n      <g transform=\"translate(914.949535 501.473471)rotate(-45)scale(0.14 -0.14)\">\r\n       <use xlink:href=\"#DejaVuSans-32\"/>\r\n       <use x=\"63.623047\" xlink:href=\"#DejaVuSans-30\"/>\r\n       <use x=\"127.246094\" xlink:href=\"#DejaVuSans-32\"/>\r\n       <use x=\"190.869141\" xlink:href=\"#DejaVuSans-30\"/>\r\n      </g>\r\n     </g>\r\n    </g>\r\n   </g>\r\n   <g id=\"matplotlib.axis_2\">\r\n    <g id=\"ytick_1\">\r\n     <g id=\"line2d_26\">\r\n      <defs>\r\n       <path d=\"M 0 0 \r\nL -3.5 0 \r\n\" id=\"m25af26a549\" style=\"stroke:#000000;stroke-width:0.8;\"/>\r\n      </defs>\r\n      <g>\r\n       <use style=\"stroke:#000000;stroke-width:0.8;\" x=\"32.015\" xlink:href=\"#m25af26a549\" y=\"413.750954\"/>\r\n      </g>\r\n     </g>\r\n     <g id=\"text_26\">\r\n      <!-- 2 -->\r\n      <g transform=\"translate(16.1075 419.06986)scale(0.14 -0.14)\">\r\n       <use xlink:href=\"#DejaVuSans-32\"/>\r\n      </g>\r\n     </g>\r\n    </g>\r\n    <g id=\"ytick_2\">\r\n     <g id=\"line2d_27\">\r\n      <g>\r\n       <use style=\"stroke:#000000;stroke-width:0.8;\" x=\"32.015\" xlink:href=\"#m25af26a549\" y=\"357.273032\"/>\r\n      </g>\r\n     </g>\r\n     <g id=\"text_27\">\r\n      <!-- 4 -->\r\n      <g transform=\"translate(16.1075 362.591938)scale(0.14 -0.14)\">\r\n       <use xlink:href=\"#DejaVuSans-34\"/>\r\n      </g>\r\n     </g>\r\n    </g>\r\n    <g id=\"ytick_3\">\r\n     <g id=\"line2d_28\">\r\n      <g>\r\n       <use style=\"stroke:#000000;stroke-width:0.8;\" x=\"32.015\" xlink:href=\"#m25af26a549\" y=\"300.79511\"/>\r\n      </g>\r\n     </g>\r\n     <g id=\"text_28\">\r\n      <!-- 6 -->\r\n      <g transform=\"translate(16.1075 306.114016)scale(0.14 -0.14)\">\r\n       <use xlink:href=\"#DejaVuSans-36\"/>\r\n      </g>\r\n     </g>\r\n    </g>\r\n    <g id=\"ytick_4\">\r\n     <g id=\"line2d_29\">\r\n      <g>\r\n       <use style=\"stroke:#000000;stroke-width:0.8;\" x=\"32.015\" xlink:href=\"#m25af26a549\" y=\"244.317187\"/>\r\n      </g>\r\n     </g>\r\n     <g id=\"text_29\">\r\n      <!-- 8 -->\r\n      <g transform=\"translate(16.1075 249.636094)scale(0.14 -0.14)\">\r\n       <use xlink:href=\"#DejaVuSans-38\"/>\r\n      </g>\r\n     </g>\r\n    </g>\r\n    <g id=\"ytick_5\">\r\n     <g id=\"line2d_30\">\r\n      <g>\r\n       <use style=\"stroke:#000000;stroke-width:0.8;\" x=\"32.015\" xlink:href=\"#m25af26a549\" y=\"187.839265\"/>\r\n      </g>\r\n     </g>\r\n     <g id=\"text_30\">\r\n      <!-- 10 -->\r\n      <g transform=\"translate(7.2 193.158172)scale(0.14 -0.14)\">\r\n       <use xlink:href=\"#DejaVuSans-31\"/>\r\n       <use x=\"63.623047\" xlink:href=\"#DejaVuSans-30\"/>\r\n      </g>\r\n     </g>\r\n    </g>\r\n    <g id=\"ytick_6\">\r\n     <g id=\"line2d_31\">\r\n      <g>\r\n       <use style=\"stroke:#000000;stroke-width:0.8;\" x=\"32.015\" xlink:href=\"#m25af26a549\" y=\"131.361343\"/>\r\n      </g>\r\n     </g>\r\n     <g id=\"text_31\">\r\n      <!-- 12 -->\r\n      <g transform=\"translate(7.2 136.68025)scale(0.14 -0.14)\">\r\n       <use xlink:href=\"#DejaVuSans-31\"/>\r\n       <use x=\"63.623047\" xlink:href=\"#DejaVuSans-32\"/>\r\n      </g>\r\n     </g>\r\n    </g>\r\n    <g id=\"ytick_7\">\r\n     <g id=\"line2d_32\">\r\n      <g>\r\n       <use style=\"stroke:#000000;stroke-width:0.8;\" x=\"32.015\" xlink:href=\"#m25af26a549\" y=\"74.883421\"/>\r\n      </g>\r\n     </g>\r\n     <g id=\"text_32\">\r\n      <!-- 14 -->\r\n      <g transform=\"translate(7.2 80.202328)scale(0.14 -0.14)\">\r\n       <use xlink:href=\"#DejaVuSans-31\"/>\r\n       <use x=\"63.623047\" xlink:href=\"#DejaVuSans-34\"/>\r\n      </g>\r\n     </g>\r\n    </g>\r\n   </g>\r\n   <g id=\"line2d_33\">\r\n    <path clip-path=\"url(#pc2b67356fd)\" d=\"M 69.215 295.147317 \r\nL 76.655 295.147317 \r\nL 84.095 300.79511 \r\nL 91.535 300.79511 \r\nL 98.975 295.147317 \r\nL 106.415 295.147317 \r\nL 113.855 295.147317 \r\nL 121.295 295.147317 \r\nL 128.735 306.442902 \r\nL 136.175 329.034071 \r\nL 143.615 334.681863 \r\nL 151.055 362.920824 \r\nL 158.495 374.216408 \r\nL 165.935 391.159785 \r\nL 173.375 385.511993 \r\nL 180.815 379.8642 \r\nL 188.255 357.273032 \r\nL 195.695 345.977447 \r\nL 203.135 329.034071 \r\nL 210.575 334.681863 \r\nL 218.015 329.034071 \r\nL 225.455 323.386278 \r\nL 232.895 317.738486 \r\nL 240.335 323.386278 \r\nL 247.775 300.79511 \r\nL 255.215 306.442902 \r\nL 262.655 306.442902 \r\nL 270.095 317.738486 \r\nL 277.535 312.090694 \r\nL 284.975 317.738486 \r\nL 292.415 317.738486 \r\nL 299.855 312.090694 \r\nL 307.295 300.79511 \r\nL 314.735 300.79511 \r\nL 322.175 306.442902 \r\nL 351.935 312.090694 \r\nL 359.375 317.738486 \r\nL 366.815 317.738486 \r\nL 374.255 300.79511 \r\nL 381.695 283.851733 \r\nL 389.135 283.851733 \r\nL 396.575 283.851733 \r\nL 404.015 278.203941 \r\nL 411.455 283.851733 \r\nL 418.895 289.499525 \r\nL 426.335 278.203941 \r\nL 433.775 266.908356 \r\nL 441.215 283.851733 \r\nL 448.655 272.556149 \r\nL 456.095 278.203941 \r\nL 463.535 261.260564 \r\nL 470.975 266.908356 \r\nL 478.415 261.260564 \r\nL 485.855 278.203941 \r\nL 493.295 266.908356 \r\nL 500.735 255.612772 \r\nL 508.175 249.96498 \r\nL 515.615 233.021603 \r\nL 523.055 233.021603 \r\nL 530.495 233.021603 \r\nL 537.935 255.612772 \r\nL 545.375 244.317187 \r\nL 552.815 244.317187 \r\nL 560.255 244.317187 \r\nL 567.695 227.373811 \r\nL 575.135 199.13485 \r\nL 582.575 187.839265 \r\nL 590.015 170.895889 \r\nL 597.455 153.952512 \r\nL 604.895 153.952512 \r\nL 612.335 159.600304 \r\nL 619.775 165.248097 \r\nL 627.215 170.895889 \r\nL 634.655 159.600304 \r\nL 642.095 170.895889 \r\nL 649.535 193.487058 \r\nL 656.975 204.782642 \r\nL 664.415 221.726019 \r\nL 671.855 221.726019 \r\nL 679.295 221.726019 \r\nL 686.735 193.487058 \r\nL 694.175 187.839265 \r\nL 701.615 170.895889 \r\nL 709.055 193.487058 \r\nL 716.495 204.782642 \r\nL 723.935 210.430434 \r\nL 731.375 199.13485 \r\nL 738.815 193.487058 \r\nL 746.255 159.600304 \r\nL 753.695 131.361343 \r\nL 761.135 125.713551 \r\nL 768.575 153.952512 \r\nL 776.015 148.30472 \r\nL 783.455 137.009136 \r\nL 790.895 131.361343 \r\nL 798.335 137.009136 \r\nL 805.775 108.770175 \r\nL 813.215 108.770175 \r\nL 820.655 142.656928 \r\nL 828.095 148.30472 \r\nL 835.535 142.656928 \r\nL 842.975 137.009136 \r\nL 850.415 148.30472 \r\nL 857.855 125.713551 \r\nL 865.295 137.009136 \r\nL 872.735 131.361343 \r\nL 880.175 131.361343 \r\nL 887.615 131.361343 \r\nL 895.055 142.656928 \r\nL 902.495 131.361343 \r\nL 909.935 131.361343 \r\nL 917.375 125.713551 \r\nL 924.815 120.065759 \r\n\" style=\"fill:none;stroke:#dc143c;stroke-linecap:square;stroke-width:3;\"/>\r\n   </g>\r\n   <g id=\"patch_3\">\r\n    <path d=\"M 32.015 461.757187 \r\nL 32.015 26.877187 \r\n\" style=\"fill:none;stroke:#000000;stroke-linecap:square;stroke-linejoin:miter;stroke-width:0.8;\"/>\r\n   </g>\r\n   <g id=\"patch_4\">\r\n    <path d=\"M 924.815 461.757187 \r\nL 924.815 26.877187 \r\n\" style=\"fill:none;stroke:#000000;stroke-linecap:square;stroke-linejoin:miter;stroke-width:0.8;\"/>\r\n   </g>\r\n   <g id=\"patch_5\">\r\n    <path d=\"M 32.015 461.757187 \r\nL 924.815 461.757187 \r\n\" style=\"fill:none;stroke:#000000;stroke-linecap:square;stroke-linejoin:miter;stroke-width:0.8;\"/>\r\n   </g>\r\n   <g id=\"patch_6\">\r\n    <path d=\"M 32.015 26.877187 \r\nL 924.815 26.877187 \r\n\" style=\"fill:none;stroke:#000000;stroke-linecap:square;stroke-linejoin:miter;stroke-width:0.8;\"/>\r\n   </g>\r\n   <g id=\"text_33\">\r\n    <!-- Number of Nobel Prizes Awarded per Year -->\r\n    <g transform=\"translate(290.824062 20.877187)scale(0.18 -0.18)\">\r\n     <defs>\r\n      <path d=\"M 628 4666 \r\nL 1478 4666 \r\nL 3547 763 \r\nL 3547 4666 \r\nL 4159 4666 \r\nL 4159 0 \r\nL 3309 0 \r\nL 1241 3903 \r\nL 1241 0 \r\nL 628 0 \r\nL 628 4666 \r\nz\r\n\" id=\"DejaVuSans-4e\" transform=\"scale(0.015625)\"/>\r\n      <path d=\"M 544 1381 \r\nL 544 3500 \r\nL 1119 3500 \r\nL 1119 1403 \r\nQ 1119 906 1312 657 \r\nQ 1506 409 1894 409 \r\nQ 2359 409 2629 706 \r\nQ 2900 1003 2900 1516 \r\nL 2900 3500 \r\nL 3475 3500 \r\nL 3475 0 \r\nL 2900 0 \r\nL 2900 538 \r\nQ 2691 219 2414 64 \r\nQ 2138 -91 1772 -91 \r\nQ 1169 -91 856 284 \r\nQ 544 659 544 1381 \r\nz\r\nM 1991 3584 \r\nL 1991 3584 \r\nz\r\n\" id=\"DejaVuSans-75\" transform=\"scale(0.015625)\"/>\r\n      <path d=\"M 3328 2828 \r\nQ 3544 3216 3844 3400 \r\nQ 4144 3584 4550 3584 \r\nQ 5097 3584 5394 3201 \r\nQ 5691 2819 5691 2113 \r\nL 5691 0 \r\nL 5113 0 \r\nL 5113 2094 \r\nQ 5113 2597 4934 2840 \r\nQ 4756 3084 4391 3084 \r\nQ 3944 3084 3684 2787 \r\nQ 3425 2491 3425 1978 \r\nL 3425 0 \r\nL 2847 0 \r\nL 2847 2094 \r\nQ 2847 2600 2669 2842 \r\nQ 2491 3084 2119 3084 \r\nQ 1678 3084 1418 2786 \r\nQ 1159 2488 1159 1978 \r\nL 1159 0 \r\nL 581 0 \r\nL 581 3500 \r\nL 1159 3500 \r\nL 1159 2956 \r\nQ 1356 3278 1631 3431 \r\nQ 1906 3584 2284 3584 \r\nQ 2666 3584 2933 3390 \r\nQ 3200 3197 3328 2828 \r\nz\r\n\" id=\"DejaVuSans-6d\" transform=\"scale(0.015625)\"/>\r\n      <path d=\"M 3116 1747 \r\nQ 3116 2381 2855 2742 \r\nQ 2594 3103 2138 3103 \r\nQ 1681 3103 1420 2742 \r\nQ 1159 2381 1159 1747 \r\nQ 1159 1113 1420 752 \r\nQ 1681 391 2138 391 \r\nQ 2594 391 2855 752 \r\nQ 3116 1113 3116 1747 \r\nz\r\nM 1159 2969 \r\nQ 1341 3281 1617 3432 \r\nQ 1894 3584 2278 3584 \r\nQ 2916 3584 3314 3078 \r\nQ 3713 2572 3713 1747 \r\nQ 3713 922 3314 415 \r\nQ 2916 -91 2278 -91 \r\nQ 1894 -91 1617 61 \r\nQ 1341 213 1159 525 \r\nL 1159 0 \r\nL 581 0 \r\nL 581 4863 \r\nL 1159 4863 \r\nL 1159 2969 \r\nz\r\n\" id=\"DejaVuSans-62\" transform=\"scale(0.015625)\"/>\r\n      <path d=\"M 3597 1894 \r\nL 3597 1613 \r\nL 953 1613 \r\nQ 991 1019 1311 708 \r\nQ 1631 397 2203 397 \r\nQ 2534 397 2845 478 \r\nQ 3156 559 3463 722 \r\nL 3463 178 \r\nQ 3153 47 2828 -22 \r\nQ 2503 -91 2169 -91 \r\nQ 1331 -91 842 396 \r\nQ 353 884 353 1716 \r\nQ 353 2575 817 3079 \r\nQ 1281 3584 2069 3584 \r\nQ 2775 3584 3186 3129 \r\nQ 3597 2675 3597 1894 \r\nz\r\nM 3022 2063 \r\nQ 3016 2534 2758 2815 \r\nQ 2500 3097 2075 3097 \r\nQ 1594 3097 1305 2825 \r\nQ 1016 2553 972 2059 \r\nL 3022 2063 \r\nz\r\n\" id=\"DejaVuSans-65\" transform=\"scale(0.015625)\"/>\r\n      <path d=\"M 2631 2963 \r\nQ 2534 3019 2420 3045 \r\nQ 2306 3072 2169 3072 \r\nQ 1681 3072 1420 2755 \r\nQ 1159 2438 1159 1844 \r\nL 1159 0 \r\nL 581 0 \r\nL 581 3500 \r\nL 1159 3500 \r\nL 1159 2956 \r\nQ 1341 3275 1631 3429 \r\nQ 1922 3584 2338 3584 \r\nQ 2397 3584 2469 3576 \r\nQ 2541 3569 2628 3553 \r\nL 2631 2963 \r\nz\r\n\" id=\"DejaVuSans-72\" transform=\"scale(0.015625)\"/>\r\n      <path id=\"DejaVuSans-20\" transform=\"scale(0.015625)\"/>\r\n      <path d=\"M 1959 3097 \r\nQ 1497 3097 1228 2736 \r\nQ 959 2375 959 1747 \r\nQ 959 1119 1226 758 \r\nQ 1494 397 1959 397 \r\nQ 2419 397 2687 759 \r\nQ 2956 1122 2956 1747 \r\nQ 2956 2369 2687 2733 \r\nQ 2419 3097 1959 3097 \r\nz\r\nM 1959 3584 \r\nQ 2709 3584 3137 3096 \r\nQ 3566 2609 3566 1747 \r\nQ 3566 888 3137 398 \r\nQ 2709 -91 1959 -91 \r\nQ 1206 -91 779 398 \r\nQ 353 888 353 1747 \r\nQ 353 2609 779 3096 \r\nQ 1206 3584 1959 3584 \r\nz\r\n\" id=\"DejaVuSans-6f\" transform=\"scale(0.015625)\"/>\r\n      <path d=\"M 2375 4863 \r\nL 2375 4384 \r\nL 1825 4384 \r\nQ 1516 4384 1395 4259 \r\nQ 1275 4134 1275 3809 \r\nL 1275 3500 \r\nL 2222 3500 \r\nL 2222 3053 \r\nL 1275 3053 \r\nL 1275 0 \r\nL 697 0 \r\nL 697 3053 \r\nL 147 3053 \r\nL 147 3500 \r\nL 697 3500 \r\nL 697 3744 \r\nQ 697 4328 969 4595 \r\nQ 1241 4863 1831 4863 \r\nL 2375 4863 \r\nz\r\n\" id=\"DejaVuSans-66\" transform=\"scale(0.015625)\"/>\r\n      <path d=\"M 603 4863 \r\nL 1178 4863 \r\nL 1178 0 \r\nL 603 0 \r\nL 603 4863 \r\nz\r\n\" id=\"DejaVuSans-6c\" transform=\"scale(0.015625)\"/>\r\n      <path d=\"M 1259 4147 \r\nL 1259 2394 \r\nL 2053 2394 \r\nQ 2494 2394 2734 2622 \r\nQ 2975 2850 2975 3272 \r\nQ 2975 3691 2734 3919 \r\nQ 2494 4147 2053 4147 \r\nL 1259 4147 \r\nz\r\nM 628 4666 \r\nL 2053 4666 \r\nQ 2838 4666 3239 4311 \r\nQ 3641 3956 3641 3272 \r\nQ 3641 2581 3239 2228 \r\nQ 2838 1875 2053 1875 \r\nL 1259 1875 \r\nL 1259 0 \r\nL 628 0 \r\nL 628 4666 \r\nz\r\n\" id=\"DejaVuSans-50\" transform=\"scale(0.015625)\"/>\r\n      <path d=\"M 603 3500 \r\nL 1178 3500 \r\nL 1178 0 \r\nL 603 0 \r\nL 603 3500 \r\nz\r\nM 603 4863 \r\nL 1178 4863 \r\nL 1178 4134 \r\nL 603 4134 \r\nL 603 4863 \r\nz\r\n\" id=\"DejaVuSans-69\" transform=\"scale(0.015625)\"/>\r\n      <path d=\"M 353 3500 \r\nL 3084 3500 \r\nL 3084 2975 \r\nL 922 459 \r\nL 3084 459 \r\nL 3084 0 \r\nL 275 0 \r\nL 275 525 \r\nL 2438 3041 \r\nL 353 3041 \r\nL 353 3500 \r\nz\r\n\" id=\"DejaVuSans-7a\" transform=\"scale(0.015625)\"/>\r\n      <path d=\"M 2834 3397 \r\nL 2834 2853 \r\nQ 2591 2978 2328 3040 \r\nQ 2066 3103 1784 3103 \r\nQ 1356 3103 1142 2972 \r\nQ 928 2841 928 2578 \r\nQ 928 2378 1081 2264 \r\nQ 1234 2150 1697 2047 \r\nL 1894 2003 \r\nQ 2506 1872 2764 1633 \r\nQ 3022 1394 3022 966 \r\nQ 3022 478 2636 193 \r\nQ 2250 -91 1575 -91 \r\nQ 1294 -91 989 -36 \r\nQ 684 19 347 128 \r\nL 347 722 \r\nQ 666 556 975 473 \r\nQ 1284 391 1588 391 \r\nQ 1994 391 2212 530 \r\nQ 2431 669 2431 922 \r\nQ 2431 1156 2273 1281 \r\nQ 2116 1406 1581 1522 \r\nL 1381 1569 \r\nQ 847 1681 609 1914 \r\nQ 372 2147 372 2553 \r\nQ 372 3047 722 3315 \r\nQ 1072 3584 1716 3584 \r\nQ 2034 3584 2315 3537 \r\nQ 2597 3491 2834 3397 \r\nz\r\n\" id=\"DejaVuSans-73\" transform=\"scale(0.015625)\"/>\r\n      <path d=\"M 2188 4044 \r\nL 1331 1722 \r\nL 3047 1722 \r\nL 2188 4044 \r\nz\r\nM 1831 4666 \r\nL 2547 4666 \r\nL 4325 0 \r\nL 3669 0 \r\nL 3244 1197 \r\nL 1141 1197 \r\nL 716 0 \r\nL 50 0 \r\nL 1831 4666 \r\nz\r\n\" id=\"DejaVuSans-41\" transform=\"scale(0.015625)\"/>\r\n      <path d=\"M 269 3500 \r\nL 844 3500 \r\nL 1563 769 \r\nL 2278 3500 \r\nL 2956 3500 \r\nL 3675 769 \r\nL 4391 3500 \r\nL 4966 3500 \r\nL 4050 0 \r\nL 3372 0 \r\nL 2619 2869 \r\nL 1863 0 \r\nL 1184 0 \r\nL 269 3500 \r\nz\r\n\" id=\"DejaVuSans-77\" transform=\"scale(0.015625)\"/>\r\n      <path d=\"M 2194 1759 \r\nQ 1497 1759 1228 1600 \r\nQ 959 1441 959 1056 \r\nQ 959 750 1161 570 \r\nQ 1363 391 1709 391 \r\nQ 2188 391 2477 730 \r\nQ 2766 1069 2766 1631 \r\nL 2766 1759 \r\nL 2194 1759 \r\nz\r\nM 3341 1997 \r\nL 3341 0 \r\nL 2766 0 \r\nL 2766 531 \r\nQ 2569 213 2275 61 \r\nQ 1981 -91 1556 -91 \r\nQ 1019 -91 701 211 \r\nQ 384 513 384 1019 \r\nQ 384 1609 779 1909 \r\nQ 1175 2209 1959 2209 \r\nL 2766 2209 \r\nL 2766 2266 \r\nQ 2766 2663 2505 2880 \r\nQ 2244 3097 1772 3097 \r\nQ 1472 3097 1187 3025 \r\nQ 903 2953 641 2809 \r\nL 641 3341 \r\nQ 956 3463 1253 3523 \r\nQ 1550 3584 1831 3584 \r\nQ 2591 3584 2966 3190 \r\nQ 3341 2797 3341 1997 \r\nz\r\n\" id=\"DejaVuSans-61\" transform=\"scale(0.015625)\"/>\r\n      <path d=\"M 2906 2969 \r\nL 2906 4863 \r\nL 3481 4863 \r\nL 3481 0 \r\nL 2906 0 \r\nL 2906 525 \r\nQ 2725 213 2448 61 \r\nQ 2172 -91 1784 -91 \r\nQ 1150 -91 751 415 \r\nQ 353 922 353 1747 \r\nQ 353 2572 751 3078 \r\nQ 1150 3584 1784 3584 \r\nQ 2172 3584 2448 3432 \r\nQ 2725 3281 2906 2969 \r\nz\r\nM 947 1747 \r\nQ 947 1113 1208 752 \r\nQ 1469 391 1925 391 \r\nQ 2381 391 2643 752 \r\nQ 2906 1113 2906 1747 \r\nQ 2906 2381 2643 2742 \r\nQ 2381 3103 1925 3103 \r\nQ 1469 3103 1208 2742 \r\nQ 947 2381 947 1747 \r\nz\r\n\" id=\"DejaVuSans-64\" transform=\"scale(0.015625)\"/>\r\n      <path d=\"M 1159 525 \r\nL 1159 -1331 \r\nL 581 -1331 \r\nL 581 3500 \r\nL 1159 3500 \r\nL 1159 2969 \r\nQ 1341 3281 1617 3432 \r\nQ 1894 3584 2278 3584 \r\nQ 2916 3584 3314 3078 \r\nQ 3713 2572 3713 1747 \r\nQ 3713 922 3314 415 \r\nQ 2916 -91 2278 -91 \r\nQ 1894 -91 1617 61 \r\nQ 1341 213 1159 525 \r\nz\r\nM 3116 1747 \r\nQ 3116 2381 2855 2742 \r\nQ 2594 3103 2138 3103 \r\nQ 1681 3103 1420 2742 \r\nQ 1159 2381 1159 1747 \r\nQ 1159 1113 1420 752 \r\nQ 1681 391 2138 391 \r\nQ 2594 391 2855 752 \r\nQ 3116 1113 3116 1747 \r\nz\r\n\" id=\"DejaVuSans-70\" transform=\"scale(0.015625)\"/>\r\n      <path d=\"M -13 4666 \r\nL 666 4666 \r\nL 1959 2747 \r\nL 3244 4666 \r\nL 3922 4666 \r\nL 2272 2222 \r\nL 2272 0 \r\nL 1638 0 \r\nL 1638 2222 \r\nL -13 4666 \r\nz\r\n\" id=\"DejaVuSans-59\" transform=\"scale(0.015625)\"/>\r\n     </defs>\r\n     <use xlink:href=\"#DejaVuSans-4e\"/>\r\n     <use x=\"74.804688\" xlink:href=\"#DejaVuSans-75\"/>\r\n     <use x=\"138.183594\" xlink:href=\"#DejaVuSans-6d\"/>\r\n     <use x=\"235.595703\" xlink:href=\"#DejaVuSans-62\"/>\r\n     <use x=\"299.072266\" xlink:href=\"#DejaVuSans-65\"/>\r\n     <use x=\"360.595703\" xlink:href=\"#DejaVuSans-72\"/>\r\n     <use x=\"401.708984\" xlink:href=\"#DejaVuSans-20\"/>\r\n     <use x=\"433.496094\" xlink:href=\"#DejaVuSans-6f\"/>\r\n     <use x=\"494.677734\" xlink:href=\"#DejaVuSans-66\"/>\r\n     <use x=\"529.882812\" xlink:href=\"#DejaVuSans-20\"/>\r\n     <use x=\"561.669922\" xlink:href=\"#DejaVuSans-4e\"/>\r\n     <use x=\"636.474609\" xlink:href=\"#DejaVuSans-6f\"/>\r\n     <use x=\"697.65625\" xlink:href=\"#DejaVuSans-62\"/>\r\n     <use x=\"761.132812\" xlink:href=\"#DejaVuSans-65\"/>\r\n     <use x=\"822.65625\" xlink:href=\"#DejaVuSans-6c\"/>\r\n     <use x=\"850.439453\" xlink:href=\"#DejaVuSans-20\"/>\r\n     <use x=\"882.226562\" xlink:href=\"#DejaVuSans-50\"/>\r\n     <use x=\"940.779297\" xlink:href=\"#DejaVuSans-72\"/>\r\n     <use x=\"981.892578\" xlink:href=\"#DejaVuSans-69\"/>\r\n     <use x=\"1009.675781\" xlink:href=\"#DejaVuSans-7a\"/>\r\n     <use x=\"1062.166016\" xlink:href=\"#DejaVuSans-65\"/>\r\n     <use x=\"1123.689453\" xlink:href=\"#DejaVuSans-73\"/>\r\n     <use x=\"1175.789062\" xlink:href=\"#DejaVuSans-20\"/>\r\n     <use x=\"1207.576172\" xlink:href=\"#DejaVuSans-41\"/>\r\n     <use x=\"1271.984375\" xlink:href=\"#DejaVuSans-77\"/>\r\n     <use x=\"1353.771484\" xlink:href=\"#DejaVuSans-61\"/>\r\n     <use x=\"1415.050781\" xlink:href=\"#DejaVuSans-72\"/>\r\n     <use x=\"1454.414062\" xlink:href=\"#DejaVuSans-64\"/>\r\n     <use x=\"1517.890625\" xlink:href=\"#DejaVuSans-65\"/>\r\n     <use x=\"1579.414062\" xlink:href=\"#DejaVuSans-64\"/>\r\n     <use x=\"1642.890625\" xlink:href=\"#DejaVuSans-20\"/>\r\n     <use x=\"1674.677734\" xlink:href=\"#DejaVuSans-70\"/>\r\n     <use x=\"1738.154297\" xlink:href=\"#DejaVuSans-65\"/>\r\n     <use x=\"1799.677734\" xlink:href=\"#DejaVuSans-72\"/>\r\n     <use x=\"1840.791016\" xlink:href=\"#DejaVuSans-20\"/>\r\n     <use x=\"1872.578125\" xlink:href=\"#DejaVuSans-59\"/>\r\n     <use x=\"1920.412109\" xlink:href=\"#DejaVuSans-65\"/>\r\n     <use x=\"1981.935547\" xlink:href=\"#DejaVuSans-61\"/>\r\n     <use x=\"2043.214844\" xlink:href=\"#DejaVuSans-72\"/>\r\n    </g>\r\n   </g>\r\n  </g>\r\n  <g id=\"axes_2\">\r\n   <g id=\"matplotlib.axis_3\">\r\n    <g id=\"ytick_8\">\r\n     <g id=\"line2d_34\">\r\n      <defs>\r\n       <path d=\"M 0 0 \r\nL 3.5 0 \r\n\" id=\"ma2421813c3\" style=\"stroke:#000000;stroke-width:0.8;\"/>\r\n      </defs>\r\n      <g>\r\n       <use style=\"stroke:#000000;stroke-width:0.8;\" x=\"924.815\" xlink:href=\"#ma2421813c3\" y=\"420.164942\"/>\r\n      </g>\r\n     </g>\r\n     <g id=\"text_34\">\r\n      <!-- 0.5 -->\r\n      <g transform=\"translate(931.815 423.964161)scale(0.1 -0.1)\">\r\n       <defs>\r\n        <path d=\"M 684 794 \r\nL 1344 794 \r\nL 1344 0 \r\nL 684 0 \r\nL 684 794 \r\nz\r\n\" id=\"DejaVuSans-2e\" transform=\"scale(0.015625)\"/>\r\n       </defs>\r\n       <use xlink:href=\"#DejaVuSans-30\"/>\r\n       <use x=\"63.623047\" xlink:href=\"#DejaVuSans-2e\"/>\r\n       <use x=\"95.410156\" xlink:href=\"#DejaVuSans-35\"/>\r\n      </g>\r\n     </g>\r\n    </g>\r\n    <g id=\"ytick_9\">\r\n     <g id=\"line2d_35\">\r\n      <g>\r\n       <use style=\"stroke:#000000;stroke-width:0.8;\" x=\"924.815\" xlink:href=\"#ma2421813c3\" y=\"337.16039\"/>\r\n      </g>\r\n     </g>\r\n     <g id=\"text_35\">\r\n      <!-- 0.6 -->\r\n      <g transform=\"translate(931.815 340.959609)scale(0.1 -0.1)\">\r\n       <use xlink:href=\"#DejaVuSans-30\"/>\r\n       <use x=\"63.623047\" xlink:href=\"#DejaVuSans-2e\"/>\r\n       <use x=\"95.410156\" xlink:href=\"#DejaVuSans-36\"/>\r\n      </g>\r\n     </g>\r\n    </g>\r\n    <g id=\"ytick_10\">\r\n     <g id=\"line2d_36\">\r\n      <g>\r\n       <use style=\"stroke:#000000;stroke-width:0.8;\" x=\"924.815\" xlink:href=\"#ma2421813c3\" y=\"254.155839\"/>\r\n      </g>\r\n     </g>\r\n     <g id=\"text_36\">\r\n      <!-- 0.7 -->\r\n      <g transform=\"translate(931.815 257.955058)scale(0.1 -0.1)\">\r\n       <use xlink:href=\"#DejaVuSans-30\"/>\r\n       <use x=\"63.623047\" xlink:href=\"#DejaVuSans-2e\"/>\r\n       <use x=\"95.410156\" xlink:href=\"#DejaVuSans-37\"/>\r\n      </g>\r\n     </g>\r\n    </g>\r\n    <g id=\"ytick_11\">\r\n     <g id=\"line2d_37\">\r\n      <g>\r\n       <use style=\"stroke:#000000;stroke-width:0.8;\" x=\"924.815\" xlink:href=\"#ma2421813c3\" y=\"171.151287\"/>\r\n      </g>\r\n     </g>\r\n     <g id=\"text_37\">\r\n      <!-- 0.8 -->\r\n      <g transform=\"translate(931.815 174.950506)scale(0.1 -0.1)\">\r\n       <use xlink:href=\"#DejaVuSans-30\"/>\r\n       <use x=\"63.623047\" xlink:href=\"#DejaVuSans-2e\"/>\r\n       <use x=\"95.410156\" xlink:href=\"#DejaVuSans-38\"/>\r\n      </g>\r\n     </g>\r\n    </g>\r\n    <g id=\"ytick_12\">\r\n     <g id=\"line2d_38\">\r\n      <g>\r\n       <use style=\"stroke:#000000;stroke-width:0.8;\" x=\"924.815\" xlink:href=\"#ma2421813c3\" y=\"88.146736\"/>\r\n      </g>\r\n     </g>\r\n     <g id=\"text_38\">\r\n      <!-- 0.9 -->\r\n      <g transform=\"translate(931.815 91.945955)scale(0.1 -0.1)\">\r\n       <use xlink:href=\"#DejaVuSans-30\"/>\r\n       <use x=\"63.623047\" xlink:href=\"#DejaVuSans-2e\"/>\r\n       <use x=\"95.410156\" xlink:href=\"#DejaVuSans-39\"/>\r\n      </g>\r\n     </g>\r\n    </g>\r\n   </g>\r\n   <g id=\"line2d_39\">\r\n    <path clip-path=\"url(#pc2b67356fd)\" d=\"M 69.215 155.340897 \r\nL 76.655 155.340897 \r\nL 84.095 135.577908 \r\nL 91.535 135.577908 \r\nL 98.975 155.340897 \r\nL 106.415 155.340897 \r\nL 113.855 155.340897 \r\nL 121.295 155.340897 \r\nL 128.735 107.909724 \r\nL 136.175 60.478552 \r\nL 143.615 101.980828 \r\nL 151.055 74.312644 \r\nL 158.495 88.146736 \r\nL 165.935 88.146736 \r\nL 173.375 88.146736 \r\nL 180.815 46.64446 \r\nL 188.255 79.846281 \r\nL 195.695 66.012189 \r\nL 203.135 99.214009 \r\nL 210.575 99.214009 \r\nL 218.015 154.550377 \r\nL 225.455 149.01674 \r\nL 232.895 168.779729 \r\nL 240.335 135.577908 \r\nL 247.775 183.00908 \r\nL 255.215 127.672713 \r\nL 262.655 155.340897 \r\nL 270.095 141.111545 \r\nL 277.535 174.313366 \r\nL 284.975 182.218561 \r\nL 292.415 215.420382 \r\nL 299.855 207.515186 \r\nL 307.295 221.744538 \r\nL 314.735 188.542717 \r\nL 322.175 166.40817 \r\nL 351.935 174.708625 \r\nL 359.375 154.945637 \r\nL 366.815 154.945637 \r\nL 374.255 217.19905 \r\nL 381.695 246.250644 \r\nL 389.135 204.748368 \r\nL 396.575 204.748368 \r\nL 404.015 219.570609 \r\nL 411.455 204.748368 \r\nL 418.895 189.926126 \r\nL 426.335 217.59431 \r\nL 433.775 252.17954 \r\nL 441.215 223.127947 \r\nL 448.655 267.924054 \r\nL 456.095 248.161066 \r\nL 463.535 294.274705 \r\nL 470.975 279.452464 \r\nL 478.415 273.918827 \r\nL 485.855 209.359732 \r\nL 493.295 243.944962 \r\nL 500.735 260.713558 \r\nL 508.175 275.535799 \r\nL 515.615 321.649439 \r\nL 523.055 349.317623 \r\nL 530.495 370.06876 \r\nL 537.935 326.949513 \r\nL 545.375 331.099741 \r\nL 552.815 312.654285 \r\nL 560.255 257.317917 \r\nL 567.695 264.863785 \r\nL 575.135 300.437165 \r\nL 582.575 317.038075 \r\nL 590.015 344.706259 \r\nL 597.455 400.042626 \r\nL 604.895 384.95089 \r\nL 612.335 377.405021 \r\nL 619.775 369.859153 \r\nL 627.215 362.313285 \r\nL 634.655 382.4356 \r\nL 642.095 362.313285 \r\nL 649.535 310.570188 \r\nL 656.975 290.447872 \r\nL 664.415 256.491465 \r\nL 671.855 256.491465 \r\nL 679.295 256.491465 \r\nL 686.735 315.78043 \r\nL 694.175 326.847704 \r\nL 701.615 360.804111 \r\nL 709.055 309.061014 \r\nL 716.495 277.440233 \r\nL 723.935 269.894364 \r\nL 731.375 286.495275 \r\nL 738.815 294.041143 \r\nL 746.255 359.715074 \r\nL 753.695 419.004039 \r\nL 761.135 426.549907 \r\nL 768.575 367.260942 \r\nL 776.015 373.645907 \r\nL 783.455 383.861852 \r\nL 790.895 390.246818 \r\nL 798.335 382.700949 \r\nL 805.775 441.989915 \r\nL 813.215 441.989915 \r\nL 820.655 397.720821 \r\nL 828.095 391.335855 \r\nL 835.535 398.881723 \r\nL 842.975 405.266689 \r\nL 850.415 391.335855 \r\nL 857.855 425.389004 \r\nL 865.295 408.788094 \r\nL 872.735 415.17306 \r\nL 880.175 415.17306 \r\nL 887.615 415.17306 \r\nL 895.055 401.242226 \r\nL 902.495 417.843136 \r\nL 909.935 417.843136 \r\nL 917.375 423.315964 \r\nL 924.815 430.861832 \r\n\" style=\"fill:none;stroke:#808080;stroke-linecap:square;stroke-width:3;\"/>\r\n   </g>\r\n   <g id=\"patch_7\">\r\n    <path d=\"M 32.015 461.757187 \r\nL 32.015 26.877187 \r\n\" style=\"fill:none;stroke:#000000;stroke-linecap:square;stroke-linejoin:miter;stroke-width:0.8;\"/>\r\n   </g>\r\n   <g id=\"patch_8\">\r\n    <path d=\"M 924.815 461.757187 \r\nL 924.815 26.877187 \r\n\" style=\"fill:none;stroke:#000000;stroke-linecap:square;stroke-linejoin:miter;stroke-width:0.8;\"/>\r\n   </g>\r\n   <g id=\"patch_9\">\r\n    <path d=\"M 32.015 461.757187 \r\nL 924.815 461.757187 \r\n\" style=\"fill:none;stroke:#000000;stroke-linecap:square;stroke-linejoin:miter;stroke-width:0.8;\"/>\r\n   </g>\r\n   <g id=\"patch_10\">\r\n    <path d=\"M 32.015 26.877187 \r\nL 924.815 26.877187 \r\n\" style=\"fill:none;stroke:#000000;stroke-linecap:square;stroke-linejoin:miter;stroke-width:0.8;\"/>\r\n   </g>\r\n  </g>\r\n </g>\r\n <defs>\r\n  <clipPath id=\"pc2b67356fd\">\r\n   <rect height=\"434.88\" width=\"892.8\" x=\"32.015\" y=\"26.877187\"/>\r\n  </clipPath>\r\n </defs>\r\n</svg>\r\n",
            "image/png": "[encoded data removed]"
          },
          "metadata": {
            "needs_background": "light"
          }
        }
      ],
      "metadata": {
        "id": "QRen05_6Fw0y"
      }
    },
    {
      "cell_type": "code",
      "execution_count": null,
      "source": [],
      "outputs": [],
      "metadata": {
        "id": "207bX8O7Fwih"
      }
    },
    {
      "cell_type": "markdown",
      "source": [
        "# The Countries with the Most Nobel Prizes"
      ],
      "metadata": {
        "dc": {
          "key": "3"
        },
        "run_control": {
          "frozen": true
        },
        "tags": [
          "context"
        ],
        "id": "L32lWu0Oo7MM"
      }
    },
    {
      "cell_type": "markdown",
      "source": [
        "**Challenge**: \r\n",
        "* Create a Pandas DataFrame called `top20_countries` that has the two columns. The `prize` column should contain the total number of prizes won. \r\n",
        "\r\n",
        "<img src=https://i.imgur.com/6HM8rfB.png width=350>\r\n",
        "\r\n",
        "* Is it best to use `birth_country`, `birth_country_current` or `organization_country`? \r\n",
        "* What are some potential problems when using `birth_country` or any of the others? Which column is the least problematic? \r\n",
        "* Then use plotly to create a horizontal bar chart showing the number of prizes won by each country. Here's what you're after:\r\n",
        "\r\n",
        "\r\n",
        "\r\n",
        "\r\n",
        "* What is the ranking for the top 20 countries in terms of the number of prizes?"
      ],
      "metadata": {
        "id": "UipIHU54o7MN"
      }
    },
    {
      "cell_type": "code",
      "execution_count": 193,
      "source": [
        "top_countries = df_data.groupby(['birth_country_current'], as_index=False).agg({'prize': pd.Series.count})\r\n",
        " \r\n",
        "top_countries.sort_values(by='prize', inplace=True)\r\n",
        "top20_countries = top_countries[-20:]"
      ],
      "outputs": [],
      "metadata": {
        "id": "cscYI4BvFzjC"
      }
    },
    {
      "cell_type": "code",
      "execution_count": 194,
      "source": [
        "h_bar = px.bar(x=top20_countries.prize,\r\n",
        "               y=top20_countries.birth_country_current,\r\n",
        "               orientation='h',\r\n",
        "               color=top20_countries.prize,\r\n",
        "               color_continuous_scale='Viridis',\r\n",
        "               title='Top 20 Countries by Number of Prizes')\r\n",
        " \r\n",
        "h_bar.update_layout(xaxis_title='Number of Prizes', \r\n",
        "                    yaxis_title='Country',\r\n",
        "                    coloraxis_showscale=False)\r\n",
        "h_bar.show()"
      ],
      "outputs": [
        {
          "output_type": "display_data",
          "data": {
            "application/vnd.plotly.v1+json": {
              "config": {
                "plotlyServerURL": "https://plot.ly"
              },
              "data": [
                {
                  "alignmentgroup": "True",
                  "hovertemplate": "x=%{x}<br>y=%{y}<br>color=%{marker.color}<extra></extra>",
                  "legendgroup": "",
                  "marker": {
                    "color": [
                      9,
                      9,
                      9,
                      10,
                      12,
                      12,
                      12,
                      18,
                      18,
                      19,
                      19,
                      20,
                      26,
                      27,
                      27,
                      29,
                      57,
                      84,
                      105,
                      281
                    ],
                    "coloraxis": "coloraxis",
                    "pattern": {
                      "shape": ""
                    }
                  },
                  "name": "",
                  "offsetgroup": "",
                  "orientation": "h",
                  "showlegend": false,
                  "textposition": "auto",
                  "type": "bar",
                  "x": [
                    9,
                    9,
                    9,
                    10,
                    12,
                    12,
                    12,
                    18,
                    18,
                    19,
                    19,
                    20,
                    26,
                    27,
                    27,
                    29,
                    57,
                    84,
                    105,
                    281
                  ],
                  "xaxis": "x",
                  "y": [
                    "Belgium",
                    "Hungary",
                    "India",
                    "Australia",
                    "Denmark",
                    "Norway",
                    "China",
                    "Netherlands",
                    "Austria",
                    "Italy",
                    "Switzerland",
                    "Canada",
                    "Russia",
                    "Japan",
                    "Poland",
                    "Sweden",
                    "France",
                    "Germany",
                    "United Kingdom",
                    "United States of America"
                  ],
                  "yaxis": "y"
                }
              ],
              "layout": {
                "barmode": "relative",
                "coloraxis": {
                  "colorbar": {
                    "title": {
                      "text": "color"
                    }
                  },
                  "colorscale": [
                    [
                      0,
                      "#440154"
                    ],
                    [
                      0.1111111111111111,
                      "#482878"
                    ],
                    [
                      0.2222222222222222,
                      "#3e4989"
                    ],
                    [
                      0.3333333333333333,
                      "#31688e"
                    ],
                    [
                      0.4444444444444444,
                      "#26828e"
                    ],
                    [
                      0.5555555555555556,
                      "#1f9e89"
                    ],
                    [
                      0.6666666666666666,
                      "#35b779"
                    ],
                    [
                      0.7777777777777778,
                      "#6ece58"
                    ],
                    [
                      0.8888888888888888,
                      "#b5de2b"
                    ],
                    [
                      1,
                      "#fde725"
                    ]
                  ],
                  "showscale": false
                },
                "legend": {
                  "tracegroupgap": 0
                },
                "template": {
                  "data": {
                    "bar": [
                      {
                        "error_x": {
                          "color": "#2a3f5f"
                        },
                        "error_y": {
                          "color": "#2a3f5f"
                        },
                        "marker": {
                          "line": {
                            "color": "#E5ECF6",
                            "width": 0.5
                          },
                          "pattern": {
                            "fillmode": "overlay",
                            "size": 10,
                            "solidity": 0.2
                          }
                        },
                        "type": "bar"
                      }
                    ],
                    "barpolar": [
                      {
                        "marker": {
                          "line": {
                            "color": "#E5ECF6",
                            "width": 0.5
                          },
                          "pattern": {
                            "fillmode": "overlay",
                            "size": 10,
                            "solidity": 0.2
                          }
                        },
                        "type": "barpolar"
                      }
                    ],
                    "carpet": [
                      {
                        "aaxis": {
                          "endlinecolor": "#2a3f5f",
                          "gridcolor": "white",
                          "linecolor": "white",
                          "minorgridcolor": "white",
                          "startlinecolor": "#2a3f5f"
                        },
                        "baxis": {
                          "endlinecolor": "#2a3f5f",
                          "gridcolor": "white",
                          "linecolor": "white",
                          "minorgridcolor": "white",
                          "startlinecolor": "#2a3f5f"
                        },
                        "type": "carpet"
                      }
                    ],
                    "choropleth": [
                      {
                        "colorbar": {
                          "outlinewidth": 0,
                          "ticks": ""
                        },
                        "type": "choropleth"
                      }
                    ],
                    "contour": [
                      {
                        "colorbar": {
                          "outlinewidth": 0,
                          "ticks": ""
                        },
                        "colorscale": [
                          [
                            0,
                            "#0d0887"
                          ],
                          [
                            0.1111111111111111,
                            "#46039f"
                          ],
                          [
                            0.2222222222222222,
                            "#7201a8"
                          ],
                          [
                            0.3333333333333333,
                            "#9c179e"
                          ],
                          [
                            0.4444444444444444,
                            "#bd3786"
                          ],
                          [
                            0.5555555555555556,
                            "#d8576b"
                          ],
                          [
                            0.6666666666666666,
                            "#ed7953"
                          ],
                          [
                            0.7777777777777778,
                            "#fb9f3a"
                          ],
                          [
                            0.8888888888888888,
                            "#fdca26"
                          ],
                          [
                            1,
                            "#f0f921"
                          ]
                        ],
                        "type": "contour"
                      }
                    ],
                    "contourcarpet": [
                      {
                        "colorbar": {
                          "outlinewidth": 0,
                          "ticks": ""
                        },
                        "type": "contourcarpet"
                      }
                    ],
                    "heatmap": [
                      {
                        "colorbar": {
                          "outlinewidth": 0,
                          "ticks": ""
                        },
                        "colorscale": [
                          [
                            0,
                            "#0d0887"
                          ],
                          [
                            0.1111111111111111,
                            "#46039f"
                          ],
                          [
                            0.2222222222222222,
                            "#7201a8"
                          ],
                          [
                            0.3333333333333333,
                            "#9c179e"
                          ],
                          [
                            0.4444444444444444,
                            "#bd3786"
                          ],
                          [
                            0.5555555555555556,
                            "#d8576b"
                          ],
                          [
                            0.6666666666666666,
                            "#ed7953"
                          ],
                          [
                            0.7777777777777778,
                            "#fb9f3a"
                          ],
                          [
                            0.8888888888888888,
                            "#fdca26"
                          ],
                          [
                            1,
                            "#f0f921"
                          ]
                        ],
                        "type": "heatmap"
                      }
                    ],
                    "heatmapgl": [
                      {
                        "colorbar": {
                          "outlinewidth": 0,
                          "ticks": ""
                        },
                        "colorscale": [
                          [
                            0,
                            "#0d0887"
                          ],
                          [
                            0.1111111111111111,
                            "#46039f"
                          ],
                          [
                            0.2222222222222222,
                            "#7201a8"
                          ],
                          [
                            0.3333333333333333,
                            "#9c179e"
                          ],
                          [
                            0.4444444444444444,
                            "#bd3786"
                          ],
                          [
                            0.5555555555555556,
                            "#d8576b"
                          ],
                          [
                            0.6666666666666666,
                            "#ed7953"
                          ],
                          [
                            0.7777777777777778,
                            "#fb9f3a"
                          ],
                          [
                            0.8888888888888888,
                            "#fdca26"
                          ],
                          [
                            1,
                            "#f0f921"
                          ]
                        ],
                        "type": "heatmapgl"
                      }
                    ],
                    "histogram": [
                      {
                        "marker": {
                          "pattern": {
                            "fillmode": "overlay",
                            "size": 10,
                            "solidity": 0.2
                          }
                        },
                        "type": "histogram"
                      }
                    ],
                    "histogram2d": [
                      {
                        "colorbar": {
                          "outlinewidth": 0,
                          "ticks": ""
                        },
                        "colorscale": [
                          [
                            0,
                            "#0d0887"
                          ],
                          [
                            0.1111111111111111,
                            "#46039f"
                          ],
                          [
                            0.2222222222222222,
                            "#7201a8"
                          ],
                          [
                            0.3333333333333333,
                            "#9c179e"
                          ],
                          [
                            0.4444444444444444,
                            "#bd3786"
                          ],
                          [
                            0.5555555555555556,
                            "#d8576b"
                          ],
                          [
                            0.6666666666666666,
                            "#ed7953"
                          ],
                          [
                            0.7777777777777778,
                            "#fb9f3a"
                          ],
                          [
                            0.8888888888888888,
                            "#fdca26"
                          ],
                          [
                            1,
                            "#f0f921"
                          ]
                        ],
                        "type": "histogram2d"
                      }
                    ],
                    "histogram2dcontour": [
                      {
                        "colorbar": {
                          "outlinewidth": 0,
                          "ticks": ""
                        },
                        "colorscale": [
                          [
                            0,
                            "#0d0887"
                          ],
                          [
                            0.1111111111111111,
                            "#46039f"
                          ],
                          [
                            0.2222222222222222,
                            "#7201a8"
                          ],
                          [
                            0.3333333333333333,
                            "#9c179e"
                          ],
                          [
                            0.4444444444444444,
                            "#bd3786"
                          ],
                          [
                            0.5555555555555556,
                            "#d8576b"
                          ],
                          [
                            0.6666666666666666,
                            "#ed7953"
                          ],
                          [
                            0.7777777777777778,
                            "#fb9f3a"
                          ],
                          [
                            0.8888888888888888,
                            "#fdca26"
                          ],
                          [
                            1,
                            "#f0f921"
                          ]
                        ],
                        "type": "histogram2dcontour"
                      }
                    ],
                    "mesh3d": [
                      {
                        "colorbar": {
                          "outlinewidth": 0,
                          "ticks": ""
                        },
                        "type": "mesh3d"
                      }
                    ],
                    "parcoords": [
                      {
                        "line": {
                          "colorbar": {
                            "outlinewidth": 0,
                            "ticks": ""
                          }
                        },
                        "type": "parcoords"
                      }
                    ],
                    "pie": [
                      {
                        "automargin": true,
                        "type": "pie"
                      }
                    ],
                    "scatter": [
                      {
                        "marker": {
                          "colorbar": {
                            "outlinewidth": 0,
                            "ticks": ""
                          }
                        },
                        "type": "scatter"
                      }
                    ],
                    "scatter3d": [
                      {
                        "line": {
                          "colorbar": {
                            "outlinewidth": 0,
                            "ticks": ""
                          }
                        },
                        "marker": {
                          "colorbar": {
                            "outlinewidth": 0,
                            "ticks": ""
                          }
                        },
                        "type": "scatter3d"
                      }
                    ],
                    "scattercarpet": [
                      {
                        "marker": {
                          "colorbar": {
                            "outlinewidth": 0,
                            "ticks": ""
                          }
                        },
                        "type": "scattercarpet"
                      }
                    ],
                    "scattergeo": [
                      {
                        "marker": {
                          "colorbar": {
                            "outlinewidth": 0,
                            "ticks": ""
                          }
                        },
                        "type": "scattergeo"
                      }
                    ],
                    "scattergl": [
                      {
                        "marker": {
                          "colorbar": {
                            "outlinewidth": 0,
                            "ticks": ""
                          }
                        },
                        "type": "scattergl"
                      }
                    ],
                    "scattermapbox": [
                      {
                        "marker": {
                          "colorbar": {
                            "outlinewidth": 0,
                            "ticks": ""
                          }
                        },
                        "type": "scattermapbox"
                      }
                    ],
                    "scatterpolar": [
                      {
                        "marker": {
                          "colorbar": {
                            "outlinewidth": 0,
                            "ticks": ""
                          }
                        },
                        "type": "scatterpolar"
                      }
                    ],
                    "scatterpolargl": [
                      {
                        "marker": {
                          "colorbar": {
                            "outlinewidth": 0,
                            "ticks": ""
                          }
                        },
                        "type": "scatterpolargl"
                      }
                    ],
                    "scatterternary": [
                      {
                        "marker": {
                          "colorbar": {
                            "outlinewidth": 0,
                            "ticks": ""
                          }
                        },
                        "type": "scatterternary"
                      }
                    ],
                    "surface": [
                      {
                        "colorbar": {
                          "outlinewidth": 0,
                          "ticks": ""
                        },
                        "colorscale": [
                          [
                            0,
                            "#0d0887"
                          ],
                          [
                            0.1111111111111111,
                            "#46039f"
                          ],
                          [
                            0.2222222222222222,
                            "#7201a8"
                          ],
                          [
                            0.3333333333333333,
                            "#9c179e"
                          ],
                          [
                            0.4444444444444444,
                            "#bd3786"
                          ],
                          [
                            0.5555555555555556,
                            "#d8576b"
                          ],
                          [
                            0.6666666666666666,
                            "#ed7953"
                          ],
                          [
                            0.7777777777777778,
                            "#fb9f3a"
                          ],
                          [
                            0.8888888888888888,
                            "#fdca26"
                          ],
                          [
                            1,
                            "#f0f921"
                          ]
                        ],
                        "type": "surface"
                      }
                    ],
                    "table": [
                      {
                        "cells": {
                          "fill": {
                            "color": "#EBF0F8"
                          },
                          "line": {
                            "color": "white"
                          }
                        },
                        "header": {
                          "fill": {
                            "color": "#C8D4E3"
                          },
                          "line": {
                            "color": "white"
                          }
                        },
                        "type": "table"
                      }
                    ]
                  },
                  "layout": {
                    "annotationdefaults": {
                      "arrowcolor": "#2a3f5f",
                      "arrowhead": 0,
                      "arrowwidth": 1
                    },
                    "autotypenumbers": "strict",
                    "coloraxis": {
                      "colorbar": {
                        "outlinewidth": 0,
                        "ticks": ""
                      }
                    },
                    "colorscale": {
                      "diverging": [
                        [
                          0,
                          "#8e0152"
                        ],
                        [
                          0.1,
                          "#c51b7d"
                        ],
                        [
                          0.2,
                          "#de77ae"
                        ],
                        [
                          0.3,
                          "#f1b6da"
                        ],
                        [
                          0.4,
                          "#fde0ef"
                        ],
                        [
                          0.5,
                          "#f7f7f7"
                        ],
                        [
                          0.6,
                          "#e6f5d0"
                        ],
                        [
                          0.7,
                          "#b8e186"
                        ],
                        [
                          0.8,
                          "#7fbc41"
                        ],
                        [
                          0.9,
                          "#4d9221"
                        ],
                        [
                          1,
                          "#276419"
                        ]
                      ],
                      "sequential": [
                        [
                          0,
                          "#0d0887"
                        ],
                        [
                          0.1111111111111111,
                          "#46039f"
                        ],
                        [
                          0.2222222222222222,
                          "#7201a8"
                        ],
                        [
                          0.3333333333333333,
                          "#9c179e"
                        ],
                        [
                          0.4444444444444444,
                          "#bd3786"
                        ],
                        [
                          0.5555555555555556,
                          "#d8576b"
                        ],
                        [
                          0.6666666666666666,
                          "#ed7953"
                        ],
                        [
                          0.7777777777777778,
                          "#fb9f3a"
                        ],
                        [
                          0.8888888888888888,
                          "#fdca26"
                        ],
                        [
                          1,
                          "#f0f921"
                        ]
                      ],
                      "sequentialminus": [
                        [
                          0,
                          "#0d0887"
                        ],
                        [
                          0.1111111111111111,
                          "#46039f"
                        ],
                        [
                          0.2222222222222222,
                          "#7201a8"
                        ],
                        [
                          0.3333333333333333,
                          "#9c179e"
                        ],
                        [
                          0.4444444444444444,
                          "#bd3786"
                        ],
                        [
                          0.5555555555555556,
                          "#d8576b"
                        ],
                        [
                          0.6666666666666666,
                          "#ed7953"
                        ],
                        [
                          0.7777777777777778,
                          "#fb9f3a"
                        ],
                        [
                          0.8888888888888888,
                          "#fdca26"
                        ],
                        [
                          1,
                          "#f0f921"
                        ]
                      ]
                    },
                    "colorway": [
                      "#636efa",
                      "#EF553B",
                      "#00cc96",
                      "#ab63fa",
                      "#FFA15A",
                      "#19d3f3",
                      "#FF6692",
                      "#B6E880",
                      "#FF97FF",
                      "#FECB52"
                    ],
                    "font": {
                      "color": "#2a3f5f"
                    },
                    "geo": {
                      "bgcolor": "white",
                      "lakecolor": "white",
                      "landcolor": "#E5ECF6",
                      "showlakes": true,
                      "showland": true,
                      "subunitcolor": "white"
                    },
                    "hoverlabel": {
                      "align": "left"
                    },
                    "hovermode": "closest",
                    "mapbox": {
                      "style": "light"
                    },
                    "paper_bgcolor": "white",
                    "plot_bgcolor": "#E5ECF6",
                    "polar": {
                      "angularaxis": {
                        "gridcolor": "white",
                        "linecolor": "white",
                        "ticks": ""
                      },
                      "bgcolor": "#E5ECF6",
                      "radialaxis": {
                        "gridcolor": "white",
                        "linecolor": "white",
                        "ticks": ""
                      }
                    },
                    "scene": {
                      "xaxis": {
                        "backgroundcolor": "#E5ECF6",
                        "gridcolor": "white",
                        "gridwidth": 2,
                        "linecolor": "white",
                        "showbackground": true,
                        "ticks": "",
                        "zerolinecolor": "white"
                      },
                      "yaxis": {
                        "backgroundcolor": "#E5ECF6",
                        "gridcolor": "white",
                        "gridwidth": 2,
                        "linecolor": "white",
                        "showbackground": true,
                        "ticks": "",
                        "zerolinecolor": "white"
                      },
                      "zaxis": {
                        "backgroundcolor": "#E5ECF6",
                        "gridcolor": "white",
                        "gridwidth": 2,
                        "linecolor": "white",
                        "showbackground": true,
                        "ticks": "",
                        "zerolinecolor": "white"
                      }
                    },
                    "shapedefaults": {
                      "line": {
                        "color": "#2a3f5f"
                      }
                    },
                    "ternary": {
                      "aaxis": {
                        "gridcolor": "white",
                        "linecolor": "white",
                        "ticks": ""
                      },
                      "baxis": {
                        "gridcolor": "white",
                        "linecolor": "white",
                        "ticks": ""
                      },
                      "bgcolor": "#E5ECF6",
                      "caxis": {
                        "gridcolor": "white",
                        "linecolor": "white",
                        "ticks": ""
                      }
                    },
                    "title": {
                      "x": 0.05
                    },
                    "xaxis": {
                      "automargin": true,
                      "gridcolor": "white",
                      "linecolor": "white",
                      "ticks": "",
                      "title": {
                        "standoff": 15
                      },
                      "zerolinecolor": "white",
                      "zerolinewidth": 2
                    },
                    "yaxis": {
                      "automargin": true,
                      "gridcolor": "white",
                      "linecolor": "white",
                      "ticks": "",
                      "title": {
                        "standoff": 15
                      },
                      "zerolinecolor": "white",
                      "zerolinewidth": 2
                    }
                  }
                },
                "title": {
                  "text": "Top 20 Countries by Number of Prizes"
                },
                "xaxis": {
                  "anchor": "y",
                  "domain": [
                    0,
                    1
                  ],
                  "title": {
                    "text": "Number of Prizes"
                  }
                },
                "yaxis": {
                  "anchor": "x",
                  "domain": [
                    0,
                    1
                  ],
                  "title": {
                    "text": "Country"
                  }
                }
              }
            }
          },
          "metadata": {}
        }
      ],
      "metadata": {
        "id": "Zl2rqcVKFz9P"
      }
    },
    {
      "cell_type": "markdown",
      "source": [
        "# Use a Choropleth Map to Show the Number of Prizes Won by Country\r\n",
        "\r\n",
        "* Create this choropleth map using [the plotly documentation](https://plotly.com/python/choropleth-maps/):\r\n",
        "\r\n",
        "\r\n",
        "\r\n",
        "* Experiment with [plotly's available colours](https://plotly.com/python/builtin-colorscales/). I quite like the sequential colour `matter` on this map. \r\n",
        "\r\n",
        "Hint: You'll need to use a 3 letter country code for each country. \r\n"
      ],
      "metadata": {
        "id": "uNTvKsrzo7MR"
      }
    },
    {
      "cell_type": "code",
      "execution_count": 196,
      "source": [
        "df_countries = df_data.groupby(['birth_country_current', 'ISO'], as_index=False).agg({'prize': pd.Series.count})\r\n",
        "df_countries.sort_values('prize', ascending=False)"
      ],
      "outputs": [
        {
          "output_type": "execute_result",
          "data": {
            "text/plain": [
              "       birth_country_current  ISO  prize\n",
              "74  United States of America  USA    281\n",
              "73            United Kingdom  GBR    105\n",
              "26                   Germany  DEU     84\n",
              "25                    France  FRA     57\n",
              "67                    Sweden  SWE     29\n",
              "..                       ...  ...    ...\n",
              "32                   Iceland  ISL      1\n",
              "47                Madagascar  MDG      1\n",
              "34                 Indonesia  IDN      1\n",
              "36                      Iraq  IRQ      1\n",
              "78                  Zimbabwe  ZWE      1\n",
              "\n",
              "[79 rows x 3 columns]"
            ],
            "text/html": [
              "<div>\n",
              "<style scoped>\n",
              "    .dataframe tbody tr th:only-of-type {\n",
              "        vertical-align: middle;\n",
              "    }\n",
              "\n",
              "    .dataframe tbody tr th {\n",
              "        vertical-align: top;\n",
              "    }\n",
              "\n",
              "    .dataframe thead th {\n",
              "        text-align: right;\n",
              "    }\n",
              "</style>\n",
              "<table border=\"1\" class=\"dataframe\">\n",
              "  <thead>\n",
              "    <tr style=\"text-align: right;\">\n",
              "      <th></th>\n",
              "      <th>birth_country_current</th>\n",
              "      <th>ISO</th>\n",
              "      <th>prize</th>\n",
              "    </tr>\n",
              "  </thead>\n",
              "  <tbody>\n",
              "    <tr>\n",
              "      <th>74</th>\n",
              "      <td>United States of America</td>\n",
              "      <td>USA</td>\n",
              "      <td>281</td>\n",
              "    </tr>\n",
              "    <tr>\n",
              "      <th>73</th>\n",
              "      <td>United Kingdom</td>\n",
              "      <td>GBR</td>\n",
              "      <td>105</td>\n",
              "    </tr>\n",
              "    <tr>\n",
              "      <th>26</th>\n",
              "      <td>Germany</td>\n",
              "      <td>DEU</td>\n",
              "      <td>84</td>\n",
              "    </tr>\n",
              "    <tr>\n",
              "      <th>25</th>\n",
              "      <td>France</td>\n",
              "      <td>FRA</td>\n",
              "      <td>57</td>\n",
              "    </tr>\n",
              "    <tr>\n",
              "      <th>67</th>\n",
              "      <td>Sweden</td>\n",
              "      <td>SWE</td>\n",
              "      <td>29</td>\n",
              "    </tr>\n",
              "    <tr>\n",
              "      <th>...</th>\n",
              "      <td>...</td>\n",
              "      <td>...</td>\n",
              "      <td>...</td>\n",
              "    </tr>\n",
              "    <tr>\n",
              "      <th>32</th>\n",
              "      <td>Iceland</td>\n",
              "      <td>ISL</td>\n",
              "      <td>1</td>\n",
              "    </tr>\n",
              "    <tr>\n",
              "      <th>47</th>\n",
              "      <td>Madagascar</td>\n",
              "      <td>MDG</td>\n",
              "      <td>1</td>\n",
              "    </tr>\n",
              "    <tr>\n",
              "      <th>34</th>\n",
              "      <td>Indonesia</td>\n",
              "      <td>IDN</td>\n",
              "      <td>1</td>\n",
              "    </tr>\n",
              "    <tr>\n",
              "      <th>36</th>\n",
              "      <td>Iraq</td>\n",
              "      <td>IRQ</td>\n",
              "      <td>1</td>\n",
              "    </tr>\n",
              "    <tr>\n",
              "      <th>78</th>\n",
              "      <td>Zimbabwe</td>\n",
              "      <td>ZWE</td>\n",
              "      <td>1</td>\n",
              "    </tr>\n",
              "  </tbody>\n",
              "</table>\n",
              "<p>79 rows × 3 columns</p>\n",
              "</div>"
            ]
          },
          "metadata": {},
          "execution_count": 196
        }
      ],
      "metadata": {
        "id": "2YT8MN4sF4Hs"
      }
    },
    {
      "cell_type": "markdown",
      "source": [
        "# In Which Categories are the Different Countries Winning Prizes? \r\n",
        "\r\n",
        "**Challenge**: See if you can divide up the plotly bar chart you created above to show the which categories made up the total number of prizes. Here's what you're aiming for:\r\n",
        "\r\n",
        "\r\n",
        "* In which category are Germany and Japan the weakest compared to the United States?\r\n",
        "* In which category does Germany have more prizes than the UK?\r\n",
        "* In which categories does France have more prizes than Germany?\r\n",
        "* Which category makes up most of Australia's nobel prizes?\r\n",
        "* Which category makes up half of the prizes in the Netherlands?\r\n",
        "* Does the United States have more prizes in Economics than all of France? What about in Physics or Medicine?\r\n",
        "\r\n",
        "\r\n",
        "The hard part is preparing the data for this chart! \r\n",
        "\r\n",
        "\r\n",
        "*Hint*: Take a two-step approach. The first step is grouping the data by country and category. Then you can create a DataFrame that looks something like this:\r\n",
        "\r\n"
      ],
      "metadata": {
        "id": "hNB-HUw0o7MU"
      }
    },
    {
      "cell_type": "code",
      "execution_count": 201,
      "source": [
        "cat_country = df_data.groupby(['birth_country_current', 'category'], \r\n",
        "                               as_index=False).agg({'prize': pd.Series.count})\r\n",
        "cat_country.sort_values(by='prize', ascending=False, inplace=True)"
      ],
      "outputs": [],
      "metadata": {
        "id": "_BuNdpmEF7wR"
      }
    },
    {
      "cell_type": "code",
      "execution_count": 202,
      "source": [
        "merged_df = pd.merge(cat_country, top20_countries, on='birth_country_current')\r\n",
        "# change column names\r\n",
        "merged_df.columns = ['birth_country_current', 'category', 'cat_prize', 'total_prize'] \r\n",
        "merged_df.sort_values(by='total_prize', inplace=True)\r\n"
      ],
      "outputs": [],
      "metadata": {
        "id": "l5eYtGIXF8Mn"
      }
    },
    {
      "cell_type": "code",
      "execution_count": 203,
      "source": [
        "cat_cntry_bar = px.bar(x=merged_df.cat_prize,\r\n",
        "                       y=merged_df.birth_country_current,\r\n",
        "                       color=merged_df.category,\r\n",
        "                       orientation='h',\r\n",
        "                       title='Top 20 Countries by Number of Prizes and Category')\r\n",
        " \r\n",
        "cat_cntry_bar.update_layout(xaxis_title='Number of Prizes', \r\n",
        "                            yaxis_title='Country')\r\n",
        "cat_cntry_bar.show()"
      ],
      "outputs": [
        {
          "output_type": "display_data",
          "data": {
            "application/vnd.plotly.v1+json": {
              "config": {
                "plotlyServerURL": "https://plot.ly"
              },
              "data": [
                {
                  "alignmentgroup": "True",
                  "hovertemplate": "color=Physics<br>x=%{x}<br>y=%{y}<extra></extra>",
                  "legendgroup": "Physics",
                  "marker": {
                    "color": "#636efa",
                    "pattern": {
                      "shape": ""
                    }
                  },
                  "name": "Physics",
                  "offsetgroup": "Physics",
                  "orientation": "h",
                  "showlegend": true,
                  "textposition": "auto",
                  "type": "bar",
                  "x": [
                    1,
                    1,
                    2,
                    2,
                    5,
                    2,
                    1,
                    3,
                    9,
                    6,
                    5,
                    6,
                    10,
                    8,
                    11,
                    4,
                    10,
                    26,
                    24,
                    70
                  ],
                  "xaxis": "x",
                  "y": [
                    "India",
                    "Belgium",
                    "Hungary",
                    "Australia",
                    "China",
                    "Denmark",
                    "Norway",
                    "Austria",
                    "Netherlands",
                    "Switzerland",
                    "Italy",
                    "Canada",
                    "Russia",
                    "Poland",
                    "Japan",
                    "Sweden",
                    "France",
                    "Germany",
                    "United Kingdom",
                    "United States of America"
                  ],
                  "yaxis": "y"
                },
                {
                  "alignmentgroup": "True",
                  "hovertemplate": "color=Peace<br>x=%{x}<br>y=%{y}<extra></extra>",
                  "legendgroup": "Peace",
                  "marker": {
                    "color": "#EF553B",
                    "pattern": {
                      "shape": ""
                    }
                  },
                  "name": "Peace",
                  "offsetgroup": "Peace",
                  "orientation": "h",
                  "showlegend": true,
                  "textposition": "auto",
                  "type": "bar",
                  "x": [
                    1,
                    3,
                    2,
                    1,
                    2,
                    1,
                    1,
                    1,
                    3,
                    1,
                    2,
                    1,
                    2,
                    5,
                    10,
                    5,
                    11,
                    19
                  ],
                  "xaxis": "x",
                  "y": [
                    "India",
                    "Belgium",
                    "China",
                    "Denmark",
                    "Norway",
                    "Austria",
                    "Netherlands",
                    "Italy",
                    "Switzerland",
                    "Canada",
                    "Russia",
                    "Japan",
                    "Poland",
                    "Sweden",
                    "France",
                    "Germany",
                    "United Kingdom",
                    "United States of America"
                  ],
                  "yaxis": "y"
                },
                {
                  "alignmentgroup": "True",
                  "hovertemplate": "color=Medicine<br>x=%{x}<br>y=%{y}<extra></extra>",
                  "legendgroup": "Medicine",
                  "marker": {
                    "color": "#00cc96",
                    "pattern": {
                      "shape": ""
                    }
                  },
                  "name": "Medicine",
                  "offsetgroup": "Medicine",
                  "orientation": "h",
                  "showlegend": true,
                  "textposition": "auto",
                  "type": "bar",
                  "x": [
                    3,
                    2,
                    2,
                    7,
                    4,
                    2,
                    2,
                    6,
                    2,
                    6,
                    5,
                    4,
                    2,
                    6,
                    5,
                    7,
                    12,
                    18,
                    28,
                    78
                  ],
                  "xaxis": "x",
                  "y": [
                    "Belgium",
                    "Hungary",
                    "India",
                    "Australia",
                    "Denmark",
                    "China",
                    "Norway",
                    "Austria",
                    "Netherlands",
                    "Switzerland",
                    "Italy",
                    "Canada",
                    "Russia",
                    "Poland",
                    "Japan",
                    "Sweden",
                    "France",
                    "Germany",
                    "United Kingdom",
                    "United States of America"
                  ],
                  "yaxis": "y"
                },
                {
                  "alignmentgroup": "True",
                  "hovertemplate": "color=Chemistry<br>x=%{x}<br>y=%{y}<extra></extra>",
                  "legendgroup": "Chemistry",
                  "marker": {
                    "color": "#ab63fa",
                    "pattern": {
                      "shape": ""
                    }
                  },
                  "name": "Chemistry",
                  "offsetgroup": "Chemistry",
                  "orientation": "h",
                  "showlegend": true,
                  "textposition": "auto",
                  "type": "bar",
                  "x": [
                    1,
                    3,
                    1,
                    1,
                    1,
                    1,
                    2,
                    5,
                    4,
                    1,
                    3,
                    4,
                    4,
                    7,
                    4,
                    4,
                    10,
                    26,
                    27,
                    55
                  ],
                  "xaxis": "x",
                  "y": [
                    "Belgium",
                    "Hungary",
                    "India",
                    "Australia",
                    "China",
                    "Denmark",
                    "Norway",
                    "Austria",
                    "Netherlands",
                    "Italy",
                    "Switzerland",
                    "Canada",
                    "Russia",
                    "Japan",
                    "Poland",
                    "Sweden",
                    "France",
                    "Germany",
                    "United Kingdom",
                    "United States of America"
                  ],
                  "yaxis": "y"
                },
                {
                  "alignmentgroup": "True",
                  "hovertemplate": "color=Literature<br>x=%{x}<br>y=%{y}<extra></extra>",
                  "legendgroup": "Literature",
                  "marker": {
                    "color": "#FFA15A",
                    "pattern": {
                      "shape": ""
                    }
                  },
                  "name": "Literature",
                  "offsetgroup": "Literature",
                  "orientation": "h",
                  "showlegend": true,
                  "textposition": "auto",
                  "type": "bar",
                  "x": [
                    1,
                    1,
                    2,
                    2,
                    2,
                    4,
                    2,
                    1,
                    6,
                    2,
                    5,
                    3,
                    6,
                    7,
                    11,
                    8,
                    7,
                    10
                  ],
                  "xaxis": "x",
                  "y": [
                    "Belgium",
                    "Hungary",
                    "India",
                    "Norway",
                    "China",
                    "Denmark",
                    "Austria",
                    "Switzerland",
                    "Italy",
                    "Canada",
                    "Russia",
                    "Japan",
                    "Poland",
                    "Sweden",
                    "France",
                    "Germany",
                    "United Kingdom",
                    "United States of America"
                  ],
                  "yaxis": "y"
                },
                {
                  "alignmentgroup": "True",
                  "hovertemplate": "color=Economics<br>x=%{x}<br>y=%{y}<extra></extra>",
                  "legendgroup": "Economics",
                  "marker": {
                    "color": "#19d3f3",
                    "pattern": {
                      "shape": ""
                    }
                  },
                  "name": "Economics",
                  "offsetgroup": "Economics",
                  "orientation": "h",
                  "showlegend": true,
                  "textposition": "auto",
                  "type": "bar",
                  "x": [
                    1,
                    2,
                    3,
                    1,
                    2,
                    1,
                    3,
                    3,
                    1,
                    2,
                    4,
                    1,
                    8,
                    49
                  ],
                  "xaxis": "x",
                  "y": [
                    "Hungary",
                    "India",
                    "Norway",
                    "Austria",
                    "Netherlands",
                    "Italy",
                    "Canada",
                    "Russia",
                    "Poland",
                    "Sweden",
                    "France",
                    "Germany",
                    "United Kingdom",
                    "United States of America"
                  ],
                  "yaxis": "y"
                }
              ],
              "layout": {
                "barmode": "relative",
                "legend": {
                  "title": {
                    "text": "color"
                  },
                  "tracegroupgap": 0
                },
                "template": {
                  "data": {
                    "bar": [
                      {
                        "error_x": {
                          "color": "#2a3f5f"
                        },
                        "error_y": {
                          "color": "#2a3f5f"
                        },
                        "marker": {
                          "line": {
                            "color": "#E5ECF6",
                            "width": 0.5
                          },
                          "pattern": {
                            "fillmode": "overlay",
                            "size": 10,
                            "solidity": 0.2
                          }
                        },
                        "type": "bar"
                      }
                    ],
                    "barpolar": [
                      {
                        "marker": {
                          "line": {
                            "color": "#E5ECF6",
                            "width": 0.5
                          },
                          "pattern": {
                            "fillmode": "overlay",
                            "size": 10,
                            "solidity": 0.2
                          }
                        },
                        "type": "barpolar"
                      }
                    ],
                    "carpet": [
                      {
                        "aaxis": {
                          "endlinecolor": "#2a3f5f",
                          "gridcolor": "white",
                          "linecolor": "white",
                          "minorgridcolor": "white",
                          "startlinecolor": "#2a3f5f"
                        },
                        "baxis": {
                          "endlinecolor": "#2a3f5f",
                          "gridcolor": "white",
                          "linecolor": "white",
                          "minorgridcolor": "white",
                          "startlinecolor": "#2a3f5f"
                        },
                        "type": "carpet"
                      }
                    ],
                    "choropleth": [
                      {
                        "colorbar": {
                          "outlinewidth": 0,
                          "ticks": ""
                        },
                        "type": "choropleth"
                      }
                    ],
                    "contour": [
                      {
                        "colorbar": {
                          "outlinewidth": 0,
                          "ticks": ""
                        },
                        "colorscale": [
                          [
                            0,
                            "#0d0887"
                          ],
                          [
                            0.1111111111111111,
                            "#46039f"
                          ],
                          [
                            0.2222222222222222,
                            "#7201a8"
                          ],
                          [
                            0.3333333333333333,
                            "#9c179e"
                          ],
                          [
                            0.4444444444444444,
                            "#bd3786"
                          ],
                          [
                            0.5555555555555556,
                            "#d8576b"
                          ],
                          [
                            0.6666666666666666,
                            "#ed7953"
                          ],
                          [
                            0.7777777777777778,
                            "#fb9f3a"
                          ],
                          [
                            0.8888888888888888,
                            "#fdca26"
                          ],
                          [
                            1,
                            "#f0f921"
                          ]
                        ],
                        "type": "contour"
                      }
                    ],
                    "contourcarpet": [
                      {
                        "colorbar": {
                          "outlinewidth": 0,
                          "ticks": ""
                        },
                        "type": "contourcarpet"
                      }
                    ],
                    "heatmap": [
                      {
                        "colorbar": {
                          "outlinewidth": 0,
                          "ticks": ""
                        },
                        "colorscale": [
                          [
                            0,
                            "#0d0887"
                          ],
                          [
                            0.1111111111111111,
                            "#46039f"
                          ],
                          [
                            0.2222222222222222,
                            "#7201a8"
                          ],
                          [
                            0.3333333333333333,
                            "#9c179e"
                          ],
                          [
                            0.4444444444444444,
                            "#bd3786"
                          ],
                          [
                            0.5555555555555556,
                            "#d8576b"
                          ],
                          [
                            0.6666666666666666,
                            "#ed7953"
                          ],
                          [
                            0.7777777777777778,
                            "#fb9f3a"
                          ],
                          [
                            0.8888888888888888,
                            "#fdca26"
                          ],
                          [
                            1,
                            "#f0f921"
                          ]
                        ],
                        "type": "heatmap"
                      }
                    ],
                    "heatmapgl": [
                      {
                        "colorbar": {
                          "outlinewidth": 0,
                          "ticks": ""
                        },
                        "colorscale": [
                          [
                            0,
                            "#0d0887"
                          ],
                          [
                            0.1111111111111111,
                            "#46039f"
                          ],
                          [
                            0.2222222222222222,
                            "#7201a8"
                          ],
                          [
                            0.3333333333333333,
                            "#9c179e"
                          ],
                          [
                            0.4444444444444444,
                            "#bd3786"
                          ],
                          [
                            0.5555555555555556,
                            "#d8576b"
                          ],
                          [
                            0.6666666666666666,
                            "#ed7953"
                          ],
                          [
                            0.7777777777777778,
                            "#fb9f3a"
                          ],
                          [
                            0.8888888888888888,
                            "#fdca26"
                          ],
                          [
                            1,
                            "#f0f921"
                          ]
                        ],
                        "type": "heatmapgl"
                      }
                    ],
                    "histogram": [
                      {
                        "marker": {
                          "pattern": {
                            "fillmode": "overlay",
                            "size": 10,
                            "solidity": 0.2
                          }
                        },
                        "type": "histogram"
                      }
                    ],
                    "histogram2d": [
                      {
                        "colorbar": {
                          "outlinewidth": 0,
                          "ticks": ""
                        },
                        "colorscale": [
                          [
                            0,
                            "#0d0887"
                          ],
                          [
                            0.1111111111111111,
                            "#46039f"
                          ],
                          [
                            0.2222222222222222,
                            "#7201a8"
                          ],
                          [
                            0.3333333333333333,
                            "#9c179e"
                          ],
                          [
                            0.4444444444444444,
                            "#bd3786"
                          ],
                          [
                            0.5555555555555556,
                            "#d8576b"
                          ],
                          [
                            0.6666666666666666,
                            "#ed7953"
                          ],
                          [
                            0.7777777777777778,
                            "#fb9f3a"
                          ],
                          [
                            0.8888888888888888,
                            "#fdca26"
                          ],
                          [
                            1,
                            "#f0f921"
                          ]
                        ],
                        "type": "histogram2d"
                      }
                    ],
                    "histogram2dcontour": [
                      {
                        "colorbar": {
                          "outlinewidth": 0,
                          "ticks": ""
                        },
                        "colorscale": [
                          [
                            0,
                            "#0d0887"
                          ],
                          [
                            0.1111111111111111,
                            "#46039f"
                          ],
                          [
                            0.2222222222222222,
                            "#7201a8"
                          ],
                          [
                            0.3333333333333333,
                            "#9c179e"
                          ],
                          [
                            0.4444444444444444,
                            "#bd3786"
                          ],
                          [
                            0.5555555555555556,
                            "#d8576b"
                          ],
                          [
                            0.6666666666666666,
                            "#ed7953"
                          ],
                          [
                            0.7777777777777778,
                            "#fb9f3a"
                          ],
                          [
                            0.8888888888888888,
                            "#fdca26"
                          ],
                          [
                            1,
                            "#f0f921"
                          ]
                        ],
                        "type": "histogram2dcontour"
                      }
                    ],
                    "mesh3d": [
                      {
                        "colorbar": {
                          "outlinewidth": 0,
                          "ticks": ""
                        },
                        "type": "mesh3d"
                      }
                    ],
                    "parcoords": [
                      {
                        "line": {
                          "colorbar": {
                            "outlinewidth": 0,
                            "ticks": ""
                          }
                        },
                        "type": "parcoords"
                      }
                    ],
                    "pie": [
                      {
                        "automargin": true,
                        "type": "pie"
                      }
                    ],
                    "scatter": [
                      {
                        "marker": {
                          "colorbar": {
                            "outlinewidth": 0,
                            "ticks": ""
                          }
                        },
                        "type": "scatter"
                      }
                    ],
                    "scatter3d": [
                      {
                        "line": {
                          "colorbar": {
                            "outlinewidth": 0,
                            "ticks": ""
                          }
                        },
                        "marker": {
                          "colorbar": {
                            "outlinewidth": 0,
                            "ticks": ""
                          }
                        },
                        "type": "scatter3d"
                      }
                    ],
                    "scattercarpet": [
                      {
                        "marker": {
                          "colorbar": {
                            "outlinewidth": 0,
                            "ticks": ""
                          }
                        },
                        "type": "scattercarpet"
                      }
                    ],
                    "scattergeo": [
                      {
                        "marker": {
                          "colorbar": {
                            "outlinewidth": 0,
                            "ticks": ""
                          }
                        },
                        "type": "scattergeo"
                      }
                    ],
                    "scattergl": [
                      {
                        "marker": {
                          "colorbar": {
                            "outlinewidth": 0,
                            "ticks": ""
                          }
                        },
                        "type": "scattergl"
                      }
                    ],
                    "scattermapbox": [
                      {
                        "marker": {
                          "colorbar": {
                            "outlinewidth": 0,
                            "ticks": ""
                          }
                        },
                        "type": "scattermapbox"
                      }
                    ],
                    "scatterpolar": [
                      {
                        "marker": {
                          "colorbar": {
                            "outlinewidth": 0,
                            "ticks": ""
                          }
                        },
                        "type": "scatterpolar"
                      }
                    ],
                    "scatterpolargl": [
                      {
                        "marker": {
                          "colorbar": {
                            "outlinewidth": 0,
                            "ticks": ""
                          }
                        },
                        "type": "scatterpolargl"
                      }
                    ],
                    "scatterternary": [
                      {
                        "marker": {
                          "colorbar": {
                            "outlinewidth": 0,
                            "ticks": ""
                          }
                        },
                        "type": "scatterternary"
                      }
                    ],
                    "surface": [
                      {
                        "colorbar": {
                          "outlinewidth": 0,
                          "ticks": ""
                        },
                        "colorscale": [
                          [
                            0,
                            "#0d0887"
                          ],
                          [
                            0.1111111111111111,
                            "#46039f"
                          ],
                          [
                            0.2222222222222222,
                            "#7201a8"
                          ],
                          [
                            0.3333333333333333,
                            "#9c179e"
                          ],
                          [
                            0.4444444444444444,
                            "#bd3786"
                          ],
                          [
                            0.5555555555555556,
                            "#d8576b"
                          ],
                          [
                            0.6666666666666666,
                            "#ed7953"
                          ],
                          [
                            0.7777777777777778,
                            "#fb9f3a"
                          ],
                          [
                            0.8888888888888888,
                            "#fdca26"
                          ],
                          [
                            1,
                            "#f0f921"
                          ]
                        ],
                        "type": "surface"
                      }
                    ],
                    "table": [
                      {
                        "cells": {
                          "fill": {
                            "color": "#EBF0F8"
                          },
                          "line": {
                            "color": "white"
                          }
                        },
                        "header": {
                          "fill": {
                            "color": "#C8D4E3"
                          },
                          "line": {
                            "color": "white"
                          }
                        },
                        "type": "table"
                      }
                    ]
                  },
                  "layout": {
                    "annotationdefaults": {
                      "arrowcolor": "#2a3f5f",
                      "arrowhead": 0,
                      "arrowwidth": 1
                    },
                    "autotypenumbers": "strict",
                    "coloraxis": {
                      "colorbar": {
                        "outlinewidth": 0,
                        "ticks": ""
                      }
                    },
                    "colorscale": {
                      "diverging": [
                        [
                          0,
                          "#8e0152"
                        ],
                        [
                          0.1,
                          "#c51b7d"
                        ],
                        [
                          0.2,
                          "#de77ae"
                        ],
                        [
                          0.3,
                          "#f1b6da"
                        ],
                        [
                          0.4,
                          "#fde0ef"
                        ],
                        [
                          0.5,
                          "#f7f7f7"
                        ],
                        [
                          0.6,
                          "#e6f5d0"
                        ],
                        [
                          0.7,
                          "#b8e186"
                        ],
                        [
                          0.8,
                          "#7fbc41"
                        ],
                        [
                          0.9,
                          "#4d9221"
                        ],
                        [
                          1,
                          "#276419"
                        ]
                      ],
                      "sequential": [
                        [
                          0,
                          "#0d0887"
                        ],
                        [
                          0.1111111111111111,
                          "#46039f"
                        ],
                        [
                          0.2222222222222222,
                          "#7201a8"
                        ],
                        [
                          0.3333333333333333,
                          "#9c179e"
                        ],
                        [
                          0.4444444444444444,
                          "#bd3786"
                        ],
                        [
                          0.5555555555555556,
                          "#d8576b"
                        ],
                        [
                          0.6666666666666666,
                          "#ed7953"
                        ],
                        [
                          0.7777777777777778,
                          "#fb9f3a"
                        ],
                        [
                          0.8888888888888888,
                          "#fdca26"
                        ],
                        [
                          1,
                          "#f0f921"
                        ]
                      ],
                      "sequentialminus": [
                        [
                          0,
                          "#0d0887"
                        ],
                        [
                          0.1111111111111111,
                          "#46039f"
                        ],
                        [
                          0.2222222222222222,
                          "#7201a8"
                        ],
                        [
                          0.3333333333333333,
                          "#9c179e"
                        ],
                        [
                          0.4444444444444444,
                          "#bd3786"
                        ],
                        [
                          0.5555555555555556,
                          "#d8576b"
                        ],
                        [
                          0.6666666666666666,
                          "#ed7953"
                        ],
                        [
                          0.7777777777777778,
                          "#fb9f3a"
                        ],
                        [
                          0.8888888888888888,
                          "#fdca26"
                        ],
                        [
                          1,
                          "#f0f921"
                        ]
                      ]
                    },
                    "colorway": [
                      "#636efa",
                      "#EF553B",
                      "#00cc96",
                      "#ab63fa",
                      "#FFA15A",
                      "#19d3f3",
                      "#FF6692",
                      "#B6E880",
                      "#FF97FF",
                      "#FECB52"
                    ],
                    "font": {
                      "color": "#2a3f5f"
                    },
                    "geo": {
                      "bgcolor": "white",
                      "lakecolor": "white",
                      "landcolor": "#E5ECF6",
                      "showlakes": true,
                      "showland": true,
                      "subunitcolor": "white"
                    },
                    "hoverlabel": {
                      "align": "left"
                    },
                    "hovermode": "closest",
                    "mapbox": {
                      "style": "light"
                    },
                    "paper_bgcolor": "white",
                    "plot_bgcolor": "#E5ECF6",
                    "polar": {
                      "angularaxis": {
                        "gridcolor": "white",
                        "linecolor": "white",
                        "ticks": ""
                      },
                      "bgcolor": "#E5ECF6",
                      "radialaxis": {
                        "gridcolor": "white",
                        "linecolor": "white",
                        "ticks": ""
                      }
                    },
                    "scene": {
                      "xaxis": {
                        "backgroundcolor": "#E5ECF6",
                        "gridcolor": "white",
                        "gridwidth": 2,
                        "linecolor": "white",
                        "showbackground": true,
                        "ticks": "",
                        "zerolinecolor": "white"
                      },
                      "yaxis": {
                        "backgroundcolor": "#E5ECF6",
                        "gridcolor": "white",
                        "gridwidth": 2,
                        "linecolor": "white",
                        "showbackground": true,
                        "ticks": "",
                        "zerolinecolor": "white"
                      },
                      "zaxis": {
                        "backgroundcolor": "#E5ECF6",
                        "gridcolor": "white",
                        "gridwidth": 2,
                        "linecolor": "white",
                        "showbackground": true,
                        "ticks": "",
                        "zerolinecolor": "white"
                      }
                    },
                    "shapedefaults": {
                      "line": {
                        "color": "#2a3f5f"
                      }
                    },
                    "ternary": {
                      "aaxis": {
                        "gridcolor": "white",
                        "linecolor": "white",
                        "ticks": ""
                      },
                      "baxis": {
                        "gridcolor": "white",
                        "linecolor": "white",
                        "ticks": ""
                      },
                      "bgcolor": "#E5ECF6",
                      "caxis": {
                        "gridcolor": "white",
                        "linecolor": "white",
                        "ticks": ""
                      }
                    },
                    "title": {
                      "x": 0.05
                    },
                    "xaxis": {
                      "automargin": true,
                      "gridcolor": "white",
                      "linecolor": "white",
                      "ticks": "",
                      "title": {
                        "standoff": 15
                      },
                      "zerolinecolor": "white",
                      "zerolinewidth": 2
                    },
                    "yaxis": {
                      "automargin": true,
                      "gridcolor": "white",
                      "linecolor": "white",
                      "ticks": "",
                      "title": {
                        "standoff": 15
                      },
                      "zerolinecolor": "white",
                      "zerolinewidth": 2
                    }
                  }
                },
                "title": {
                  "text": "Top 20 Countries by Number of Prizes and Category"
                },
                "xaxis": {
                  "anchor": "y",
                  "domain": [
                    0,
                    1
                  ],
                  "title": {
                    "text": "Number of Prizes"
                  }
                },
                "yaxis": {
                  "anchor": "x",
                  "domain": [
                    0,
                    1
                  ],
                  "title": {
                    "text": "Country"
                  }
                }
              }
            }
          },
          "metadata": {}
        }
      ],
      "metadata": {
        "id": "AJO038bkF8YK"
      }
    },
    {
      "cell_type": "markdown",
      "source": [
        "### Number of Prizes Won by Each Country Over Time\n",
        "\n",
        "* When did the United States eclipse every other country in terms of the number of prizes won? \n",
        "* Which country or countries were leading previously?\n",
        "* Calculate the cumulative number of prizes won by each country in every year. Again, use the `birth_country_current` of the winner to calculate this. \n",
        "* Create a [plotly line chart](https://plotly.com/python/line-charts/) where each country is a coloured line. "
      ],
      "metadata": {
        "dc": {
          "key": "10"
        },
        "run_control": {
          "frozen": true
        },
        "tags": [
          "context"
        ],
        "id": "Ic-LN14bo7Mb"
      }
    },
    {
      "cell_type": "code",
      "execution_count": 206,
      "source": [
        "prize_by_year = df_data.groupby(by=['birth_country_current', 'year'], as_index=False).count()\r\n",
        "prize_by_year = prize_by_year.sort_values('year')[['year', 'birth_country_current', 'prize']]"
      ],
      "outputs": [],
      "metadata": {
        "id": "VA7NVxrwF-1d"
      }
    },
    {
      "cell_type": "code",
      "execution_count": 207,
      "source": [
        "cumulative_prizes = prize_by_year.groupby(by=['birth_country_current',\r\n",
        "                                              'year']).sum().groupby(level=[0]).cumsum()\r\n",
        "cumulative_prizes.reset_index(inplace=True) "
      ],
      "outputs": [],
      "metadata": {
        "id": "_IWG-gi0F_O4"
      }
    },
    {
      "cell_type": "code",
      "execution_count": 208,
      "source": [
        "l_chart = px.line(cumulative_prizes,\r\n",
        "                  x='year', \r\n",
        "                  y='prize',\r\n",
        "                  color='birth_country_current',\r\n",
        "                  hover_name='birth_country_current')\r\n",
        " \r\n",
        "l_chart.update_layout(xaxis_title='Year',\r\n",
        "                      yaxis_title='Number of Prizes')\r\n",
        " \r\n",
        "l_chart.show()\r\n"
      ],
      "outputs": [
        {
          "output_type": "display_data",
          "data": {
            "application/vnd.plotly.v1+json": {
              "config": {
                "plotlyServerURL": "https://plot.ly"
              },
              "data": [
                {
                  "hovertemplate": "<b>%{hovertext}</b><br><br>birth_country_current=Algeria<br>year=%{x}<br>prize=%{y}<extra></extra>",
                  "hovertext": [
                    "Algeria",
                    "Algeria"
                  ],
                  "legendgroup": "Algeria",
                  "line": {
                    "color": "#636efa",
                    "dash": "solid"
                  },
                  "mode": "lines",
                  "name": "Algeria",
                  "orientation": "v",
                  "showlegend": true,
                  "type": "scatter",
                  "x": [
                    1957,
                    1997
                  ],
                  "xaxis": "x",
                  "y": [
                    1,
                    2
                  ],
                  "yaxis": "y"
                },
                {
                  "hovertemplate": "<b>%{hovertext}</b><br><br>birth_country_current=Argentina<br>year=%{x}<br>prize=%{y}<extra></extra>",
                  "hovertext": [
                    "Argentina",
                    "Argentina",
                    "Argentina",
                    "Argentina"
                  ],
                  "legendgroup": "Argentina",
                  "line": {
                    "color": "#EF553B",
                    "dash": "solid"
                  },
                  "mode": "lines",
                  "name": "Argentina",
                  "orientation": "v",
                  "showlegend": true,
                  "type": "scatter",
                  "x": [
                    1936,
                    1947,
                    1980,
                    1984
                  ],
                  "xaxis": "x",
                  "y": [
                    1,
                    2,
                    3,
                    4
                  ],
                  "yaxis": "y"
                },
                {
                  "hovertemplate": "<b>%{hovertext}</b><br><br>birth_country_current=Australia<br>year=%{x}<br>prize=%{y}<extra></extra>",
                  "hovertext": [
                    "Australia",
                    "Australia",
                    "Australia",
                    "Australia",
                    "Australia",
                    "Australia",
                    "Australia",
                    "Australia",
                    "Australia"
                  ],
                  "legendgroup": "Australia",
                  "line": {
                    "color": "#00cc96",
                    "dash": "solid"
                  },
                  "mode": "lines",
                  "name": "Australia",
                  "orientation": "v",
                  "showlegend": true,
                  "type": "scatter",
                  "x": [
                    1915,
                    1945,
                    1960,
                    1963,
                    1964,
                    1975,
                    1996,
                    2005,
                    2009
                  ],
                  "xaxis": "x",
                  "y": [
                    1,
                    2,
                    3,
                    4,
                    5,
                    6,
                    7,
                    9,
                    10
                  ],
                  "yaxis": "y"
                },
                {
                  "hovertemplate": "<b>%{hovertext}</b><br><br>birth_country_current=Austria<br>year=%{x}<br>prize=%{y}<extra></extra>",
                  "hovertext": [
                    "Austria",
                    "Austria",
                    "Austria",
                    "Austria",
                    "Austria",
                    "Austria",
                    "Austria",
                    "Austria",
                    "Austria",
                    "Austria",
                    "Austria",
                    "Austria",
                    "Austria",
                    "Austria",
                    "Austria",
                    "Austria",
                    "Austria"
                  ],
                  "legendgroup": "Austria",
                  "line": {
                    "color": "#ab63fa",
                    "dash": "solid"
                  },
                  "mode": "lines",
                  "name": "Austria",
                  "orientation": "v",
                  "showlegend": true,
                  "type": "scatter",
                  "x": [
                    1911,
                    1914,
                    1925,
                    1927,
                    1930,
                    1933,
                    1936,
                    1938,
                    1945,
                    1962,
                    1973,
                    1974,
                    1998,
                    2000,
                    2004,
                    2013,
                    2019
                  ],
                  "xaxis": "x",
                  "y": [
                    1,
                    2,
                    3,
                    4,
                    5,
                    6,
                    7,
                    8,
                    9,
                    10,
                    12,
                    13,
                    14,
                    15,
                    16,
                    17,
                    18
                  ],
                  "yaxis": "y"
                },
                {
                  "hovertemplate": "<b>%{hovertext}</b><br><br>birth_country_current=Azerbaijan<br>year=%{x}<br>prize=%{y}<extra></extra>",
                  "hovertext": [
                    "Azerbaijan"
                  ],
                  "legendgroup": "Azerbaijan",
                  "line": {
                    "color": "#FFA15A",
                    "dash": "solid"
                  },
                  "mode": "lines",
                  "name": "Azerbaijan",
                  "orientation": "v",
                  "showlegend": true,
                  "type": "scatter",
                  "x": [
                    1962
                  ],
                  "xaxis": "x",
                  "y": [
                    1
                  ],
                  "yaxis": "y"
                },
                {
                  "hovertemplate": "<b>%{hovertext}</b><br><br>birth_country_current=Bangladesh<br>year=%{x}<br>prize=%{y}<extra></extra>",
                  "hovertext": [
                    "Bangladesh"
                  ],
                  "legendgroup": "Bangladesh",
                  "line": {
                    "color": "#19d3f3",
                    "dash": "solid"
                  },
                  "mode": "lines",
                  "name": "Bangladesh",
                  "orientation": "v",
                  "showlegend": true,
                  "type": "scatter",
                  "x": [
                    2006
                  ],
                  "xaxis": "x",
                  "y": [
                    1
                  ],
                  "yaxis": "y"
                },
                {
                  "hovertemplate": "<b>%{hovertext}</b><br><br>birth_country_current=Belarus<br>year=%{x}<br>prize=%{y}<extra></extra>",
                  "hovertext": [
                    "Belarus",
                    "Belarus",
                    "Belarus",
                    "Belarus"
                  ],
                  "legendgroup": "Belarus",
                  "line": {
                    "color": "#FF6692",
                    "dash": "solid"
                  },
                  "mode": "lines",
                  "name": "Belarus",
                  "orientation": "v",
                  "showlegend": true,
                  "type": "scatter",
                  "x": [
                    1971,
                    1978,
                    1994,
                    2000
                  ],
                  "xaxis": "x",
                  "y": [
                    1,
                    2,
                    3,
                    4
                  ],
                  "yaxis": "y"
                },
                {
                  "hovertemplate": "<b>%{hovertext}</b><br><br>birth_country_current=Belgium<br>year=%{x}<br>prize=%{y}<extra></extra>",
                  "hovertext": [
                    "Belgium",
                    "Belgium",
                    "Belgium",
                    "Belgium",
                    "Belgium",
                    "Belgium",
                    "Belgium",
                    "Belgium",
                    "Belgium"
                  ],
                  "legendgroup": "Belgium",
                  "line": {
                    "color": "#B6E880",
                    "dash": "solid"
                  },
                  "mode": "lines",
                  "name": "Belgium",
                  "orientation": "v",
                  "showlegend": true,
                  "type": "scatter",
                  "x": [
                    1909,
                    1911,
                    1913,
                    1919,
                    1938,
                    1958,
                    1974,
                    2005,
                    2013
                  ],
                  "xaxis": "x",
                  "y": [
                    1,
                    2,
                    3,
                    4,
                    5,
                    6,
                    7,
                    8,
                    9
                  ],
                  "yaxis": "y"
                },
                {
                  "hovertemplate": "<b>%{hovertext}</b><br><br>birth_country_current=Bosnia and Herzegovina<br>year=%{x}<br>prize=%{y}<extra></extra>",
                  "hovertext": [
                    "Bosnia and Herzegovina",
                    "Bosnia and Herzegovina"
                  ],
                  "legendgroup": "Bosnia and Herzegovina",
                  "line": {
                    "color": "#FF97FF",
                    "dash": "solid"
                  },
                  "mode": "lines",
                  "name": "Bosnia and Herzegovina",
                  "orientation": "v",
                  "showlegend": true,
                  "type": "scatter",
                  "x": [
                    1961,
                    1975
                  ],
                  "xaxis": "x",
                  "y": [
                    1,
                    2
                  ],
                  "yaxis": "y"
                },
                {
                  "hovertemplate": "<b>%{hovertext}</b><br><br>birth_country_current=Brazil<br>year=%{x}<br>prize=%{y}<extra></extra>",
                  "hovertext": [
                    "Brazil"
                  ],
                  "legendgroup": "Brazil",
                  "line": {
                    "color": "#FECB52",
                    "dash": "solid"
                  },
                  "mode": "lines",
                  "name": "Brazil",
                  "orientation": "v",
                  "showlegend": true,
                  "type": "scatter",
                  "x": [
                    1960
                  ],
                  "xaxis": "x",
                  "y": [
                    1
                  ],
                  "yaxis": "y"
                },
                {
                  "hovertemplate": "<b>%{hovertext}</b><br><br>birth_country_current=Bulgaria<br>year=%{x}<br>prize=%{y}<extra></extra>",
                  "hovertext": [
                    "Bulgaria"
                  ],
                  "legendgroup": "Bulgaria",
                  "line": {
                    "color": "#636efa",
                    "dash": "solid"
                  },
                  "mode": "lines",
                  "name": "Bulgaria",
                  "orientation": "v",
                  "showlegend": true,
                  "type": "scatter",
                  "x": [
                    1981
                  ],
                  "xaxis": "x",
                  "y": [
                    1
                  ],
                  "yaxis": "y"
                },
                {
                  "hovertemplate": "<b>%{hovertext}</b><br><br>birth_country_current=Canada<br>year=%{x}<br>prize=%{y}<extra></extra>",
                  "hovertext": [
                    "Canada",
                    "Canada",
                    "Canada",
                    "Canada",
                    "Canada",
                    "Canada",
                    "Canada",
                    "Canada",
                    "Canada",
                    "Canada",
                    "Canada",
                    "Canada",
                    "Canada",
                    "Canada",
                    "Canada",
                    "Canada",
                    "Canada",
                    "Canada",
                    "Canada",
                    "Canada"
                  ],
                  "legendgroup": "Canada",
                  "line": {
                    "color": "#EF553B",
                    "dash": "solid"
                  },
                  "mode": "lines",
                  "name": "Canada",
                  "orientation": "v",
                  "showlegend": true,
                  "type": "scatter",
                  "x": [
                    1923,
                    1949,
                    1957,
                    1966,
                    1976,
                    1981,
                    1983,
                    1989,
                    1990,
                    1992,
                    1994,
                    1996,
                    1997,
                    1999,
                    2009,
                    2011,
                    2013,
                    2015,
                    2018,
                    2019
                  ],
                  "xaxis": "x",
                  "y": [
                    1,
                    2,
                    3,
                    4,
                    5,
                    6,
                    7,
                    8,
                    9,
                    10,
                    11,
                    12,
                    13,
                    14,
                    15,
                    16,
                    17,
                    18,
                    19,
                    20
                  ],
                  "yaxis": "y"
                },
                {
                  "hovertemplate": "<b>%{hovertext}</b><br><br>birth_country_current=Chile<br>year=%{x}<br>prize=%{y}<extra></extra>",
                  "hovertext": [
                    "Chile",
                    "Chile"
                  ],
                  "legendgroup": "Chile",
                  "line": {
                    "color": "#00cc96",
                    "dash": "solid"
                  },
                  "mode": "lines",
                  "name": "Chile",
                  "orientation": "v",
                  "showlegend": true,
                  "type": "scatter",
                  "x": [
                    1945,
                    1971
                  ],
                  "xaxis": "x",
                  "y": [
                    1,
                    2
                  ],
                  "yaxis": "y"
                },
                {
                  "hovertemplate": "<b>%{hovertext}</b><br><br>birth_country_current=China<br>year=%{x}<br>prize=%{y}<extra></extra>",
                  "hovertext": [
                    "China",
                    "China",
                    "China",
                    "China",
                    "China",
                    "China",
                    "China",
                    "China",
                    "China",
                    "China"
                  ],
                  "legendgroup": "China",
                  "line": {
                    "color": "#ab63fa",
                    "dash": "solid"
                  },
                  "mode": "lines",
                  "name": "China",
                  "orientation": "v",
                  "showlegend": true,
                  "type": "scatter",
                  "x": [
                    1956,
                    1957,
                    1989,
                    1992,
                    1998,
                    2000,
                    2009,
                    2010,
                    2012,
                    2015
                  ],
                  "xaxis": "x",
                  "y": [
                    1,
                    3,
                    4,
                    5,
                    6,
                    7,
                    8,
                    10,
                    11,
                    12
                  ],
                  "yaxis": "y"
                },
                {
                  "hovertemplate": "<b>%{hovertext}</b><br><br>birth_country_current=Colombia<br>year=%{x}<br>prize=%{y}<extra></extra>",
                  "hovertext": [
                    "Colombia",
                    "Colombia"
                  ],
                  "legendgroup": "Colombia",
                  "line": {
                    "color": "#FFA15A",
                    "dash": "solid"
                  },
                  "mode": "lines",
                  "name": "Colombia",
                  "orientation": "v",
                  "showlegend": true,
                  "type": "scatter",
                  "x": [
                    1982,
                    2016
                  ],
                  "xaxis": "x",
                  "y": [
                    1,
                    2
                  ],
                  "yaxis": "y"
                },
                {
                  "hovertemplate": "<b>%{hovertext}</b><br><br>birth_country_current=Costa Rica<br>year=%{x}<br>prize=%{y}<extra></extra>",
                  "hovertext": [
                    "Costa Rica"
                  ],
                  "legendgroup": "Costa Rica",
                  "line": {
                    "color": "#19d3f3",
                    "dash": "solid"
                  },
                  "mode": "lines",
                  "name": "Costa Rica",
                  "orientation": "v",
                  "showlegend": true,
                  "type": "scatter",
                  "x": [
                    1987
                  ],
                  "xaxis": "x",
                  "y": [
                    1
                  ],
                  "yaxis": "y"
                },
                {
                  "hovertemplate": "<b>%{hovertext}</b><br><br>birth_country_current=Croatia<br>year=%{x}<br>prize=%{y}<extra></extra>",
                  "hovertext": [
                    "Croatia"
                  ],
                  "legendgroup": "Croatia",
                  "line": {
                    "color": "#FF6692",
                    "dash": "solid"
                  },
                  "mode": "lines",
                  "name": "Croatia",
                  "orientation": "v",
                  "showlegend": true,
                  "type": "scatter",
                  "x": [
                    1939
                  ],
                  "xaxis": "x",
                  "y": [
                    1
                  ],
                  "yaxis": "y"
                },
                {
                  "hovertemplate": "<b>%{hovertext}</b><br><br>birth_country_current=Cyprus<br>year=%{x}<br>prize=%{y}<extra></extra>",
                  "hovertext": [
                    "Cyprus"
                  ],
                  "legendgroup": "Cyprus",
                  "line": {
                    "color": "#B6E880",
                    "dash": "solid"
                  },
                  "mode": "lines",
                  "name": "Cyprus",
                  "orientation": "v",
                  "showlegend": true,
                  "type": "scatter",
                  "x": [
                    2010
                  ],
                  "xaxis": "x",
                  "y": [
                    1
                  ],
                  "yaxis": "y"
                },
                {
                  "hovertemplate": "<b>%{hovertext}</b><br><br>birth_country_current=Czech Republic<br>year=%{x}<br>prize=%{y}<extra></extra>",
                  "hovertext": [
                    "Czech Republic",
                    "Czech Republic",
                    "Czech Republic",
                    "Czech Republic",
                    "Czech Republic"
                  ],
                  "legendgroup": "Czech Republic",
                  "line": {
                    "color": "#FF97FF",
                    "dash": "solid"
                  },
                  "mode": "lines",
                  "name": "Czech Republic",
                  "orientation": "v",
                  "showlegend": true,
                  "type": "scatter",
                  "x": [
                    1905,
                    1947,
                    1959,
                    1984,
                    2007
                  ],
                  "xaxis": "x",
                  "y": [
                    1,
                    3,
                    4,
                    5,
                    6
                  ],
                  "yaxis": "y"
                },
                {
                  "hovertemplate": "<b>%{hovertext}</b><br><br>birth_country_current=Democratic Republic of the Congo<br>year=%{x}<br>prize=%{y}<extra></extra>",
                  "hovertext": [
                    "Democratic Republic of the Congo"
                  ],
                  "legendgroup": "Democratic Republic of the Congo",
                  "line": {
                    "color": "#FECB52",
                    "dash": "solid"
                  },
                  "mode": "lines",
                  "name": "Democratic Republic of the Congo",
                  "orientation": "v",
                  "showlegend": true,
                  "type": "scatter",
                  "x": [
                    2018
                  ],
                  "xaxis": "x",
                  "y": [
                    1
                  ],
                  "yaxis": "y"
                },
                {
                  "hovertemplate": "<b>%{hovertext}</b><br><br>birth_country_current=Denmark<br>year=%{x}<br>prize=%{y}<extra></extra>",
                  "hovertext": [
                    "Denmark",
                    "Denmark",
                    "Denmark",
                    "Denmark",
                    "Denmark",
                    "Denmark",
                    "Denmark",
                    "Denmark",
                    "Denmark",
                    "Denmark",
                    "Denmark"
                  ],
                  "legendgroup": "Denmark",
                  "line": {
                    "color": "#636efa",
                    "dash": "solid"
                  },
                  "mode": "lines",
                  "name": "Denmark",
                  "orientation": "v",
                  "showlegend": true,
                  "type": "scatter",
                  "x": [
                    1903,
                    1908,
                    1917,
                    1920,
                    1922,
                    1926,
                    1928,
                    1943,
                    1944,
                    1975,
                    1997
                  ],
                  "xaxis": "x",
                  "y": [
                    1,
                    2,
                    4,
                    5,
                    6,
                    7,
                    8,
                    9,
                    10,
                    11,
                    12
                  ],
                  "yaxis": "y"
                },
                {
                  "hovertemplate": "<b>%{hovertext}</b><br><br>birth_country_current=East Timor<br>year=%{x}<br>prize=%{y}<extra></extra>",
                  "hovertext": [
                    "East Timor"
                  ],
                  "legendgroup": "East Timor",
                  "line": {
                    "color": "#EF553B",
                    "dash": "solid"
                  },
                  "mode": "lines",
                  "name": "East Timor",
                  "orientation": "v",
                  "showlegend": true,
                  "type": "scatter",
                  "x": [
                    1996
                  ],
                  "xaxis": "x",
                  "y": [
                    2
                  ],
                  "yaxis": "y"
                },
                {
                  "hovertemplate": "<b>%{hovertext}</b><br><br>birth_country_current=Egypt<br>year=%{x}<br>prize=%{y}<extra></extra>",
                  "hovertext": [
                    "Egypt",
                    "Egypt",
                    "Egypt",
                    "Egypt",
                    "Egypt",
                    "Egypt"
                  ],
                  "legendgroup": "Egypt",
                  "line": {
                    "color": "#00cc96",
                    "dash": "solid"
                  },
                  "mode": "lines",
                  "name": "Egypt",
                  "orientation": "v",
                  "showlegend": true,
                  "type": "scatter",
                  "x": [
                    1964,
                    1978,
                    1988,
                    1994,
                    1999,
                    2005
                  ],
                  "xaxis": "x",
                  "y": [
                    1,
                    2,
                    3,
                    4,
                    5,
                    6
                  ],
                  "yaxis": "y"
                },
                {
                  "hovertemplate": "<b>%{hovertext}</b><br><br>birth_country_current=Ethiopia<br>year=%{x}<br>prize=%{y}<extra></extra>",
                  "hovertext": [
                    "Ethiopia"
                  ],
                  "legendgroup": "Ethiopia",
                  "line": {
                    "color": "#ab63fa",
                    "dash": "solid"
                  },
                  "mode": "lines",
                  "name": "Ethiopia",
                  "orientation": "v",
                  "showlegend": true,
                  "type": "scatter",
                  "x": [
                    2019
                  ],
                  "xaxis": "x",
                  "y": [
                    1
                  ],
                  "yaxis": "y"
                },
                {
                  "hovertemplate": "<b>%{hovertext}</b><br><br>birth_country_current=Finland<br>year=%{x}<br>prize=%{y}<extra></extra>",
                  "hovertext": [
                    "Finland",
                    "Finland",
                    "Finland",
                    "Finland",
                    "Finland"
                  ],
                  "legendgroup": "Finland",
                  "line": {
                    "color": "#FFA15A",
                    "dash": "solid"
                  },
                  "mode": "lines",
                  "name": "Finland",
                  "orientation": "v",
                  "showlegend": true,
                  "type": "scatter",
                  "x": [
                    1939,
                    1945,
                    1967,
                    2008,
                    2016
                  ],
                  "xaxis": "x",
                  "y": [
                    1,
                    2,
                    3,
                    4,
                    5
                  ],
                  "yaxis": "y"
                },
                {
                  "hovertemplate": "<b>%{hovertext}</b><br><br>birth_country_current=France<br>year=%{x}<br>prize=%{y}<extra></extra>",
                  "hovertext": [
                    "France",
                    "France",
                    "France",
                    "France",
                    "France",
                    "France",
                    "France",
                    "France",
                    "France",
                    "France",
                    "France",
                    "France",
                    "France",
                    "France",
                    "France",
                    "France",
                    "France",
                    "France",
                    "France",
                    "France",
                    "France",
                    "France",
                    "France",
                    "France",
                    "France",
                    "France",
                    "France",
                    "France",
                    "France",
                    "France",
                    "France",
                    "France",
                    "France",
                    "France",
                    "France",
                    "France",
                    "France",
                    "France",
                    "France",
                    "France",
                    "France"
                  ],
                  "legendgroup": "France",
                  "line": {
                    "color": "#19d3f3",
                    "dash": "solid"
                  },
                  "mode": "lines",
                  "name": "France",
                  "orientation": "v",
                  "showlegend": true,
                  "type": "scatter",
                  "x": [
                    1901,
                    1903,
                    1904,
                    1906,
                    1907,
                    1909,
                    1912,
                    1913,
                    1915,
                    1920,
                    1921,
                    1926,
                    1927,
                    1928,
                    1929,
                    1935,
                    1937,
                    1947,
                    1951,
                    1952,
                    1956,
                    1964,
                    1965,
                    1966,
                    1967,
                    1968,
                    1970,
                    1974,
                    1977,
                    1980,
                    1983,
                    1987,
                    1988,
                    1991,
                    2007,
                    2008,
                    2014,
                    2016,
                    2018,
                    2019,
                    2020
                  ],
                  "xaxis": "x",
                  "y": [
                    2,
                    4,
                    5,
                    6,
                    8,
                    9,
                    12,
                    14,
                    15,
                    16,
                    17,
                    19,
                    21,
                    22,
                    23,
                    25,
                    26,
                    27,
                    28,
                    30,
                    31,
                    32,
                    35,
                    36,
                    37,
                    38,
                    40,
                    41,
                    42,
                    43,
                    44,
                    45,
                    46,
                    47,
                    48,
                    51,
                    53,
                    54,
                    55,
                    56,
                    57
                  ],
                  "yaxis": "y"
                },
                {
                  "hovertemplate": "<b>%{hovertext}</b><br><br>birth_country_current=Germany<br>year=%{x}<br>prize=%{y}<extra></extra>",
                  "hovertext": [
                    "Germany",
                    "Germany",
                    "Germany",
                    "Germany",
                    "Germany",
                    "Germany",
                    "Germany",
                    "Germany",
                    "Germany",
                    "Germany",
                    "Germany",
                    "Germany",
                    "Germany",
                    "Germany",
                    "Germany",
                    "Germany",
                    "Germany",
                    "Germany",
                    "Germany",
                    "Germany",
                    "Germany",
                    "Germany",
                    "Germany",
                    "Germany",
                    "Germany",
                    "Germany",
                    "Germany",
                    "Germany",
                    "Germany",
                    "Germany",
                    "Germany",
                    "Germany",
                    "Germany",
                    "Germany",
                    "Germany",
                    "Germany",
                    "Germany",
                    "Germany",
                    "Germany",
                    "Germany",
                    "Germany",
                    "Germany",
                    "Germany",
                    "Germany",
                    "Germany",
                    "Germany",
                    "Germany",
                    "Germany",
                    "Germany",
                    "Germany",
                    "Germany",
                    "Germany",
                    "Germany",
                    "Germany",
                    "Germany",
                    "Germany",
                    "Germany",
                    "Germany",
                    "Germany",
                    "Germany",
                    "Germany",
                    "Germany",
                    "Germany"
                  ],
                  "legendgroup": "Germany",
                  "line": {
                    "color": "#FF6692",
                    "dash": "solid"
                  },
                  "mode": "lines",
                  "name": "Germany",
                  "orientation": "v",
                  "showlegend": true,
                  "type": "scatter",
                  "x": [
                    1901,
                    1902,
                    1905,
                    1907,
                    1908,
                    1909,
                    1910,
                    1912,
                    1914,
                    1915,
                    1918,
                    1919,
                    1920,
                    1921,
                    1922,
                    1925,
                    1926,
                    1927,
                    1928,
                    1929,
                    1930,
                    1931,
                    1932,
                    1935,
                    1936,
                    1939,
                    1944,
                    1945,
                    1946,
                    1950,
                    1953,
                    1954,
                    1955,
                    1956,
                    1961,
                    1963,
                    1964,
                    1966,
                    1967,
                    1969,
                    1970,
                    1971,
                    1972,
                    1973,
                    1978,
                    1979,
                    1984,
                    1986,
                    1987,
                    1988,
                    1989,
                    1991,
                    1995,
                    1998,
                    2000,
                    2001,
                    2005,
                    2007,
                    2008,
                    2013,
                    2017,
                    2019,
                    2020
                  ],
                  "xaxis": "x",
                  "y": [
                    1,
                    3,
                    5,
                    6,
                    7,
                    8,
                    10,
                    11,
                    12,
                    13,
                    14,
                    15,
                    16,
                    17,
                    18,
                    20,
                    21,
                    23,
                    24,
                    26,
                    27,
                    29,
                    30,
                    32,
                    33,
                    34,
                    35,
                    36,
                    37,
                    38,
                    40,
                    41,
                    42,
                    43,
                    44,
                    46,
                    47,
                    48,
                    49,
                    50,
                    51,
                    53,
                    54,
                    56,
                    57,
                    58,
                    59,
                    62,
                    63,
                    67,
                    69,
                    71,
                    72,
                    73,
                    74,
                    75,
                    77,
                    78,
                    79,
                    80,
                    82,
                    83,
                    84
                  ],
                  "yaxis": "y"
                },
                {
                  "hovertemplate": "<b>%{hovertext}</b><br><br>birth_country_current=Ghana<br>year=%{x}<br>prize=%{y}<extra></extra>",
                  "hovertext": [
                    "Ghana"
                  ],
                  "legendgroup": "Ghana",
                  "line": {
                    "color": "#B6E880",
                    "dash": "solid"
                  },
                  "mode": "lines",
                  "name": "Ghana",
                  "orientation": "v",
                  "showlegend": true,
                  "type": "scatter",
                  "x": [
                    2001
                  ],
                  "xaxis": "x",
                  "y": [
                    1
                  ],
                  "yaxis": "y"
                },
                {
                  "hovertemplate": "<b>%{hovertext}</b><br><br>birth_country_current=Greece<br>year=%{x}<br>prize=%{y}<extra></extra>",
                  "hovertext": [
                    "Greece"
                  ],
                  "legendgroup": "Greece",
                  "line": {
                    "color": "#FF97FF",
                    "dash": "solid"
                  },
                  "mode": "lines",
                  "name": "Greece",
                  "orientation": "v",
                  "showlegend": true,
                  "type": "scatter",
                  "x": [
                    1979
                  ],
                  "xaxis": "x",
                  "y": [
                    1
                  ],
                  "yaxis": "y"
                },
                {
                  "hovertemplate": "<b>%{hovertext}</b><br><br>birth_country_current=Guadeloupe Island<br>year=%{x}<br>prize=%{y}<extra></extra>",
                  "hovertext": [
                    "Guadeloupe Island"
                  ],
                  "legendgroup": "Guadeloupe Island",
                  "line": {
                    "color": "#FECB52",
                    "dash": "solid"
                  },
                  "mode": "lines",
                  "name": "Guadeloupe Island",
                  "orientation": "v",
                  "showlegend": true,
                  "type": "scatter",
                  "x": [
                    1960
                  ],
                  "xaxis": "x",
                  "y": [
                    1
                  ],
                  "yaxis": "y"
                },
                {
                  "hovertemplate": "<b>%{hovertext}</b><br><br>birth_country_current=Guatemala<br>year=%{x}<br>prize=%{y}<extra></extra>",
                  "hovertext": [
                    "Guatemala",
                    "Guatemala"
                  ],
                  "legendgroup": "Guatemala",
                  "line": {
                    "color": "#636efa",
                    "dash": "solid"
                  },
                  "mode": "lines",
                  "name": "Guatemala",
                  "orientation": "v",
                  "showlegend": true,
                  "type": "scatter",
                  "x": [
                    1967,
                    1992
                  ],
                  "xaxis": "x",
                  "y": [
                    1,
                    2
                  ],
                  "yaxis": "y"
                },
                {
                  "hovertemplate": "<b>%{hovertext}</b><br><br>birth_country_current=Hungary<br>year=%{x}<br>prize=%{y}<extra></extra>",
                  "hovertext": [
                    "Hungary",
                    "Hungary",
                    "Hungary",
                    "Hungary",
                    "Hungary",
                    "Hungary",
                    "Hungary",
                    "Hungary"
                  ],
                  "legendgroup": "Hungary",
                  "line": {
                    "color": "#EF553B",
                    "dash": "solid"
                  },
                  "mode": "lines",
                  "name": "Hungary",
                  "orientation": "v",
                  "showlegend": true,
                  "type": "scatter",
                  "x": [
                    1937,
                    1943,
                    1961,
                    1963,
                    1971,
                    1994,
                    2002,
                    2004
                  ],
                  "xaxis": "x",
                  "y": [
                    1,
                    2,
                    3,
                    4,
                    5,
                    7,
                    8,
                    9
                  ],
                  "yaxis": "y"
                },
                {
                  "hovertemplate": "<b>%{hovertext}</b><br><br>birth_country_current=Iceland<br>year=%{x}<br>prize=%{y}<extra></extra>",
                  "hovertext": [
                    "Iceland"
                  ],
                  "legendgroup": "Iceland",
                  "line": {
                    "color": "#00cc96",
                    "dash": "solid"
                  },
                  "mode": "lines",
                  "name": "Iceland",
                  "orientation": "v",
                  "showlegend": true,
                  "type": "scatter",
                  "x": [
                    1955
                  ],
                  "xaxis": "x",
                  "y": [
                    1
                  ],
                  "yaxis": "y"
                },
                {
                  "hovertemplate": "<b>%{hovertext}</b><br><br>birth_country_current=India<br>year=%{x}<br>prize=%{y}<extra></extra>",
                  "hovertext": [
                    "India",
                    "India",
                    "India",
                    "India",
                    "India",
                    "India",
                    "India",
                    "India",
                    "India"
                  ],
                  "legendgroup": "India",
                  "line": {
                    "color": "#ab63fa",
                    "dash": "solid"
                  },
                  "mode": "lines",
                  "name": "India",
                  "orientation": "v",
                  "showlegend": true,
                  "type": "scatter",
                  "x": [
                    1902,
                    1907,
                    1913,
                    1930,
                    1968,
                    1998,
                    2009,
                    2014,
                    2019
                  ],
                  "xaxis": "x",
                  "y": [
                    1,
                    2,
                    3,
                    4,
                    5,
                    6,
                    7,
                    8,
                    9
                  ],
                  "yaxis": "y"
                },
                {
                  "hovertemplate": "<b>%{hovertext}</b><br><br>birth_country_current=Indonesia<br>year=%{x}<br>prize=%{y}<extra></extra>",
                  "hovertext": [
                    "Indonesia"
                  ],
                  "legendgroup": "Indonesia",
                  "line": {
                    "color": "#FFA15A",
                    "dash": "solid"
                  },
                  "mode": "lines",
                  "name": "Indonesia",
                  "orientation": "v",
                  "showlegend": true,
                  "type": "scatter",
                  "x": [
                    1924
                  ],
                  "xaxis": "x",
                  "y": [
                    1
                  ],
                  "yaxis": "y"
                },
                {
                  "hovertemplate": "<b>%{hovertext}</b><br><br>birth_country_current=Iran<br>year=%{x}<br>prize=%{y}<extra></extra>",
                  "hovertext": [
                    "Iran",
                    "Iran"
                  ],
                  "legendgroup": "Iran",
                  "line": {
                    "color": "#19d3f3",
                    "dash": "solid"
                  },
                  "mode": "lines",
                  "name": "Iran",
                  "orientation": "v",
                  "showlegend": true,
                  "type": "scatter",
                  "x": [
                    2003,
                    2007
                  ],
                  "xaxis": "x",
                  "y": [
                    1,
                    2
                  ],
                  "yaxis": "y"
                },
                {
                  "hovertemplate": "<b>%{hovertext}</b><br><br>birth_country_current=Iraq<br>year=%{x}<br>prize=%{y}<extra></extra>",
                  "hovertext": [
                    "Iraq"
                  ],
                  "legendgroup": "Iraq",
                  "line": {
                    "color": "#FF6692",
                    "dash": "solid"
                  },
                  "mode": "lines",
                  "name": "Iraq",
                  "orientation": "v",
                  "showlegend": true,
                  "type": "scatter",
                  "x": [
                    2018
                  ],
                  "xaxis": "x",
                  "y": [
                    1
                  ],
                  "yaxis": "y"
                },
                {
                  "hovertemplate": "<b>%{hovertext}</b><br><br>birth_country_current=Ireland<br>year=%{x}<br>prize=%{y}<extra></extra>",
                  "hovertext": [
                    "Ireland",
                    "Ireland",
                    "Ireland",
                    "Ireland",
                    "Ireland"
                  ],
                  "legendgroup": "Ireland",
                  "line": {
                    "color": "#B6E880",
                    "dash": "solid"
                  },
                  "mode": "lines",
                  "name": "Ireland",
                  "orientation": "v",
                  "showlegend": true,
                  "type": "scatter",
                  "x": [
                    1923,
                    1925,
                    1951,
                    1969,
                    2015
                  ],
                  "xaxis": "x",
                  "y": [
                    1,
                    2,
                    3,
                    4,
                    5
                  ],
                  "yaxis": "y"
                },
                {
                  "hovertemplate": "<b>%{hovertext}</b><br><br>birth_country_current=Israel<br>year=%{x}<br>prize=%{y}<extra></extra>",
                  "hovertext": [
                    "Israel",
                    "Israel",
                    "Israel",
                    "Israel",
                    "Israel",
                    "Israel"
                  ],
                  "legendgroup": "Israel",
                  "line": {
                    "color": "#FF97FF",
                    "dash": "solid"
                  },
                  "mode": "lines",
                  "name": "Israel",
                  "orientation": "v",
                  "showlegend": true,
                  "type": "scatter",
                  "x": [
                    1994,
                    2002,
                    2004,
                    2009,
                    2011,
                    2013
                  ],
                  "xaxis": "x",
                  "y": [
                    1,
                    2,
                    3,
                    4,
                    5,
                    6
                  ],
                  "yaxis": "y"
                },
                {
                  "hovertemplate": "<b>%{hovertext}</b><br><br>birth_country_current=Italy<br>year=%{x}<br>prize=%{y}<extra></extra>",
                  "hovertext": [
                    "Italy",
                    "Italy",
                    "Italy",
                    "Italy",
                    "Italy",
                    "Italy",
                    "Italy",
                    "Italy",
                    "Italy",
                    "Italy",
                    "Italy",
                    "Italy",
                    "Italy",
                    "Italy",
                    "Italy",
                    "Italy"
                  ],
                  "legendgroup": "Italy",
                  "line": {
                    "color": "#FECB52",
                    "dash": "solid"
                  },
                  "mode": "lines",
                  "name": "Italy",
                  "orientation": "v",
                  "showlegend": true,
                  "type": "scatter",
                  "x": [
                    1906,
                    1907,
                    1909,
                    1926,
                    1934,
                    1938,
                    1959,
                    1963,
                    1969,
                    1975,
                    1984,
                    1985,
                    1986,
                    1997,
                    2002,
                    2007
                  ],
                  "xaxis": "x",
                  "y": [
                    2,
                    3,
                    4,
                    5,
                    6,
                    7,
                    9,
                    10,
                    11,
                    13,
                    14,
                    15,
                    16,
                    17,
                    18,
                    19
                  ],
                  "yaxis": "y"
                },
                {
                  "hovertemplate": "<b>%{hovertext}</b><br><br>birth_country_current=Japan<br>year=%{x}<br>prize=%{y}<extra></extra>",
                  "hovertext": [
                    "Japan",
                    "Japan",
                    "Japan",
                    "Japan",
                    "Japan",
                    "Japan",
                    "Japan",
                    "Japan",
                    "Japan",
                    "Japan",
                    "Japan",
                    "Japan",
                    "Japan",
                    "Japan",
                    "Japan",
                    "Japan",
                    "Japan",
                    "Japan",
                    "Japan",
                    "Japan"
                  ],
                  "legendgroup": "Japan",
                  "line": {
                    "color": "#636efa",
                    "dash": "solid"
                  },
                  "mode": "lines",
                  "name": "Japan",
                  "orientation": "v",
                  "showlegend": true,
                  "type": "scatter",
                  "x": [
                    1949,
                    1965,
                    1968,
                    1973,
                    1974,
                    1981,
                    1987,
                    1994,
                    2000,
                    2001,
                    2002,
                    2008,
                    2010,
                    2012,
                    2014,
                    2015,
                    2016,
                    2017,
                    2018,
                    2019
                  ],
                  "xaxis": "x",
                  "y": [
                    1,
                    2,
                    3,
                    4,
                    5,
                    6,
                    7,
                    8,
                    9,
                    10,
                    12,
                    16,
                    17,
                    18,
                    21,
                    23,
                    24,
                    25,
                    26,
                    27
                  ],
                  "yaxis": "y"
                },
                {
                  "hovertemplate": "<b>%{hovertext}</b><br><br>birth_country_current=Kenya<br>year=%{x}<br>prize=%{y}<extra></extra>",
                  "hovertext": [
                    "Kenya"
                  ],
                  "legendgroup": "Kenya",
                  "line": {
                    "color": "#EF553B",
                    "dash": "solid"
                  },
                  "mode": "lines",
                  "name": "Kenya",
                  "orientation": "v",
                  "showlegend": true,
                  "type": "scatter",
                  "x": [
                    2004
                  ],
                  "xaxis": "x",
                  "y": [
                    1
                  ],
                  "yaxis": "y"
                },
                {
                  "hovertemplate": "<b>%{hovertext}</b><br><br>birth_country_current=Korea (South Korea)<br>year=%{x}<br>prize=%{y}<extra></extra>",
                  "hovertext": [
                    "Korea (South Korea)",
                    "Korea (South Korea)"
                  ],
                  "legendgroup": "Korea (South Korea)",
                  "line": {
                    "color": "#00cc96",
                    "dash": "solid"
                  },
                  "mode": "lines",
                  "name": "Korea (South Korea)",
                  "orientation": "v",
                  "showlegend": true,
                  "type": "scatter",
                  "x": [
                    1987,
                    2000
                  ],
                  "xaxis": "x",
                  "y": [
                    1,
                    2
                  ],
                  "yaxis": "y"
                },
                {
                  "hovertemplate": "<b>%{hovertext}</b><br><br>birth_country_current=Latvia<br>year=%{x}<br>prize=%{y}<extra></extra>",
                  "hovertext": [
                    "Latvia"
                  ],
                  "legendgroup": "Latvia",
                  "line": {
                    "color": "#ab63fa",
                    "dash": "solid"
                  },
                  "mode": "lines",
                  "name": "Latvia",
                  "orientation": "v",
                  "showlegend": true,
                  "type": "scatter",
                  "x": [
                    1909
                  ],
                  "xaxis": "x",
                  "y": [
                    1
                  ],
                  "yaxis": "y"
                },
                {
                  "hovertemplate": "<b>%{hovertext}</b><br><br>birth_country_current=Liberia<br>year=%{x}<br>prize=%{y}<extra></extra>",
                  "hovertext": [
                    "Liberia"
                  ],
                  "legendgroup": "Liberia",
                  "line": {
                    "color": "#FFA15A",
                    "dash": "solid"
                  },
                  "mode": "lines",
                  "name": "Liberia",
                  "orientation": "v",
                  "showlegend": true,
                  "type": "scatter",
                  "x": [
                    2011
                  ],
                  "xaxis": "x",
                  "y": [
                    2
                  ],
                  "yaxis": "y"
                },
                {
                  "hovertemplate": "<b>%{hovertext}</b><br><br>birth_country_current=Lithuania<br>year=%{x}<br>prize=%{y}<extra></extra>",
                  "hovertext": [
                    "Lithuania",
                    "Lithuania",
                    "Lithuania"
                  ],
                  "legendgroup": "Lithuania",
                  "line": {
                    "color": "#19d3f3",
                    "dash": "solid"
                  },
                  "mode": "lines",
                  "name": "Lithuania",
                  "orientation": "v",
                  "showlegend": true,
                  "type": "scatter",
                  "x": [
                    1977,
                    1980,
                    1982
                  ],
                  "xaxis": "x",
                  "y": [
                    1,
                    2,
                    3
                  ],
                  "yaxis": "y"
                },
                {
                  "hovertemplate": "<b>%{hovertext}</b><br><br>birth_country_current=Luxembourg<br>year=%{x}<br>prize=%{y}<extra></extra>",
                  "hovertext": [
                    "Luxembourg",
                    "Luxembourg"
                  ],
                  "legendgroup": "Luxembourg",
                  "line": {
                    "color": "#FF6692",
                    "dash": "solid"
                  },
                  "mode": "lines",
                  "name": "Luxembourg",
                  "orientation": "v",
                  "showlegend": true,
                  "type": "scatter",
                  "x": [
                    1908,
                    2011
                  ],
                  "xaxis": "x",
                  "y": [
                    1,
                    2
                  ],
                  "yaxis": "y"
                },
                {
                  "hovertemplate": "<b>%{hovertext}</b><br><br>birth_country_current=Madagascar<br>year=%{x}<br>prize=%{y}<extra></extra>",
                  "hovertext": [
                    "Madagascar"
                  ],
                  "legendgroup": "Madagascar",
                  "line": {
                    "color": "#B6E880",
                    "dash": "solid"
                  },
                  "mode": "lines",
                  "name": "Madagascar",
                  "orientation": "v",
                  "showlegend": true,
                  "type": "scatter",
                  "x": [
                    1985
                  ],
                  "xaxis": "x",
                  "y": [
                    1
                  ],
                  "yaxis": "y"
                },
                {
                  "hovertemplate": "<b>%{hovertext}</b><br><br>birth_country_current=Mexico<br>year=%{x}<br>prize=%{y}<extra></extra>",
                  "hovertext": [
                    "Mexico",
                    "Mexico",
                    "Mexico"
                  ],
                  "legendgroup": "Mexico",
                  "line": {
                    "color": "#FF97FF",
                    "dash": "solid"
                  },
                  "mode": "lines",
                  "name": "Mexico",
                  "orientation": "v",
                  "showlegend": true,
                  "type": "scatter",
                  "x": [
                    1982,
                    1990,
                    1995
                  ],
                  "xaxis": "x",
                  "y": [
                    1,
                    2,
                    3
                  ],
                  "yaxis": "y"
                },
                {
                  "hovertemplate": "<b>%{hovertext}</b><br><br>birth_country_current=Morocco<br>year=%{x}<br>prize=%{y}<extra></extra>",
                  "hovertext": [
                    "Morocco"
                  ],
                  "legendgroup": "Morocco",
                  "line": {
                    "color": "#FECB52",
                    "dash": "solid"
                  },
                  "mode": "lines",
                  "name": "Morocco",
                  "orientation": "v",
                  "showlegend": true,
                  "type": "scatter",
                  "x": [
                    2012
                  ],
                  "xaxis": "x",
                  "y": [
                    1
                  ],
                  "yaxis": "y"
                },
                {
                  "hovertemplate": "<b>%{hovertext}</b><br><br>birth_country_current=Myanmar<br>year=%{x}<br>prize=%{y}<extra></extra>",
                  "hovertext": [
                    "Myanmar"
                  ],
                  "legendgroup": "Myanmar",
                  "line": {
                    "color": "#636efa",
                    "dash": "solid"
                  },
                  "mode": "lines",
                  "name": "Myanmar",
                  "orientation": "v",
                  "showlegend": true,
                  "type": "scatter",
                  "x": [
                    1991
                  ],
                  "xaxis": "x",
                  "y": [
                    1
                  ],
                  "yaxis": "y"
                },
                {
                  "hovertemplate": "<b>%{hovertext}</b><br><br>birth_country_current=Netherlands<br>year=%{x}<br>prize=%{y}<extra></extra>",
                  "hovertext": [
                    "Netherlands",
                    "Netherlands",
                    "Netherlands",
                    "Netherlands",
                    "Netherlands",
                    "Netherlands",
                    "Netherlands",
                    "Netherlands",
                    "Netherlands",
                    "Netherlands",
                    "Netherlands",
                    "Netherlands",
                    "Netherlands",
                    "Netherlands",
                    "Netherlands",
                    "Netherlands"
                  ],
                  "legendgroup": "Netherlands",
                  "line": {
                    "color": "#EF553B",
                    "dash": "solid"
                  },
                  "mode": "lines",
                  "name": "Netherlands",
                  "orientation": "v",
                  "showlegend": true,
                  "type": "scatter",
                  "x": [
                    1901,
                    1902,
                    1910,
                    1911,
                    1913,
                    1929,
                    1936,
                    1953,
                    1969,
                    1973,
                    1975,
                    1981,
                    1984,
                    1995,
                    1999,
                    2016
                  ],
                  "xaxis": "x",
                  "y": [
                    1,
                    3,
                    4,
                    5,
                    6,
                    7,
                    8,
                    9,
                    10,
                    11,
                    12,
                    13,
                    14,
                    15,
                    17,
                    18
                  ],
                  "yaxis": "y"
                },
                {
                  "hovertemplate": "<b>%{hovertext}</b><br><br>birth_country_current=New Zealand<br>year=%{x}<br>prize=%{y}<extra></extra>",
                  "hovertext": [
                    "New Zealand",
                    "New Zealand",
                    "New Zealand"
                  ],
                  "legendgroup": "New Zealand",
                  "line": {
                    "color": "#00cc96",
                    "dash": "solid"
                  },
                  "mode": "lines",
                  "name": "New Zealand",
                  "orientation": "v",
                  "showlegend": true,
                  "type": "scatter",
                  "x": [
                    1908,
                    1962,
                    2000
                  ],
                  "xaxis": "x",
                  "y": [
                    1,
                    2,
                    3
                  ],
                  "yaxis": "y"
                },
                {
                  "hovertemplate": "<b>%{hovertext}</b><br><br>birth_country_current=Nigeria<br>year=%{x}<br>prize=%{y}<extra></extra>",
                  "hovertext": [
                    "Nigeria"
                  ],
                  "legendgroup": "Nigeria",
                  "line": {
                    "color": "#ab63fa",
                    "dash": "solid"
                  },
                  "mode": "lines",
                  "name": "Nigeria",
                  "orientation": "v",
                  "showlegend": true,
                  "type": "scatter",
                  "x": [
                    1986
                  ],
                  "xaxis": "x",
                  "y": [
                    1
                  ],
                  "yaxis": "y"
                },
                {
                  "hovertemplate": "<b>%{hovertext}</b><br><br>birth_country_current=Norway<br>year=%{x}<br>prize=%{y}<extra></extra>",
                  "hovertext": [
                    "Norway",
                    "Norway",
                    "Norway",
                    "Norway",
                    "Norway",
                    "Norway",
                    "Norway",
                    "Norway",
                    "Norway",
                    "Norway"
                  ],
                  "legendgroup": "Norway",
                  "line": {
                    "color": "#FFA15A",
                    "dash": "solid"
                  },
                  "mode": "lines",
                  "name": "Norway",
                  "orientation": "v",
                  "showlegend": true,
                  "type": "scatter",
                  "x": [
                    1903,
                    1920,
                    1921,
                    1922,
                    1968,
                    1969,
                    1973,
                    1989,
                    2004,
                    2014
                  ],
                  "xaxis": "x",
                  "y": [
                    1,
                    2,
                    3,
                    4,
                    5,
                    7,
                    8,
                    9,
                    10,
                    12
                  ],
                  "yaxis": "y"
                },
                {
                  "hovertemplate": "<b>%{hovertext}</b><br><br>birth_country_current=Pakistan<br>year=%{x}<br>prize=%{y}<extra></extra>",
                  "hovertext": [
                    "Pakistan",
                    "Pakistan",
                    "Pakistan"
                  ],
                  "legendgroup": "Pakistan",
                  "line": {
                    "color": "#19d3f3",
                    "dash": "solid"
                  },
                  "mode": "lines",
                  "name": "Pakistan",
                  "orientation": "v",
                  "showlegend": true,
                  "type": "scatter",
                  "x": [
                    1979,
                    1983,
                    2014
                  ],
                  "xaxis": "x",
                  "y": [
                    1,
                    2,
                    3
                  ],
                  "yaxis": "y"
                },
                {
                  "hovertemplate": "<b>%{hovertext}</b><br><br>birth_country_current=Peru<br>year=%{x}<br>prize=%{y}<extra></extra>",
                  "hovertext": [
                    "Peru"
                  ],
                  "legendgroup": "Peru",
                  "line": {
                    "color": "#FF6692",
                    "dash": "solid"
                  },
                  "mode": "lines",
                  "name": "Peru",
                  "orientation": "v",
                  "showlegend": true,
                  "type": "scatter",
                  "x": [
                    2010
                  ],
                  "xaxis": "x",
                  "y": [
                    1
                  ],
                  "yaxis": "y"
                },
                {
                  "hovertemplate": "<b>%{hovertext}</b><br><br>birth_country_current=Poland<br>year=%{x}<br>prize=%{y}<extra></extra>",
                  "hovertext": [
                    "Poland",
                    "Poland",
                    "Poland",
                    "Poland",
                    "Poland",
                    "Poland",
                    "Poland",
                    "Poland",
                    "Poland",
                    "Poland",
                    "Poland",
                    "Poland",
                    "Poland",
                    "Poland",
                    "Poland",
                    "Poland",
                    "Poland",
                    "Poland",
                    "Poland",
                    "Poland",
                    "Poland",
                    "Poland",
                    "Poland",
                    "Poland",
                    "Poland"
                  ],
                  "legendgroup": "Poland",
                  "line": {
                    "color": "#B6E880",
                    "dash": "solid"
                  },
                  "mode": "lines",
                  "name": "Poland",
                  "orientation": "v",
                  "showlegend": true,
                  "type": "scatter",
                  "x": [
                    1901,
                    1903,
                    1905,
                    1907,
                    1908,
                    1911,
                    1918,
                    1924,
                    1931,
                    1939,
                    1943,
                    1944,
                    1950,
                    1954,
                    1963,
                    1964,
                    1978,
                    1983,
                    1985,
                    1992,
                    1994,
                    1995,
                    1996,
                    1999,
                    2018
                  ],
                  "xaxis": "x",
                  "y": [
                    1,
                    2,
                    3,
                    4,
                    5,
                    6,
                    7,
                    8,
                    9,
                    10,
                    11,
                    12,
                    14,
                    15,
                    16,
                    17,
                    18,
                    19,
                    20,
                    21,
                    22,
                    23,
                    24,
                    26,
                    27
                  ],
                  "yaxis": "y"
                },
                {
                  "hovertemplate": "<b>%{hovertext}</b><br><br>birth_country_current=Portugal<br>year=%{x}<br>prize=%{y}<extra></extra>",
                  "hovertext": [
                    "Portugal",
                    "Portugal"
                  ],
                  "legendgroup": "Portugal",
                  "line": {
                    "color": "#FF97FF",
                    "dash": "solid"
                  },
                  "mode": "lines",
                  "name": "Portugal",
                  "orientation": "v",
                  "showlegend": true,
                  "type": "scatter",
                  "x": [
                    1949,
                    1998
                  ],
                  "xaxis": "x",
                  "y": [
                    1,
                    2
                  ],
                  "yaxis": "y"
                },
                {
                  "hovertemplate": "<b>%{hovertext}</b><br><br>birth_country_current=Republic of Macedonia<br>year=%{x}<br>prize=%{y}<extra></extra>",
                  "hovertext": [
                    "Republic of Macedonia"
                  ],
                  "legendgroup": "Republic of Macedonia",
                  "line": {
                    "color": "#FECB52",
                    "dash": "solid"
                  },
                  "mode": "lines",
                  "name": "Republic of Macedonia",
                  "orientation": "v",
                  "showlegend": true,
                  "type": "scatter",
                  "x": [
                    1979
                  ],
                  "xaxis": "x",
                  "y": [
                    1
                  ],
                  "yaxis": "y"
                },
                {
                  "hovertemplate": "<b>%{hovertext}</b><br><br>birth_country_current=Romania<br>year=%{x}<br>prize=%{y}<extra></extra>",
                  "hovertext": [
                    "Romania",
                    "Romania",
                    "Romania",
                    "Romania"
                  ],
                  "legendgroup": "Romania",
                  "line": {
                    "color": "#636efa",
                    "dash": "solid"
                  },
                  "mode": "lines",
                  "name": "Romania",
                  "orientation": "v",
                  "showlegend": true,
                  "type": "scatter",
                  "x": [
                    1974,
                    1986,
                    2009,
                    2014
                  ],
                  "xaxis": "x",
                  "y": [
                    1,
                    2,
                    3,
                    4
                  ],
                  "yaxis": "y"
                },
                {
                  "hovertemplate": "<b>%{hovertext}</b><br><br>birth_country_current=Russia<br>year=%{x}<br>prize=%{y}<extra></extra>",
                  "hovertext": [
                    "Russia",
                    "Russia",
                    "Russia",
                    "Russia",
                    "Russia",
                    "Russia",
                    "Russia",
                    "Russia",
                    "Russia",
                    "Russia",
                    "Russia",
                    "Russia",
                    "Russia",
                    "Russia",
                    "Russia",
                    "Russia",
                    "Russia",
                    "Russia",
                    "Russia",
                    "Russia"
                  ],
                  "legendgroup": "Russia",
                  "line": {
                    "color": "#EF553B",
                    "dash": "solid"
                  },
                  "mode": "lines",
                  "name": "Russia",
                  "orientation": "v",
                  "showlegend": true,
                  "type": "scatter",
                  "x": [
                    1904,
                    1910,
                    1911,
                    1933,
                    1937,
                    1953,
                    1956,
                    1958,
                    1964,
                    1965,
                    1970,
                    1973,
                    1975,
                    1977,
                    1978,
                    1987,
                    1990,
                    2003,
                    2007,
                    2010
                  ],
                  "xaxis": "x",
                  "y": [
                    1,
                    2,
                    3,
                    4,
                    5,
                    6,
                    7,
                    11,
                    12,
                    13,
                    14,
                    15,
                    17,
                    18,
                    19,
                    20,
                    21,
                    23,
                    24,
                    26
                  ],
                  "yaxis": "y"
                },
                {
                  "hovertemplate": "<b>%{hovertext}</b><br><br>birth_country_current=Saint Lucia<br>year=%{x}<br>prize=%{y}<extra></extra>",
                  "hovertext": [
                    "Saint Lucia",
                    "Saint Lucia"
                  ],
                  "legendgroup": "Saint Lucia",
                  "line": {
                    "color": "#00cc96",
                    "dash": "solid"
                  },
                  "mode": "lines",
                  "name": "Saint Lucia",
                  "orientation": "v",
                  "showlegend": true,
                  "type": "scatter",
                  "x": [
                    1979,
                    1992
                  ],
                  "xaxis": "x",
                  "y": [
                    1,
                    2
                  ],
                  "yaxis": "y"
                },
                {
                  "hovertemplate": "<b>%{hovertext}</b><br><br>birth_country_current=Slovakia<br>year=%{x}<br>prize=%{y}<extra></extra>",
                  "hovertext": [
                    "Slovakia"
                  ],
                  "legendgroup": "Slovakia",
                  "line": {
                    "color": "#ab63fa",
                    "dash": "solid"
                  },
                  "mode": "lines",
                  "name": "Slovakia",
                  "orientation": "v",
                  "showlegend": true,
                  "type": "scatter",
                  "x": [
                    1905
                  ],
                  "xaxis": "x",
                  "y": [
                    1
                  ],
                  "yaxis": "y"
                },
                {
                  "hovertemplate": "<b>%{hovertext}</b><br><br>birth_country_current=Slovenia<br>year=%{x}<br>prize=%{y}<extra></extra>",
                  "hovertext": [
                    "Slovenia"
                  ],
                  "legendgroup": "Slovenia",
                  "line": {
                    "color": "#FFA15A",
                    "dash": "solid"
                  },
                  "mode": "lines",
                  "name": "Slovenia",
                  "orientation": "v",
                  "showlegend": true,
                  "type": "scatter",
                  "x": [
                    1923
                  ],
                  "xaxis": "x",
                  "y": [
                    1
                  ],
                  "yaxis": "y"
                },
                {
                  "hovertemplate": "<b>%{hovertext}</b><br><br>birth_country_current=South Africa<br>year=%{x}<br>prize=%{y}<extra></extra>",
                  "hovertext": [
                    "South Africa",
                    "South Africa",
                    "South Africa",
                    "South Africa",
                    "South Africa",
                    "South Africa",
                    "South Africa",
                    "South Africa"
                  ],
                  "legendgroup": "South Africa",
                  "line": {
                    "color": "#19d3f3",
                    "dash": "solid"
                  },
                  "mode": "lines",
                  "name": "South Africa",
                  "orientation": "v",
                  "showlegend": true,
                  "type": "scatter",
                  "x": [
                    1951,
                    1979,
                    1984,
                    1991,
                    1993,
                    2002,
                    2003,
                    2013
                  ],
                  "xaxis": "x",
                  "y": [
                    1,
                    2,
                    3,
                    4,
                    6,
                    7,
                    8,
                    9
                  ],
                  "yaxis": "y"
                },
                {
                  "hovertemplate": "<b>%{hovertext}</b><br><br>birth_country_current=Spain<br>year=%{x}<br>prize=%{y}<extra></extra>",
                  "hovertext": [
                    "Spain",
                    "Spain",
                    "Spain",
                    "Spain",
                    "Spain",
                    "Spain",
                    "Spain"
                  ],
                  "legendgroup": "Spain",
                  "line": {
                    "color": "#FF6692",
                    "dash": "solid"
                  },
                  "mode": "lines",
                  "name": "Spain",
                  "orientation": "v",
                  "showlegend": true,
                  "type": "scatter",
                  "x": [
                    1904,
                    1906,
                    1922,
                    1956,
                    1959,
                    1977,
                    1989
                  ],
                  "xaxis": "x",
                  "y": [
                    1,
                    2,
                    3,
                    4,
                    5,
                    6,
                    7
                  ],
                  "yaxis": "y"
                },
                {
                  "hovertemplate": "<b>%{hovertext}</b><br><br>birth_country_current=Sweden<br>year=%{x}<br>prize=%{y}<extra></extra>",
                  "hovertext": [
                    "Sweden",
                    "Sweden",
                    "Sweden",
                    "Sweden",
                    "Sweden",
                    "Sweden",
                    "Sweden",
                    "Sweden",
                    "Sweden",
                    "Sweden",
                    "Sweden",
                    "Sweden",
                    "Sweden",
                    "Sweden",
                    "Sweden",
                    "Sweden",
                    "Sweden",
                    "Sweden",
                    "Sweden",
                    "Sweden",
                    "Sweden",
                    "Sweden",
                    "Sweden"
                  ],
                  "legendgroup": "Sweden",
                  "line": {
                    "color": "#B6E880",
                    "dash": "solid"
                  },
                  "mode": "lines",
                  "name": "Sweden",
                  "orientation": "v",
                  "showlegend": true,
                  "type": "scatter",
                  "x": [
                    1903,
                    1908,
                    1909,
                    1911,
                    1912,
                    1916,
                    1921,
                    1924,
                    1926,
                    1930,
                    1931,
                    1948,
                    1951,
                    1955,
                    1961,
                    1970,
                    1974,
                    1977,
                    1981,
                    1982,
                    2000,
                    2011,
                    2015
                  ],
                  "xaxis": "x",
                  "y": [
                    1,
                    2,
                    3,
                    4,
                    5,
                    6,
                    7,
                    8,
                    9,
                    10,
                    11,
                    12,
                    13,
                    14,
                    15,
                    17,
                    20,
                    21,
                    23,
                    26,
                    27,
                    28,
                    29
                  ],
                  "yaxis": "y"
                },
                {
                  "hovertemplate": "<b>%{hovertext}</b><br><br>birth_country_current=Switzerland<br>year=%{x}<br>prize=%{y}<extra></extra>",
                  "hovertext": [
                    "Switzerland",
                    "Switzerland",
                    "Switzerland",
                    "Switzerland",
                    "Switzerland",
                    "Switzerland",
                    "Switzerland",
                    "Switzerland",
                    "Switzerland",
                    "Switzerland",
                    "Switzerland",
                    "Switzerland",
                    "Switzerland",
                    "Switzerland",
                    "Switzerland",
                    "Switzerland",
                    "Switzerland"
                  ],
                  "legendgroup": "Switzerland",
                  "line": {
                    "color": "#FF97FF",
                    "dash": "solid"
                  },
                  "mode": "lines",
                  "name": "Switzerland",
                  "orientation": "v",
                  "showlegend": true,
                  "type": "scatter",
                  "x": [
                    1901,
                    1902,
                    1909,
                    1919,
                    1920,
                    1948,
                    1949,
                    1952,
                    1957,
                    1978,
                    1986,
                    1987,
                    1991,
                    1996,
                    2002,
                    2017,
                    2019
                  ],
                  "xaxis": "x",
                  "y": [
                    1,
                    3,
                    4,
                    5,
                    6,
                    7,
                    8,
                    9,
                    10,
                    11,
                    12,
                    13,
                    14,
                    15,
                    16,
                    17,
                    19
                  ],
                  "yaxis": "y"
                },
                {
                  "hovertemplate": "<b>%{hovertext}</b><br><br>birth_country_current=Taiwan<br>year=%{x}<br>prize=%{y}<extra></extra>",
                  "hovertext": [
                    "Taiwan"
                  ],
                  "legendgroup": "Taiwan",
                  "line": {
                    "color": "#FECB52",
                    "dash": "solid"
                  },
                  "mode": "lines",
                  "name": "Taiwan",
                  "orientation": "v",
                  "showlegend": true,
                  "type": "scatter",
                  "x": [
                    1986
                  ],
                  "xaxis": "x",
                  "y": [
                    1
                  ],
                  "yaxis": "y"
                },
                {
                  "hovertemplate": "<b>%{hovertext}</b><br><br>birth_country_current=Trinidad<br>year=%{x}<br>prize=%{y}<extra></extra>",
                  "hovertext": [
                    "Trinidad"
                  ],
                  "legendgroup": "Trinidad",
                  "line": {
                    "color": "#636efa",
                    "dash": "solid"
                  },
                  "mode": "lines",
                  "name": "Trinidad",
                  "orientation": "v",
                  "showlegend": true,
                  "type": "scatter",
                  "x": [
                    2001
                  ],
                  "xaxis": "x",
                  "y": [
                    1
                  ],
                  "yaxis": "y"
                },
                {
                  "hovertemplate": "<b>%{hovertext}</b><br><br>birth_country_current=Turkey<br>year=%{x}<br>prize=%{y}<extra></extra>",
                  "hovertext": [
                    "Turkey",
                    "Turkey",
                    "Turkey"
                  ],
                  "legendgroup": "Turkey",
                  "line": {
                    "color": "#EF553B",
                    "dash": "solid"
                  },
                  "mode": "lines",
                  "name": "Turkey",
                  "orientation": "v",
                  "showlegend": true,
                  "type": "scatter",
                  "x": [
                    1963,
                    2006,
                    2015
                  ],
                  "xaxis": "x",
                  "y": [
                    1,
                    2,
                    3
                  ],
                  "yaxis": "y"
                },
                {
                  "hovertemplate": "<b>%{hovertext}</b><br><br>birth_country_current=Ukraine<br>year=%{x}<br>prize=%{y}<extra></extra>",
                  "hovertext": [
                    "Ukraine",
                    "Ukraine",
                    "Ukraine",
                    "Ukraine",
                    "Ukraine"
                  ],
                  "legendgroup": "Ukraine",
                  "line": {
                    "color": "#00cc96",
                    "dash": "solid"
                  },
                  "mode": "lines",
                  "name": "Ukraine",
                  "orientation": "v",
                  "showlegend": true,
                  "type": "scatter",
                  "x": [
                    1908,
                    1952,
                    1966,
                    1981,
                    2015
                  ],
                  "xaxis": "x",
                  "y": [
                    1,
                    2,
                    3,
                    4,
                    5
                  ],
                  "yaxis": "y"
                },
                {
                  "hovertemplate": "<b>%{hovertext}</b><br><br>birth_country_current=United Kingdom<br>year=%{x}<br>prize=%{y}<extra></extra>",
                  "hovertext": [
                    "United Kingdom",
                    "United Kingdom",
                    "United Kingdom",
                    "United Kingdom",
                    "United Kingdom",
                    "United Kingdom",
                    "United Kingdom",
                    "United Kingdom",
                    "United Kingdom",
                    "United Kingdom",
                    "United Kingdom",
                    "United Kingdom",
                    "United Kingdom",
                    "United Kingdom",
                    "United Kingdom",
                    "United Kingdom",
                    "United Kingdom",
                    "United Kingdom",
                    "United Kingdom",
                    "United Kingdom",
                    "United Kingdom",
                    "United Kingdom",
                    "United Kingdom",
                    "United Kingdom",
                    "United Kingdom",
                    "United Kingdom",
                    "United Kingdom",
                    "United Kingdom",
                    "United Kingdom",
                    "United Kingdom",
                    "United Kingdom",
                    "United Kingdom",
                    "United Kingdom",
                    "United Kingdom",
                    "United Kingdom",
                    "United Kingdom",
                    "United Kingdom",
                    "United Kingdom",
                    "United Kingdom",
                    "United Kingdom",
                    "United Kingdom",
                    "United Kingdom",
                    "United Kingdom",
                    "United Kingdom",
                    "United Kingdom",
                    "United Kingdom",
                    "United Kingdom",
                    "United Kingdom",
                    "United Kingdom",
                    "United Kingdom",
                    "United Kingdom",
                    "United Kingdom",
                    "United Kingdom",
                    "United Kingdom",
                    "United Kingdom",
                    "United Kingdom",
                    "United Kingdom",
                    "United Kingdom",
                    "United Kingdom",
                    "United Kingdom",
                    "United Kingdom",
                    "United Kingdom",
                    "United Kingdom",
                    "United Kingdom",
                    "United Kingdom",
                    "United Kingdom",
                    "United Kingdom"
                  ],
                  "legendgroup": "United Kingdom",
                  "line": {
                    "color": "#ab63fa",
                    "dash": "solid"
                  },
                  "mode": "lines",
                  "name": "United Kingdom",
                  "orientation": "v",
                  "showlegend": true,
                  "type": "scatter",
                  "x": [
                    1903,
                    1904,
                    1906,
                    1915,
                    1917,
                    1921,
                    1922,
                    1923,
                    1925,
                    1927,
                    1928,
                    1929,
                    1932,
                    1933,
                    1934,
                    1935,
                    1936,
                    1937,
                    1945,
                    1947,
                    1948,
                    1949,
                    1950,
                    1951,
                    1952,
                    1953,
                    1956,
                    1957,
                    1958,
                    1959,
                    1962,
                    1963,
                    1967,
                    1969,
                    1972,
                    1973,
                    1974,
                    1976,
                    1977,
                    1978,
                    1979,
                    1980,
                    1982,
                    1983,
                    1984,
                    1988,
                    1991,
                    1993,
                    1995,
                    1996,
                    1997,
                    1998,
                    2001,
                    2002,
                    2003,
                    2005,
                    2007,
                    2009,
                    2010,
                    2012,
                    2013,
                    2015,
                    2016,
                    2017,
                    2018,
                    2019,
                    2020
                  ],
                  "xaxis": "x",
                  "y": [
                    1,
                    3,
                    4,
                    5,
                    6,
                    7,
                    9,
                    10,
                    11,
                    12,
                    13,
                    15,
                    18,
                    20,
                    21,
                    22,
                    23,
                    26,
                    27,
                    29,
                    30,
                    31,
                    33,
                    34,
                    36,
                    37,
                    39,
                    40,
                    41,
                    42,
                    44,
                    46,
                    48,
                    49,
                    51,
                    54,
                    57,
                    59,
                    61,
                    62,
                    64,
                    65,
                    66,
                    67,
                    69,
                    70,
                    71,
                    73,
                    74,
                    76,
                    77,
                    80,
                    82,
                    83,
                    86,
                    87,
                    89,
                    90,
                    91,
                    92,
                    93,
                    94,
                    99,
                    100,
                    101,
                    103,
                    105
                  ],
                  "yaxis": "y"
                },
                {
                  "hovertemplate": "<b>%{hovertext}</b><br><br>birth_country_current=United States of America<br>year=%{x}<br>prize=%{y}<extra></extra>",
                  "hovertext": [
                    "United States of America",
                    "United States of America",
                    "United States of America",
                    "United States of America",
                    "United States of America",
                    "United States of America",
                    "United States of America",
                    "United States of America",
                    "United States of America",
                    "United States of America",
                    "United States of America",
                    "United States of America",
                    "United States of America",
                    "United States of America",
                    "United States of America",
                    "United States of America",
                    "United States of America",
                    "United States of America",
                    "United States of America",
                    "United States of America",
                    "United States of America",
                    "United States of America",
                    "United States of America",
                    "United States of America",
                    "United States of America",
                    "United States of America",
                    "United States of America",
                    "United States of America",
                    "United States of America",
                    "United States of America",
                    "United States of America",
                    "United States of America",
                    "United States of America",
                    "United States of America",
                    "United States of America",
                    "United States of America",
                    "United States of America",
                    "United States of America",
                    "United States of America",
                    "United States of America",
                    "United States of America",
                    "United States of America",
                    "United States of America",
                    "United States of America",
                    "United States of America",
                    "United States of America",
                    "United States of America",
                    "United States of America",
                    "United States of America",
                    "United States of America",
                    "United States of America",
                    "United States of America",
                    "United States of America",
                    "United States of America",
                    "United States of America",
                    "United States of America",
                    "United States of America",
                    "United States of America",
                    "United States of America",
                    "United States of America",
                    "United States of America",
                    "United States of America",
                    "United States of America",
                    "United States of America",
                    "United States of America",
                    "United States of America",
                    "United States of America",
                    "United States of America",
                    "United States of America",
                    "United States of America",
                    "United States of America",
                    "United States of America",
                    "United States of America",
                    "United States of America",
                    "United States of America",
                    "United States of America",
                    "United States of America",
                    "United States of America",
                    "United States of America",
                    "United States of America",
                    "United States of America",
                    "United States of America",
                    "United States of America",
                    "United States of America",
                    "United States of America",
                    "United States of America",
                    "United States of America",
                    "United States of America",
                    "United States of America"
                  ],
                  "legendgroup": "United States of America",
                  "line": {
                    "color": "#FFA15A",
                    "dash": "solid"
                  },
                  "mode": "lines",
                  "name": "United States of America",
                  "orientation": "v",
                  "showlegend": true,
                  "type": "scatter",
                  "x": [
                    1906,
                    1912,
                    1914,
                    1919,
                    1923,
                    1925,
                    1927,
                    1929,
                    1930,
                    1931,
                    1932,
                    1933,
                    1934,
                    1936,
                    1937,
                    1938,
                    1939,
                    1943,
                    1944,
                    1945,
                    1946,
                    1948,
                    1949,
                    1950,
                    1951,
                    1952,
                    1953,
                    1954,
                    1955,
                    1956,
                    1958,
                    1959,
                    1960,
                    1961,
                    1962,
                    1964,
                    1965,
                    1966,
                    1967,
                    1968,
                    1969,
                    1970,
                    1971,
                    1972,
                    1974,
                    1975,
                    1976,
                    1977,
                    1978,
                    1979,
                    1980,
                    1981,
                    1982,
                    1983,
                    1984,
                    1985,
                    1986,
                    1987,
                    1988,
                    1989,
                    1990,
                    1992,
                    1993,
                    1994,
                    1995,
                    1996,
                    1997,
                    1998,
                    2000,
                    2001,
                    2002,
                    2003,
                    2004,
                    2005,
                    2006,
                    2007,
                    2008,
                    2009,
                    2010,
                    2011,
                    2012,
                    2013,
                    2014,
                    2015,
                    2016,
                    2017,
                    2018,
                    2019,
                    2020
                  ],
                  "xaxis": "x",
                  "y": [
                    1,
                    2,
                    3,
                    4,
                    5,
                    6,
                    7,
                    8,
                    9,
                    11,
                    12,
                    13,
                    17,
                    19,
                    20,
                    21,
                    22,
                    23,
                    25,
                    26,
                    33,
                    34,
                    35,
                    38,
                    40,
                    41,
                    42,
                    47,
                    49,
                    51,
                    54,
                    56,
                    58,
                    60,
                    63,
                    65,
                    68,
                    70,
                    72,
                    75,
                    77,
                    80,
                    81,
                    89,
                    90,
                    94,
                    100,
                    103,
                    107,
                    110,
                    116,
                    119,
                    121,
                    123,
                    124,
                    128,
                    131,
                    133,
                    137,
                    141,
                    149,
                    151,
                    158,
                    162,
                    168,
                    173,
                    179,
                    183,
                    188,
                    196,
                    201,
                    205,
                    212,
                    217,
                    223,
                    226,
                    229,
                    235,
                    238,
                    244,
                    249,
                    254,
                    257,
                    258,
                    259,
                    265,
                    271,
                    274,
                    281
                  ],
                  "yaxis": "y"
                },
                {
                  "hovertemplate": "<b>%{hovertext}</b><br><br>birth_country_current=Venezuela<br>year=%{x}<br>prize=%{y}<extra></extra>",
                  "hovertext": [
                    "Venezuela"
                  ],
                  "legendgroup": "Venezuela",
                  "line": {
                    "color": "#19d3f3",
                    "dash": "solid"
                  },
                  "mode": "lines",
                  "name": "Venezuela",
                  "orientation": "v",
                  "showlegend": true,
                  "type": "scatter",
                  "x": [
                    1980
                  ],
                  "xaxis": "x",
                  "y": [
                    1
                  ],
                  "yaxis": "y"
                },
                {
                  "hovertemplate": "<b>%{hovertext}</b><br><br>birth_country_current=Vietnam<br>year=%{x}<br>prize=%{y}<extra></extra>",
                  "hovertext": [
                    "Vietnam"
                  ],
                  "legendgroup": "Vietnam",
                  "line": {
                    "color": "#FF6692",
                    "dash": "solid"
                  },
                  "mode": "lines",
                  "name": "Vietnam",
                  "orientation": "v",
                  "showlegend": true,
                  "type": "scatter",
                  "x": [
                    1973
                  ],
                  "xaxis": "x",
                  "y": [
                    1
                  ],
                  "yaxis": "y"
                },
                {
                  "hovertemplate": "<b>%{hovertext}</b><br><br>birth_country_current=Yemen<br>year=%{x}<br>prize=%{y}<extra></extra>",
                  "hovertext": [
                    "Yemen"
                  ],
                  "legendgroup": "Yemen",
                  "line": {
                    "color": "#B6E880",
                    "dash": "solid"
                  },
                  "mode": "lines",
                  "name": "Yemen",
                  "orientation": "v",
                  "showlegend": true,
                  "type": "scatter",
                  "x": [
                    2011
                  ],
                  "xaxis": "x",
                  "y": [
                    1
                  ],
                  "yaxis": "y"
                },
                {
                  "hovertemplate": "<b>%{hovertext}</b><br><br>birth_country_current=Zimbabwe<br>year=%{x}<br>prize=%{y}<extra></extra>",
                  "hovertext": [
                    "Zimbabwe"
                  ],
                  "legendgroup": "Zimbabwe",
                  "line": {
                    "color": "#FF97FF",
                    "dash": "solid"
                  },
                  "mode": "lines",
                  "name": "Zimbabwe",
                  "orientation": "v",
                  "showlegend": true,
                  "type": "scatter",
                  "x": [
                    1960
                  ],
                  "xaxis": "x",
                  "y": [
                    1
                  ],
                  "yaxis": "y"
                }
              ],
              "layout": {
                "legend": {
                  "title": {
                    "text": "birth_country_current"
                  },
                  "tracegroupgap": 0
                },
                "margin": {
                  "t": 60
                },
                "template": {
                  "data": {
                    "bar": [
                      {
                        "error_x": {
                          "color": "#2a3f5f"
                        },
                        "error_y": {
                          "color": "#2a3f5f"
                        },
                        "marker": {
                          "line": {
                            "color": "#E5ECF6",
                            "width": 0.5
                          },
                          "pattern": {
                            "fillmode": "overlay",
                            "size": 10,
                            "solidity": 0.2
                          }
                        },
                        "type": "bar"
                      }
                    ],
                    "barpolar": [
                      {
                        "marker": {
                          "line": {
                            "color": "#E5ECF6",
                            "width": 0.5
                          },
                          "pattern": {
                            "fillmode": "overlay",
                            "size": 10,
                            "solidity": 0.2
                          }
                        },
                        "type": "barpolar"
                      }
                    ],
                    "carpet": [
                      {
                        "aaxis": {
                          "endlinecolor": "#2a3f5f",
                          "gridcolor": "white",
                          "linecolor": "white",
                          "minorgridcolor": "white",
                          "startlinecolor": "#2a3f5f"
                        },
                        "baxis": {
                          "endlinecolor": "#2a3f5f",
                          "gridcolor": "white",
                          "linecolor": "white",
                          "minorgridcolor": "white",
                          "startlinecolor": "#2a3f5f"
                        },
                        "type": "carpet"
                      }
                    ],
                    "choropleth": [
                      {
                        "colorbar": {
                          "outlinewidth": 0,
                          "ticks": ""
                        },
                        "type": "choropleth"
                      }
                    ],
                    "contour": [
                      {
                        "colorbar": {
                          "outlinewidth": 0,
                          "ticks": ""
                        },
                        "colorscale": [
                          [
                            0,
                            "#0d0887"
                          ],
                          [
                            0.1111111111111111,
                            "#46039f"
                          ],
                          [
                            0.2222222222222222,
                            "#7201a8"
                          ],
                          [
                            0.3333333333333333,
                            "#9c179e"
                          ],
                          [
                            0.4444444444444444,
                            "#bd3786"
                          ],
                          [
                            0.5555555555555556,
                            "#d8576b"
                          ],
                          [
                            0.6666666666666666,
                            "#ed7953"
                          ],
                          [
                            0.7777777777777778,
                            "#fb9f3a"
                          ],
                          [
                            0.8888888888888888,
                            "#fdca26"
                          ],
                          [
                            1,
                            "#f0f921"
                          ]
                        ],
                        "type": "contour"
                      }
                    ],
                    "contourcarpet": [
                      {
                        "colorbar": {
                          "outlinewidth": 0,
                          "ticks": ""
                        },
                        "type": "contourcarpet"
                      }
                    ],
                    "heatmap": [
                      {
                        "colorbar": {
                          "outlinewidth": 0,
                          "ticks": ""
                        },
                        "colorscale": [
                          [
                            0,
                            "#0d0887"
                          ],
                          [
                            0.1111111111111111,
                            "#46039f"
                          ],
                          [
                            0.2222222222222222,
                            "#7201a8"
                          ],
                          [
                            0.3333333333333333,
                            "#9c179e"
                          ],
                          [
                            0.4444444444444444,
                            "#bd3786"
                          ],
                          [
                            0.5555555555555556,
                            "#d8576b"
                          ],
                          [
                            0.6666666666666666,
                            "#ed7953"
                          ],
                          [
                            0.7777777777777778,
                            "#fb9f3a"
                          ],
                          [
                            0.8888888888888888,
                            "#fdca26"
                          ],
                          [
                            1,
                            "#f0f921"
                          ]
                        ],
                        "type": "heatmap"
                      }
                    ],
                    "heatmapgl": [
                      {
                        "colorbar": {
                          "outlinewidth": 0,
                          "ticks": ""
                        },
                        "colorscale": [
                          [
                            0,
                            "#0d0887"
                          ],
                          [
                            0.1111111111111111,
                            "#46039f"
                          ],
                          [
                            0.2222222222222222,
                            "#7201a8"
                          ],
                          [
                            0.3333333333333333,
                            "#9c179e"
                          ],
                          [
                            0.4444444444444444,
                            "#bd3786"
                          ],
                          [
                            0.5555555555555556,
                            "#d8576b"
                          ],
                          [
                            0.6666666666666666,
                            "#ed7953"
                          ],
                          [
                            0.7777777777777778,
                            "#fb9f3a"
                          ],
                          [
                            0.8888888888888888,
                            "#fdca26"
                          ],
                          [
                            1,
                            "#f0f921"
                          ]
                        ],
                        "type": "heatmapgl"
                      }
                    ],
                    "histogram": [
                      {
                        "marker": {
                          "pattern": {
                            "fillmode": "overlay",
                            "size": 10,
                            "solidity": 0.2
                          }
                        },
                        "type": "histogram"
                      }
                    ],
                    "histogram2d": [
                      {
                        "colorbar": {
                          "outlinewidth": 0,
                          "ticks": ""
                        },
                        "colorscale": [
                          [
                            0,
                            "#0d0887"
                          ],
                          [
                            0.1111111111111111,
                            "#46039f"
                          ],
                          [
                            0.2222222222222222,
                            "#7201a8"
                          ],
                          [
                            0.3333333333333333,
                            "#9c179e"
                          ],
                          [
                            0.4444444444444444,
                            "#bd3786"
                          ],
                          [
                            0.5555555555555556,
                            "#d8576b"
                          ],
                          [
                            0.6666666666666666,
                            "#ed7953"
                          ],
                          [
                            0.7777777777777778,
                            "#fb9f3a"
                          ],
                          [
                            0.8888888888888888,
                            "#fdca26"
                          ],
                          [
                            1,
                            "#f0f921"
                          ]
                        ],
                        "type": "histogram2d"
                      }
                    ],
                    "histogram2dcontour": [
                      {
                        "colorbar": {
                          "outlinewidth": 0,
                          "ticks": ""
                        },
                        "colorscale": [
                          [
                            0,
                            "#0d0887"
                          ],
                          [
                            0.1111111111111111,
                            "#46039f"
                          ],
                          [
                            0.2222222222222222,
                            "#7201a8"
                          ],
                          [
                            0.3333333333333333,
                            "#9c179e"
                          ],
                          [
                            0.4444444444444444,
                            "#bd3786"
                          ],
                          [
                            0.5555555555555556,
                            "#d8576b"
                          ],
                          [
                            0.6666666666666666,
                            "#ed7953"
                          ],
                          [
                            0.7777777777777778,
                            "#fb9f3a"
                          ],
                          [
                            0.8888888888888888,
                            "#fdca26"
                          ],
                          [
                            1,
                            "#f0f921"
                          ]
                        ],
                        "type": "histogram2dcontour"
                      }
                    ],
                    "mesh3d": [
                      {
                        "colorbar": {
                          "outlinewidth": 0,
                          "ticks": ""
                        },
                        "type": "mesh3d"
                      }
                    ],
                    "parcoords": [
                      {
                        "line": {
                          "colorbar": {
                            "outlinewidth": 0,
                            "ticks": ""
                          }
                        },
                        "type": "parcoords"
                      }
                    ],
                    "pie": [
                      {
                        "automargin": true,
                        "type": "pie"
                      }
                    ],
                    "scatter": [
                      {
                        "marker": {
                          "colorbar": {
                            "outlinewidth": 0,
                            "ticks": ""
                          }
                        },
                        "type": "scatter"
                      }
                    ],
                    "scatter3d": [
                      {
                        "line": {
                          "colorbar": {
                            "outlinewidth": 0,
                            "ticks": ""
                          }
                        },
                        "marker": {
                          "colorbar": {
                            "outlinewidth": 0,
                            "ticks": ""
                          }
                        },
                        "type": "scatter3d"
                      }
                    ],
                    "scattercarpet": [
                      {
                        "marker": {
                          "colorbar": {
                            "outlinewidth": 0,
                            "ticks": ""
                          }
                        },
                        "type": "scattercarpet"
                      }
                    ],
                    "scattergeo": [
                      {
                        "marker": {
                          "colorbar": {
                            "outlinewidth": 0,
                            "ticks": ""
                          }
                        },
                        "type": "scattergeo"
                      }
                    ],
                    "scattergl": [
                      {
                        "marker": {
                          "colorbar": {
                            "outlinewidth": 0,
                            "ticks": ""
                          }
                        },
                        "type": "scattergl"
                      }
                    ],
                    "scattermapbox": [
                      {
                        "marker": {
                          "colorbar": {
                            "outlinewidth": 0,
                            "ticks": ""
                          }
                        },
                        "type": "scattermapbox"
                      }
                    ],
                    "scatterpolar": [
                      {
                        "marker": {
                          "colorbar": {
                            "outlinewidth": 0,
                            "ticks": ""
                          }
                        },
                        "type": "scatterpolar"
                      }
                    ],
                    "scatterpolargl": [
                      {
                        "marker": {
                          "colorbar": {
                            "outlinewidth": 0,
                            "ticks": ""
                          }
                        },
                        "type": "scatterpolargl"
                      }
                    ],
                    "scatterternary": [
                      {
                        "marker": {
                          "colorbar": {
                            "outlinewidth": 0,
                            "ticks": ""
                          }
                        },
                        "type": "scatterternary"
                      }
                    ],
                    "surface": [
                      {
                        "colorbar": {
                          "outlinewidth": 0,
                          "ticks": ""
                        },
                        "colorscale": [
                          [
                            0,
                            "#0d0887"
                          ],
                          [
                            0.1111111111111111,
                            "#46039f"
                          ],
                          [
                            0.2222222222222222,
                            "#7201a8"
                          ],
                          [
                            0.3333333333333333,
                            "#9c179e"
                          ],
                          [
                            0.4444444444444444,
                            "#bd3786"
                          ],
                          [
                            0.5555555555555556,
                            "#d8576b"
                          ],
                          [
                            0.6666666666666666,
                            "#ed7953"
                          ],
                          [
                            0.7777777777777778,
                            "#fb9f3a"
                          ],
                          [
                            0.8888888888888888,
                            "#fdca26"
                          ],
                          [
                            1,
                            "#f0f921"
                          ]
                        ],
                        "type": "surface"
                      }
                    ],
                    "table": [
                      {
                        "cells": {
                          "fill": {
                            "color": "#EBF0F8"
                          },
                          "line": {
                            "color": "white"
                          }
                        },
                        "header": {
                          "fill": {
                            "color": "#C8D4E3"
                          },
                          "line": {
                            "color": "white"
                          }
                        },
                        "type": "table"
                      }
                    ]
                  },
                  "layout": {
                    "annotationdefaults": {
                      "arrowcolor": "#2a3f5f",
                      "arrowhead": 0,
                      "arrowwidth": 1
                    },
                    "autotypenumbers": "strict",
                    "coloraxis": {
                      "colorbar": {
                        "outlinewidth": 0,
                        "ticks": ""
                      }
                    },
                    "colorscale": {
                      "diverging": [
                        [
                          0,
                          "#8e0152"
                        ],
                        [
                          0.1,
                          "#c51b7d"
                        ],
                        [
                          0.2,
                          "#de77ae"
                        ],
                        [
                          0.3,
                          "#f1b6da"
                        ],
                        [
                          0.4,
                          "#fde0ef"
                        ],
                        [
                          0.5,
                          "#f7f7f7"
                        ],
                        [
                          0.6,
                          "#e6f5d0"
                        ],
                        [
                          0.7,
                          "#b8e186"
                        ],
                        [
                          0.8,
                          "#7fbc41"
                        ],
                        [
                          0.9,
                          "#4d9221"
                        ],
                        [
                          1,
                          "#276419"
                        ]
                      ],
                      "sequential": [
                        [
                          0,
                          "#0d0887"
                        ],
                        [
                          0.1111111111111111,
                          "#46039f"
                        ],
                        [
                          0.2222222222222222,
                          "#7201a8"
                        ],
                        [
                          0.3333333333333333,
                          "#9c179e"
                        ],
                        [
                          0.4444444444444444,
                          "#bd3786"
                        ],
                        [
                          0.5555555555555556,
                          "#d8576b"
                        ],
                        [
                          0.6666666666666666,
                          "#ed7953"
                        ],
                        [
                          0.7777777777777778,
                          "#fb9f3a"
                        ],
                        [
                          0.8888888888888888,
                          "#fdca26"
                        ],
                        [
                          1,
                          "#f0f921"
                        ]
                      ],
                      "sequentialminus": [
                        [
                          0,
                          "#0d0887"
                        ],
                        [
                          0.1111111111111111,
                          "#46039f"
                        ],
                        [
                          0.2222222222222222,
                          "#7201a8"
                        ],
                        [
                          0.3333333333333333,
                          "#9c179e"
                        ],
                        [
                          0.4444444444444444,
                          "#bd3786"
                        ],
                        [
                          0.5555555555555556,
                          "#d8576b"
                        ],
                        [
                          0.6666666666666666,
                          "#ed7953"
                        ],
                        [
                          0.7777777777777778,
                          "#fb9f3a"
                        ],
                        [
                          0.8888888888888888,
                          "#fdca26"
                        ],
                        [
                          1,
                          "#f0f921"
                        ]
                      ]
                    },
                    "colorway": [
                      "#636efa",
                      "#EF553B",
                      "#00cc96",
                      "#ab63fa",
                      "#FFA15A",
                      "#19d3f3",
                      "#FF6692",
                      "#B6E880",
                      "#FF97FF",
                      "#FECB52"
                    ],
                    "font": {
                      "color": "#2a3f5f"
                    },
                    "geo": {
                      "bgcolor": "white",
                      "lakecolor": "white",
                      "landcolor": "#E5ECF6",
                      "showlakes": true,
                      "showland": true,
                      "subunitcolor": "white"
                    },
                    "hoverlabel": {
                      "align": "left"
                    },
                    "hovermode": "closest",
                    "mapbox": {
                      "style": "light"
                    },
                    "paper_bgcolor": "white",
                    "plot_bgcolor": "#E5ECF6",
                    "polar": {
                      "angularaxis": {
                        "gridcolor": "white",
                        "linecolor": "white",
                        "ticks": ""
                      },
                      "bgcolor": "#E5ECF6",
                      "radialaxis": {
                        "gridcolor": "white",
                        "linecolor": "white",
                        "ticks": ""
                      }
                    },
                    "scene": {
                      "xaxis": {
                        "backgroundcolor": "#E5ECF6",
                        "gridcolor": "white",
                        "gridwidth": 2,
                        "linecolor": "white",
                        "showbackground": true,
                        "ticks": "",
                        "zerolinecolor": "white"
                      },
                      "yaxis": {
                        "backgroundcolor": "#E5ECF6",
                        "gridcolor": "white",
                        "gridwidth": 2,
                        "linecolor": "white",
                        "showbackground": true,
                        "ticks": "",
                        "zerolinecolor": "white"
                      },
                      "zaxis": {
                        "backgroundcolor": "#E5ECF6",
                        "gridcolor": "white",
                        "gridwidth": 2,
                        "linecolor": "white",
                        "showbackground": true,
                        "ticks": "",
                        "zerolinecolor": "white"
                      }
                    },
                    "shapedefaults": {
                      "line": {
                        "color": "#2a3f5f"
                      }
                    },
                    "ternary": {
                      "aaxis": {
                        "gridcolor": "white",
                        "linecolor": "white",
                        "ticks": ""
                      },
                      "baxis": {
                        "gridcolor": "white",
                        "linecolor": "white",
                        "ticks": ""
                      },
                      "bgcolor": "#E5ECF6",
                      "caxis": {
                        "gridcolor": "white",
                        "linecolor": "white",
                        "ticks": ""
                      }
                    },
                    "title": {
                      "x": 0.05
                    },
                    "xaxis": {
                      "automargin": true,
                      "gridcolor": "white",
                      "linecolor": "white",
                      "ticks": "",
                      "title": {
                        "standoff": 15
                      },
                      "zerolinecolor": "white",
                      "zerolinewidth": 2
                    },
                    "yaxis": {
                      "automargin": true,
                      "gridcolor": "white",
                      "linecolor": "white",
                      "ticks": "",
                      "title": {
                        "standoff": 15
                      },
                      "zerolinecolor": "white",
                      "zerolinewidth": 2
                    }
                  }
                },
                "xaxis": {
                  "anchor": "y",
                  "domain": [
                    0,
                    1
                  ],
                  "title": {
                    "text": "Year"
                  }
                },
                "yaxis": {
                  "anchor": "x",
                  "domain": [
                    0,
                    1
                  ],
                  "title": {
                    "text": "Number of Prizes"
                  }
                }
              }
            }
          },
          "metadata": {}
        }
      ],
      "metadata": {
        "id": "4wj1M8NpF_dq"
      }
    }
  ]
}